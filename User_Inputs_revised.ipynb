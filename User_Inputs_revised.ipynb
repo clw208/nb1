{
 "cells": [
  {
   "cell_type": "markdown",
   "metadata": {},
   "source": [
    "<span style=\"font-family: Arial; font-weight:bold;font-size:2em;color:green;\"> Build a personalized, low impact and healthful diet "
   ]
  },
  {
   "cell_type": "markdown",
   "metadata": {},
   "source": [
    "*****************************************\n",
    "#### People may have difficulty coming up with a diet that:\n",
    "* meets their **nutrient** needs, \n",
    "* **minimizes disease** risk \n",
    "* reduces their diet related **environmental impacts**\n",
    "\n",
    "<span style=\"font-family: Arial; font-size:1em;color:black;\"> This tool was developed to help an individual build their own healthful, low environmental impact diet, and takes into account where, when, and how their food is produced, as well as their personal dietary needs.\n",
    "\n",
    "\n",
    "-------------------------------------------------------"
   ]
  },
  {
   "cell_type": "code",
   "execution_count": 1,
   "metadata": {},
   "outputs": [],
   "source": [
    "# HIDDEN\n",
    "from IPython.display import HTML\n",
    "import random\n",
    "from ipywidgets import widgets, interact, Dropdown,SelectMultiple, Checkbox,VBox,FloatSlider,Button,IntProgress, Layout\n",
    "from IPython.display import HTML, display, Image\n",
    "from IPython import get_ipython\n",
    "import os\n",
    "import numpy as np\n",
    "import pandas as pd\n",
    "import matplotlib\n",
    "from matplotlib import cm\n",
    "import matplotlib.pyplot as plt\n",
    "import matplotlib.patches as mpatches\n",
    "import mpld3\n",
    "ipython = get_ipython()\n",
    "#data_dir = os.path.join('..','nb1','Input')"
   ]
  },
  {
   "cell_type": "code",
   "execution_count": 2,
   "metadata": {},
   "outputs": [],
   "source": [
    "# HIDDEN\n",
    "#def hide_toggle(for_next=False):\n",
    "def hide_toggle(text,for_next=False):    \n",
    "    this_cell = \"\"\"$('div.cell.code_cell.rendered.selected')\"\"\"\n",
    "    next_cell = this_cell + '.next()'\n",
    "\n",
    "    #toggle_text = 'Code'  # text shown on toggle link\n",
    "    toggle_text = text\n",
    "    target_cell = this_cell  # target cell to control with toggle\n",
    "    js_hide_current = ''  # bit of JS to permanently hide code in current cell (only when toggling next cell)\n",
    "\n",
    "    if for_next:\n",
    "        target_cell = next_cell\n",
    "        toggle_text += ' next cell'\n",
    "        js_hide_current = this_cell + '.find(\"div.input\").hide();'\n",
    "\n",
    "    js_f_name = 'code_toggle_{}'.format(str(random.randint(1,2**64)))\n",
    "\n",
    "    html = \"\"\"\n",
    "        <script>\n",
    "            function {f_name}() {{\n",
    "                {cell_selector}.find('div.input').toggle();\n",
    "            }}\n",
    "\n",
    "            {js_hide_current}\n",
    "        </script>\n",
    "\n",
    "        <a href=\"javascript:{f_name}()\">{toggle_text}</a>\n",
    "    \"\"\".format(\n",
    "        f_name=js_f_name,\n",
    "        cell_selector=target_cell,\n",
    "        js_hide_current=js_hide_current, \n",
    "        toggle_text=toggle_text\n",
    "    )\n",
    "\n",
    "    return HTML(html)"
   ]
  },
  {
   "cell_type": "code",
   "execution_count": 3,
   "metadata": {},
   "outputs": [],
   "source": [
    "# HIDDEN\n",
    "#########################################################\n",
    "style = {'description_width': 'initial'}\n",
    "listofcheckboxes = {'no food preferences':[0],'fruits':['FAT'],'vegetables':['DGR','DGC'],\n",
    "     'legumes or beans':['DBR','DBC','DFR','DFC'],'grains and starches':['AC','AC_wg','DAR','DAC',\n",
    "     'AI','AI_wg','AA','AA_wg','AF','AF_wg','AD','AD_wg'],'nuts and seeds':\n",
    "     ['GAT'],'dairy products':['BAE','BAH','BAK','BLS','BLM','BLH','BLF','BN','BJC'],\n",
    "     'vegetarian/vegan food items':['BAV','BNV','VEG'],\n",
    "     'fish':['JAC', 'JAR', 'JCC', 'JCR', 'JKC', 'JKR', 'JMC', 'JMR', 'JRC'],\n",
    "    'meat':['MBGR','MBGC','MACR','MACC','MAER','MECC','MECR','MEER','MEEC','MAIC','MAIR','MAE',\\\n",
    "    'MAIR','MAIC','MCOR','MCOC','MCAR','MCAC','MAGR','MAGC','MAHR','MAHC',\n",
    "    'MI','MAAC','MAAR'],'eggs, oils, and others':['CA','OA', 'OC', 'OE','BTM','BH','BP','BPV','PAC','SC','SEA','WCN']}"
   ]
  },
  {
   "cell_type": "code",
   "execution_count": 4,
   "metadata": {},
   "outputs": [],
   "source": [
    "# HIDDEN\n",
    "## WIDGETS   \n",
    "search_widget = widgets.Dropdown(options = listofcheckboxes.keys(),layout={'width': 'initial'})\n",
    "experiments = {}\n",
    "experiments_mass = {}\n",
    "#options_widget = widgets.VBox(layout={'overflow': 'auto'})\n",
    "options_widget = widgets.VBox(layout={'width': 'auto'})\n",
    "mass_widget = widgets.VBox(layout={'overflow': 'auto'})\n",
    "button_wid = widgets.Button(description='Save Choices')\n",
    "button_wid.style.button_color = 'lightgreen'\n",
    "but_out = widgets.Output()\n",
    "runcodeprint = widgets.Button(description='Show Must Haves')\n",
    "runcodeprint.style=button_wid.style\n",
    "outputprint = widgets.Output()\n",
    "multi_select = widgets.HBox([search_widget, options_widget,mass_widget,button_wid])"
   ]
  },
  {
   "cell_type": "code",
   "execution_count": 12,
   "metadata": {},
   "outputs": [],
   "source": [
    "# HIDDEN\n",
    "def joinlists_new(widgetname):\n",
    "    global selectedfoods\n",
    "    #mydict = dict(zip(df_foods['Food Item'],df_foods['Food Name']))\n",
    "    mydict = dict(zip(df_foods['FoodItem_2'],df_foods['Food Name']))\n",
    "    #rs1 = [widgetname.description for widgetname in widgetname.children[1].children if widgetname.value]\n",
    "    rs1 = [mydict[multi_select.description] for multi_select in multi_select.children[1].children if multi_select.value]\n",
    "    rs2 = [widgetname.value for widgetname in widgetname.children[2].children if widgetname.value]\n",
    "    food = list(zip(rs1,rs2))  \n",
    "    try:\n",
    "        food\n",
    "        for j in food:\n",
    "            te = [j[0].replace('_',' ')]\n",
    "            tee = [i[:-4] for i in te]\n",
    "            selectedfoods[tee[0]] = {}\n",
    "            selectedfoods[tee[0]]['names']=j[0]\n",
    "            selectedfoods[tee[0]]['mass']=j[1]              \n",
    "    except NameError:\n",
    "        pass   \n",
    "    return #selectedfoods\n",
    "def display_table(data):\n",
    "    html = \"<table>\"\n",
    "    for row in data:\n",
    "        html += \"<tr>\"\n",
    "        for field in row:\n",
    "            html += \"<td><h4>%s</h4><td>\"%(field)\n",
    "        html += \"</tr>\"\n",
    "    html += \"</table>\"\n",
    "    display(HTML(html))\n",
    "\n",
    "def test(b):\n",
    "    global df_foods\n",
    "    with output2:\n",
    "        print ('I want a diet for:',var1.value, '\\nfor the month of:',mnths[var2.value])\n",
    "        ipython.magic('run Build_Optimization_Database.ipynb')\n",
    "        dftest2 = calc_impacts(cntry[var1.value],var2.value)\n",
    "        ipython.magic('run Foods_to_Include.ipynb')\n",
    "        df_foods = editdf(dftest2,imp.value,diettype.value,supp[sup.value])\n",
    "        print ('Database has been built. Please continue.')\n",
    "        return df_foods\n",
    "\n",
    "# HIDDEN\n",
    "selectedfoods = {}\n",
    "#Generate a dummy list\n",
    "#Allfileslist = list(zip(df_foods['Food Name'],df_foods['Group']))\n",
    "#Search box + generate ALL the checkboxes, this seems to be the bottleneck\n",
    "\n",
    "def save(b):\n",
    "    with but_out:\n",
    "        joinlists_new(multi_select)\n",
    "button_wid.on_click(save)\n",
    "#test=[]\n",
    "def whentextischanged (change):\n",
    "    \"\"\"Dynamically update the widget experiments\"\"\"       \n",
    "    Allfileslist = list(zip(df_foods['Food Name'],df_foods['Group'],df_foods['FoodItem_2']))\n",
    "    close_matches = [x[0] for x in Allfileslist if x[1] in(listofcheckboxes[search_widget.value])]\n",
    "    display = [x[2] for x in Allfileslist if x[1] in(listofcheckboxes[search_widget.value])]\n",
    "    \n",
    "    \n",
    "    for name,dis in zip(close_matches,display):\n",
    "        if name not in experiments:              \n",
    "            experiments[name] = widgets.Checkbox(description=dis,value=False,\\\n",
    "                                                 layout={'width':'max-content'},\n",
    "                                                 style={'description_width': 'initial'})\n",
    "                #print (change2)\n",
    "            \n",
    "            experiments_mass[name] = widgets.IntSlider(description='grams', min=0,max=400,step=50,value=0)  \n",
    "        \n",
    "    new_options = [experiments[eachfilename] for eachfilename in close_matches]\n",
    "    new_options_mass = [experiments_mass[eachfilename] for eachfilename in close_matches]\n",
    "    \n",
    "    options_widget.children = new_options   \n",
    "    mass_widget.children = new_options_mass    \n",
    "    \n",
    "\n",
    "def printfoods(b):\n",
    "    global selectedfoods\n",
    "    with outputprint:\n",
    "        foodsitems = [k for k,v in selectedfoods.items()]\n",
    "        foodmass = [v['mass'] for k,v in selectedfoods.items()]\n",
    "        #print (selectedfoods)\n",
    "        for i,j in zip(foodsitems,foodmass):\n",
    "            print (i,':',j,'grams') \n",
    "            \n",
    "def run_tool(b):\n",
    "    global df_opt\n",
    "    global status\n",
    "    with output5:       \n",
    "        ipython.magic('run Diet_Optimization_Tool.ipynb')\n",
    "        print ('This can take some time.')\n",
    "        relaxfactor = 2 # this sets the maximum food limits to be one serving size for each food item\n",
    "        count = 0        \n",
    "        df_opt=runopt(df_foods,imp.value,diettype.value,supp[sup.value],gender[gen.value],personweight.value,\\\n",
    "                          height.value,age.value,act.value,days.value,relaxfactor,selectedfoods,vitd[vitamind.value])    \n",
    "        while ((count<=3)&(status!=1)):\n",
    "            if status==1:\n",
    "                print ('Your optimized diet is shown below')\n",
    "                break\n",
    "            else:\n",
    "                relaxfactor +=1 # this increases the allowed serving sizes for each food item in case constraints are too tight.\n",
    "                count +=1\n",
    "                df_opt=runopt(df_foods,imp.value,diettype.value,supp[sup.value],gender[gen.value],personweight.value,\\\n",
    "                          height.value,age.value,act.value,days.value,relaxfactor,selectedfoods,vitd[vitamind.value])\n",
    "                print ('Try Number %s'%count,': No feasible solution - running again with relaxing constraints')\n",
    "        \n",
    "        if (count>3):\n",
    "            print ('Sorry, we had a hard time finding a optimized diet,consuming the following foods will likely meet your nutrient and energy needs,\\\n",
    "                   and will also have a relatively low environmental impact.')\n",
    "        df_opt['optimization_country_GHG_1_trade'] = df_opt['optimization_country_GHG_1_trade'].map(cntry_rev)\n",
    "        df_opt['optimization_country_BIO_1_trade'] = df_opt['optimization_country_BIO_1_trade'].map(cntry_rev)        \n",
    "        df_opt = df_opt[(df_opt['Grams']!=0)&(df_opt['Grams'].notnull())]\n",
    "        df_opt = df_opt.sort_values(['Grams'],ascending=False)\n",
    "        name = ['Food Item']+df_opt['Food Item'].tolist()#+[i.split(',')[0] for i in df_opt['Food Name']]\n",
    "        name = [i.replace('dried, ','') for i in name]\n",
    "        name = [i.replace(', raw','') for i in name]\n",
    "        name = [i.replace(', toasted','') for i in name]            \n",
    "        mass = ['Grams']+[int(i) for i in round(df_opt['Grams']).tolist()]\n",
    "        \n",
    "        go = df_opt['optimization_value_GHG_1_trade']\n",
    "        br = df_opt['bio_GHGopt_value1']\n",
    "        bo = df_opt['optimization_value_BIO_1_trade']\n",
    "        gr = df_opt['GHG_bioopt_value1']\n",
    "        \n",
    "        if imp.value == 'GHG':\n",
    "            print ('The total climate change impact is: %s kgCO2 eq'%\\\n",
    "                   round(np.sum(go*df_opt['Grams']),2))\n",
    "            print ('and the corresponding biodiversity loss impact is: {bio:.2e} PDF*yr'.\\\n",
    "                   format(bio = np.sum(br*df_opt['Grams'])))\n",
    "            cou = ['Source Country']+[i for i in df_opt['optimization_country_GHG_1_trade']] \n",
    "            totalGHGimpacts = ['Impact (kgCO2eq)']+[round(i*j,2) for i,j in zip(df_opt['Grams'].tolist(),\\\n",
    "                                                go.tolist())]\n",
    "            totalBIOimpacts = ['Impact (PDF*yr)']+['{res:.3e}'.format(res=i*j) for i,j in zip(df_opt['Grams'].tolist(),\\\n",
    "                                              br.tolist())]            \n",
    "        \n",
    "        elif imp.value == 'BIO':  \n",
    "            print ('The total biodiversity loss impact is: {bio:.2e} PDF*yr'.\\\n",
    "                   format(bio = np.sum(bo*df_opt['Grams'])))                       \n",
    "            print ('and the corresponding climate change impact is: %s kgCO2eq'%\\\n",
    "                   round(np.sum(gr*df_opt['Grams']),2))\n",
    "            cou = ['Source Country']+[i for i in df_opt['optimization_country_BIO_1_trade']]\n",
    "            \n",
    "            totalGHGimpacts = ['Impact (kgCO2eq)']+[round(i*j,2) for i,j in zip(df_opt['Grams'].tolist(),\\\n",
    "                                                gr.tolist())]\n",
    "            totalBIOimpacts = ['Impact (PDF*yr)']+['{res:.3e}'.format(res=i*j) for i,j in zip(df_opt['Grams'].tolist(),\\\n",
    "                                                bo.tolist())]                        \n",
    "        else:\n",
    "            print ('The total biodiversity loss impact is: {bio:.2e} PDF*yr eq'.\\\n",
    "                   format(bio = np.sum(br*df_opt['Grams'])))          \n",
    "            print ('and climate change impact is: %s kgCO2eq'%\\\n",
    "                   round(np.sum(go*df_opt['Grams']),2))\n",
    "            cou = ['Source Country']+[i for i in df_opt['optimization_country_GHG_1_trade']] \n",
    "            \n",
    "            totalGHGimpacts = ['Impact (kgCO2eq)']+[round(i*j,2) for i,j in zip(df_opt['Grams'].tolist(),\\\n",
    "                                                go.tolist())]\n",
    "            totalBIOimpacts = ['Impact (PDF*yr)']+['{res:.3e}'.format(res=i*j) for i,j in zip(df_opt['Grams'].tolist(),\\\n",
    "                                                br.tolist())]   \n",
    "        \n",
    "        \n",
    "        \n",
    "        data = [name,cou,mass,totalGHGimpacts,totalBIOimpacts]\n",
    "        display_table(data)\n",
    "\n",
    "        x = df_opt['Grams']*df_opt['optimization_value_GHG_1_trade'].tolist()\n",
    "        y = df_opt['Grams'].tolist()\n",
    "        #labels2 = df_opt['optimization_country_GHG_1_trade'].tolist()\n",
    "        colordict = dict(zip(df_opt['optimization_country_GHG_1_trade'].tolist(),\\\n",
    "                                     cm.rainbow(np.linspace(0, 1, len(df_opt['optimization_country_GHG_1_trade'].tolist())))))\n",
    "        newcol = []\n",
    "        for k in df_opt['optimization_country_GHG_1_trade'].map(colordict).tolist():\n",
    "            newcol.append(matplotlib.colors.to_hex(k))  \n",
    "        labels = df_opt['Food Item'].tolist()\n",
    "        labels = [i.replace('dried, ','') for i in labels]\n",
    "        labels = [i.replace(', raw','') for i in labels]\n",
    "        labels = [i.replace(', toasted','') for i in labels]            \n",
    "        fig, ax = plt.subplots(1,1,figsize = (10,8))\n",
    "        scatter = ax.scatter(x,y,c=newcol, s=50,alpha=0.8)\n",
    "        ax.grid(color='white', linestyle=':')\n",
    "        ax.set_xlabel('Impacts per Food Item (kgCO2eq)',size = 12)\n",
    "        ax.set_ylabel('Grams to be Consumed',size = 12)\n",
    "        ax.set_title(\"Recommended Diet for %s days\"%days.value, size=20)\n",
    "        handles = []\n",
    "        for k,v in colordict.items():\n",
    "            hand = plt.Rectangle((0,0),1,1,label=k,alpha=1,color=v)\n",
    "            handles.append(hand)\n",
    "        labels2 = [h.get_label() for h in handles]\n",
    "        plt.legend(handles,labels2, title = 'Recommended Source Country\\nfor Food Item',bbox_to_anchor=(0.8, 0.5),loc='best' )\n",
    "        tooltip = mpld3.plugins.PointLabelTooltip(scatter, labels=labels)\n",
    "        mpld3.plugins.connect(fig, tooltip)\n",
    "        mpld3.enable_notebook()\n",
    "        #### OLD\n",
    "        #mpld3.save_html(fig,'User_Inputs.html')\n",
    "        ##### NEW\n",
    "        mpld3.show()\n",
    "        #print (mpld3.fig_to_html(fig))\n",
    "        #############\n",
    "    return df_opt"
   ]
  },
  {
   "cell_type": "markdown",
   "metadata": {},
   "source": [
    "<span style=\"font-family: Arial; font-size:1.5em;color:green;\"> Choose your country and month for which you'd like a low impact diet, the impacts* you would like to minimize, and a preferred diet type.\n",
    "<p> <span style=\"font-family: Arial; font-size:1em;color:black;\"> *Currently climate change (GHG), biodiversity loss (BIO), or both are available."
   ]
  },
  {
   "cell_type": "code",
   "execution_count": 6,
   "metadata": {},
   "outputs": [
    {
     "data": {
      "application/vnd.jupyter.widget-view+json": {
       "model_id": "af83e34a8e0c4a1b9ea2dc5fc5a677f6",
       "version_major": 2,
       "version_minor": 0
      },
      "text/plain": [
       "Dropdown(description='Country', index=14, options=('Aruba', 'Albania', 'Argentina', 'Australia', 'Austria', 'B…"
      ]
     },
     "metadata": {},
     "output_type": "display_data"
    },
    {
     "data": {
      "application/vnd.jupyter.widget-view+json": {
       "model_id": "9d41f23ab396443db7f765a10ab83d5f",
       "version_major": 2,
       "version_minor": 0
      },
      "text/plain": [
       "Dropdown(description='Month', index=7, options=('jan', 'feb', 'mar', 'apr', 'may', 'jun', 'jul', 'aug', 'sep',…"
      ]
     },
     "metadata": {},
     "output_type": "display_data"
    },
    {
     "data": {
      "application/vnd.jupyter.widget-view+json": {
       "model_id": "b4799e98f6fd4377ac98135db38c3261",
       "version_major": 2,
       "version_minor": 0
      },
      "text/plain": [
       "Dropdown(description='Impact', options=('GHG', 'BIO', 'both'), value='GHG')"
      ]
     },
     "metadata": {},
     "output_type": "display_data"
    },
    {
     "data": {
      "application/vnd.jupyter.widget-view+json": {
       "model_id": "a7c25e0fa3d841b5ab17f97ef9ab8daf",
       "version_major": 2,
       "version_minor": 0
      },
      "text/plain": [
       "Dropdown(description='Diet Type', index=2, options=('vegetarian', 'vegan', 'none', 'pescatarian'), style=Descr…"
      ]
     },
     "metadata": {},
     "output_type": "display_data"
    }
   ],
   "source": [
    "# HIDDEN\n",
    "cntry_rev = pd.read_pickle('trandict.p')\n",
    "cntry_rev = cntry_rev.T.to_dict()[0]\n",
    "#cntry = {v:k for k,v in cntry_rev.items()}\n",
    "cntry = pd.read_pickle('dropdown.pickle')\n",
    "#cntry['Not Applicable']='NA'\n",
    "preferences = {'vegetarian':0,'vegan':1,'none':2,'pescatarian':3}\n",
    "indicator = {'climate change':'GHG','biodiversity loss':'BIO','both':'both'}\n",
    "mnths = {'jan':'January','feb':'February','mar':'March','apr':'April','may':'May','jun':'June',\\\n",
    "         'jul':'July','aug':'August','sep':'September','oct':'October','nov':'November','dec':'December'}\n",
    "mnths_rev = {v:k for k,v in mnths.items()}\n",
    "var1 = widgets.Dropdown(options = cntry.keys(),value = 'Switzerland',description = 'Country')\n",
    "var2 = widgets.Dropdown(options = mnths.keys(),value='aug', description = 'Month')\n",
    "imp = widgets.Dropdown(options=indicator.values(),description='Impact')\n",
    "diettype = widgets.Dropdown(options=preferences.keys(),description='Diet Type',style=style,value='none')\n",
    "display(var1)\n",
    "display(var2)\n",
    "display(imp)\n",
    "display(diettype)"
   ]
  },
  {
   "cell_type": "markdown",
   "metadata": {},
   "source": [
    "<span style=\"font-family: Arial; font-size:1.5em;color:green;\"> Determine your energy and nutrient needs\n",
    "<p> <span style=\"font-family: Arial; font-size:1em;color:black;\"> *If you're choosing a vegetarian or vegan diet without the option of supplements, the tool will suggest somewhat large portions of certain food items to meet your nutrient needs.\n",
    "<p> <span style=\"font-family: Arial; font-size:1em;color:black;\"> **Vitamin D can be difficult to get through foods, as such we recommend at a minimimum a Vitamin D supplement, especially during months with limited sun."
   ]
  },
  {
   "cell_type": "code",
   "execution_count": 8,
   "metadata": {},
   "outputs": [
    {
     "data": {
      "application/vnd.jupyter.widget-view+json": {
       "model_id": "6c6ccf9580ab4c9680198db9ce48da0b",
       "version_major": 2,
       "version_minor": 0
      },
      "text/plain": [
       "IntText(value=60, description='Weight (kg):')"
      ]
     },
     "metadata": {},
     "output_type": "display_data"
    },
    {
     "data": {
      "application/vnd.jupyter.widget-view+json": {
       "model_id": "7f740f6f8cb04b5e8b0cbc37ce58c1ca",
       "version_major": 2,
       "version_minor": 0
      },
      "text/plain": [
       "Dropdown(description='Gender:', options=('female', 'male'), value='female')"
      ]
     },
     "metadata": {},
     "output_type": "display_data"
    },
    {
     "data": {
      "application/vnd.jupyter.widget-view+json": {
       "model_id": "397bca7dfefb4804808d4b8da18bf3eb",
       "version_major": 2,
       "version_minor": 0
      },
      "text/plain": [
       "IntText(value=165, description='Height (cm):')"
      ]
     },
     "metadata": {},
     "output_type": "display_data"
    },
    {
     "data": {
      "application/vnd.jupyter.widget-view+json": {
       "model_id": "c77481f5c030475fa02edf1c71ce4cfe",
       "version_major": 2,
       "version_minor": 0
      },
      "text/plain": [
       "IntText(value=40, description='Age (yrs):')"
      ]
     },
     "metadata": {},
     "output_type": "display_data"
    },
    {
     "data": {
      "application/vnd.jupyter.widget-view+json": {
       "model_id": "2ac6e1ed9afd405ba03cc054d0ae92aa",
       "version_major": 2,
       "version_minor": 0
      },
      "text/plain": [
       "Dropdown(description='Activity Level:', index=1, options=('sedentary', 'moderate', 'vigorous'), value='moderat…"
      ]
     },
     "metadata": {},
     "output_type": "display_data"
    },
    {
     "data": {
      "application/vnd.jupyter.widget-view+json": {
       "model_id": "660fd866e4dc492aadbd781d445acf19",
       "version_major": 2,
       "version_minor": 0
      },
      "text/plain": [
       "Dropdown(description='Include a multi-vitamin supplement?*', options=('yes', 'no'), style=DescriptionStyle(des…"
      ]
     },
     "metadata": {},
     "output_type": "display_data"
    },
    {
     "data": {
      "application/vnd.jupyter.widget-view+json": {
       "model_id": "b164cd012d3d4475a6323dcba82afd44",
       "version_major": 2,
       "version_minor": 0
      },
      "text/plain": [
       "Dropdown(description='Include Vitamin D through food?**', options=('yes', 'no'), style=DescriptionStyle(descri…"
      ]
     },
     "metadata": {},
     "output_type": "display_data"
    },
    {
     "data": {
      "application/vnd.jupyter.widget-view+json": {
       "model_id": "c0286ed6fe6341dd8913bedc0bde5b3d",
       "version_major": 2,
       "version_minor": 0
      },
      "text/plain": [
       "BoundedIntText(value=7, description='Number of Days for the Diet:', style=DescriptionStyle(description_width='…"
      ]
     },
     "metadata": {},
     "output_type": "display_data"
    }
   ],
   "source": [
    "# HIDDEN\n",
    "gender={'female':1,'male':0}\n",
    "\n",
    "activity = {'sedentary':0,'moderate':1,'vigorous':2}\n",
    "supp = {'yes':'yes_sup','no':'no_sup'}\n",
    "vitd = {'yes':1,'no':0}\n",
    "weighting = {'climate change':0,'biodiversity loss':0,'both':0.5}\n",
    "\n",
    "personweight = widgets.IntText(description='Weight (kg):',value=60)\n",
    "gen = widgets.Dropdown(options=gender.keys(),description='Gender:')\n",
    "height = widgets.IntText(description='Height (cm):',value=165)\n",
    "age = widgets.IntText(description='Age (yrs):',value=40)\n",
    "act = widgets.Dropdown(options=activity.keys(),description='Activity Level:',value='moderate')\n",
    "sup = widgets.Dropdown(options=supp.keys(),description='Include a multi-vitamin supplement?*',style=style)\n",
    "vitamind = widgets.Dropdown(options=vitd.keys(),description='Include Vitamin D through food?**',style=style,value='yes')\n",
    "days = widgets.BoundedIntText(description='Number of Days for the Diet:',style=style,value=7)\n",
    "\n",
    "display(personweight)\n",
    "display(gen)\n",
    "display(height)\n",
    "display(age)\n",
    "display(act)\n",
    "display(sup)\n",
    "display(vitamind)\n",
    "display(days)"
   ]
  },
  {
   "cell_type": "markdown",
   "metadata": {},
   "source": [
    "<span style=\"font-family: Arial; font-size:1.1em;color:green;\"> Click on the **'Build the database'** button to build the food and impact database specific to your location & preferences.\n",
    "<p> <span style=\"font-family: Arial; font-size:1em;color:black;\"> This can take up to 3 minutes. Please be patient. When it is finished, the text 'Database has been built' will appear. If you change a parameter, you must refresh the page and start over.\n",
    "   "
   ]
  },
  {
   "cell_type": "code",
   "execution_count": 9,
   "metadata": {},
   "outputs": [
    {
     "data": {
      "application/vnd.jupyter.widget-view+json": {
       "model_id": "e374f910c9604cd1bf254856a67200e7",
       "version_major": 2,
       "version_minor": 0
      },
      "text/plain": [
       "Button(description='Build the database', layout=Layout(height='50px', width='50%'), style=ButtonStyle(button_c…"
      ]
     },
     "metadata": {},
     "output_type": "display_data"
    },
    {
     "data": {
      "application/vnd.jupyter.widget-view+json": {
       "model_id": "903a42e06ac348f9bf35ec0144223e95",
       "version_major": 2,
       "version_minor": 0
      },
      "text/plain": [
       "Output()"
      ]
     },
     "metadata": {},
     "output_type": "display_data"
    }
   ],
   "source": [
    "# HIDDEN\n",
    "runcode2 = widgets.Button(description='Build the database',layout=Layout(width='50%', height='50px'))\n",
    "runcode2.style=button_wid.style\n",
    "output2 = widgets.Output()\n",
    "display(runcode2,output2)\n",
    "runcode2.on_click(test)"
   ]
  },
  {
   "cell_type": "markdown",
   "metadata": {},
   "source": [
    "<span style=\"font-family: Arial; font-size:1.5em;color:green;\"> Are there certain foods you would like to include in your optimized diet?\n",
    "<p> <span style=\"font-family: Arial; font-size:1em;color:green;\"> Select the food category, food item, and mass you would like, click on 'save choices' button after each food category, and these will be included in your diet regardless of their impact. If you want a particular food item, you must both check the box and indicate a minimum mass."
   ]
  },
  {
   "cell_type": "code",
   "execution_count": 10,
   "metadata": {
    "scrolled": false
   },
   "outputs": [
    {
     "data": {
      "application/vnd.jupyter.widget-view+json": {
       "model_id": "e158374c7f974ab8bf13864bbc9c7102",
       "version_major": 2,
       "version_minor": 0
      },
      "text/plain": [
       "HBox(children=(Dropdown(layout=Layout(width='initial'), options=('no food preferences', 'fruits', 'vegetables'…"
      ]
     },
     "metadata": {},
     "output_type": "display_data"
    },
    {
     "data": {
      "application/vnd.jupyter.widget-view+json": {
       "model_id": "88bc7850675e478d840fd75bc2786d67",
       "version_major": 2,
       "version_minor": 0
      },
      "text/plain": [
       "Button(description='Show Must Haves', style=ButtonStyle(button_color='lightgreen'))"
      ]
     },
     "metadata": {},
     "output_type": "display_data"
    },
    {
     "data": {
      "application/vnd.jupyter.widget-view+json": {
       "model_id": "6c47365157c449eea7a0682ed87148ba",
       "version_major": 2,
       "version_minor": 0
      },
      "text/plain": [
       "Output()"
      ]
     },
     "metadata": {},
     "output_type": "display_data"
    }
   ],
   "source": [
    "# HIDDEN\n",
    "search_widget.observe(whentextischanged, names='value')\n",
    "options_widget.observe(whentextischanged,names='value')\n",
    "display(multi_select)\n",
    "display(runcodeprint,outputprint)\n",
    "runcodeprint.on_click(printfoods)"
   ]
  },
  {
   "cell_type": "code",
   "execution_count": 11,
   "metadata": {},
   "outputs": [
    {
     "data": {
      "application/vnd.jupyter.widget-view+json": {
       "model_id": "416479c2198a4fbc81e2c89d6e5e43a4",
       "version_major": 2,
       "version_minor": 0
      },
      "text/plain": [
       "Button(description='Click Here to Build your Low Impact and Healthful Diet*', layout=Layout(height='50px', wid…"
      ]
     },
     "metadata": {},
     "output_type": "display_data"
    },
    {
     "data": {
      "application/vnd.jupyter.widget-view+json": {
       "model_id": "e248985d91144938a97c3241dbe2bb5e",
       "version_major": 2,
       "version_minor": 0
      },
      "text/plain": [
       "Output()"
      ]
     },
     "metadata": {},
     "output_type": "display_data"
    },
    {
     "data": {
      "image/png": "[encoded data removed]",
      "text/html": [
       "\n",
       "\n",
       "<style>\n",
       "\n",
       "</style>\n",
       "\n",
       "<div id=\"fig_el116901396631518770326638685112\"></div>\n",
       "<script>\n",
       "function mpld3_load_lib(url, callback){\n",
       "  var s = document.createElement('script');\n",
       "  s.src = url;\n",
       "  s.async = true;\n",
       "  s.onreadystatechange = s.onload = callback;\n",
       "  s.onerror = function(){console.warn(\"failed to load library \" + url);};\n",
       "  document.getElementsByTagName(\"head\")[0].appendChild(s);\n",
       "}\n",
       "\n",
       "if(typeof(mpld3) !== \"undefined\" && mpld3._mpld3IsLoaded){\n",
       "   // already loaded: just create the figure\n",
       "   !function(mpld3){\n",
       "       \n",
       "       mpld3.draw_figure(\"fig_el116901396631518770326638685112\", {\"width\": 720.0, \"height\": 576.0, \"axes\": [{\"bbox\": [0.125, 0.125, 0.775, 0.755], \"xlim\": [-0.3504530513314796, 7.8621697449974555], \"ylim\": [-115.5, 3195.5], \"xdomain\": [-0.3504530513314796, 7.8621697449974555], \"ydomain\": [-115.5, 3195.5], \"xscale\": \"linear\", \"yscale\": \"linear\", \"axes\": [{\"position\": \"bottom\", \"nticks\": 10, \"tickvalues\": null, \"tickformat_formatter\": \"\", \"tickformat\": null, \"scale\": \"linear\", \"fontsize\": 10.0, \"grid\": {\"gridOn\": true, \"color\": \"#FFFFFF\", \"dasharray\": \"0.8,1.32\", \"alpha\": 1.0}, \"visible\": true}, {\"position\": \"left\", \"nticks\": 9, \"tickvalues\": null, \"tickformat_formatter\": \"\", \"tickformat\": null, \"scale\": \"linear\", \"fontsize\": 10.0, \"grid\": {\"gridOn\": true, \"color\": \"#FFFFFF\", \"dasharray\": \"0.8,1.32\", \"alpha\": 1.0}, \"visible\": true}], \"axesbg\": \"#FFFFFF\", \"axesbgalpha\": null, \"zoomable\": true, \"id\": \"el11690139663151939480\", \"lines\": [], \"paths\": [{\"data\": \"data02\", \"xindex\": 0, \"yindex\": 1, \"coordinates\": \"axes\", \"pathcodes\": [\"M\", \"L\", \"L\", \"L\", \"Z\"], \"id\": \"el11690139663160206840\", \"dasharray\": \"none\", \"alpha\": 1, \"facecolor\": \"#D4DC7F\", \"edgecolor\": \"#D4DC7F\", \"edgewidth\": 1.0, \"zorder\": 1000001.0}, {\"data\": \"data02\", \"xindex\": 0, \"yindex\": 2, \"coordinates\": \"axes\", \"pathcodes\": [\"M\", \"L\", \"L\", \"L\", \"Z\"], \"id\": \"el11690139663160207456\", \"dasharray\": \"none\", \"alpha\": 1, \"facecolor\": \"#FF562B\", \"edgecolor\": \"#FF562B\", \"edgewidth\": 1.0, \"zorder\": 1000001.0}, {\"data\": \"data02\", \"xindex\": 0, \"yindex\": 3, \"coordinates\": \"axes\", \"pathcodes\": [\"M\", \"L\", \"L\", \"L\", \"Z\"], \"id\": \"el11690139663160208184\", \"dasharray\": \"none\", \"alpha\": 1, \"facecolor\": \"#0FA2EF\", \"edgecolor\": \"#0FA2EF\", \"edgewidth\": 1.0, \"zorder\": 1000001.0}, {\"data\": \"data02\", \"xindex\": 0, \"yindex\": 4, \"coordinates\": \"axes\", \"pathcodes\": [\"M\", \"L\", \"L\", \"L\", \"Z\"], \"id\": \"el11690139663160208912\", \"dasharray\": \"none\", \"alpha\": 1, \"facecolor\": \"#FF0000\", \"edgecolor\": \"#FF0000\", \"edgewidth\": 1.0, \"zorder\": 1000001.0}, {\"data\": \"data02\", \"xindex\": 0, \"yindex\": 5, \"coordinates\": \"axes\", \"pathcodes\": [\"M\", \"L\", \"L\", \"L\", \"Z\"], \"id\": \"el11690139663125050872\", \"dasharray\": \"none\", \"alpha\": 1, \"facecolor\": \"#F0C36C\", \"edgecolor\": \"#F0C36C\", \"edgewidth\": 1.0, \"zorder\": 1000001.0}, {\"data\": \"data02\", \"xindex\": 0, \"yindex\": 6, \"coordinates\": \"axes\", \"pathcodes\": [\"M\", \"L\", \"L\", \"L\", \"Z\"], \"id\": \"el11690139663125051432\", \"dasharray\": \"none\", \"alpha\": 1, \"facecolor\": \"#FF2B15\", \"edgecolor\": \"#FF2B15\", \"edgewidth\": 1.0, \"zorder\": 1000001.0}, {\"data\": \"data03\", \"xindex\": 0, \"yindex\": 1, \"coordinates\": \"axes\", \"pathcodes\": [\"M\", \"L\", \"S\", \"L\", \"S\", \"L\", \"S\", \"L\", \"S\", \"Z\"], \"id\": \"el11690139663160205720\", \"dasharray\": \"none\", \"alpha\": 0.8, \"facecolor\": \"rgba(255, 255, 255, 0.8)\", \"edgecolor\": \"rgba(204, 204, 204, 0.8)\", \"edgewidth\": 1.0, \"zorder\": 1000000.0}], \"markers\": [], \"texts\": [{\"text\": \"Impacts per Food Item (kgCO2eq)\", \"position\": [0.5, -0.048289183222958054], \"coordinates\": \"axes\", \"h_anchor\": \"middle\", \"v_baseline\": \"hanging\", \"rotation\": -0.0, \"fontsize\": 12.0, \"color\": \"#000000\", \"alpha\": 1, \"zorder\": 3, \"id\": \"el11690139663151937856\"}, {\"text\": \"Grams to be Consumed\", \"position\": [-0.06541218637992831, 0.49999999999999994], \"coordinates\": \"axes\", \"h_anchor\": \"middle\", \"v_baseline\": \"auto\", \"rotation\": -90.0, \"fontsize\": 12.0, \"color\": \"#000000\", \"alpha\": 1, \"zorder\": 3, \"id\": \"el11690139663151888424\"}, {\"text\": \"Recommended Diet for 7 days\", \"position\": [0.5, 1.0137969094922736], \"coordinates\": \"axes\", \"h_anchor\": \"middle\", \"v_baseline\": \"auto\", \"rotation\": -0.0, \"fontsize\": 20.0, \"color\": \"#000000\", \"alpha\": 1, \"zorder\": 3, \"id\": \"el11690139663151639240\"}, {\"text\": \"Recommended Source Country\\nfor Food Item\", \"position\": [0.5069892473118282, 0.434234731420162], \"coordinates\": \"axes\", \"h_anchor\": \"start\", \"v_baseline\": \"auto\", \"rotation\": -0.0, \"fontsize\": 10.0, \"color\": \"#000000\", \"alpha\": 1, \"zorder\": 1000003.0, \"id\": \"el11690139663125052776\"}, {\"text\": \"Italy\", \"position\": [0.6323252688172045, 0.3997424576894777], \"coordinates\": \"axes\", \"h_anchor\": \"start\", \"v_baseline\": \"auto\", \"rotation\": -0.0, \"fontsize\": 10.0, \"color\": \"#000000\", \"alpha\": 1, \"zorder\": 1000003.0, \"id\": \"el11690139663160205888\"}, {\"text\": \"Greece\", \"position\": [0.6323252688172045, 0.3652501839587933], \"coordinates\": \"axes\", \"h_anchor\": \"start\", \"v_baseline\": \"auto\", \"rotation\": -0.0, \"fontsize\": 10.0, \"color\": \"#000000\", \"alpha\": 1, \"zorder\": 1000003.0, \"id\": \"el11690139663160206952\"}, {\"text\": \"Lebanon\", \"position\": [0.6323252688172045, 0.33075791022810896], \"coordinates\": \"axes\", \"h_anchor\": \"start\", \"v_baseline\": \"auto\", \"rotation\": -0.0, \"fontsize\": 10.0, \"color\": \"#000000\", \"alpha\": 1, \"zorder\": 1000003.0, \"id\": \"el11690139663160207680\"}, {\"text\": \"Albania\", \"position\": [0.6323252688172045, 0.29626563649742466], \"coordinates\": \"axes\", \"h_anchor\": \"start\", \"v_baseline\": \"auto\", \"rotation\": -0.0, \"fontsize\": 10.0, \"color\": \"#000000\", \"alpha\": 1, \"zorder\": 1000003.0, \"id\": \"el11690139663160208408\"}, {\"text\": \"Canada\", \"position\": [0.6323252688172045, 0.26177336276674035], \"coordinates\": \"axes\", \"h_anchor\": \"start\", \"v_baseline\": \"auto\", \"rotation\": -0.0, \"fontsize\": 10.0, \"color\": \"#000000\", \"alpha\": 1, \"zorder\": 1000003.0, \"id\": \"el11690139663160209136\"}, {\"text\": \"India\", \"position\": [0.6323252688172045, 0.227281089036056], \"coordinates\": \"axes\", \"h_anchor\": \"start\", \"v_baseline\": \"auto\", \"rotation\": -0.0, \"fontsize\": 10.0, \"color\": \"#000000\", \"alpha\": 1, \"zorder\": 1000003.0, \"id\": \"el11690139663125052272\"}], \"collections\": [{\"offsets\": \"data01\", \"xindex\": 0, \"yindex\": 1, \"paths\": [[[[0.0, -0.5], [0.13260155, -0.5], [0.25978993539242673, -0.44731684579412084], [0.3535533905932738, -0.3535533905932738], [0.44731684579412084, -0.25978993539242673], [0.5, -0.13260155], [0.5, 0.0], [0.5, 0.13260155], [0.44731684579412084, 0.25978993539242673], [0.3535533905932738, 0.3535533905932738], [0.25978993539242673, 0.44731684579412084], [0.13260155, 0.5], [0.0, 0.5], [-0.13260155, 0.5], [-0.25978993539242673, 0.44731684579412084], [-0.3535533905932738, 0.3535533905932738], [-0.44731684579412084, 0.25978993539242673], [-0.5, 0.13260155], [-0.5, 0.0], [-0.5, -0.13260155], [-0.44731684579412084, -0.25978993539242673], [-0.3535533905932738, -0.3535533905932738], [-0.25978993539242673, -0.44731684579412084], [-0.13260155, -0.5], [0.0, -0.5]], [\"M\", \"C\", \"C\", \"C\", \"C\", \"C\", \"C\", \"C\", \"C\", \"Z\"]]], \"pathtransforms\": [[7.0710678118654755, 0.0, 0.0, 7.0710678118654755, 0.0, 0.0]], \"alphas\": [0.8], \"edgecolors\": [\"rgba(212, 221, 128, 0.8)\", \"rgba(255, 86, 44, 0.8)\", \"rgba(212, 221, 128, 0.8)\", \"rgba(255, 86, 44, 0.8)\", \"rgba(16, 162, 240, 0.8)\", \"rgba(255, 86, 44, 0.8)\", \"rgba(255, 0, 0, 0.8)\", \"rgba(255, 0, 0, 0.8)\", \"rgba(255, 86, 44, 0.8)\", \"rgba(255, 0, 0, 0.8)\", \"rgba(255, 0, 0, 0.8)\", \"rgba(212, 221, 128, 0.8)\", \"rgba(212, 221, 128, 0.8)\", \"rgba(240, 196, 108, 0.8)\", \"rgba(255, 86, 44, 0.8)\", \"rgba(255, 0, 0, 0.8)\", \"rgba(255, 86, 44, 0.8)\", \"rgba(255, 44, 22, 0.8)\", \"rgba(255, 0, 0, 0.8)\"], \"facecolors\": [\"rgba(212, 221, 128, 0.8)\", \"rgba(255, 86, 44, 0.8)\", \"rgba(212, 221, 128, 0.8)\", \"rgba(255, 86, 44, 0.8)\", \"rgba(16, 162, 240, 0.8)\", \"rgba(255, 86, 44, 0.8)\", \"rgba(255, 0, 0, 0.8)\", \"rgba(255, 0, 0, 0.8)\", \"rgba(255, 86, 44, 0.8)\", \"rgba(255, 0, 0, 0.8)\", \"rgba(255, 0, 0, 0.8)\", \"rgba(212, 221, 128, 0.8)\", \"rgba(212, 221, 128, 0.8)\", \"rgba(240, 196, 108, 0.8)\", \"rgba(255, 86, 44, 0.8)\", \"rgba(255, 0, 0, 0.8)\", \"rgba(255, 86, 44, 0.8)\", \"rgba(255, 44, 22, 0.8)\", \"rgba(255, 0, 0, 0.8)\"], \"edgewidths\": [1.0], \"offsetcoordinates\": \"data\", \"pathcoordinates\": \"display\", \"zorder\": 1, \"id\": \"el11690139663160244264\"}], \"images\": [], \"sharex\": [], \"sharey\": []}], \"data\": {\"data01\": [[7.488868708800686, 3045.0], [0.16842511403395177, 1050.0], [0.14336873258660976, 700.0], [0.1084351690834193, 700.0], [0.5994605976071938, 700.0], [0.11220682713849475, 700.0], [0.26657941883170166, 700.0], [0.26657941883170166, 700.0], [0.11997791563012378, 645.83923], [0.22800418112764712, 598.70686], [0.43274524654744173, 420.0], [0.21936761934539503, 420.0], [0.13496206920175638, 322.71554], [0.19759940798335363, 193.91304], [0.022847984865290192, 151.44523], [0.11933414538834138, 140.0], [0.03026968769733104, 140.0], [0.17484351216134214, 140.0], [0.026188504919983164, 35.0]], \"data02\": [[0.5821460573476704, 0.3997424576894777, 0.3652501839587933, 0.33075791022810896, 0.29626563649742466, 0.26177336276674035, 0.227281089036056], [0.6179883512544805, 0.3997424576894777, 0.3652501839587933, 0.33075791022810896, 0.29626563649742466, 0.26177336276674035, 0.227281089036056], [0.6179883512544805, 0.4158388520971304, 0.381346578366446, 0.34685430463576167, 0.31236203090507736, 0.27786975717439305, 0.2433774834437087], [0.5821460573476704, 0.4158388520971304, 0.381346578366446, 0.34685430463576167, 0.31236203090507736, 0.27786975717439305, 0.2433774834437087]], \"data03\": [[0.5034050179211471, 0.21348417954378227], [0.7874551971326167, 0.21348417954378227], [0.7910394265232977, 0.21348417954378227], [0.7910394265232977, 0.21808314937454018], [0.7910394265232977, 0.48390360559234746], [0.7910394265232977, 0.4885025754231054], [0.7874551971326167, 0.4885025754231054], [0.5034050179211471, 0.4885025754231054], [0.4998207885304662, 0.4885025754231054], [0.4998207885304662, 0.48390360559234746], [0.4998207885304662, 0.21808314937454018], [0.4998207885304662, 0.21348417954378227], [0.5034050179211471, 0.21348417954378227]]}, \"id\": \"el11690139663151877032\", \"plugins\": [{\"type\": \"reset\"}, {\"type\": \"zoom\", \"button\": true, \"enabled\": false}, {\"type\": \"boxzoom\", \"button\": true, \"enabled\": false}, {\"type\": \"tooltip\", \"id\": \"el11690139663160244264\", \"labels\": [\"whole milk pasteurised, average\", \"melon\", \"apples\", \"curly kale\", \"mackerel, flesh only, smoked\", \"spinach, mature\", \"pinto beans, canned\", \"blackeye beans, canned\", \"rocket\", \"butter beans, canned\", \"cereal, bran type cereal, fortified\", \"muesli, swiss style, unfortified\", \"tomatoes, fried in corn oil\", \"herring, flesh only, grilled\", \"chard\", \"sunflower seeds\", \"pumpkin seeds\", \"sesame seeds\", \"bread, wholemeal, average\"], \"hoffset\": 0, \"voffset\": 10, \"location\": \"mouse\"}]});\n",
       "   }(mpld3);\n",
       "}else if(typeof define === \"function\" && define.amd){\n",
       "   // require.js is available: use it to load d3/mpld3\n",
       "   require.config({paths: {d3: \"https://d3js.org/d3.v5\"}});\n",
       "   require([\"d3\"], function(d3){\n",
       "      window.d3 = d3;\n",
       "      mpld3_load_lib(\"https://mpld3.github.io/js/mpld3.v0.5.2.js\", function(){\n",
       "         \n",
       "         mpld3.draw_figure(\"fig_el116901396631518770326638685112\", {\"width\": 720.0, \"height\": 576.0, \"axes\": [{\"bbox\": [0.125, 0.125, 0.775, 0.755], \"xlim\": [-0.3504530513314796, 7.8621697449974555], \"ylim\": [-115.5, 3195.5], \"xdomain\": [-0.3504530513314796, 7.8621697449974555], \"ydomain\": [-115.5, 3195.5], \"xscale\": \"linear\", \"yscale\": \"linear\", \"axes\": [{\"position\": \"bottom\", \"nticks\": 10, \"tickvalues\": null, \"tickformat_formatter\": \"\", \"tickformat\": null, \"scale\": \"linear\", \"fontsize\": 10.0, \"grid\": {\"gridOn\": true, \"color\": \"#FFFFFF\", \"dasharray\": \"0.8,1.32\", \"alpha\": 1.0}, \"visible\": true}, {\"position\": \"left\", \"nticks\": 9, \"tickvalues\": null, \"tickformat_formatter\": \"\", \"tickformat\": null, \"scale\": \"linear\", \"fontsize\": 10.0, \"grid\": {\"gridOn\": true, \"color\": \"#FFFFFF\", \"dasharray\": \"0.8,1.32\", \"alpha\": 1.0}, \"visible\": true}], \"axesbg\": \"#FFFFFF\", \"axesbgalpha\": null, \"zoomable\": true, \"id\": \"el11690139663151939480\", \"lines\": [], \"paths\": [{\"data\": \"data02\", \"xindex\": 0, \"yindex\": 1, \"coordinates\": \"axes\", \"pathcodes\": [\"M\", \"L\", \"L\", \"L\", \"Z\"], \"id\": \"el11690139663160206840\", \"dasharray\": \"none\", \"alpha\": 1, \"facecolor\": \"#D4DC7F\", \"edgecolor\": \"#D4DC7F\", \"edgewidth\": 1.0, \"zorder\": 1000001.0}, {\"data\": \"data02\", \"xindex\": 0, \"yindex\": 2, \"coordinates\": \"axes\", \"pathcodes\": [\"M\", \"L\", \"L\", \"L\", \"Z\"], \"id\": \"el11690139663160207456\", \"dasharray\": \"none\", \"alpha\": 1, \"facecolor\": \"#FF562B\", \"edgecolor\": \"#FF562B\", \"edgewidth\": 1.0, \"zorder\": 1000001.0}, {\"data\": \"data02\", \"xindex\": 0, \"yindex\": 3, \"coordinates\": \"axes\", \"pathcodes\": [\"M\", \"L\", \"L\", \"L\", \"Z\"], \"id\": \"el11690139663160208184\", \"dasharray\": \"none\", \"alpha\": 1, \"facecolor\": \"#0FA2EF\", \"edgecolor\": \"#0FA2EF\", \"edgewidth\": 1.0, \"zorder\": 1000001.0}, {\"data\": \"data02\", \"xindex\": 0, \"yindex\": 4, \"coordinates\": \"axes\", \"pathcodes\": [\"M\", \"L\", \"L\", \"L\", \"Z\"], \"id\": \"el11690139663160208912\", \"dasharray\": \"none\", \"alpha\": 1, \"facecolor\": \"#FF0000\", \"edgecolor\": \"#FF0000\", \"edgewidth\": 1.0, \"zorder\": 1000001.0}, {\"data\": \"data02\", \"xindex\": 0, \"yindex\": 5, \"coordinates\": \"axes\", \"pathcodes\": [\"M\", \"L\", \"L\", \"L\", \"Z\"], \"id\": \"el11690139663125050872\", \"dasharray\": \"none\", \"alpha\": 1, \"facecolor\": \"#F0C36C\", \"edgecolor\": \"#F0C36C\", \"edgewidth\": 1.0, \"zorder\": 1000001.0}, {\"data\": \"data02\", \"xindex\": 0, \"yindex\": 6, \"coordinates\": \"axes\", \"pathcodes\": [\"M\", \"L\", \"L\", \"L\", \"Z\"], \"id\": \"el11690139663125051432\", \"dasharray\": \"none\", \"alpha\": 1, \"facecolor\": \"#FF2B15\", \"edgecolor\": \"#FF2B15\", \"edgewidth\": 1.0, \"zorder\": 1000001.0}, {\"data\": \"data03\", \"xindex\": 0, \"yindex\": 1, \"coordinates\": \"axes\", \"pathcodes\": [\"M\", \"L\", \"S\", \"L\", \"S\", \"L\", \"S\", \"L\", \"S\", \"Z\"], \"id\": \"el11690139663160205720\", \"dasharray\": \"none\", \"alpha\": 0.8, \"facecolor\": \"rgba(255, 255, 255, 0.8)\", \"edgecolor\": \"rgba(204, 204, 204, 0.8)\", \"edgewidth\": 1.0, \"zorder\": 1000000.0}], \"markers\": [], \"texts\": [{\"text\": \"Impacts per Food Item (kgCO2eq)\", \"position\": [0.5, -0.048289183222958054], \"coordinates\": \"axes\", \"h_anchor\": \"middle\", \"v_baseline\": \"hanging\", \"rotation\": -0.0, \"fontsize\": 12.0, \"color\": \"#000000\", \"alpha\": 1, \"zorder\": 3, \"id\": \"el11690139663151937856\"}, {\"text\": \"Grams to be Consumed\", \"position\": [-0.06541218637992831, 0.49999999999999994], \"coordinates\": \"axes\", \"h_anchor\": \"middle\", \"v_baseline\": \"auto\", \"rotation\": -90.0, \"fontsize\": 12.0, \"color\": \"#000000\", \"alpha\": 1, \"zorder\": 3, \"id\": \"el11690139663151888424\"}, {\"text\": \"Recommended Diet for 7 days\", \"position\": [0.5, 1.0137969094922736], \"coordinates\": \"axes\", \"h_anchor\": \"middle\", \"v_baseline\": \"auto\", \"rotation\": -0.0, \"fontsize\": 20.0, \"color\": \"#000000\", \"alpha\": 1, \"zorder\": 3, \"id\": \"el11690139663151639240\"}, {\"text\": \"Recommended Source Country\\nfor Food Item\", \"position\": [0.5069892473118282, 0.434234731420162], \"coordinates\": \"axes\", \"h_anchor\": \"start\", \"v_baseline\": \"auto\", \"rotation\": -0.0, \"fontsize\": 10.0, \"color\": \"#000000\", \"alpha\": 1, \"zorder\": 1000003.0, \"id\": \"el11690139663125052776\"}, {\"text\": \"Italy\", \"position\": [0.6323252688172045, 0.3997424576894777], \"coordinates\": \"axes\", \"h_anchor\": \"start\", \"v_baseline\": \"auto\", \"rotation\": -0.0, \"fontsize\": 10.0, \"color\": \"#000000\", \"alpha\": 1, \"zorder\": 1000003.0, \"id\": \"el11690139663160205888\"}, {\"text\": \"Greece\", \"position\": [0.6323252688172045, 0.3652501839587933], \"coordinates\": \"axes\", \"h_anchor\": \"start\", \"v_baseline\": \"auto\", \"rotation\": -0.0, \"fontsize\": 10.0, \"color\": \"#000000\", \"alpha\": 1, \"zorder\": 1000003.0, \"id\": \"el11690139663160206952\"}, {\"text\": \"Lebanon\", \"position\": [0.6323252688172045, 0.33075791022810896], \"coordinates\": \"axes\", \"h_anchor\": \"start\", \"v_baseline\": \"auto\", \"rotation\": -0.0, \"fontsize\": 10.0, \"color\": \"#000000\", \"alpha\": 1, \"zorder\": 1000003.0, \"id\": \"el11690139663160207680\"}, {\"text\": \"Albania\", \"position\": [0.6323252688172045, 0.29626563649742466], \"coordinates\": \"axes\", \"h_anchor\": \"start\", \"v_baseline\": \"auto\", \"rotation\": -0.0, \"fontsize\": 10.0, \"color\": \"#000000\", \"alpha\": 1, \"zorder\": 1000003.0, \"id\": \"el11690139663160208408\"}, {\"text\": \"Canada\", \"position\": [0.6323252688172045, 0.26177336276674035], \"coordinates\": \"axes\", \"h_anchor\": \"start\", \"v_baseline\": \"auto\", \"rotation\": -0.0, \"fontsize\": 10.0, \"color\": \"#000000\", \"alpha\": 1, \"zorder\": 1000003.0, \"id\": \"el11690139663160209136\"}, {\"text\": \"India\", \"position\": [0.6323252688172045, 0.227281089036056], \"coordinates\": \"axes\", \"h_anchor\": \"start\", \"v_baseline\": \"auto\", \"rotation\": -0.0, \"fontsize\": 10.0, \"color\": \"#000000\", \"alpha\": 1, \"zorder\": 1000003.0, \"id\": \"el11690139663125052272\"}], \"collections\": [{\"offsets\": \"data01\", \"xindex\": 0, \"yindex\": 1, \"paths\": [[[[0.0, -0.5], [0.13260155, -0.5], [0.25978993539242673, -0.44731684579412084], [0.3535533905932738, -0.3535533905932738], [0.44731684579412084, -0.25978993539242673], [0.5, -0.13260155], [0.5, 0.0], [0.5, 0.13260155], [0.44731684579412084, 0.25978993539242673], [0.3535533905932738, 0.3535533905932738], [0.25978993539242673, 0.44731684579412084], [0.13260155, 0.5], [0.0, 0.5], [-0.13260155, 0.5], [-0.25978993539242673, 0.44731684579412084], [-0.3535533905932738, 0.3535533905932738], [-0.44731684579412084, 0.25978993539242673], [-0.5, 0.13260155], [-0.5, 0.0], [-0.5, -0.13260155], [-0.44731684579412084, -0.25978993539242673], [-0.3535533905932738, -0.3535533905932738], [-0.25978993539242673, -0.44731684579412084], [-0.13260155, -0.5], [0.0, -0.5]], [\"M\", \"C\", \"C\", \"C\", \"C\", \"C\", \"C\", \"C\", \"C\", \"Z\"]]], \"pathtransforms\": [[7.0710678118654755, 0.0, 0.0, 7.0710678118654755, 0.0, 0.0]], \"alphas\": [0.8], \"edgecolors\": [\"rgba(212, 221, 128, 0.8)\", \"rgba(255, 86, 44, 0.8)\", \"rgba(212, 221, 128, 0.8)\", \"rgba(255, 86, 44, 0.8)\", \"rgba(16, 162, 240, 0.8)\", \"rgba(255, 86, 44, 0.8)\", \"rgba(255, 0, 0, 0.8)\", \"rgba(255, 0, 0, 0.8)\", \"rgba(255, 86, 44, 0.8)\", \"rgba(255, 0, 0, 0.8)\", \"rgba(255, 0, 0, 0.8)\", \"rgba(212, 221, 128, 0.8)\", \"rgba(212, 221, 128, 0.8)\", \"rgba(240, 196, 108, 0.8)\", \"rgba(255, 86, 44, 0.8)\", \"rgba(255, 0, 0, 0.8)\", \"rgba(255, 86, 44, 0.8)\", \"rgba(255, 44, 22, 0.8)\", \"rgba(255, 0, 0, 0.8)\"], \"facecolors\": [\"rgba(212, 221, 128, 0.8)\", \"rgba(255, 86, 44, 0.8)\", \"rgba(212, 221, 128, 0.8)\", \"rgba(255, 86, 44, 0.8)\", \"rgba(16, 162, 240, 0.8)\", \"rgba(255, 86, 44, 0.8)\", \"rgba(255, 0, 0, 0.8)\", \"rgba(255, 0, 0, 0.8)\", \"rgba(255, 86, 44, 0.8)\", \"rgba(255, 0, 0, 0.8)\", \"rgba(255, 0, 0, 0.8)\", \"rgba(212, 221, 128, 0.8)\", \"rgba(212, 221, 128, 0.8)\", \"rgba(240, 196, 108, 0.8)\", \"rgba(255, 86, 44, 0.8)\", \"rgba(255, 0, 0, 0.8)\", \"rgba(255, 86, 44, 0.8)\", \"rgba(255, 44, 22, 0.8)\", \"rgba(255, 0, 0, 0.8)\"], \"edgewidths\": [1.0], \"offsetcoordinates\": \"data\", \"pathcoordinates\": \"display\", \"zorder\": 1, \"id\": \"el11690139663160244264\"}], \"images\": [], \"sharex\": [], \"sharey\": []}], \"data\": {\"data01\": [[7.488868708800686, 3045.0], [0.16842511403395177, 1050.0], [0.14336873258660976, 700.0], [0.1084351690834193, 700.0], [0.5994605976071938, 700.0], [0.11220682713849475, 700.0], [0.26657941883170166, 700.0], [0.26657941883170166, 700.0], [0.11997791563012378, 645.83923], [0.22800418112764712, 598.70686], [0.43274524654744173, 420.0], [0.21936761934539503, 420.0], [0.13496206920175638, 322.71554], [0.19759940798335363, 193.91304], [0.022847984865290192, 151.44523], [0.11933414538834138, 140.0], [0.03026968769733104, 140.0], [0.17484351216134214, 140.0], [0.026188504919983164, 35.0]], \"data02\": [[0.5821460573476704, 0.3997424576894777, 0.3652501839587933, 0.33075791022810896, 0.29626563649742466, 0.26177336276674035, 0.227281089036056], [0.6179883512544805, 0.3997424576894777, 0.3652501839587933, 0.33075791022810896, 0.29626563649742466, 0.26177336276674035, 0.227281089036056], [0.6179883512544805, 0.4158388520971304, 0.381346578366446, 0.34685430463576167, 0.31236203090507736, 0.27786975717439305, 0.2433774834437087], [0.5821460573476704, 0.4158388520971304, 0.381346578366446, 0.34685430463576167, 0.31236203090507736, 0.27786975717439305, 0.2433774834437087]], \"data03\": [[0.5034050179211471, 0.21348417954378227], [0.7874551971326167, 0.21348417954378227], [0.7910394265232977, 0.21348417954378227], [0.7910394265232977, 0.21808314937454018], [0.7910394265232977, 0.48390360559234746], [0.7910394265232977, 0.4885025754231054], [0.7874551971326167, 0.4885025754231054], [0.5034050179211471, 0.4885025754231054], [0.4998207885304662, 0.4885025754231054], [0.4998207885304662, 0.48390360559234746], [0.4998207885304662, 0.21808314937454018], [0.4998207885304662, 0.21348417954378227], [0.5034050179211471, 0.21348417954378227]]}, \"id\": \"el11690139663151877032\", \"plugins\": [{\"type\": \"reset\"}, {\"type\": \"zoom\", \"button\": true, \"enabled\": false}, {\"type\": \"boxzoom\", \"button\": true, \"enabled\": false}, {\"type\": \"tooltip\", \"id\": \"el11690139663160244264\", \"labels\": [\"whole milk pasteurised, average\", \"melon\", \"apples\", \"curly kale\", \"mackerel, flesh only, smoked\", \"spinach, mature\", \"pinto beans, canned\", \"blackeye beans, canned\", \"rocket\", \"butter beans, canned\", \"cereal, bran type cereal, fortified\", \"muesli, swiss style, unfortified\", \"tomatoes, fried in corn oil\", \"herring, flesh only, grilled\", \"chard\", \"sunflower seeds\", \"pumpkin seeds\", \"sesame seeds\", \"bread, wholemeal, average\"], \"hoffset\": 0, \"voffset\": 10, \"location\": \"mouse\"}]});\n",
       "      });\n",
       "    });\n",
       "}else{\n",
       "    // require.js not available: dynamically load d3 & mpld3\n",
       "    mpld3_load_lib(\"https://d3js.org/d3.v5.js\", function(){\n",
       "         mpld3_load_lib(\"https://mpld3.github.io/js/mpld3.v0.5.2.js\", function(){\n",
       "                 \n",
       "                 mpld3.draw_figure(\"fig_el116901396631518770326638685112\", {\"width\": 720.0, \"height\": 576.0, \"axes\": [{\"bbox\": [0.125, 0.125, 0.775, 0.755], \"xlim\": [-0.3504530513314796, 7.8621697449974555], \"ylim\": [-115.5, 3195.5], \"xdomain\": [-0.3504530513314796, 7.8621697449974555], \"ydomain\": [-115.5, 3195.5], \"xscale\": \"linear\", \"yscale\": \"linear\", \"axes\": [{\"position\": \"bottom\", \"nticks\": 10, \"tickvalues\": null, \"tickformat_formatter\": \"\", \"tickformat\": null, \"scale\": \"linear\", \"fontsize\": 10.0, \"grid\": {\"gridOn\": true, \"color\": \"#FFFFFF\", \"dasharray\": \"0.8,1.32\", \"alpha\": 1.0}, \"visible\": true}, {\"position\": \"left\", \"nticks\": 9, \"tickvalues\": null, \"tickformat_formatter\": \"\", \"tickformat\": null, \"scale\": \"linear\", \"fontsize\": 10.0, \"grid\": {\"gridOn\": true, \"color\": \"#FFFFFF\", \"dasharray\": \"0.8,1.32\", \"alpha\": 1.0}, \"visible\": true}], \"axesbg\": \"#FFFFFF\", \"axesbgalpha\": null, \"zoomable\": true, \"id\": \"el11690139663151939480\", \"lines\": [], \"paths\": [{\"data\": \"data02\", \"xindex\": 0, \"yindex\": 1, \"coordinates\": \"axes\", \"pathcodes\": [\"M\", \"L\", \"L\", \"L\", \"Z\"], \"id\": \"el11690139663160206840\", \"dasharray\": \"none\", \"alpha\": 1, \"facecolor\": \"#D4DC7F\", \"edgecolor\": \"#D4DC7F\", \"edgewidth\": 1.0, \"zorder\": 1000001.0}, {\"data\": \"data02\", \"xindex\": 0, \"yindex\": 2, \"coordinates\": \"axes\", \"pathcodes\": [\"M\", \"L\", \"L\", \"L\", \"Z\"], \"id\": \"el11690139663160207456\", \"dasharray\": \"none\", \"alpha\": 1, \"facecolor\": \"#FF562B\", \"edgecolor\": \"#FF562B\", \"edgewidth\": 1.0, \"zorder\": 1000001.0}, {\"data\": \"data02\", \"xindex\": 0, \"yindex\": 3, \"coordinates\": \"axes\", \"pathcodes\": [\"M\", \"L\", \"L\", \"L\", \"Z\"], \"id\": \"el11690139663160208184\", \"dasharray\": \"none\", \"alpha\": 1, \"facecolor\": \"#0FA2EF\", \"edgecolor\": \"#0FA2EF\", \"edgewidth\": 1.0, \"zorder\": 1000001.0}, {\"data\": \"data02\", \"xindex\": 0, \"yindex\": 4, \"coordinates\": \"axes\", \"pathcodes\": [\"M\", \"L\", \"L\", \"L\", \"Z\"], \"id\": \"el11690139663160208912\", \"dasharray\": \"none\", \"alpha\": 1, \"facecolor\": \"#FF0000\", \"edgecolor\": \"#FF0000\", \"edgewidth\": 1.0, \"zorder\": 1000001.0}, {\"data\": \"data02\", \"xindex\": 0, \"yindex\": 5, \"coordinates\": \"axes\", \"pathcodes\": [\"M\", \"L\", \"L\", \"L\", \"Z\"], \"id\": \"el11690139663125050872\", \"dasharray\": \"none\", \"alpha\": 1, \"facecolor\": \"#F0C36C\", \"edgecolor\": \"#F0C36C\", \"edgewidth\": 1.0, \"zorder\": 1000001.0}, {\"data\": \"data02\", \"xindex\": 0, \"yindex\": 6, \"coordinates\": \"axes\", \"pathcodes\": [\"M\", \"L\", \"L\", \"L\", \"Z\"], \"id\": \"el11690139663125051432\", \"dasharray\": \"none\", \"alpha\": 1, \"facecolor\": \"#FF2B15\", \"edgecolor\": \"#FF2B15\", \"edgewidth\": 1.0, \"zorder\": 1000001.0}, {\"data\": \"data03\", \"xindex\": 0, \"yindex\": 1, \"coordinates\": \"axes\", \"pathcodes\": [\"M\", \"L\", \"S\", \"L\", \"S\", \"L\", \"S\", \"L\", \"S\", \"Z\"], \"id\": \"el11690139663160205720\", \"dasharray\": \"none\", \"alpha\": 0.8, \"facecolor\": \"rgba(255, 255, 255, 0.8)\", \"edgecolor\": \"rgba(204, 204, 204, 0.8)\", \"edgewidth\": 1.0, \"zorder\": 1000000.0}], \"markers\": [], \"texts\": [{\"text\": \"Impacts per Food Item (kgCO2eq)\", \"position\": [0.5, -0.048289183222958054], \"coordinates\": \"axes\", \"h_anchor\": \"middle\", \"v_baseline\": \"hanging\", \"rotation\": -0.0, \"fontsize\": 12.0, \"color\": \"#000000\", \"alpha\": 1, \"zorder\": 3, \"id\": \"el11690139663151937856\"}, {\"text\": \"Grams to be Consumed\", \"position\": [-0.06541218637992831, 0.49999999999999994], \"coordinates\": \"axes\", \"h_anchor\": \"middle\", \"v_baseline\": \"auto\", \"rotation\": -90.0, \"fontsize\": 12.0, \"color\": \"#000000\", \"alpha\": 1, \"zorder\": 3, \"id\": \"el11690139663151888424\"}, {\"text\": \"Recommended Diet for 7 days\", \"position\": [0.5, 1.0137969094922736], \"coordinates\": \"axes\", \"h_anchor\": \"middle\", \"v_baseline\": \"auto\", \"rotation\": -0.0, \"fontsize\": 20.0, \"color\": \"#000000\", \"alpha\": 1, \"zorder\": 3, \"id\": \"el11690139663151639240\"}, {\"text\": \"Recommended Source Country\\nfor Food Item\", \"position\": [0.5069892473118282, 0.434234731420162], \"coordinates\": \"axes\", \"h_anchor\": \"start\", \"v_baseline\": \"auto\", \"rotation\": -0.0, \"fontsize\": 10.0, \"color\": \"#000000\", \"alpha\": 1, \"zorder\": 1000003.0, \"id\": \"el11690139663125052776\"}, {\"text\": \"Italy\", \"position\": [0.6323252688172045, 0.3997424576894777], \"coordinates\": \"axes\", \"h_anchor\": \"start\", \"v_baseline\": \"auto\", \"rotation\": -0.0, \"fontsize\": 10.0, \"color\": \"#000000\", \"alpha\": 1, \"zorder\": 1000003.0, \"id\": \"el11690139663160205888\"}, {\"text\": \"Greece\", \"position\": [0.6323252688172045, 0.3652501839587933], \"coordinates\": \"axes\", \"h_anchor\": \"start\", \"v_baseline\": \"auto\", \"rotation\": -0.0, \"fontsize\": 10.0, \"color\": \"#000000\", \"alpha\": 1, \"zorder\": 1000003.0, \"id\": \"el11690139663160206952\"}, {\"text\": \"Lebanon\", \"position\": [0.6323252688172045, 0.33075791022810896], \"coordinates\": \"axes\", \"h_anchor\": \"start\", \"v_baseline\": \"auto\", \"rotation\": -0.0, \"fontsize\": 10.0, \"color\": \"#000000\", \"alpha\": 1, \"zorder\": 1000003.0, \"id\": \"el11690139663160207680\"}, {\"text\": \"Albania\", \"position\": [0.6323252688172045, 0.29626563649742466], \"coordinates\": \"axes\", \"h_anchor\": \"start\", \"v_baseline\": \"auto\", \"rotation\": -0.0, \"fontsize\": 10.0, \"color\": \"#000000\", \"alpha\": 1, \"zorder\": 1000003.0, \"id\": \"el11690139663160208408\"}, {\"text\": \"Canada\", \"position\": [0.6323252688172045, 0.26177336276674035], \"coordinates\": \"axes\", \"h_anchor\": \"start\", \"v_baseline\": \"auto\", \"rotation\": -0.0, \"fontsize\": 10.0, \"color\": \"#000000\", \"alpha\": 1, \"zorder\": 1000003.0, \"id\": \"el11690139663160209136\"}, {\"text\": \"India\", \"position\": [0.6323252688172045, 0.227281089036056], \"coordinates\": \"axes\", \"h_anchor\": \"start\", \"v_baseline\": \"auto\", \"rotation\": -0.0, \"fontsize\": 10.0, \"color\": \"#000000\", \"alpha\": 1, \"zorder\": 1000003.0, \"id\": \"el11690139663125052272\"}], \"collections\": [{\"offsets\": \"data01\", \"xindex\": 0, \"yindex\": 1, \"paths\": [[[[0.0, -0.5], [0.13260155, -0.5], [0.25978993539242673, -0.44731684579412084], [0.3535533905932738, -0.3535533905932738], [0.44731684579412084, -0.25978993539242673], [0.5, -0.13260155], [0.5, 0.0], [0.5, 0.13260155], [0.44731684579412084, 0.25978993539242673], [0.3535533905932738, 0.3535533905932738], [0.25978993539242673, 0.44731684579412084], [0.13260155, 0.5], [0.0, 0.5], [-0.13260155, 0.5], [-0.25978993539242673, 0.44731684579412084], [-0.3535533905932738, 0.3535533905932738], [-0.44731684579412084, 0.25978993539242673], [-0.5, 0.13260155], [-0.5, 0.0], [-0.5, -0.13260155], [-0.44731684579412084, -0.25978993539242673], [-0.3535533905932738, -0.3535533905932738], [-0.25978993539242673, -0.44731684579412084], [-0.13260155, -0.5], [0.0, -0.5]], [\"M\", \"C\", \"C\", \"C\", \"C\", \"C\", \"C\", \"C\", \"C\", \"Z\"]]], \"pathtransforms\": [[7.0710678118654755, 0.0, 0.0, 7.0710678118654755, 0.0, 0.0]], \"alphas\": [0.8], \"edgecolors\": [\"rgba(212, 221, 128, 0.8)\", \"rgba(255, 86, 44, 0.8)\", \"rgba(212, 221, 128, 0.8)\", \"rgba(255, 86, 44, 0.8)\", \"rgba(16, 162, 240, 0.8)\", \"rgba(255, 86, 44, 0.8)\", \"rgba(255, 0, 0, 0.8)\", \"rgba(255, 0, 0, 0.8)\", \"rgba(255, 86, 44, 0.8)\", \"rgba(255, 0, 0, 0.8)\", \"rgba(255, 0, 0, 0.8)\", \"rgba(212, 221, 128, 0.8)\", \"rgba(212, 221, 128, 0.8)\", \"rgba(240, 196, 108, 0.8)\", \"rgba(255, 86, 44, 0.8)\", \"rgba(255, 0, 0, 0.8)\", \"rgba(255, 86, 44, 0.8)\", \"rgba(255, 44, 22, 0.8)\", \"rgba(255, 0, 0, 0.8)\"], \"facecolors\": [\"rgba(212, 221, 128, 0.8)\", \"rgba(255, 86, 44, 0.8)\", \"rgba(212, 221, 128, 0.8)\", \"rgba(255, 86, 44, 0.8)\", \"rgba(16, 162, 240, 0.8)\", \"rgba(255, 86, 44, 0.8)\", \"rgba(255, 0, 0, 0.8)\", \"rgba(255, 0, 0, 0.8)\", \"rgba(255, 86, 44, 0.8)\", \"rgba(255, 0, 0, 0.8)\", \"rgba(255, 0, 0, 0.8)\", \"rgba(212, 221, 128, 0.8)\", \"rgba(212, 221, 128, 0.8)\", \"rgba(240, 196, 108, 0.8)\", \"rgba(255, 86, 44, 0.8)\", \"rgba(255, 0, 0, 0.8)\", \"rgba(255, 86, 44, 0.8)\", \"rgba(255, 44, 22, 0.8)\", \"rgba(255, 0, 0, 0.8)\"], \"edgewidths\": [1.0], \"offsetcoordinates\": \"data\", \"pathcoordinates\": \"display\", \"zorder\": 1, \"id\": \"el11690139663160244264\"}], \"images\": [], \"sharex\": [], \"sharey\": []}], \"data\": {\"data01\": [[7.488868708800686, 3045.0], [0.16842511403395177, 1050.0], [0.14336873258660976, 700.0], [0.1084351690834193, 700.0], [0.5994605976071938, 700.0], [0.11220682713849475, 700.0], [0.26657941883170166, 700.0], [0.26657941883170166, 700.0], [0.11997791563012378, 645.83923], [0.22800418112764712, 598.70686], [0.43274524654744173, 420.0], [0.21936761934539503, 420.0], [0.13496206920175638, 322.71554], [0.19759940798335363, 193.91304], [0.022847984865290192, 151.44523], [0.11933414538834138, 140.0], [0.03026968769733104, 140.0], [0.17484351216134214, 140.0], [0.026188504919983164, 35.0]], \"data02\": [[0.5821460573476704, 0.3997424576894777, 0.3652501839587933, 0.33075791022810896, 0.29626563649742466, 0.26177336276674035, 0.227281089036056], [0.6179883512544805, 0.3997424576894777, 0.3652501839587933, 0.33075791022810896, 0.29626563649742466, 0.26177336276674035, 0.227281089036056], [0.6179883512544805, 0.4158388520971304, 0.381346578366446, 0.34685430463576167, 0.31236203090507736, 0.27786975717439305, 0.2433774834437087], [0.5821460573476704, 0.4158388520971304, 0.381346578366446, 0.34685430463576167, 0.31236203090507736, 0.27786975717439305, 0.2433774834437087]], \"data03\": [[0.5034050179211471, 0.21348417954378227], [0.7874551971326167, 0.21348417954378227], [0.7910394265232977, 0.21348417954378227], [0.7910394265232977, 0.21808314937454018], [0.7910394265232977, 0.48390360559234746], [0.7910394265232977, 0.4885025754231054], [0.7874551971326167, 0.4885025754231054], [0.5034050179211471, 0.4885025754231054], [0.4998207885304662, 0.4885025754231054], [0.4998207885304662, 0.48390360559234746], [0.4998207885304662, 0.21808314937454018], [0.4998207885304662, 0.21348417954378227], [0.5034050179211471, 0.21348417954378227]]}, \"id\": \"el11690139663151877032\", \"plugins\": [{\"type\": \"reset\"}, {\"type\": \"zoom\", \"button\": true, \"enabled\": false}, {\"type\": \"boxzoom\", \"button\": true, \"enabled\": false}, {\"type\": \"tooltip\", \"id\": \"el11690139663160244264\", \"labels\": [\"whole milk pasteurised, average\", \"melon\", \"apples\", \"curly kale\", \"mackerel, flesh only, smoked\", \"spinach, mature\", \"pinto beans, canned\", \"blackeye beans, canned\", \"rocket\", \"butter beans, canned\", \"cereal, bran type cereal, fortified\", \"muesli, swiss style, unfortified\", \"tomatoes, fried in corn oil\", \"herring, flesh only, grilled\", \"chard\", \"sunflower seeds\", \"pumpkin seeds\", \"sesame seeds\", \"bread, wholemeal, average\"], \"hoffset\": 0, \"voffset\": 10, \"location\": \"mouse\"}]});\n",
       "            })\n",
       "         });\n",
       "}\n",
       "</script>"
      ],
      "text/plain": [
       "<Figure size 720x576 with 1 Axes>"
      ]
     },
     "metadata": {
      "needs_background": "light"
     },
     "output_type": "display_data"
    }
   ],
   "source": [
    "# HIDDEN\n",
    "runcode5 = widgets.Button(description='Click Here to Build your Low Impact and Healthful Diet*',\\\n",
    "                         layout=Layout(width='50%', height='50px'))\n",
    "runcode5.style=button_wid.style\n",
    "output5 = widgets.Output()\n",
    "display(runcode5,output5)\n",
    "runcode5.on_click(run_tool)"
   ]
  },
  {
   "cell_type": "markdown",
   "metadata": {},
   "source": [
    "<p> <span style=\"font-family: Arial; font-size:1em;color:black;\"> *Sometimes the optimization tool will fail, and not be able to build a personalized diet. Usually, this is caused by two things:\n",
    "1) The selection of certain food items might make it difficult to meet the definition of a healthful diet by exceeding maximum allowed sodium or fat limits. In this case the tool will increase the maximum limits by 10% and run again. If it is still unsucessful, please re-evaluate the mass of the preferred food items.\n",
    "2) Requiring a vegan or vegetarian diet without allowing for supplements makes achieving the minimum necessary nutrients difficult. This tool sets maximum limits of how much of a food item can be selected in a diet to mimic a realistic diet composition (i.e. bread can't be provide all nutrients and energy). If an optimized diet is not possible given these intial limits, the limits are increased and the tool is automatically run again. If it continues to fail, a general low-impact, healthful diet is suggested."
   ]
  }
 ],
 "metadata": {
  "kernelspec": {
   "display_name": "Python [conda env:new_environment]",
   "language": "python",
   "name": "conda-env-new_environment-py"
  },
  "language_info": {
   "codemirror_mode": {
    "name": "ipython",
    "version": 3
   },
   "file_extension": ".py",
   "mimetype": "text/x-python",
   "name": "python",
   "nbconvert_exporter": "python",
   "pygments_lexer": "ipython3",
   "version": "3.6.4"
  }
 },
 "nbformat": 4,
 "nbformat_minor": 2
}
