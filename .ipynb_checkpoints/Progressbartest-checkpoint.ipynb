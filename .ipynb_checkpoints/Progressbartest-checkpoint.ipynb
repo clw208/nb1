{
 "cells": [
  {
   "cell_type": "code",
   "execution_count": 12,
   "metadata": {},
   "outputs": [],
   "source": [
    "# HIDDEN\n",
    "from ipywidgets import widgets, interact, Dropdown,SelectMultiple, Checkbox,VBox,FloatSlider,Button\n",
    "from IPython.display import display\n",
    "#https://stackoverflow.com/questions/18398929/passing-multiple-variables-from-dropdowns-using-django-python\n",
    "#https://towardsdatascience.com/bring-your-jupyter-notebook-to-life-with-interactive-widgets-bc12e03f0916\n",
    "#https://medium.com/@jdchipox/how-to-interact-with-jupyter-33a98686f24e\n",
    "#https://stackoverflow.com/questions/26352555/how-does-one-get-widget-values-with-a-button-in-ipython\n",
    "#https://elc.github.io/posts/embed-interactive-notebooks/"
   ]
  },
  {
   "cell_type": "code",
   "execution_count": 13,
   "metadata": {},
   "outputs": [],
   "source": [
    "# HIDDEN \n",
    "import numpy as np\n",
    "import pandas as pd\n",
    "import re\n",
    "import os\n",
    "from IPython import get_ipython\n",
    "from IPython.display import HTML, display\n",
    "ipython = get_ipython()\n",
    "# input files from other python scripts"
   ]
  },
  {
   "cell_type": "code",
   "execution_count": 14,
   "metadata": {},
   "outputs": [],
   "source": [
    "# HIDDEN\n",
    "style = {'description_width': 'initial'}\n",
    "mnths = {'jan':1,'feb':2,'mar':3,'apr':4,'may':5,'jun':6,'jul':7,'aug':8,'sep':9,'oct':10,'nov':11,'dec':12}"
   ]
  },
  {
   "cell_type": "code",
   "execution_count": 15,
   "metadata": {},
   "outputs": [],
   "source": [
    "cntry = np.load('trandict.npy',allow_pickle='TRUE').item()\n",
    "cntry = {v:k for k,v in cntry.items()}"
   ]
  }
 ],
 "metadata": {
  "kernelspec": {
   "display_name": "Python [conda env:new_environment]",
   "language": "python",
   "name": "conda-env-new_environment-py"
  },
  "language_info": {
   "codemirror_mode": {
    "name": "ipython",
    "version": 3
   },
   "file_extension": ".py",
   "mimetype": "text/x-python",
   "name": "python",
   "nbconvert_exporter": "python",
   "pygments_lexer": "ipython3",
   "version": "3.6.4"
  }
 },
 "nbformat": 4,
 "nbformat_minor": 2
}
