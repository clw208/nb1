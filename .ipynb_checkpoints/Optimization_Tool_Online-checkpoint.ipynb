{
 "cells": [
  {
   "cell_type": "code",
   "execution_count": 1,
   "metadata": {},
   "outputs": [],
   "source": [
    "import numpy as np\n",
    "import pandas as pd\n",
    "import re\n",
    "import os\n",
    "import operator\n",
    "import math\n",
    "import pickle"
   ]
  },
  {
   "cell_type": "code",
   "execution_count": 2,
   "metadata": {},
   "outputs": [],
   "source": [
    "# to use functions in another notebook\n",
    "import ipynb\n",
    "import matplotlib.pylab as plt"
   ]
  },
  {
   "cell_type": "code",
   "execution_count": 3,
   "metadata": {},
   "outputs": [],
   "source": [
    "import pulp as pulp\n",
    "from pulp import *"
   ]
  },
  {
   "cell_type": "raw",
   "metadata": {},
   "source": [
    "%%time\n",
    "%run Build_Optimization_Database.ipynb # this runs the code to build the database used in the optimization\n",
    "#position 1: two letter country code for which the optimization is to be run ('CH' in example)\n",
    "# position 2: month for which the optimization is to be run ('feb' in example)\n",
    "df_for_opt = calculateimpacts('CH','feb')"
   ]
  },
  {
   "cell_type": "raw",
   "metadata": {},
   "source": [
    "%run Build_Optimization_Database.ipynb\n",
    "df_for_opt = calc_impacts('CH','aug')"
   ]
  },
  {
   "cell_type": "code",
   "execution_count": 4,
   "metadata": {},
   "outputs": [],
   "source": [
    "df1=pd.read_pickle('CH_aug.p')"
   ]
  },
  {
   "cell_type": "code",
   "execution_count": 5,
   "metadata": {},
   "outputs": [
    {
     "name": "stdout",
     "output_type": "stream",
     "text": [
      "i got here\n"
     ]
    }
   ],
   "source": [
    "print ('i got here')"
   ]
  },
  {
   "cell_type": "markdown",
   "metadata": {},
   "source": [
    "## Optimization"
   ]
  },
  {
   "cell_type": "code",
   "execution_count": 6,
   "metadata": {},
   "outputs": [],
   "source": [
    "impactperpill = 0.31 # kgCO2eq per pill"
   ]
  },
  {
   "cell_type": "code",
   "execution_count": 7,
   "metadata": {},
   "outputs": [
    {
     "ename": "NameError",
     "evalue": "name 'stop' is not defined",
     "output_type": "error",
     "traceback": [
      "\u001b[0;31m---------------------------------------------------------------------------\u001b[0m",
      "\u001b[0;31mNameError\u001b[0m                                 Traceback (most recent call last)",
      "\u001b[0;32m<ipython-input-7-4f76a9dad686>\u001b[0m in \u001b[0;36m<module>\u001b[0;34m()\u001b[0m\n\u001b[0;32m----> 1\u001b[0;31m \u001b[0mstop\u001b[0m\u001b[0;34m\u001b[0m\u001b[0m\n\u001b[0m",
      "\u001b[0;31mNameError\u001b[0m: name 'stop' is not defined"
     ]
    }
   ],
   "source": [
    "stop"
   ]
  },
  {
   "cell_type": "code",
   "execution_count": null,
   "metadata": {},
   "outputs": [],
   "source": [
    "def editdf(df,impact,preference,supplement):\n",
    "    \n",
    "    df.at[(df['Food Name'].str.contains('pumpkin'))&(df['Food Name'].str.contains('boiled')),'Food Name'] = 'squash, pumpkin, boiled'\n",
    "    df.at[(df['Food Name'].str.contains('pumpkin'))&(df['Food Name'].str.contains('raw')),'Food Name'] = 'squash, pumpkin, raw'\n",
    "    remove = ['AN','OE','AM','BP','AO','SEC','DAP','SN','WCGY','WCG','WCN','Q','SEA','SEC',\\\n",
    "              'SN','WCG','WCN','AA','AA_wg','PAC','SC' ]\n",
    "    df = df[~df['Group'].isin(remove)]\n",
    "    df = df[~df['Food Name'].str.contains('ice cream')]\n",
    "    df = df[~df['Food Name'].str.contains('cocoa')]\n",
    "    df = df[~df['Food Name'].str.contains('raisins')]\n",
    "    # remove lemons limes\n",
    "    sub = df[((df['Food Name'].str.contains('lemon|lime'))&(df['Group']=='FAT'))].index.tolist()\n",
    "    df.drop(sub,axis=0,inplace=True)\n",
    "    \n",
    "    sub1 = df.loc[(df['Food Name'].str.contains('peas|beans|lentils'))&(df['Food Name'].str.contains('raw')\\\n",
    "        &(df['Food Name'].str.contains('dried'))&(~df['Food Name'].str.contains(\\\n",
    "                                'frozen|sugar|runner|cluster|sprouts|canned')))].index.tolist()\n",
    "    df.drop(sub1,axis=0,inplace=True)\n",
    "    sub2 = df.loc[(df['Food Name'].str.contains('tomato puree'))].index.tolist()\n",
    "    df.drop(sub2,axis=0,inplace=True)\n",
    "    \n",
    "    df = df.fillna(0)\n",
    "    df['Food Name']= df[['Food Name','Group']].apply(lambda x: '_'.join(x),axis=1)\n",
    "    df = df[~((df['Group'].str.startswith('M'))&((df['Group'].str.endswith('R'))))]    \n",
    "    \n",
    "    # remove raw meat () and raw fish\n",
    "    # remove cooked vegetables (DGC)\n",
    "    #df = df[~(df['Group']=='DGC')]\n",
    "\n",
    "    df = df[~((df['Group'].str.startswith('J'))&(df['Group'].str.endswith('R')))]\n",
    "    \n",
    "    if preference == 'vegan':\n",
    "        #fish,meat,dairy\n",
    "        df = df[~(df['Group'].str.startswith('J')|df['Group'].str.startswith('M'))]\n",
    "        df = df[~(df['Group'].isin(['BLS','BLH','BLF','BN','BAH','BAK','BAE']))]\n",
    "        df = df[~(df['Group']=='CA')]#butter\n",
    "        df = df[~(df['Group']=='OA')]#eggs\n",
    "        df = df[~df['Food Name'].str.contains('egg,')]\n",
    "        df = df[~df['Food Code'].isin(['11-795','11-793','11-719'])] # get rid of oats with milk and egg noodles\n",
    "    elif preference == 'vegetarian':\n",
    "        df = df[~(df['Group'].str.startswith('J')|df['Group'].str.startswith('M'))]\n",
    "    elif preference == 'pescatarian':\n",
    "        df = df[~df['Group'].str.startswith('M')]\n",
    "    else:pass\n",
    "    \n",
    "    if supplement == 'yes_sup':\n",
    "        sup_dict = {'Calcium (mg)':1200,'Vitamin B12 (µg)':3,'Iron (mg)':18,\\\n",
    "        'Zinc (mg)':10,'Selenium (µg)':55,'Retinol Equivalent (µg)':900,'Vitamin D (µg)':20,\\\n",
    "        'Iodine (µg)':150, 'Vitamin K1 (µg)':120,'Food Name':'supplement','Group':'SUP',\\\n",
    "        'optimization_value_GHG_1_trade':impactperpill,'GHG_bioopt_value1':impactperpill,\n",
    "         'optimization_value_BIO_1_trade':5.5e-16,'bio_GHGopt_value1':5.5e-16,\n",
    "            'conversion factor':1,'Edible proportion':1,\\\n",
    "                    }     \n",
    "        df = df.append(sup_dict,ignore_index=True)\n",
    "        df = df.fillna(0)\n",
    "        #np.mean(df1['global_landbio_gram'])*10 for value for biodiversity loss from a supplement\n",
    "    \n",
    "    else:pass\n",
    "    \n",
    "    \n",
    "    # these need to be updated in next version to account for no trade and no home production\n",
    "    df = df[(df['trade_impacts_GHG'].str.len()!=0)|(df['trade_impacts_BIO'].str.len()!=0)]\n",
    "    df = df[df['optimization_value_GHG_1_trade']!=0]\n",
    "    df = df[df['optimization_value_BIO_1_trade']!=0]\n",
    "    df = df[(df['bio_GHGopt_value1']!=0)|(df['GHG_bioopt_value1']!=0)]\n",
    "\n",
    "    # additional impact due to not all parts being consumed:\n",
    "    # take non-edible proportion, multiply by impact per gram of total product, add this to edible proportion impact\n",
    "    # because even though this isn't consumed as part of the grams recommended, it is still produced. Need to \n",
    "    # say non-edible proportion is 1 (not 0) if whole thing is consumed to avoid getting zero impact\n",
    "    m1 = (df['Edible proportion']!=1)\n",
    "    df_valid = df[m1]\n",
    "    df.loc[m1,'Non_edible'] = 1 - df_valid['Edible proportion']\n",
    "    \n",
    "    for i in ['optimization_value_GHG_1_trade','bio_GHGopt_value1','optimization_value_BIO_1_trade',\\\n",
    "              'GHG_bioopt_value1']:\n",
    "        df[i] = df[i]*df['conversion factor']\n",
    "        df.loc[m1,i] = df.loc[m1,i]+(df.loc[m1,i]*df.loc[m1,'Non_edible'])\n",
    "    df.reset_index(inplace=True,drop=True)   \n",
    "    return df"
   ]
  },
  {
   "cell_type": "code",
   "execution_count": null,
   "metadata": {},
   "outputs": [],
   "source": [
    "def filter(foodgroup,variable):\n",
    "    filtered = {k:v for (k,v) in variable.items() if any('_'+q in k for q in foodgroup)}\n",
    "    return filtered"
   ]
  },
  {
   "cell_type": "code",
   "execution_count": null,
   "metadata": {},
   "outputs": [],
   "source": [
    "def fruitlimits(df,numdays):\n",
    "    fruit_total = 250*numdays # grams per day\n",
    "    fruit_groups =('FAT','FAT')\n",
    "    fruit_serv_min = 75\n",
    "    return fruit_total,fruit_groups,fruit_serv_min"
   ]
  },
  {
   "cell_type": "code",
   "execution_count": null,
   "metadata": {},
   "outputs": [],
   "source": [
    "def veglimits(df,numdays):\n",
    "    vegetable_total = 360*numdays # grams per day\n",
    "    vegetable_groups = ('DGR','DGC')\n",
    "    vegetable_serv_min = 50 ## largest serving size of vegetables\n",
    "    return vegetable_total,vegetable_groups,vegetable_serv_min"
   ]
  },
  {
   "cell_type": "code",
   "execution_count": null,
   "metadata": {},
   "outputs": [],
   "source": [
    "def legumelimits(df,numdays):\n",
    "    legume_total = 60*numdays # grams per day\n",
    "    legume_serv_min = 50 ## largest serving size of legumes\n",
    "    legume_groups = ('DBR','DBC','DFR','DFC')\n",
    "    return legume_total,legume_groups,legume_serv_min"
   ]
  },
  {
   "cell_type": "code",
   "execution_count": null,
   "metadata": {},
   "outputs": [],
   "source": [
    "def grainlimits(df,numdays):\n",
    "    grains_total = 125*numdays # grams per day\n",
    "    grains_groups = ('AA_wg','AC_wg','AD_wg','AI_wg','AF_wg')\n",
    "    grains_num = 3\n",
    "    pasta_rice_pot_serve_min = 50\n",
    "    pasta_rice_group = ['AC','AC_wg','DAR','DAC']\n",
    "    cereal_grain_bread_serve_min = 30\n",
    "    cereal_grain_bread_group = ['AI','AI_wg','AA','AA_wg','AF','AF_wg','AD','AD_wg','AC','AC_wg']\n",
    "    return (grains_total,grains_groups,pasta_rice_pot_serve_min,pasta_rice_group,cereal_grain_bread_serve_min,\n",
    "        cereal_grain_bread_group)"
   ]
  },
  {
   "cell_type": "code",
   "execution_count": null,
   "metadata": {},
   "outputs": [],
   "source": [
    "def nutslimits(df,numdays):\n",
    "    nuts_total = 21*numdays # grams per day\n",
    "    nuts_serv_min = 10 ## largest serving size of nuts\n",
    "    nuts_groups = ('GAT','GAT')  \n",
    "    return nuts_total,nuts_groups,nuts_serv_min"
   ]
  },
  {
   "cell_type": "code",
   "execution_count": null,
   "metadata": {},
   "outputs": [],
   "source": [
    "def milklimits(df,numdays):\n",
    "    milk_total = 435*numdays # grams per day\n",
    "    milk_serv_min = 50\n",
    "    milk_groups = ('BAE','BAH','BAK')\n",
    "    return milk_total,milk_groups,milk_serv_min\n",
    "    "
   ]
  },
  {
   "cell_type": "code",
   "execution_count": null,
   "metadata": {},
   "outputs": [],
   "source": [
    "def cheeselimits(df,numdays):\n",
    "    soft_cheese_serve_min = 50\n",
    "    soft_group =['BLS']\n",
    "    med_cheese_serve_min = 40\n",
    "    med_group =['BLM']\n",
    "    hard_cheese_serve_min = 20\n",
    "    hard_group =['BLH']\n",
    "    fresh_cheese_serve_min = 50\n",
    "    fresh_group =['BLF']\n",
    "    yogurt_serve_min = 50\n",
    "    yogurt_group =['BN']\n",
    "    return (soft_cheese_serve_min,soft_group,med_cheese_serve_min,med_group,hard_cheese_serve_min,hard_group,\n",
    "       fresh_cheese_serve_min,fresh_group, yogurt_serve_min,yogurt_group)"
   ]
  },
  {
   "cell_type": "code",
   "execution_count": null,
   "metadata": {},
   "outputs": [],
   "source": [
    "def milksublimits(df,numdays):\n",
    "    milksub_serve_min = 50\n",
    "    milksub_group =['BAV']\n",
    "    yogsub_serve_min = 50\n",
    "    yogsub_group = ['BNV']\n",
    "    return milksub_serve_min,milksub_group,yogsub_serve_min,yogsub_group"
   ]
  },
  {
   "cell_type": "code",
   "execution_count": null,
   "metadata": {},
   "outputs": [],
   "source": [
    "def veganlimits(df,numdays):\n",
    "    vegan_serve_min = 100\n",
    "    vegan_group =['VEG']\n",
    "\n",
    "    return vegan_serve_min,vegan_group"
   ]
  },
  {
   "cell_type": "code",
   "execution_count": null,
   "metadata": {},
   "outputs": [],
   "source": [
    "def meatlimits(df,numdays):\n",
    "    fish_serve_min = 50\n",
    "    fish_groups = df[df['Group'].str.startswith('J')]['Group'].tolist()\n",
    "    \n",
    "    red_meat_max = 22.5*numdays\n",
    "    red_meat_groups = ['MBGR','MBGC','MACR','MACC','MAER','MECC','MECR','MEER','MEEC','MAIC','MAIR','MAE',\\\n",
    "                       'MAIR','MAIC']\n",
    "    red_serve_min = 22.5\n",
    "\n",
    "    whitemeat_serve_min = 50\n",
    "    white_meat_groups = ['MCOR','MCOC','MCAR','MCAC','MAGR','MAGC','MAHR','MAHC']\n",
    "    \n",
    "    processed_min = 2\n",
    "    processed_total = 2*numdays # grams per day\n",
    "    processed_groups = ['MI','MAAC','MAAR']\n",
    "\n",
    "    oil_serve_min = 14\n",
    "    oil_num = 2\n",
    "    oil_min = oil_serve_min-oil_serve_min*0.1\n",
    "    oil_max = oil_serve_min+oil_serve_min*0.1\n",
    "    oil_groups = df[(df['Group'].str.startswith('O'))|(df['Group']=='BTM')|(df['Group']=='BJC')]['Group'].tolist()\n",
    "\n",
    "    egg_serve_min = 60 # this assumes one large egg at 60 grams each \n",
    "    egg_groups = df[df['Group']=='CA']['Group'].tolist()\n",
    "    return (fish_serve_min,fish_groups,red_meat_max,red_meat_groups,red_serve_min,whitemeat_serve_min,\n",
    "        white_meat_groups,processed_total,processed_min,processed_groups,oil_serve_min,oil_min,oil_max,oil_groups,\n",
    "            egg_serve_min,egg_groups)"
   ]
  },
  {
   "cell_type": "raw",
   "metadata": {},
   "source": [
    "def nutrient(gender,age,numdays):\n",
    "    df_nut = pd.read_excel('7f_to7_nutrients.xlsx')\n",
    "    \n",
    "    ## calculate the b inequality values for optimization based on user input   \n",
    "    if (gender==0 and age<=30):\n",
    "        nut_limits = [i for i in df_nut.loc[10]][2:]\n",
    "    elif (gender==0 and age>30 and age<51):   \n",
    "        nut_limits = [i for i in df_nut.loc[11]][2:]\n",
    "    elif (gender==0 and age>51 and age<70):   \n",
    "        nut_limits = [i for i in df_nut.loc[12]][2:]\n",
    "    elif (gender==0 and age>70):   \n",
    "        nut_limits = [i for i in df_nut.loc[13]][2:]\n",
    "    elif (gender==1 and age<=30):\n",
    "        nut_limits = [i for i in df_nut.loc[17]][2:]\n",
    "    elif (gender==1 and age>30 and age<51):   \n",
    "        nut_limits = [i for i in df_nut.loc[18]][2:]\n",
    "    elif (gender==1 and age>51 and age<70):   \n",
    "        nut_limits = [i for i in df_nut.loc[19]][2:]\n",
    "    elif (gender==1 and age>70): \n",
    "        nut_limits = [i for i in df_nut.loc[20]][2:]\n",
    "    else: ## default woman between 31 and 50\n",
    "        nut_limits = [i for i in df_nut.loc[18]][2:]\n",
    "    return [(i*numdays) for i in nut_limits]"
   ]
  },
  {
   "cell_type": "code",
   "execution_count": null,
   "metadata": {},
   "outputs": [],
   "source": [
    "def nutrient(gender,age,numdays):\n",
    "    df_nut = pd.read_excel('7f_to7_nutrients.xlsx')\n",
    "    names = df_nut.columns.tolist()[2:]\n",
    "    mass = [i.split(')',1)[0].split('(')[1] for i in df_nut.loc[0].tolist()[2:]]\n",
    "    ## calculate the b inequality values for optimization based on user input   \n",
    "    if (gender==0 and age<=30):\n",
    "        nut_limits = [i for i in df_nut.loc[10]][2:]\n",
    "    elif (gender==0 and age>30 and age<51):   \n",
    "        nut_limits = [i for i in df_nut.loc[11]][2:]\n",
    "    elif (gender==0 and age>51 and age<70):   \n",
    "        nut_limits = [i for i in df_nut.loc[12]][2:]\n",
    "    elif (gender==0 and age>70):   \n",
    "        nut_limits = [i for i in df_nut.loc[13]][2:]\n",
    "    elif (gender==1 and age<=30):\n",
    "        nut_limits = [i for i in df_nut.loc[17]][2:]\n",
    "    elif (gender==1 and age>30 and age<51):   \n",
    "        nut_limits = [i for i in df_nut.loc[18]][2:]\n",
    "    elif (gender==1 and age>51 and age<70):   \n",
    "        nut_limits = [i for i in df_nut.loc[19]][2:]\n",
    "    elif (gender==1 and age>70): \n",
    "        nut_limits = [i for i in df_nut.loc[20]][2:]\n",
    "    else: ## default woman between 31 and 50\n",
    "        nut_limits = [i for i in df_nut.loc[18]][2:]\n",
    "    \n",
    "    return [(j,round(i*numdays,2),m) for i,j,m in zip(nut_limits,names,mass)]"
   ]
  },
  {
   "cell_type": "code",
   "execution_count": null,
   "metadata": {},
   "outputs": [],
   "source": [
    "def personal(gender,weight,height,age,actlevel,numdays):\n",
    "    age = age\n",
    "    weight = weight ## in kg\n",
    "    height = height ## in cm   \n",
    "    \n",
    "    activity = PAL(actlevel)\n",
    "   \n",
    "    if gender == 0:\n",
    "        kcal = (10*weight + 6.25*height - 5*age - 161)*activity*numdays\n",
    "    else:\n",
    "        kcal = (10*weight + 6.25*height - 5*age + 5)*activity*numdays\n",
    "    \n",
    "    nut_limits = nutrient(gender,age,numdays)\n",
    "    \n",
    "    return kcal,nut_limits\n",
    "    "
   ]
  },
  {
   "cell_type": "code",
   "execution_count": null,
   "metadata": {},
   "outputs": [],
   "source": [
    "# The PAL of a subject can be classified in three categories as defined by the last FAO/WHO/UNU \n",
    "# expert consultation on human energy requirements (2004). The physical activity for sedentary and \n",
    "# light activity lifestyles ranges between 1.40 and 1.69, for moderately active or active lifestyles \n",
    "# between 1.70 and 1.99, and for vigorously active lifestyles between 2.00 and 2.40.\n",
    "# https://www.ncbi.nlm.nih.gov/pmc/articles/PMC3636460/"
   ]
  },
  {
   "cell_type": "code",
   "execution_count": null,
   "metadata": {},
   "outputs": [],
   "source": [
    "def PAL(lifestyle):\n",
    "    if lifestyle == 'sedentary':\n",
    "        activity = 1.4\n",
    "    elif lifestyle == 'moderate':\n",
    "        activity = 1.7\n",
    "    elif lifestyle == 'vigorous':\n",
    "        activity = 2.0\n",
    "    else: ## default\n",
    "        activity = 1.4\n",
    "    return activity"
   ]
  },
  {
   "cell_type": "code",
   "execution_count": null,
   "metadata": {},
   "outputs": [],
   "source": [
    "df=df1\n",
    "impact = 'GHG'\n",
    "gender = 0\n",
    "weight = 60\n",
    "height = 165\n",
    "age = 40\n",
    "actlevel ='moderate'\n",
    "location ='CH'\n",
    "month = 'aug'\n",
    "numdays = 7\n",
    "preference = 'none'\n",
    "relax =2\n",
    "supplement ='yes_sup'"
   ]
  },
  {
   "cell_type": "code",
   "execution_count": null,
   "metadata": {},
   "outputs": [],
   "source": [
    "df = editdf(df,impact,preference,supplement) # get the right dataframe and edit it for optimization"
   ]
  },
  {
   "cell_type": "code",
   "execution_count": null,
   "metadata": {},
   "outputs": [],
   "source": [
    "kcal,nut_limits = personal(gender,weight,height,age,actlevel,numdays) # get the right kcal and nutrients"
   ]
  },
  {
   "cell_type": "code",
   "execution_count": null,
   "metadata": {},
   "outputs": [],
   "source": [
    "fruit_total, fruit_groups, fruit_serv_min = fruitlimits(df,numdays)\n",
    "vegetable_total,vegetable_groups,vegetable_serv_min = veglimits(df,numdays)\n",
    "legume_total,legume_groups,legume_serv_min = legumelimits(df,numdays)\n",
    "grains_total,grains_groups,pasta_rice_pot_serve_min,pasta_rice_group,cereal_grain_bread_serve_min,\\\n",
    "        cereal_grain_bread_group = grainlimits(df,numdays)\n",
    "nuts_total,nuts_groups,nuts_serv_min = nutslimits(df,numdays)\n",
    "milk_total,milk_groups,milk_serv_min = milklimits(df,numdays)\n",
    "soft_cheese_serve_min,soft_group,med_cheese_serve_min,med_group,hard_cheese_serve_min,hard_group,\\\n",
    "       fresh_cheese_serve_min,fresh_group, yogurt_serve_min,yogurt_group = cheeselimits(df,numdays)\n",
    "fish_serve_min,fish_groups,red_meat_max,red_meat_groups,red_serve_min,whitemeat_serve_min,\\\n",
    "        white_meat_groups,processed_total,processed_min,processed_groups,oil_serve_min,oil_min,oil_max,oil_groups,\\\n",
    "            egg_serve_min,egg_groups = meatlimits(df,numdays)  \n",
    "vegan_serve_min,vegan_group = veganlimits(df,numdays)\n",
    "milksub_serve_min,milksub_group,yogsub_serve_min,yogsub_group = milksublimits(df,numdays)"
   ]
  },
  {
   "cell_type": "code",
   "execution_count": null,
   "metadata": {},
   "outputs": [],
   "source": [
    "PUFA = 0.11 # more than 11% of energy should come from polyunsaturated fatty acids\n",
    "transFA = 0.005 #less than 0.5% of kcal per day should come from trans fats\n",
    "omega3 = 250*numdays # mg per day "
   ]
  },
  {
   "cell_type": "code",
   "execution_count": null,
   "metadata": {},
   "outputs": [],
   "source": [
    "nutrient_source = ['Calcium (mg)','Copper (mg)', 'Iodine (µg)', 'Iron (mg)', 'Magnesium (mg)','Manganese (mg)',\n",
    "        'Phosphorus (mg)', 'Selenium (µg)','Zinc (mg)','Potassium (mg)', 'Sodium (mg)','Chloride (mg)', \n",
    "        'Retinol Equivalent (µg)','Vitamin C (mg)', 'Vitamin D (µg)', 'Vitamin E (mg)', 'Vitamin K1 (µg)', 'Thiamin (mg)',\n",
    "        'Riboflavin (mg)', 'Niacin equivalent (mg)', 'Vitamin B6 (mg)', 'Folate (µg)', 'Vitamin B12 (µg)',\n",
    "        'Pantothenate (mg)','Biotin (µg)', 'Carbohydrate (g)','AOAC fibre (g)', 'Fat (g)','Protein (g)']\n",
    "\n",
    "#nutrient_lim = ['Calcium', 'Copper', 'Iodine', 'Iron', 'Magnesium', 'Manganese', 'Phosphorus',\\\n",
    "#    'Selenium', 'Zinc','Potassium', 'Sodium', 'Chloride', 'Vitamin A', 'Vitamin C', 'Vitamin D',\\\n",
    "#    'Vitamin E', 'Vitamin K', 'Thiamin','Riboflavin', 'Niacin', 'Vitamin B6', 'Folate', 'Vitamin B12',\\\n",
    "#    'Pantothenic Acid', 'Biotin', 'Carbohydrate', 'Total Fiber', 'Fat', 'Proteinb'] "
   ]
  },
  {
   "cell_type": "code",
   "execution_count": null,
   "metadata": {},
   "outputs": [],
   "source": [
    "prob = LpProblem('Optimization',LpMinimize)\n",
    "    # Create a list of the foods \n",
    "foodgroups=list(df['Food Name'])\n",
    "food_status = LpVariable.dicts(\"food_status\",(foodgroup for foodgroup in foodgroups),cat='Binary')        \n",
    "x = {foodamount:LpVariable(foodamount, lowBound=0) for foodamount in foodgroups}  "
   ]
  },
  {
   "cell_type": "code",
   "execution_count": null,
   "metadata": {},
   "outputs": [],
   "source": [
    "nut_lim_noVD =[i[1] for i in nut_limits if 'Vitamin D' not in i[0]]\n",
    "nut_source_noVD = [i for i in nutrient_source if 'Vitamin D' not in i]\n",
    "for nutlimit,nutrient in zip(nut_lim_noVD,nut_source_noVD):\n",
    "    prob += (lpSum([df[df['Food Name']==i][nutrient]*x[i]for i in foodgroups])>=nutlimit,\n",
    "             'Nutrient Constraint: %s%s'%(nutlimit,nutrient))"
   ]
  },
  {
   "cell_type": "code",
   "execution_count": null,
   "metadata": {},
   "outputs": [],
   "source": [
    "# include Vit D\n",
    "prob += (lpSum([df[df['Food Name']==i]['Vitamin D (µg)']*x[i]for i in foodgroups])>=[i[1] for i in nut_limits if i[0]=='Vitamin D'][0],\n",
    "                       'Nutrient Constraint: %s%s'%(nutlimit,'Vitamin D (µg)'))"
   ]
  },
  {
   "cell_type": "code",
   "execution_count": null,
   "metadata": {},
   "outputs": [],
   "source": [
    "if impact == 'GHG':\n",
    "    impactsnew = dict(zip(foodgroups,df['optimization_value_GHG_1_trade'])) # objective 1\n",
    "    impactlim = dict(zip(foodgroups,df['bio_GHGopt_value1']))\n",
    "    prob += lpSum([impactsnew[i]*x[i]for i in foodgroups]), \"Total Impacts per person\"\n",
    "elif impact == 'BIO':\n",
    "    impactsnew = dict(zip(foodgroups,df['optimization_value_BIO_1_trade'])) # objective 2\n",
    "    impactlim = dict(zip(foodgroups,df['GHG_bioopt_value1']))\n",
    "    prob += lpSum([impactsnew[i]*x[i]for i in foodgroups]), \"Total Impacts per person\"\n",
    "else:   # this needs to be changed         \n",
    "    impactsnew = dict(zip(foodgroups,df['optimization_value_GHG_1_trade'])) # objective 1\n",
    "    impactlim = dict(zip(foodgroups,df['bio_GHGopt_value1']))\n",
    "    prob += lpSum([impactsnew[i]*x[i]for i in foodgroups]), \"Total Impacts per person\""
   ]
  },
  {
   "cell_type": "raw",
   "metadata": {},
   "source": [
    "        # CONSTRAINTS\n",
    "        # constraints for maximum impact allowed in opposite impact category\n",
    "if impact == 'GHG': # average BIO loss based on 2nd paper\n",
    "    prob += lpSum([impactlim[i]*x[i]for i in foodgroups])<=(11326/7)*numdays, \"Max BIO impacts\"\n",
    "elif impact == 'BIO': # average GHG based on 2nd paper\n",
    "    prob += lpSum([impactlim[i]*x[i]for i in foodgroups])<=(41068/7)*numdays, \"Max GHG impacts\""
   ]
  },
  {
   "cell_type": "code",
   "execution_count": null,
   "metadata": {},
   "outputs": [],
   "source": [
    "        # kcal\n",
    "prob += (lpSum([df[df['Food Name']==i]['Energy (kcal) (kcal)']*x[i]for i in foodgroups])>=kcal,'kcal')\n",
    "        \n",
    "        #sodium\n",
    "prob += (lpSum([df[df['Food Name']==i]['Sodium (mg)']*x[i]for i in foodgroups])<=2300*numdays,'sodium')"
   ]
  },
  {
   "cell_type": "code",
   "execution_count": null,
   "metadata": {},
   "outputs": [],
   "source": [
    "for i,j in zip(foodgroups,food_status):\n",
    "    prob += food_status[j]*1<=x[i],'Binary Constraint_1: %s'%i # if xi == 0, food status i is allowed\n",
    "            # to be 0. when xi > 0, food_status i is forced to flip to 1 in order to raise the upper bound to M.\n",
    "    prob += x[i]<=food_status[j]*100000, 'Binary Constraint_2: %s'%i"
   ]
  },
  {
   "cell_type": "code",
   "execution_count": null,
   "metadata": {},
   "outputs": [],
   "source": [
    "for limit,group in zip([fruit_total,vegetable_total,legume_total,grains_total,nuts_total],\n",
    "               [fruit_groups,vegetable_groups,legume_groups,grains_groups,nuts_groups]):\n",
    "    prob += (lpSum([filter(group,x)[i] for i in filter(group,x)])>=limit,\\\n",
    "                     'GBD Constraint: %s%s'%(limit,group))\n",
    "    \n",
    "prob += (lpSum([filter(processed_groups,x)[i] for i in filter(processed_groups,x)])<=processed_total,\\\n",
    "                     'GBD Constraint: %s%s'%(processed_total,processed_groups))\n",
    "     \n",
    "        \n",
    "if preference == 'none': \n",
    "    for limit,group in zip([milk_total],[milk_groups]):\n",
    "        prob += (lpSum([filter(group,x)[i] for i in filter(group,x)])>=limit,\\\n",
    "                         'GBD Constraint: %s%s'%(limit,group))\n",
    "            \n",
    "elif preference == 'vegetarian':\n",
    "    for limit,group in zip([milk_total],[milk_groups]):\n",
    "        prob += (lpSum([filter(group,x)[i] for i in filter(group,x)])>=limit,\\\n",
    "                         'GBD Constraint: %s%s'%(limit,group))\n",
    "\n",
    "elif preference == 'vegan':\n",
    "    pass      \n",
    "elif preference == 'nomilk':\n",
    "    pass\n",
    "else:\n",
    "    pass"
   ]
  },
  {
   "cell_type": "code",
   "execution_count": null,
   "metadata": {},
   "outputs": [],
   "source": [
    "        # nutrient constraints from GBD\n",
    "prob += (lpSum([df[df['Food Name']==i]['Omega3_all']*x[i] for i in foodgroups])>= omega3,\\\n",
    "                 'Omega3 constraints')\n",
    "prob += (lpSum([df[df['Food Name']==i]['Trans FA_kcal']*x[i] for i in foodgroups])<= transFA*kcal,\\\n",
    "                 'TFA constraints')\n",
    "prob += (lpSum([df[df['Food Name']==i]['PUFA_kcal_POLY_DB']*x[i] for i in foodgroups])>= PUFA*kcal,\\\n",
    "                 'PUFA constraints') "
   ]
  },
  {
   "cell_type": "code",
   "execution_count": null,
   "metadata": {},
   "outputs": [],
   "source": [
    "listofcheckboxes = {'fruits':['FAT'],'vegetables':['DGR','DGC'],\n",
    "     'legumes':['DBR','DBC','DFR','DFC'],'grains':['AC','AC_wg','DAR','DAC',\n",
    "     'AI','AI_wg','AA','AA_wg','AF','AF_wg','AD','AD_wg','AC','AC_wg'],'nuts_seeds':\n",
    "     ['GAT'],'milk':['BAE','BAH','BAK','BLS','BLM','BLH','BLF','BN'],\n",
    "     'vegetarianproducts':['BAV','BNV','VEG'],\n",
    "     'fish':['JAC', 'JAR', 'JCC', 'JCR', 'JKC', 'JKR', 'JMC', 'JMR', 'JRC'],\n",
    "    'meat':['MBGR','MBGC','MACR','MACC','MAER','MECC','MECR','MEER','MEEC','MAIC','MAIR','MAE',\\\n",
    "    'MAIR','MAIC','MCOR','MCOC','MCAR','MCAC','MAGR','MAGC','MAHR','MAHC',\n",
    "    'MI','MAAC','MAAR'],'eggs_oil':['CA','OA', 'OC', 'OE','BTM','BJC']}"
   ]
  },
  {
   "cell_type": "code",
   "execution_count": null,
   "metadata": {},
   "outputs": [],
   "source": [
    "df[df['Food Name'].str.contains('blackeye')]"
   ]
  },
  {
   "cell_type": "code",
   "execution_count": null,
   "metadata": {},
   "outputs": [],
   "source": [
    "# keys are user inputs from Userinput page\n",
    "mustincludedict = \\\n",
    "{'beans': {'mass': 100, 'names': 'beans, blackeye, whole, dried, raw, canned_DBR'},\n",
    " 'blueberries': {'mass': 400, 'names': 'blueberries, frozen_FAT'},\n",
    " 'broccoli': {'mass': 1100,\n",
    "  'names': 'broccoli, green, boiled in salted water_DGC'},\n",
    " 'butter': {'mass': 50, 'names': 'butter, salted_OA'}}\n",
    "# 'cheese': {'mass': 400, 'names': 'cheese, caerphilly_BLH'},\n",
    "# 'oil': {'mass': 50, 'names': 'oil, coconut_OC'},\n",
    "# 'rabbit': {'mass': 650, 'names': 'rabbit, raw, meat only'},\n",
    "# 'tortilla': {'mass': 550, 'names': 'tortilla, wheat, soft_AF'}}\n",
    "# 'venison': {'mass': 550, 'names': 'venison, roast'}}"
   ]
  },
  {
   "cell_type": "raw",
   "metadata": {},
   "source": [
    "for k,v in mustincludedict.items():\n",
    "    v['names'] = v['names'].replace(' ','_')\n",
    "    print (v['names'])"
   ]
  },
  {
   "cell_type": "raw",
   "metadata": {},
   "source": [
    "#if more than 1 name is included\n",
    "for key,value in mustincludedict.items():\n",
    "    prob += (lpSum({k:v for (k,v) in x.items() if any(q in k for q in\\\n",
    "                     value['names'])})>=value['mass'])#,'personal preferences_%s%s'%(key,value['names']) "
   ]
  },
  {
   "cell_type": "code",
   "execution_count": null,
   "metadata": {},
   "outputs": [],
   "source": [
    "for key,value in mustincludedict.items():\n",
    "    prob += (lpSum({k:v for (k,v) in x.items() if value['names'] in k})>=value['mass'])#,'personal preferences_%s%s'%(key,value['names']) "
   ]
  },
  {
   "cell_type": "code",
   "execution_count": null,
   "metadata": {},
   "outputs": [],
   "source": [
    "for serve,i in zip([fruit_serv_min,vegetable_serv_min,legume_serv_min,nuts_serv_min,milk_serv_min],\n",
    "                [fruit_groups,vegetable_groups,legume_groups,nuts_groups,milk_groups]):\n",
    "    for k,l in zip(filter(i,x),filter(i,food_status)):\n",
    "        prob += filter(i,x)[k] >= serve * filter(i,food_status)[l],\\\n",
    "                    'Min Serving Size Limits: %s%s%s'%(serve,i,k)\n",
    "            # dairy product min limits\n",
    "for serve,i in zip([soft_cheese_serve_min,med_cheese_serve_min,hard_cheese_serve_min,\n",
    "                                fresh_cheese_serve_min,yogurt_serve_min],\n",
    "                               [soft_group,med_group,hard_group,fresh_group,yogurt_group]):\n",
    "    for k,l in zip(filter(i,x),filter(i,food_status)):\n",
    "        prob += filter(i,x)[k] >= serve * filter(i,food_status)[l],\\\n",
    "                    'Min Serving Size Limits: %s%s%s'%(serve,i,k)\n",
    "\n",
    "for serve,i in zip([milksub_serve_min,yogsub_serve_min,vegan_serve_min],\n",
    "                               [milksub_group,yogsub_group,vegan_group]):\n",
    "    for k,l in zip(filter(i,x),filter(i,food_status)):\n",
    "        prob += filter(i,x)[k] >= serve * filter(i,food_status)[l],\\\n",
    "                    'Min Serving Size Limits: %s%s%s'%(serve,i,k)        \n",
    "           # grain product min limits\n",
    "for serve,i in zip([pasta_rice_pot_serve_min,cereal_grain_bread_serve_min],\n",
    "                               [pasta_rice_group,cereal_grain_bread_group]):\n",
    "    for k,l in zip(filter(i,x),filter(i,food_status)):\n",
    "        prob += filter(i,x)[k] >= serve * filter(i,food_status)[l],\\\n",
    "                    'Min Serving Size Limits: %s%s%s'%(serve,i,k) \n",
    "# meat,egg, oil, fish product min limits      \n",
    "for serve,i in zip([fish_serve_min,red_serve_min,whitemeat_serve_min,oil_serve_min,egg_serve_min],\n",
    "                               [fish_groups,red_meat_groups,white_meat_groups,oil_groups,egg_groups]):\n",
    "    for k,l in zip(filter(i,x),filter(i,food_status)):\n",
    "        prob += filter(i,x)[k] >= serve * filter(i,food_status)[l],\\\n",
    "                    'Min Serving Size Limits: %s%s%s'%(serve,i,k)   "
   ]
  },
  {
   "cell_type": "raw",
   "metadata": {},
   "source": [
    "if len(mustincludedict)!=0:\n",
    "    print ('must separate')"
   ]
  },
  {
   "cell_type": "code",
   "execution_count": null,
   "metadata": {},
   "outputs": [],
   "source": []
  },
  {
   "cell_type": "raw",
   "metadata": {},
   "source": [
    "listofnamestoinclude = []\n",
    "for k,v in mustincludedict.items():\n",
    "    for k1,v1 in v.items():\n",
    "        if k1=='names':\n",
    "            listofnamestoinclude.append(v1)\n",
    "    "
   ]
  },
  {
   "cell_type": "code",
   "execution_count": null,
   "metadata": {},
   "outputs": [],
   "source": [
    "#flat_list = [item for sublist in listofnamestoinclude for item in sublist]"
   ]
  },
  {
   "cell_type": "raw",
   "metadata": {},
   "source": [
    "for k,l in zip(filter(fruit_groups,x),filter(fruit_groups,food_status)):\n",
    "    if k in mustincludedict['apricots']['names']:\n",
    "        print (k)\n",
    "    else:\n",
    "        print ('skip')"
   ]
  },
  {
   "cell_type": "raw",
   "metadata": {},
   "source": [
    "filter(fruit_groups,x)['apricots, raw, flesh and skin, weighed with stones_FAT']"
   ]
  },
  {
   "cell_type": "raw",
   "metadata": {},
   "source": [
    "t2 = 'apricots, raw, flesh and skin, weighed with stones_FAT'\n",
    "[v['mass'] for k,v in mustincludedict.items() if t2 in v['names']][0]"
   ]
  },
  {
   "cell_type": "code",
   "execution_count": null,
   "metadata": {},
   "outputs": [],
   "source": []
  },
  {
   "cell_type": "code",
   "execution_count": null,
   "metadata": {},
   "outputs": [],
   "source": [
    "filter(legume_groups,x)"
   ]
  },
  {
   "cell_type": "code",
   "execution_count": null,
   "metadata": {},
   "outputs": [],
   "source": [
    "def maxfoodlimits(foodgroup,minsize):\n",
    "    global prob\n",
    "    for k,l in zip(filter(foodgroup,x),filter(foodgroup,food_status)):\n",
    "        if k not in [v['names'] for k,v in mustincludedict.items()]:\n",
    "            prob += filter(foodgroup,x)[k] <= relax*minsize*numdays*\\\n",
    "                      filter(foodgroup,food_status)[l]\n",
    "        else:\n",
    "            #print (k)\n",
    "            prob += filter(foodgroup,x)[k] <= [v1['mass']*1.1 for k1,v1 in mustincludedict.items() if k in v1['names']][0]*\\\n",
    "                       filter(foodgroup,food_status)[l]      \n",
    "    #print (prob)\n",
    "    return prob"
   ]
  },
  {
   "cell_type": "code",
   "execution_count": null,
   "metadata": {},
   "outputs": [],
   "source": [
    "maxfoodlimits(fruit_groups,fruit_serv_min)\n",
    "maxfoodlimits(vegetable_groups,vegetable_serv_min)\n",
    "maxfoodlimits(pasta_rice_group,pasta_rice_pot_serve_min)\n",
    "maxfoodlimits(cereal_grain_bread_group,cereal_grain_bread_serve_min)\n",
    "maxfoodlimits(legume_groups,legume_serv_min)\n",
    "maxfoodlimits(nuts_groups,nuts_serv_min)\n",
    "maxfoodlimits(fish_groups,fish_serve_min)\n",
    "maxfoodlimits(white_meat_groups,whitemeat_serve_min)\n",
    "maxfoodlimits(oil_groups,oil_serve_min)\n",
    "maxfoodlimits(egg_groups,egg_serve_min)\n",
    "maxfoodlimits(red_meat_groups,red_serve_min)\n",
    "maxfoodlimits(processed_groups,processed_min)\n",
    "maxfoodlimits(vegan_group,vegan_serve_min)\n",
    "maxfoodlimits(milksub_group,milksub_serve_min)\n",
    "maxfoodlimits(yogsub_group,yogsub_serve_min)\n",
    "maxfoodlimits(yogurt_group,yogurt_serve_min)\n",
    "maxfoodlimits(fresh_group,fresh_cheese_serve_min)\n",
    "maxfoodlimits(soft_group,soft_cheese_serve_min)\n",
    "maxfoodlimits(med_group,med_cheese_serve_min)\n",
    "maxfoodlimits(hard_group,hard_cheese_serve_min)\n",
    "print()"
   ]
  },
  {
   "cell_type": "code",
   "execution_count": null,
   "metadata": {},
   "outputs": [],
   "source": [
    "for k,l in zip(filter(milk_groups,x),filter(milk_groups,food_status)):\n",
    "    prob += filter(milk_groups,x)[k] <= 1000*numdays*\\\n",
    "                        filter(milk_groups,food_status)[l],('Max Limits_BAX: %s%s'%(k,l))"
   ]
  },
  {
   "cell_type": "code",
   "execution_count": null,
   "metadata": {},
   "outputs": [],
   "source": [
    "for cheese_type,min_serve in zip([fresh_group,soft_group,med_group,hard_group,yogurt_group],\\\n",
    "                        [fresh_cheese_serve_min,soft_cheese_serve_min,med_cheese_serve_min,\\\n",
    "                         hard_cheese_serve_min,yogurt_serve_min]):      \n",
    "    for k,l in zip(filter(cheese_type,x),filter(cheese_type,food_status)):\n",
    "        prob += filter(cheese_type,x)[k] <= relax*min_serve*numdays*\\\n",
    "                        filter(cheese_type,food_status)[l],('Max Limits_BXX: %s%s%s%s'%(k,l,cheese_type,min_serve))"
   ]
  },
  {
   "cell_type": "raw",
   "metadata": {},
   "source": [
    "for k,l in zip(filter(fruit_groups,x),filter(fruit_groups,food_status)):\n",
    "    #print (k)\n",
    "    if k not in [v['names'] for k,v in mustincludedict.items()](or flat_list if multiple names):\n",
    "        prob += filter(fruit_groups,x)[k] <= relax*fruit_serv_min*numdays*\\\n",
    "                       filter(fruit_groups,food_status)[l]   \n",
    "    else:\n",
    "        print (k)\n",
    "        prob += filter(fruit_groups,x)[k] <= [v1['mass']*1.1 for k1,v1 in mustincludedict.items() if k in v1['names']][0]*\\\n",
    "                       filter(fruit_groups,food_status)[l]"
   ]
  },
  {
   "cell_type": "raw",
   "metadata": {},
   "source": [
    "# old one\n",
    "for k,l in zip(filter(fruit_groups,x),filter(fruit_groups,food_status)):\n",
    "    prob += filter(fruit_groups,x)[k] <= relax*fruit_serv_min*numdays*\\\n",
    "                        filter(fruit_groups,food_status)[l],'Max Limits_FAT: %s%s'%(k,l)\n",
    "for k,l in zip(filter(vegetable_groups,x),filter(vegetable_groups,food_status)):\n",
    "    prob += filter(vegetable_groups,x)[k] <= relax*vegetable_serv_min*numdays*\\\n",
    "                        filter(vegetable_groups,food_status)[l],('Max Limits_DGX: %s%s'%(k,l))\n"
   ]
  },
  {
   "cell_type": "raw",
   "metadata": {},
   "source": [
    "# maximum limits of what can be bought per food item\n",
    "\n",
    "for k,l in zip(filter(fruit_groups,x),filter(fruit_groups,food_status)):\n",
    "    prob += filter(fruit_groups,x)[k] <= relax*fruit_serv_min*numdays*\\\n",
    "                        filter(fruit_groups,food_status)[l],'Max Limits_FAT: %s%s'%(k,l)\n",
    "for k,l in zip(filter(vegetable_groups,x),filter(vegetable_groups,food_status)):\n",
    "    prob += filter(vegetable_groups,x)[k] <= relax*vegetable_serv_min*numdays*\\\n",
    "                        filter(vegetable_groups,food_status)[l],('Max Limits_DGX: %s%s'%(k,l))\n",
    "for k,l in zip(filter(pasta_rice_group,x),filter(pasta_rice_group,food_status)):\n",
    "    prob += filter(pasta_rice_group,x)[k] <= relax*pasta_rice_pot_serve_min*numdays*\\\n",
    "                        filter(pasta_rice_group,food_status)[l],('Max Limits_DA: %s%s'%(k,l))\n",
    "for k,l in zip(filter(cereal_grain_bread_group,x),filter(cereal_grain_bread_group,food_status)):\n",
    "    prob += filter(cereal_grain_bread_group,x)[k] <= relax*cereal_grain_bread_serve_min*numdays*\\\n",
    "                        filter(cereal_grain_bread_group,food_status)[l],('Max Limits_AX: %s%s'%(k,l))\n",
    "for k,l in zip(filter(legume_groups,x),filter(legume_groups,food_status)):\n",
    "    prob += filter(legume_groups,x)[k] <= relax*legume_serv_min*numdays*\\\n",
    "                        filter(legume_groups,food_status)[l],('Max Limits_DBX: %s%s'%(k,l))\n",
    "for k,l in zip(filter(nuts_groups,x),filter(nuts_groups,food_status)):\n",
    "    prob += filter(nuts_groups,x)[k] <= relax*nuts_serv_min*numdays*\\\n",
    "                        filter(nuts_groups,food_status)[l],('Max Limits_GAT: %s%s'%(k,l))\n",
    "for k,l in zip(filter(fish_groups,x),filter(fish_groups,food_status)):\n",
    "    prob += filter(fish_groups,x)[k] <= relax*fish_serve_min*numdays*\\\n",
    "                        filter(fish_groups,food_status)[l],('Max Limits_JAX: %s%s'%(k,l))\n",
    "for k,l in zip(filter(white_meat_groups,x),filter(white_meat_groups,food_status)):\n",
    "    prob += filter(white_meat_groups,x)[k] <= relax*whitemeat_serve_min*numdays*\\\n",
    "                        filter(white_meat_groups,food_status)[l],('Max Limits_MCXX: %s%s'%(k,l))            \n",
    "for k,l in zip(filter(oil_groups,x),filter(oil_groups,food_status)):\n",
    "    prob += filter(oil_groups,x)[k] <= relax*oil_serve_min*numdays*\\\n",
    "                        filter(oil_groups,food_status)[l],('Max Limits_OA: %s%s'%(k,l))\n",
    "for k,l in zip(filter(egg_groups,x),filter(egg_groups,food_status)):\n",
    "    prob += filter(egg_groups,x)[k] <= relax*egg_serve_min*numdays*\\\n",
    "                        filter(egg_groups,food_status)[l],('Max Limits_CA: %s%s'%(k,l))        \n",
    "for k,l in zip(filter(milk_groups,x),filter(milk_groups,food_status)):\n",
    "    prob += filter(milk_groups,x)[k] <= 1000*numdays*\\\n",
    "                        filter(milk_groups,food_status)[l],('Max Limits_BAX: %s%s'%(k,l))\n",
    "for k,l in zip(filter(red_meat_groups,x),filter(red_meat_groups,food_status)):\n",
    "    prob += filter(red_meat_groups,x)[k] <= relax*red_serve_min*numdays*\\\n",
    "                        filter(red_meat_groups,food_status)[l],('Max Limits_MAXX: %s%s'%(k,l))\n",
    "for k,l in zip(filter(processed_groups,x),filter(processed_groups,food_status)):\n",
    "    prob += filter(processed_groups,x)[k] <= relax*processed_min*numdays*\\\n",
    "                        filter(processed_groups,food_status)[l],('Max Limits_MI: %s%s'%(k,l))\n",
    "for k,l in zip(filter(vegan_group,x),filter(vegan_group,food_status)):\n",
    "    prob += filter(vegan_group,x)[k] <= relax*vegan_serve_min*numdays*\\\n",
    "                        filter(vegan_group,food_status)[l],('Max Limits_VEG: %s%s'%(k,l)) \n",
    "for k,l in zip(filter(milksub_group,x),filter(milksub_group,food_status)):\n",
    "    prob += filter(milksub_group,x)[k] <= relax*milksub_serve_min*numdays*\\\n",
    "                        filter(milksub_group,food_status)[l],('Max Limits_BAV: %s%s'%(k,l))\n",
    "for k,l in zip(filter(yogsub_group,x),filter(yogsub_group,food_status)):\n",
    "    prob += filter(yogsub_group,x)[k] <= relax*yogsub_serve_min*numdays*\\\n",
    "                        filter(yogsub_group,food_status)[l],('Max Limits_BNV: %s%s'%(k,l))                        \n",
    "for cheese_type,min_serve in zip([fresh_group,soft_group,med_group,hard_group,yogurt_group],\\\n",
    "                        [fresh_cheese_serve_min,soft_cheese_serve_min,med_cheese_serve_min,\\\n",
    "                         hard_cheese_serve_min,yogurt_serve_min]):      \n",
    "    for k,l in zip(filter(cheese_type,x),filter(cheese_type,food_status)):\n",
    "        prob += filter(cheese_type,x)[k] <= relax*min_serve*numdays*\\\n",
    "                        filter(cheese_type,food_status)[l],('Max Limits_BXX: %s%s%s%s'%(k,l,cheese_type,min_serve))"
   ]
  },
  {
   "cell_type": "code",
   "execution_count": 8,
   "metadata": {},
   "outputs": [
    {
     "ename": "NameError",
     "evalue": "name 'prob' is not defined",
     "output_type": "error",
     "traceback": [
      "\u001b[0;31m---------------------------------------------------------------------------\u001b[0m",
      "\u001b[0;31mNameError\u001b[0m                                 Traceback (most recent call last)",
      "\u001b[0;32m<ipython-input-8-acbd007e3142>\u001b[0m in \u001b[0;36m<module>\u001b[0;34m()\u001b[0m\n\u001b[1;32m      1\u001b[0m \u001b[0;31m#(4 grams per clove, 5 cloves per day)\u001b[0m\u001b[0;34m\u001b[0m\u001b[0;34m\u001b[0m\u001b[0m\n\u001b[0;32m----> 2\u001b[0;31m \u001b[0mprob\u001b[0m \u001b[0;34m+=\u001b[0m \u001b[0;34m(\u001b[0m\u001b[0mlpSum\u001b[0m\u001b[0;34m(\u001b[0m\u001b[0;34m{\u001b[0m\u001b[0mk\u001b[0m\u001b[0;34m:\u001b[0m\u001b[0mv\u001b[0m \u001b[0;32mfor\u001b[0m \u001b[0;34m(\u001b[0m\u001b[0mk\u001b[0m\u001b[0;34m,\u001b[0m\u001b[0mv\u001b[0m\u001b[0;34m)\u001b[0m \u001b[0;32min\u001b[0m \u001b[0mx\u001b[0m\u001b[0;34m.\u001b[0m\u001b[0mitems\u001b[0m\u001b[0;34m(\u001b[0m\u001b[0;34m)\u001b[0m \u001b[0;32mif\u001b[0m \u001b[0;34m'garlic'\u001b[0m \u001b[0;32min\u001b[0m \u001b[0mk\u001b[0m\u001b[0;34m}\u001b[0m\u001b[0;34m)\u001b[0m\u001b[0;34m<=\u001b[0m\u001b[0;36m4\u001b[0m\u001b[0;34m*\u001b[0m\u001b[0;36m5\u001b[0m\u001b[0;34m*\u001b[0m\u001b[0mnumdays\u001b[0m\u001b[0;34m)\u001b[0m\u001b[0;34m,\u001b[0m\u001b[0;34m(\u001b[0m\u001b[0;34m'Max Limits garlic'\u001b[0m\u001b[0;34m)\u001b[0m\u001b[0;34m\u001b[0m\u001b[0m\n\u001b[0m",
      "\u001b[0;31mNameError\u001b[0m: name 'prob' is not defined"
     ]
    }
   ],
   "source": [
    "#(4 grams per clove, 5 cloves per day)  \n",
    "prob += (lpSum({k:v for (k,v) in x.items() if 'garlic' in k})<=4*5*numdays),('Max Limits garlic')"
   ]
  },
  {
   "cell_type": "code",
   "execution_count": null,
   "metadata": {},
   "outputs": [],
   "source": [
    "\n",
    "## can't choose same food item more than 1 time (i.e. fresh and canned peaches)    \n",
    "for i in list(set({k.split(',')[0] for (k,v) in food_status.items() if 'FAT' in k})):\n",
    "    subset0 = {k:v for (k,v) in food_status.items() if k.startswith(i) and 'FAT' in k}\n",
    "    prob += lpSum(subset0)<=1,'Food Overlap Constraint_FAT%s'%i \n",
    "for i in list(set({k.split(',')[0] for (k,v) in food_status.items() if 'GAT' in k})):\n",
    "    subset5 = {k:v for (k,v) in food_status.items() if k.startswith(i) and 'GAT' in k}\n",
    "    prob += lpSum(subset5)<=1,'Food Overlap Constraint_GAT%s'%i\n",
    "for i in list(set({k.split(',')[0] for (k,v) in food_status.items() if '_AI' in k})):\n",
    "    subset6 = {k:v for (k,v) in food_status.items() if i in k}\n",
    "    prob += lpSum(subset6)<=1,'Food Overlap Constraint_AI%s'%i \n",
    "for i in list(set({k.split(',')[0] for (k,v) in food_status.items() if '_DF' in k})):\n",
    "    subset7 = {k:v for (k,v) in food_status.items() if all(x in k for x in ['_DF',i])}\n",
    "    prob += lpSum(subset7)<=1,'Food Overlap Constraint_DF%s'%i         \n",
    "for i in list(set({k.split(',')[1] for (k,v) in food_status.items() if '_DB' in k})):\n",
    "    subset8 = {k:v for (k,v) in food_status.items() if all(x in k for x in ['_DB',i])}\n",
    "    prob += lpSum(subset8)<=1,'Food Overlap Constraint_DB%s'%i       \n",
    "for i in list(set({k.split(',')[0] for (k,v) in food_status.items() if '_DG' in k})):\n",
    "    subset9 = {k:v for (k,v) in food_status.items() if all(x in k for x in ['_DG',i])}\n",
    "    prob += lpSum(subset9)<=1,'Food Overlap Constraint_DG%s'%i\n",
    "for i in list(set({k.split(',')[0] for (k,v) in food_status.items() if '_DA' in k})):\n",
    "    subset15 = {k:v for (k,v) in food_status.items() if all(x in k for x in ['_DA',i])}\n",
    "    prob += lpSum(subset15)<=1,'Food Overlap Constraint_DA%s'%i        \n",
    "for i in list(set({k.split(',')[0] for (k,v) in food_status.items() if '_J' in k})):\n",
    "    subset10 = {k:v for (k,v) in food_status.items() if all(x in k for x in ['_J',i])}\n",
    "    prob += lpSum(subset10)<=1,'Food Overlap Constraint_J%s'%i \n",
    "for i in list(set({k.split(',')[0] for (k,v) in food_status.items() if '_BA' in k})):\n",
    "    subset11 = {k:v for (k,v) in food_status.items() if all(x in k for x in ['_BA',i])}\n",
    "    prob += lpSum(subset11)<=1,'Food Overlap Constraint_BA%s'%i          \n",
    "\n",
    "for i in list(set({k.split(',')[0] for (k,v) in food_status.items() if '_CA' in k})):\n",
    "    subset12 = {k:v for (k,v) in food_status.items() if all(x in k for x in ['_CA',i])}\n",
    "    prob += lpSum(subset12)<=1,'Food Overlap Constraint_CA%s%s'%(i,k)                \n",
    "for i in list(set({k.split(',')[0] for (k,v) in food_status.items() if '_BAV' in k})):\n",
    "    subset13 = {k:v for (k,v) in food_status.items() if all(x in k for x in ['_BAV',i])}\n",
    "    prob += lpSum(subset13)<=1,'Food Overlap Constraint_BAV%s%s'%(i,k)                             \n",
    "for i in list(set({k.split(',')[0] for (k,v) in food_status.items() if '_AF' in k})):\n",
    "    subset14 = {k:v for (k,v) in food_status.items() if all(x in k for x in ['_AF',i])}\n",
    "    prob += lpSum(subset14)<=1,'Food Overlap Constraint_AF%s%s'%(i,k)            \n",
    "           \n",
    "subset1 = {k:v for (k,v) in food_status.items() if '_BTM' in k}\n",
    "prob += lpSum(subset1)<=1,'Food Overlap Constraint%s'%'BTM'\n",
    "subset2 = {k:v for (k,v) in food_status.items() if '_OA' in k}\n",
    "prob += lpSum(subset2)<=1,'Food Overlap Constraint%s'%'OA'\n",
    "subset3 = {k:v for (k,v) in food_status.items() if '_OC' in k}\n",
    "prob += lpSum(subset3)<=2,'Food Overlap Constraint%s'%'OC'"
   ]
  },
  {
   "cell_type": "code",
   "execution_count": null,
   "metadata": {},
   "outputs": [],
   "source": [
    "prob.writeLP('Optimization.lp')\n",
    "prob.solve()"
   ]
  },
  {
   "cell_type": "code",
   "execution_count": null,
   "metadata": {},
   "outputs": [],
   "source": [
    "            \n",
    "#answer = value(prob.objective)\n",
    "#print(\"Total Impacts per person = \", value(prob.objective))\n",
    "print(\"Status:\", LpStatus[prob.status])\n",
    "results = []\n",
    "            # Each of the variables is printed with its resolved optimum value\n",
    "for v in prob.variables():\n",
    "    re=[v.name,v.varValue]\n",
    "    results.append(re)"
   ]
  },
  {
   "cell_type": "code",
   "execution_count": null,
   "metadata": {},
   "outputs": [],
   "source": [
    "results_food = [i for i in results if 'food_status' not in i[0]]"
   ]
  },
  {
   "cell_type": "code",
   "execution_count": null,
   "metadata": {},
   "outputs": [],
   "source": [
    "results_food = [i for i in results_food if 'dummy' not in i[0]]"
   ]
  },
  {
   "cell_type": "code",
   "execution_count": null,
   "metadata": {},
   "outputs": [],
   "source": [
    "results_food_dict = {item[0]:item[1] for item in results_food}"
   ]
  },
  {
   "cell_type": "code",
   "execution_count": null,
   "metadata": {},
   "outputs": [],
   "source": [
    "df['Food Name'] = [i.replace(' ','_') for i in df['Food Name']]"
   ]
  },
  {
   "cell_type": "code",
   "execution_count": null,
   "metadata": {},
   "outputs": [],
   "source": [
    "df['Grams'] = df['Food Name'].map(results_food_dict)"
   ]
  },
  {
   "cell_type": "code",
   "execution_count": null,
   "metadata": {},
   "outputs": [],
   "source": [
    "df_final = df[['Food Name','Grams','optimization_country_GHG_1_trade','optimization_value_GHG_1_trade',\n",
    "    'bio_GHGopt_value1', 'optimization_value_BIO_1_trade','optimization_country_BIO_1_trade',\n",
    "               'GHG_bioopt_value1','bio_GHGopt_value1']]\n",
    "df_final[df_final['Grams']!=0]"
   ]
  },
  {
   "cell_type": "code",
   "execution_count": null,
   "metadata": {},
   "outputs": [],
   "source": []
  },
  {
   "cell_type": "code",
   "execution_count": null,
   "metadata": {},
   "outputs": [],
   "source": []
  },
  {
   "cell_type": "code",
   "execution_count": null,
   "metadata": {},
   "outputs": [],
   "source": []
  },
  {
   "cell_type": "code",
   "execution_count": null,
   "metadata": {},
   "outputs": [],
   "source": [
    "stop"
   ]
  },
  {
   "cell_type": "code",
   "execution_count": null,
   "metadata": {},
   "outputs": [],
   "source": [
    "df_final = df[['Food Name','Grams','optimization_country_GHG_1_trade','optimization_value_GHG_1_trade',\n",
    "    'bio_GHGopt_value1', 'optimization_value_BIO_1_trade','optimization_country_BIO_1_trade',\n",
    "               'GHG_bioopt_value1','bio_GHGopt_value1']]\n",
    "df_final[df_final['Grams']!=0]"
   ]
  },
  {
   "cell_type": "code",
   "execution_count": null,
   "metadata": {},
   "outputs": [],
   "source": []
  },
  {
   "cell_type": "code",
   "execution_count": null,
   "metadata": {},
   "outputs": [],
   "source": [
    "df_final = df[['Food Name','Grams','optimization_country_GHG_1_trade','optimization_value_GHG_1_trade',\n",
    "    'bio_GHGopt_value1', 'optimization_value_BIO_1_trade','optimization_country_BIO_1_trade',\n",
    "               'GHG_bioopt_value1','bio_GHGopt_value1']]\n",
    "df_final[df_final['Grams']!=0]"
   ]
  },
  {
   "cell_type": "code",
   "execution_count": null,
   "metadata": {},
   "outputs": [],
   "source": []
  },
  {
   "cell_type": "code",
   "execution_count": null,
   "metadata": {},
   "outputs": [],
   "source": [
    "stop"
   ]
  },
  {
   "cell_type": "code",
   "execution_count": null,
   "metadata": {},
   "outputs": [],
   "source": [
    "df_final = df[['Food Name','Grams','optimization_country_GHG_1_trade','optimization_value_GHG_1_trade',\n",
    "    'bio_GHGopt_value1', 'optimization_value_BIO_1_trade','optimization_country_BIO_1_trade',\n",
    "               'GHG_bioopt_value1','bio_GHGopt_value1']]"
   ]
  },
  {
   "cell_type": "code",
   "execution_count": null,
   "metadata": {},
   "outputs": [],
   "source": [
    "df_final[df_final['Grams']!=0]"
   ]
  },
  {
   "cell_type": "code",
   "execution_count": null,
   "metadata": {},
   "outputs": [],
   "source": [
    "def testopt(df,impact,gender,weight,height,age,actlevel,location,\\\n",
    "            month,numdays,preference,relax,supplement):#impweight,min_GHG,min_BIO):\n",
    "    \n",
    "    df = editdf(df,impact,preference,supplement) # get the right dataframe and edit it for optimization\n",
    "    #print (len(df))\n",
    "    kcal,nut_limits = personal(gender,weight,height,age,actlevel,numdays) # get the right kcal and nutrients\n",
    "\n",
    "    \n",
    "    # set food group limits\n",
    "    fruit_total, fruit_groups, fruit_serv_min = fruitlimits(df,numdays)\n",
    "    vegetable_total,vegetable_groups,vegetable_serv_min = veglimits(df,numdays)\n",
    "    legume_total,legume_groups,legume_serv_min = legumelimits(df,numdays)\n",
    "    grains_total,grains_groups,pasta_rice_pot_serve_min,pasta_rice_group,cereal_grain_bread_serve_min,\\\n",
    "        cereal_grain_bread_group = grainlimits(df,numdays)\n",
    "    nuts_total,nuts_groups,nuts_serv_min = nutslimits(df,numdays)\n",
    "    milk_total,milk_groups,milk_serv_min = milklimits(df,numdays)\n",
    "    soft_cheese_serve_min,soft_group,med_cheese_serve_min,med_group,hard_cheese_serve_min,hard_group,\\\n",
    "       fresh_cheese_serve_min,fresh_group, yogurt_serve_min,yogurt_group = cheeselimits(df,numdays)\n",
    "    fish_serve_min,fish_groups,red_meat_max,red_meat_groups,red_serve_min,whitemeat_serve_min,\\\n",
    "        white_meat_groups,processed_total,processed_min,processed_groups,oil_serve_min,oil_min,oil_max,oil_groups,\\\n",
    "            egg_serve_min,egg_groups = meatlimits(df,numdays)  \n",
    "    vegan_serve_min,vegan_group = veganlimits(df,numdays)\n",
    "    milksub_serve_min,milksub_group,yogsub_serve_min,yogsub_group = milksublimits(df,numdays)\n",
    "\n",
    "    \n",
    "    PUFA = 0.11 # more than 11% of energy should come from polyunsaturated fatty acids\n",
    "    transFA = 0.005 #less than 0.5% of kcal per day should come from trans fats\n",
    "    omega3 = 250*numdays # mg per day \n",
    "    \n",
    "    nutrient_source = ['Calcium (mg)','Copper (mg)', 'Iodine (µg)', 'Iron (mg)', 'Magnesium (mg)','Manganese (mg)',\n",
    "        'Phosphorus (mg)', 'Selenium (µg)','Zinc (mg)','Potassium (mg)', 'Sodium (mg)','Chloride (mg)', \n",
    "        'Retinol Equivalent (µg)','Vitamin C (mg)', 'Vitamin D (µg)', 'Vitamin E (mg)', 'Vitamin K1 (µg)', 'Thiamin (mg)',\n",
    "        'Riboflavin (mg)', 'Niacin equivalent (mg)', 'Vitamin B6 (mg)', 'Folate (µg)', 'Vitamin B12 (µg)',\n",
    "        'Pantothenate (mg)','Biotin (µg)', 'Carbohydrate (g)','AOAC fibre (g)', 'Fat (g)','Protein (g)']\n",
    "\n",
    "    nutrient_lim = ['Calcium', 'Copper', 'Iodine', 'Iron', 'Magnesium', 'Manganese', 'Phosphorus',\\\n",
    "    'Selenium', 'Zinc','Potassium', 'Sodium', 'Chloride', 'Vitamin A', 'Vitamin C', 'Vitamin D',\\\n",
    "    'Vitamin E', 'Vitamin K', 'Thiamin','Riboflavin', 'Niacin', 'Vitamin B6', 'Folate', 'Vitamin B12',\\\n",
    "    'Pantothenic Acid', 'Biotin', 'Carbohydrate', 'Total Fiber', 'Fat', 'Proteinb'] \n",
    "    \n",
    "    prob = LpProblem('Optimization',LpMinimize)\n",
    "    # Create a list of the foods \n",
    "    foodgroups=list(df['Food Name'])\n",
    "    food_status = LpVariable.dicts(\"food_status\",(foodgroup for foodgroup in foodgroups),cat='Binary')        \n",
    "    x = {foodamount:LpVariable(foodamount, lowBound=0) for foodamount in foodgroups}   \n",
    "        \n",
    "    ### dictionary of the impacts of each food \n",
    "    if impact == 'GHG':\n",
    "        impactsnew = dict(zip(foodgroups,df['optimization_value_GHG_1_trade'])) # objective 1\n",
    "        impactlim = dict(zip(foodgroups,df['bio_GHGopt_value1']))\n",
    "        prob += lpSum([impactsnew[i]*x[i]for i in foodgroups]), \"Total Impacts per person\"\n",
    "    elif impact == 'BIO':\n",
    "        impactsnew = dict(zip(foodgroups,df['optimization_value_BIO_1_trade'])) # objective 2\n",
    "        impactlim = dict(zip(foodgroups,df['GHG_bioopt_value1']))\n",
    "        prob += lpSum([impactsnew[i]*x[i]for i in foodgroups]), \"Total Impacts per person\"\n",
    "    else:            \n",
    "        pass\n",
    "        #weighting = impweight\n",
    "        #min_value_GHG = min_GHG\n",
    "        #min_value_bio = min_BIO\n",
    "        #max_value_GHG =  min_GHG*3\n",
    "        #max_value_bio = min_BIO*3\n",
    "        #opt1 = dict(zip(foodgroups,df['optimization_value_GHG_1_trade']))\n",
    "        #opt2 = dict(zip(foodgroups,df['optimization_value_BIO_1_trade']))\n",
    "        #impactGHG = lpSum([opt1[i]*x[i]for i in foodgroups])\n",
    "        #impactBIO = lpSum([opt2[i]*x[i]for i in foodgroups])\n",
    "        #prob += (weighting)*(impactGHG-min_value_GHG)/(max_value_GHG-min_value_GHG)+\\\n",
    "                  #  (1-weighting)*(impactBIO-min_value_bio)/(max_value_bio-min_value_bio), \"Total Impacts per person\"\n",
    "\n",
    "        # CONSTRAINTS\n",
    "        # constraints for maximum impact allowed in opposite impact category\n",
    "    if impact == 'GHG': # average BIO loss based on 2nd paper\n",
    "        prob += lpSum([impactlim[i]*x[i]for i in foodgroups])<=(11326/7)*numdays, \"Max BIO impacts\"\n",
    " \n",
    "    elif impact == 'BIO': # average GHG based on 2nd paper\n",
    "        prob += lpSum([impactlim[i]*x[i]for i in foodgroups])<=(41068/7)*numdays, \"Max GHG impacts\"\n",
    "\n",
    "        # kcal\n",
    "    prob += (lpSum([df[df['Food Name']==i]['Energy (kcal) (kcal)']*x[i]for i in foodgroups])>=kcal,'kcal')\n",
    "        \n",
    "        #sodium\n",
    "    prob += (lpSum([df[df['Food Name']==i]['Sodium (mg)']*x[i]for i in foodgroups])<=2300*numdays,'sodium')\n",
    "        \n",
    "        \n",
    "    # binary constraints (is food chosen or not)\n",
    "    #https://stackoverflow.com/questions/43783848/pulp-lp-minimization-formulating-select-one-type-constraint\n",
    "    for i,j in zip(foodgroups,food_status):\n",
    "        prob += food_status[j]*1<=x[i],'Binary Constraint_1: %s'%i # if xi == 0, food status i is allowed\n",
    "            # to be 0. when xi > 0, food_status i is forced to flip to 1 in order to raise the upper bound to M.\n",
    "        prob += x[i]<=food_status[j]*100000, 'Binary Constraint_2: %s'%i\n",
    "    # nutrient contraints\n",
    "    for nutlimit,nutrient in zip(nut_limits,nutrient_source):\n",
    "        prob += (lpSum([df[df['Food Name']==i][nutrient]*x[i]for i in foodgroups])>=nutlimit,\n",
    "                       'Nutrient Constraint: %s%s'%(nutlimit,nutrient))\n",
    "            \n",
    "     \n",
    "        ### food group min consumption constraints from GBD\n",
    "    for limit,group in zip([fruit_total,vegetable_total,legume_total,grains_total,nuts_total],\n",
    "               [fruit_groups,vegetable_groups,legume_groups,grains_groups,nuts_groups]):\n",
    "        prob += (lpSum([filter(group,x)[i] for i in filter(group,x)])>=limit,\\\n",
    "                     'GBD Constraint: %s%s'%(limit,group))\n",
    "    \n",
    "    prob += (lpSum([filter(processed_groups,x)[i] for i in filter(processed_groups,x)])<=processed_total,\\\n",
    "                     'GBD Constraint: %s%s'%(processed_total,processed_groups))\n",
    "     \n",
    "        \n",
    "    if preference == 'none': \n",
    "        for limit,group in zip([milk_total],[milk_groups]):\n",
    "            prob += (lpSum([filter(group,x)[i] for i in filter(group,x)])>=limit,\\\n",
    "                         'GBD Constraint: %s%s'%(limit,group))\n",
    "            \n",
    "    elif preference == 'vegetarian':\n",
    "        for limit,group in zip([milk_total],[milk_groups]):\n",
    "            prob += (lpSum([filter(group,x)[i] for i in filter(group,x)])>=limit,\\\n",
    "                         'GBD Constraint: %s%s'%(limit,group))\n",
    "\n",
    "    elif preference == 'vegan':\n",
    "        pass      \n",
    "    elif preference == 'nomilk':\n",
    "        pass\n",
    "    else:\n",
    "        pass\n",
    "\n",
    "        # nutrient constraints from GBD\n",
    "    prob += (lpSum([df[df['Food Name']==i]['Omega3_all']*x[i] for i in foodgroups])>= omega3,\\\n",
    "                 'Omega3 constraints')\n",
    "    prob += (lpSum([df[df['Food Name']==i]['Trans FA_kcal']*x[i] for i in foodgroups])<= transFA*kcal,\\\n",
    "                 'TFA constraints')\n",
    "    prob += (lpSum([df[df['Food Name']==i]['PUFA_kcal_POLY_DB']*x[i] for i in foodgroups])>= PUFA*kcal,\\\n",
    "                 'PUFA constraints') \n",
    "        \n",
    "      \n",
    "     # SPECIALIZED CONSTRAINTS\n",
    "\n",
    "     #   prob += (lpSum({k:v for (k,v) in x.items() if any(q in k for q in\\\n",
    "     #              ['BLM','BLS','BLH','BLF'])})>=70*numdays),'GBD Constraint Swiss Cheese%s'%num\n",
    "        \n",
    "    #    meatandfishlist =df1[df1['Group'].str.startswith('J')]['Group'].tolist()\\\n",
    "    #              +df1[df1['Group'].str.startswith('M')]['Group'].tolist()\n",
    "    #    meatonly = df1[df1['Group'].str.startswith('M')]['Group'].tolist()\n",
    "        \n",
    "    #    prob += (lpSum({k:v for (k,v) in x.items() if any(q in k for q in\\\n",
    "    #                 meatonly)})>=200*numdays),'GBD Constraint Spanish Meat%s'%num\n",
    "        \n",
    "        ## add optional limits\n",
    "        \n",
    "    ### Limits for minimum serving size of each food group:\n",
    "    for serve,i in zip([fruit_serv_min,vegetable_serv_min,legume_serv_min,nuts_serv_min,milk_serv_min],\n",
    "                [fruit_groups,vegetable_groups,legume_groups,nuts_groups,milk_groups]):\n",
    "        for k,l in zip(filter(i,x),filter(i,food_status)):\n",
    "            prob += filter(i,x)[k] >= serve * filter(i,food_status)[l],\\\n",
    "                    'Min Serving Size Limits: %s%s%s'%(serve,i,k)\n",
    "            # dairy product min limits\n",
    "    for serve,i in zip([soft_cheese_serve_min,med_cheese_serve_min,hard_cheese_serve_min,\n",
    "                                fresh_cheese_serve_min,yogurt_serve_min],\n",
    "                               [soft_group,med_group,hard_group,fresh_group,yogurt_group]):\n",
    "        for k,l in zip(filter(i,x),filter(i,food_status)):\n",
    "            prob += filter(i,x)[k] >= serve * filter(i,food_status)[l],\\\n",
    "                    'Min Serving Size Limits: %s%s%s'%(serve,i,k)\n",
    "\n",
    "    for serve,i in zip([milksub_serve_min,yogsub_serve_min,vegan_serve_min],\n",
    "                               [milksub_group,yogsub_group,vegan_group]):\n",
    "        for k,l in zip(filter(i,x),filter(i,food_status)):\n",
    "            prob += filter(i,x)[k] >= serve * filter(i,food_status)[l],\\\n",
    "                    'Min Serving Size Limits: %s%s%s'%(serve,i,k)        \n",
    "           # grain product min limits\n",
    "    for serve,i in zip([pasta_rice_pot_serve_min,cereal_grain_bread_serve_min],\n",
    "                               [pasta_rice_group,cereal_grain_bread_group]):\n",
    "        for k,l in zip(filter(i,x),filter(i,food_status)):\n",
    "            prob += filter(i,x)[k] >= serve * filter(i,food_status)[l],\\\n",
    "                    'Min Serving Size Limits: %s%s%s'%(serve,i,k)        \n",
    "\n",
    "            # meat,egg, oil, fish product min limits      \n",
    "    for serve,i in zip([fish_serve_min,red_serve_min,whitemeat_serve_min,oil_serve_min,egg_serve_min],\n",
    "                               [fish_groups,red_meat_groups,white_meat_groups,oil_groups,egg_groups]):\n",
    "        for k,l in zip(filter(i,x),filter(i,food_status)):\n",
    "            prob += filter(i,x)[k] >= serve * filter(i,food_status)[l],\\\n",
    "                    'Min Serving Size Limits: %s%s%s'%(serve,i,k)    \n",
    "\n",
    "            # maximum limits of what can be bought per food item\n",
    "\n",
    "    for k,l in zip(filter(fruit_groups,x),filter(fruit_groups,food_status)):\n",
    "        prob += filter(fruit_groups,x)[k] <= relax*fruit_serv_min*numdays*\\\n",
    "                        filter(fruit_groups,food_status)[l],'Max Limits_FAT: %s%s'%(k,l)\n",
    "    for k,l in zip(filter(vegetable_groups,x),filter(vegetable_groups,food_status)):\n",
    "        prob += filter(vegetable_groups,x)[k] <= relax*vegetable_serv_min*numdays*\\\n",
    "                        filter(vegetable_groups,food_status)[l],('Max Limits_DGX: %s%s'%(k,l))\n",
    "    for k,l in zip(filter(pasta_rice_group,x),filter(pasta_rice_group,food_status)):\n",
    "        prob += filter(pasta_rice_group,x)[k] <= relax*pasta_rice_pot_serve_min*numdays*\\\n",
    "                        filter(pasta_rice_group,food_status)[l],('Max Limits_DA: %s%s'%(k,l))\n",
    "    for k,l in zip(filter(cereal_grain_bread_group,x),filter(cereal_grain_bread_group,food_status)):\n",
    "        prob += filter(cereal_grain_bread_group,x)[k] <= relax*cereal_grain_bread_serve_min*numdays*\\\n",
    "                        filter(cereal_grain_bread_group,food_status)[l],('Max Limits_AX: %s%s'%(k,l))\n",
    "    for k,l in zip(filter(legume_groups,x),filter(legume_groups,food_status)):\n",
    "        prob += filter(legume_groups,x)[k] <= relax*legume_serv_min*numdays*\\\n",
    "                        filter(legume_groups,food_status)[l],('Max Limits_DBX: %s%s'%(k,l))\n",
    "    for k,l in zip(filter(nuts_groups,x),filter(nuts_groups,food_status)):\n",
    "        prob += filter(nuts_groups,x)[k] <= relax*nuts_serv_min*numdays*\\\n",
    "                        filter(nuts_groups,food_status)[l],('Max Limits_GAT: %s%s'%(k,l))\n",
    "    for k,l in zip(filter(fish_groups,x),filter(fish_groups,food_status)):\n",
    "        prob += filter(fish_groups,x)[k] <= relax*fish_serve_min*numdays*\\\n",
    "                        filter(fish_groups,food_status)[l],('Max Limits_JAX: %s%s'%(k,l))\n",
    "    for k,l in zip(filter(white_meat_groups,x),filter(white_meat_groups,food_status)):\n",
    "        prob += filter(white_meat_groups,x)[k] <= relax*whitemeat_serve_min*numdays*\\\n",
    "                        filter(white_meat_groups,food_status)[l],('Max Limits_MCXX: %s%s'%(k,l))            \n",
    "    for k,l in zip(filter(oil_groups,x),filter(oil_groups,food_status)):\n",
    "        prob += filter(oil_groups,x)[k] <= relax*oil_serve_min*numdays*\\\n",
    "                        filter(oil_groups,food_status)[l],('Max Limits_OA: %s%s'%(k,l))\n",
    "    for k,l in zip(filter(egg_groups,x),filter(egg_groups,food_status)):\n",
    "        prob += filter(egg_groups,x)[k] <= relax*egg_serve_min*numdays*\\\n",
    "                        filter(egg_groups,food_status)[l],('Max Limits_CA: %s%s'%(k,l))        \n",
    "    for k,l in zip(filter(milk_groups,x),filter(milk_groups,food_status)):\n",
    "        prob += filter(milk_groups,x)[k] <= 1000*numdays*\\\n",
    "                        filter(milk_groups,food_status)[l],('Max Limits_BAX: %s%s'%(k,l))\n",
    "    for k,l in zip(filter(red_meat_groups,x),filter(red_meat_groups,food_status)):\n",
    "        prob += filter(red_meat_groups,x)[k] <= relax*red_serve_min*numdays*\\\n",
    "                        filter(red_meat_groups,food_status)[l],('Max Limits_MAXX: %s%s'%(k,l))\n",
    "    for k,l in zip(filter(processed_groups,x),filter(processed_groups,food_status)):\n",
    "        prob += filter(processed_groups,x)[k] <= relax*processed_min*numdays*\\\n",
    "                        filter(processed_groups,food_status)[l],('Max Limits_MI: %s%s'%(k,l))\n",
    "    for k,l in zip(filter(vegan_group,x),filter(vegan_group,food_status)):\n",
    "        prob += filter(vegan_group,x)[k] <= relax*vegan_serve_min*numdays*\\\n",
    "                        filter(vegan_group,food_status)[l],('Max Limits_VEG: %s%s'%(k,l)) \n",
    "    for k,l in zip(filter(milksub_group,x),filter(milksub_group,food_status)):\n",
    "        prob += filter(milksub_group,x)[k] <= relax*milksub_serve_min*numdays*\\\n",
    "                        filter(milksub_group,food_status)[l],('Max Limits_BAV: %s%s'%(k,l))\n",
    "    for k,l in zip(filter(yogsub_group,x),filter(yogsub_group,food_status)):\n",
    "        prob += filter(yogsub_group,x)[k] <= relax*yogsub_serve_min*numdays*\\\n",
    "                        filter(yogsub_group,food_status)[l],('Max Limits_BNV: %s%s'%(k,l))                        \n",
    "                \n",
    "            \n",
    "            \n",
    "    for cheese_type,min_serve in zip([fresh_group,soft_group,med_group,hard_group,yogurt_group],\\\n",
    "                        [fresh_cheese_serve_min,soft_cheese_serve_min,med_cheese_serve_min,\\\n",
    "                         hard_cheese_serve_min,yogurt_serve_min]):      \n",
    "        for k,l in zip(filter(cheese_type,x),filter(cheese_type,food_status)):\n",
    "            prob += filter(cheese_type,x)[k] <= relax*min_serve*numdays*\\\n",
    "                        filter(cheese_type,food_status)[l],('Max Limits_BXX: %s%s%s%s'%(k,l,cheese_type,min_serve))\n",
    "                  \n",
    "            \n",
    "            # maximum serving of what can be bought per food group (prevent 2.5 kg of beans being suggested)\n",
    "            #(4 grams per clove, 5 cloves per day)  \n",
    "    prob += (lpSum({k:v for (k,v) in x.items() if 'garlic' in k})<=4*5*numdays),('Max Limits garlic')\n",
    "            #prob += (lpSum({k:v for (k,v) in x.items() if any(q in k for q in ['beans','lentils'])})<=120*numdays),('Max Limits Legumes')\n",
    "           ### limits for how many types of food group to choose\n",
    "            #for variety,group in zip([fruit_num,vegetable_num,legume_num,grains_num,nuts_num,milk_num,fish_num],\n",
    "            #        [fruit_groups,vegetable_groups,legume_groups,grains_groups,nuts_groups,milk_groups,fish_groups]):\n",
    "            #     prob += lpSum([filter(group,food_status)[i] for i in filter(group,food_status)])==variety,'Variety: %s%s'%(variety,group)\n",
    "\n",
    "\n",
    "        ## can't choose same food item more than 1 time (i.e. fresh and canned peaches)    \n",
    "    for i in list(set({k.split(',')[0] for (k,v) in food_status.items() if 'FAT' in k})):\n",
    "        subset0 = {k:v for (k,v) in food_status.items() if k.startswith(i) and 'FAT' in k}\n",
    "        prob += lpSum(subset0)<=1,'Food Overlap Constraint_FAT%s'%i \n",
    "    for i in list(set({k.split(',')[0] for (k,v) in food_status.items() if 'GAT' in k})):\n",
    "        subset5 = {k:v for (k,v) in food_status.items() if k.startswith(i) and 'GAT' in k}\n",
    "        prob += lpSum(subset5)<=1,'Food Overlap Constraint_GAT%s'%i\n",
    "    for i in list(set({k.split(',')[0] for (k,v) in food_status.items() if '_AI' in k})):\n",
    "        subset6 = {k:v for (k,v) in food_status.items() if i in k}\n",
    "        prob += lpSum(subset6)<=1,'Food Overlap Constraint_AI%s'%i \n",
    "    for i in list(set({k.split(',')[0] for (k,v) in food_status.items() if '_DF' in k})):\n",
    "        subset7 = {k:v for (k,v) in food_status.items() if all(x in k for x in ['_DF',i])}\n",
    "        prob += lpSum(subset7)<=1,'Food Overlap Constraint_DF%s'%i         \n",
    "    for i in list(set({k.split(',')[1] for (k,v) in food_status.items() if '_DB' in k})):\n",
    "        subset8 = {k:v for (k,v) in food_status.items() if all(x in k for x in ['_DB',i])}\n",
    "        prob += lpSum(subset8)<=1,'Food Overlap Constraint_DB%s'%i       \n",
    "    for i in list(set({k.split(',')[0] for (k,v) in food_status.items() if '_DG' in k})):\n",
    "        subset9 = {k:v for (k,v) in food_status.items() if all(x in k for x in ['_DG',i])}\n",
    "        prob += lpSum(subset9)<=1,'Food Overlap Constraint_DG%s'%i\n",
    "    for i in list(set({k.split(',')[0] for (k,v) in food_status.items() if '_DA' in k})):\n",
    "        subset15 = {k:v for (k,v) in food_status.items() if all(x in k for x in ['_DA',i])}\n",
    "        prob += lpSum(subset15)<=1,'Food Overlap Constraint_DA%s'%i        \n",
    "    for i in list(set({k.split(',')[0] for (k,v) in food_status.items() if '_J' in k})):\n",
    "        subset10 = {k:v for (k,v) in food_status.items() if all(x in k for x in ['_J',i])}\n",
    "        prob += lpSum(subset10)<=1,'Food Overlap Constraint_J%s'%i \n",
    "    for i in list(set({k.split(',')[0] for (k,v) in food_status.items() if '_BA' in k})):\n",
    "        subset11 = {k:v for (k,v) in food_status.items() if all(x in k for x in ['_BA',i])}\n",
    "        prob += lpSum(subset11)<=1,'Food Overlap Constraint_BA%s'%i          \n",
    "           # for i in list(set({k.split(',')[0] for (k,v) in food_status.items() if '_VEG' in k})):\n",
    "           #     subset4 = {k:v for (k,v) in food_status.items() if all(x in k for x in ['_VEG',i])}\n",
    "           #     prob += lpSum(subset4)<=1,'Food Overlap Constraint%s%s'%(i,k)\n",
    "    for i in list(set({k.split(',')[0] for (k,v) in food_status.items() if '_CA' in k})):\n",
    "        subset12 = {k:v for (k,v) in food_status.items() if all(x in k for x in ['_CA',i])}\n",
    "        prob += lpSum(subset12)<=1,'Food Overlap Constraint_CA%s%s'%(i,k)                \n",
    "    for i in list(set({k.split(',')[0] for (k,v) in food_status.items() if '_BAV' in k})):\n",
    "        subset13 = {k:v for (k,v) in food_status.items() if all(x in k for x in ['_BAV',i])}\n",
    "        prob += lpSum(subset13)<=1,'Food Overlap Constraint_BAV%s%s'%(i,k)                             \n",
    "    for i in list(set({k.split(',')[0] for (k,v) in food_status.items() if '_AF' in k})):\n",
    "        subset14 = {k:v for (k,v) in food_status.items() if all(x in k for x in ['_AF',i])}\n",
    "        prob += lpSum(subset14)<=1,'Food Overlap Constraint_AF%s%s'%(i,k)            \n",
    "           \n",
    "    subset1 = {k:v for (k,v) in food_status.items() if '_BTM' in k}\n",
    "    prob += lpSum(subset1)<=1,'Food Overlap Constraint%s'%'BTM'\n",
    "    subset2 = {k:v for (k,v) in food_status.items() if '_OA' in k}\n",
    "    prob += lpSum(subset2)<=1,'Food Overlap Constraint%s'%'OA'\n",
    "    subset3 = {k:v for (k,v) in food_status.items() if '_OC' in k}\n",
    "    prob += lpSum(subset3)<=2,'Food Overlap Constraint%s'%'OC'\n",
    "        \n",
    "    prob.writeLP('Optimization.lp')\n",
    "    prob.solve()\n",
    "\n",
    "            \n",
    "    answer = value(prob.objective)\n",
    "    print(\"Total Impacts per person = \", value(prob.objective))\n",
    "    print(\"Status:\", LpStatus[prob.status])\n",
    "    results = []\n",
    "            # Each of the variables is printed with its resolved optimum value\n",
    "    for v in prob.variables():\n",
    "        x=[v.name,v.varValue]\n",
    "        results.append(x)\n",
    "      \n",
    "    optimizationresults=pd.DataFrame()\n",
    "    optimizationresults['Food'] = df.loc[:,'Food Name'].values\n",
    "\n",
    "    optimizationresults['trade_impacts_GHG'] = df.loc[:,'trade_impacts_GHG'].values\n",
    "    optimizationresults['trade_impacts_BIO'] = df.loc[:,'trade_impacts_BIO'].values\n",
    "\n",
    "        \n",
    "    if impact == 'GHG':\n",
    "        optimizationresults['Country']=df.loc[:,'optimization_country_GHG_1_trade'].values\n",
    "        optimizationresults['optimization_value_GHG_1_trade'] = \\\n",
    "                                df.loc[:,'optimization_value_GHG_1_trade'].values\n",
    "        optimizationresults['bio_GHGopt_value1'] = df.loc[:,'bio_GHGopt_value1'].values\n",
    "        optimizationresults['optimization_value_BIO_1_trade'] = \\\n",
    "                                df.loc[:,'optimization_value_BIO_1_trade'].values\n",
    "        optimizationresults['GHG_bioopt_value1'] = df.loc[:,'GHG_bioopt_value1'].values\n",
    "            \n",
    "        optimizationresults['Country_BIO']=df.loc[:,'optimization_country_BIO_1_trade'].values        \n",
    "    elif impact == 'BIO':\n",
    "        optimizationresults['Country']=df.loc[:,'optimization_country_BIO_1_trade'].values\n",
    "        optimizationresults['GHG_bioopt_value1']=  df.loc[:,'GHG_bioopt_value1'].values\n",
    "        #    optimizationresults['GHG_bioopt_value1']=  df['GHG_bioopt_value1']*1e10\n",
    "            \n",
    "        optimizationresults['optimization_value_BIO_1_trade']=  \\\n",
    "                                df.loc[:,'optimization_value_BIO_1_trade'].values\n",
    "             \n",
    "        optimizationresults['optimization_value_GHG_1_trade']=  \\\n",
    "                                df.loc[:,'optimization_value_GHG_1_trade'].values\n",
    "        optimizationresults['bio_GHGopt_value1'] = df.loc[:,'bio_GHGopt_value1'].values\n",
    "        optimizationresults['Country_GHG']=df.loc[:,'optimization_country_GHG_1_trade'].values\n",
    "\n",
    "\n",
    "    else: \n",
    "        pass\n",
    "        #optimizationresults['Country_GHG%s']=df.loc[:,'optimization_country_GHG_1_trade'].values\n",
    "        #optimizationresults['optimization_value_GHG_1_trade'] = \\\n",
    "        #                        df.loc[:,'optimization_value_GHG_1_trade'].values\n",
    "            \n",
    "        #optimizationresults['bio_GHGopt_value1'] = df.loc[:,'bio_GHGopt_value1'].values\n",
    "        #optimizationresults['Country_BIO']=df.loc[:,'optimization_country_BIO_1_trade'].values\n",
    "        #optimizationresults['GHG_bioopt_value1']=  df.loc[:,'GHG_bioopt_value1'].values\n",
    "\n",
    "        #optimizationresults['optimization_value_BIO_1_trade']=  \\\n",
    "                        #        df.loc[:,'optimization_value_BIO_1_trade'].values\n",
    "            \n",
    "    optimizationresults.sort_values(['Food'],inplace = True)\n",
    "    #optimizationresults['Grams']=[name[1] for name in results]\n",
    "\n",
    "    return results,optimizationresults,LpStatus[prob.status]\n"
   ]
  },
  {
   "cell_type": "code",
   "execution_count": null,
   "metadata": {},
   "outputs": [],
   "source": []
  },
  {
   "cell_type": "raw",
   "metadata": {},
   "source": [
    "results,sce,optGHG,optbio,status = testopt(df_for_opt,'GHG',1,87.3,180,40,\\\n",
    "                                                     'moderate','CH','aug',7,'none',2,'no_sup')"
   ]
  },
  {
   "cell_type": "markdown",
   "metadata": {},
   "source": [
    "# Personlized inputs to run optimization"
   ]
  },
  {
   "cell_type": "raw",
   "metadata": {},
   "source": [
    "# function testopt inputs:\n",
    "1: dataframe name to optimize (depending on country and month)\n",
    "2: impact to optimize for (BIO or GHG or both)\n",
    "\n",
    "4: gender (0 == male, 1 == female)\n",
    "5: weight (kg)\n",
    "6: height (cm)\n",
    "7: age (years)\n",
    "8: activity level (sedentary,moderate,vigorous)\n",
    "9: country for optimization (2 letter code)\n",
    "10: month for optimization (aug)\n",
    "11: number of days for diet plan (min 1)\n",
    "12: dietary preferences (none, vegetarian, vegan, nomilk)\n",
    "13: Relaxation factor for serving size limits\n",
    "14: include supplement or not (yes_sup, no_sup)\n",
    "15: impact weighting (0 for 100% GHG or BIO, 0.5 for 50% GHG and 50% BIO)\n",
    "15: 0\n",
    "16: 0"
   ]
  },
  {
   "cell_type": "raw",
   "metadata": {},
   "source": [
    "results[0] # list of food item and mass to be consumed in the optimized diet\n",
    "sce # database of food item, impacts, mass, country from which it should be imported for each diet\n",
    "optGHG # optimized value (NOT REAL), calculate from the results or sce data$\n",
    "optbio # not availble for diets optimized for GHG, vice versa\n",
    "status # whether the optimization was solved or not."
   ]
  }
 ],
 "metadata": {
  "kernelspec": {
   "display_name": "Python [conda env:new_environment]",
   "language": "python",
   "name": "conda-env-new_environment-py"
  },
  "language_info": {
   "codemirror_mode": {
    "name": "ipython",
    "version": 3
   },
   "file_extension": ".py",
   "mimetype": "text/x-python",
   "name": "python",
   "nbconvert_exporter": "python",
   "pygments_lexer": "ipython3",
   "version": "3.6.4"
  }
 },
 "nbformat": 4,
 "nbformat_minor": 2
}
