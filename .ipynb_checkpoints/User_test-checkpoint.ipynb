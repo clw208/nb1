{
 "cells": [
  {
   "cell_type": "code",
   "execution_count": 34,
   "metadata": {},
   "outputs": [],
   "source": [
    "# HIDDEN\n",
    "from ipywidgets import widgets, interact, Dropdown,SelectMultiple, Checkbox,VBox,FloatSlider,Button\n",
    "from IPython.display import display\n",
    "#https://stackoverflow.com/questions/18398929/passing-multiple-variables-from-dropdowns-using-django-python\n",
    "#https://towardsdatascience.com/bring-your-jupyter-notebook-to-life-with-interactive-widgets-bc12e03f0916\n",
    "#https://medium.com/@jdchipox/how-to-interact-with-jupyter-33a98686f24e\n",
    "#https://stackoverflow.com/questions/26352555/how-does-one-get-widget-values-with-a-button-in-ipython\n",
    "#https://elc.github.io/posts/embed-interactive-notebooks/"
   ]
  },
  {
   "cell_type": "code",
   "execution_count": 35,
   "metadata": {},
   "outputs": [],
   "source": [
    "# HIDDEN \n",
    "import numpy as np\n",
    "import pandas as pd\n",
    "import re\n",
    "import os\n",
    "from IPython import get_ipython\n",
    "ipython = get_ipython()"
   ]
  },
  {
   "cell_type": "code",
   "execution_count": 36,
   "metadata": {},
   "outputs": [],
   "source": [
    "df1 = pd.read_pickle('CH_aug.p')"
   ]
  },
  {
   "cell_type": "code",
   "execution_count": 37,
   "metadata": {},
   "outputs": [],
   "source": [
    "# HIDDEN\n",
    "style = {'description_width': 'initial'}\n",
    "mnths = {'jan':1,'feb':2,'mar':3,'apr':4,'may':5,'jun':6,'jul':7,'aug':8,'sep':9,'oct':10,'nov':11,'dec':12}\n",
    "cntry = np.load('trandict.npy',allow_pickle='TRUE').item()\n",
    "cntry = {v:k for k,v in cntry.items()}"
   ]
  },
  {
   "cell_type": "markdown",
   "metadata": {},
   "source": [
    "# Choose your country and the month for which you'd like a diet"
   ]
  },
  {
   "cell_type": "code",
   "execution_count": 38,
   "metadata": {},
   "outputs": [
    {
     "data": {
      "application/vnd.jupyter.widget-view+json": {
       "model_id": "9095b74f7ee846c191bee5a0dd9b6a06",
       "version_major": 2,
       "version_minor": 0
      },
      "text/plain": [
       "Dropdown(index=26, options=('Aruba', 'Angola', 'Anguilla', 'Albania', 'Andorra', 'Argentina', 'American Samoa'…"
      ]
     },
     "metadata": {},
     "output_type": "display_data"
    },
    {
     "data": {
      "application/vnd.jupyter.widget-view+json": {
       "model_id": "2ede2c55fb2948e09ae8ac1d16434b0e",
       "version_major": 2,
       "version_minor": 0
      },
      "text/plain": [
       "Dropdown(index=7, options=('jan', 'feb', 'mar', 'apr', 'may', 'jun', 'jul', 'aug', 'sep', 'oct', 'nov', 'dec')…"
      ]
     },
     "metadata": {},
     "output_type": "display_data"
    }
   ],
   "source": [
    "# HIDDEN\n",
    "var1 = widgets.Dropdown(options = cntry.keys(),value = 'Switzerland')\n",
    "display(var1)\n",
    "var2 = widgets.Dropdown(options = mnths.keys(),value='aug')\n",
    "display(var2)"
   ]
  },
  {
   "cell_type": "code",
   "execution_count": 39,
   "metadata": {},
   "outputs": [],
   "source": [
    "# HIDDEN\n",
    "runcode2 = widgets.Button(description='Build the database')\n",
    "output2 = widgets.Output()\n",
    "def test(b):\n",
    "    global dftest2\n",
    "    with output2:\n",
    "        print ('I want a diet for:',var1.value, '\\nfor the month of:',var2.value)\n",
    "        ipython.magic('run Build_Optimization_Database.ipynb')\n",
    "        dftest2 = calc_impacts(cntry[var1.value],var2.value)\n",
    "        return dftest2"
   ]
  },
  {
   "cell_type": "code",
   "execution_count": 40,
   "metadata": {},
   "outputs": [
    {
     "data": {
      "application/vnd.jupyter.widget-view+json": {
       "model_id": "f93ee6b04e8c43dc9b5b272d15c1cde7",
       "version_major": 2,
       "version_minor": 0
      },
      "text/plain": [
       "Button(description='Build the database', style=ButtonStyle())"
      ]
     },
     "metadata": {},
     "output_type": "display_data"
    },
    {
     "data": {
      "application/vnd.jupyter.widget-view+json": {
       "model_id": "0b771460a3684c98a06c720c494bab80",
       "version_major": 2,
       "version_minor": 0
      },
      "text/plain": [
       "Output()"
      ]
     },
     "metadata": {},
     "output_type": "display_data"
    }
   ],
   "source": [
    "display(runcode2,output2)\n",
    "runcode2.on_click(test)"
   ]
  },
  {
   "cell_type": "code",
   "execution_count": 52,
   "metadata": {},
   "outputs": [
    {
     "data": {
      "text/plain": [
       "549"
      ]
     },
     "execution_count": 52,
     "metadata": {},
     "output_type": "execute_result"
    }
   ],
   "source": [
    "len(dftest2)"
   ]
  },
  {
   "cell_type": "raw",
   "metadata": {},
   "source": [
    "runcode10 = widgets.Button(description='Show the database')\n",
    "output10 = widgets.Output()\n",
    "def show(b):\n",
    "    global dftest2\n",
    "    with output10:\n",
    "        print (dftest2.head(1))\n",
    "\n",
    "display(runcode10,output10)\n",
    "runcode10.on_click(show)"
   ]
  },
  {
   "cell_type": "code",
   "execution_count": 47,
   "metadata": {},
   "outputs": [],
   "source": [
    "# HIDDEN\n",
    "gender={'female':1,'male':0}\n",
    "preferences = {'vegetarian':0,'vegan':1,'none':2}\n",
    "indicator = {'climate change':'GHG','biodiversity loss':'BIO','both':'any'}\n",
    "activity = {'sedentary':0,'moderate':1,'vigorous':2}\n",
    "supp = {'yes':'yes_sup','no':'no_sup'}\n",
    "weighting = {'climate change':0,'biodiversity loss':0,'both':0.5}\n",
    "def weighting(impact):\n",
    "    if impact == 'GHG' or 'BIO': w = 0\n",
    "    elif impact == 'both':w = 0.5\n",
    "    else: w = 0\n",
    "    return w"
   ]
  },
  {
   "cell_type": "markdown",
   "metadata": {},
   "source": [
    "# Please answer the following questions to personalize the diet to your needs"
   ]
  },
  {
   "cell_type": "code",
   "execution_count": 48,
   "metadata": {},
   "outputs": [
    {
     "data": {
      "application/vnd.jupyter.widget-view+json": {
       "model_id": "6e356e11ba6349c1a87926a40ec487cb",
       "version_major": 2,
       "version_minor": 0
      },
      "text/plain": [
       "IntText(value=60, description='Weight (kg):')"
      ]
     },
     "metadata": {},
     "output_type": "display_data"
    },
    {
     "data": {
      "application/vnd.jupyter.widget-view+json": {
       "model_id": "73911d860e754264a6c0b9406b4dfcb0",
       "version_major": 2,
       "version_minor": 0
      },
      "text/plain": [
       "Dropdown(description='Impact', options=('GHG', 'BIO', 'any'), value='GHG')"
      ]
     },
     "metadata": {},
     "output_type": "display_data"
    },
    {
     "data": {
      "application/vnd.jupyter.widget-view+json": {
       "model_id": "9c7bae868ad34b1f9f9f308bbe714b60",
       "version_major": 2,
       "version_minor": 0
      },
      "text/plain": [
       "Dropdown(description='Gender:', options=(1, 0), value=1)"
      ]
     },
     "metadata": {},
     "output_type": "display_data"
    },
    {
     "data": {
      "application/vnd.jupyter.widget-view+json": {
       "model_id": "3a39602263114f6a9a61598f37d23d5f",
       "version_major": 2,
       "version_minor": 0
      },
      "text/plain": [
       "IntText(value=165, description='Height (cm):')"
      ]
     },
     "metadata": {},
     "output_type": "display_data"
    },
    {
     "data": {
      "application/vnd.jupyter.widget-view+json": {
       "model_id": "e33918849c694ef990b79d9dba3e3539",
       "version_major": 2,
       "version_minor": 0
      },
      "text/plain": [
       "IntText(value=40, description='Age (yrs):')"
      ]
     },
     "metadata": {},
     "output_type": "display_data"
    },
    {
     "data": {
      "application/vnd.jupyter.widget-view+json": {
       "model_id": "681b2244dd5b45b4ae98717f57c9007f",
       "version_major": 2,
       "version_minor": 0
      },
      "text/plain": [
       "Dropdown(description='Activity Level:', index=1, options=('sedentary', 'moderate', 'vigorous'), value='moderat…"
      ]
     },
     "metadata": {},
     "output_type": "display_data"
    },
    {
     "data": {
      "application/vnd.jupyter.widget-view+json": {
       "model_id": "26ed56bc73cf48dc8b2159970465cfbf",
       "version_major": 2,
       "version_minor": 0
      },
      "text/plain": [
       "Dropdown(description='Supplements?', options=('yes_sup', 'no_sup'), style=DescriptionStyle(description_width='…"
      ]
     },
     "metadata": {},
     "output_type": "display_data"
    },
    {
     "data": {
      "application/vnd.jupyter.widget-view+json": {
       "model_id": "fcd4a6c68bcb4c61b6063f9a0571e7e9",
       "version_major": 2,
       "version_minor": 0
      },
      "text/plain": [
       "BoundedIntText(value=7, description='Number of Days:', style=DescriptionStyle(description_width='initial'))"
      ]
     },
     "metadata": {},
     "output_type": "display_data"
    },
    {
     "data": {
      "application/vnd.jupyter.widget-view+json": {
       "model_id": "e04352b68cdc427682e16eb0022c49ae",
       "version_major": 2,
       "version_minor": 0
      },
      "text/plain": [
       "Dropdown(description='Dietary Preferences:', index=2, options=('vegetarian', 'vegan', 'none'), style=Descripti…"
      ]
     },
     "metadata": {},
     "output_type": "display_data"
    }
   ],
   "source": [
    "#HIDDEN\n",
    "personweight = widgets.IntText(description='Weight (kg):',value=60)\n",
    "display(personweight)\n",
    "\n",
    "imp = widgets.Dropdown(options=indicator.values(),description='Impact')\n",
    "display(imp)\n",
    "gen = widgets.Dropdown(options=gender.values(),description='Gender:')\n",
    "display(gen)\n",
    "height = widgets.IntText(description='Height (cm):',value=165)\n",
    "display(height)\n",
    "age = widgets.IntText(description='Age (yrs):',value=40)\n",
    "display(age)\n",
    "act = widgets.Dropdown(options=activity.keys(),description='Activity Level:',value='moderate')\n",
    "display(act)\n",
    "sup = widgets.Dropdown(options=supp.values(),description='Supplements?',style=style)\n",
    "display(sup)\n",
    "days = widgets.BoundedIntText(description='Number of Days:',style=style,value=7)\n",
    "display(days)\n",
    "diettype = widgets.Dropdown(options=preferences.keys(),description='Dietary Preferences:',style=style,value='none')\n",
    "display(diettype)\n"
   ]
  },
  {
   "cell_type": "code",
   "execution_count": 84,
   "metadata": {},
   "outputs": [],
   "source": [
    "# HIDDEN\n",
    "\n",
    "def joinlists_new(widgetname):\n",
    "    global selectedfoods\n",
    "    rs1 = [widgetname.description for widgetname in widgetname.children[1].children if widgetname.value]\n",
    "    rs2 = [widgetname.value for widgetname in widgetname.children[2].children if widgetname.value]\n",
    "    food = list(zip(rs1,rs2))\n",
    "    \n",
    "    try:\n",
    "        food\n",
    "        for j in food:\n",
    "            selectedfoods[j[0].split(',')[0]] = {}#'names'\n",
    "            selectedfoods[j[0].split(',')[0]]['names']=j[0]\n",
    "            selectedfoods[j[0].split(',')[0]]['mass']=j[1]\n",
    "    except NameError:\n",
    "        i= None   \n",
    "    return #selectedfoods"
   ]
  },
  {
   "cell_type": "markdown",
   "metadata": {},
   "source": [
    "# Are there certain foods you must have?"
   ]
  },
  {
   "cell_type": "code",
   "execution_count": 126,
   "metadata": {},
   "outputs": [],
   "source": [
    "# HIDDEN\n",
    "listofcheckboxes = {'no preferences':[0],'fruits':['FAT'],'vegetables':['DGR','DGC'],\n",
    "     'legumes':['DBR','DBC','DFR','DFC'],'grains':['AC','AC_wg','DAR','DAC',\n",
    "     'AI','AI_wg','AA','AA_wg','AF','AF_wg','AD','AD_wg','AC','AC_wg'],'nuts_seeds':\n",
    "     ['GAT'],'milk':['BAE','BAH','BAK','BLS','BLM','BLH','BLF','BN'],\n",
    "     'vegetarianproducts':['BAV','BNV','VEG'],\n",
    "     'fish':['JAC', 'JAR', 'JCC', 'JCR', 'JKC', 'JKR', 'JMC', 'JMR', 'JRC'],\n",
    "    'meat':['MBGR','MBGC','MACR','MACC','MAER','MECC','MECR','MEER','MEEC','MAIC','MAIR','MAE',\\\n",
    "    'MAIR','MAIC','MCOR','MCOC','MCAR','MCAC','MAGR','MAGC','MAHR','MAHC',\n",
    "    'MI','MAAC','MAAR'],'eggs_oil':['CA','OA', 'OC', 'OE','BTM','BJC']}"
   ]
  },
  {
   "cell_type": "code",
   "execution_count": 125,
   "metadata": {},
   "outputs": [],
   "source": [
    "# HIDDEN\n",
    "selectedfoods = {}\n",
    "#Generate a dummy list\n",
    "Allfileslist = list(zip(df_foods['Food Name'],df_foods['Group']))\n",
    "#Search box + generate ALL the checkboxes, this seems to be the bottleneck\n",
    "search_widget = widgets.Dropdown(options = listofcheckboxes.keys(),layout={'width': 'initial'})\n",
    "experiments = {}\n",
    "experiments_mass = {}\n",
    "options_widget = widgets.VBox(layout={'overflow': 'auto'})\n",
    "mass_widget = widgets.VBox(layout={'overflow': 'auto'})\n",
    "button_wid = widgets.Button(description='Save Choices')\n",
    "but_out = widgets.Output()\n",
    "def save(b):\n",
    "    with but_out:\n",
    "        joinlists_new(multi_select)\n",
    "button_wid.on_click(save)    \n",
    "    \n",
    "def whentextischanged (change):\n",
    "    \"\"\"Dynamically update the widget experiments\"\"\"\n",
    "    search_input = change['new']\n",
    "    if search_input == 'no preferences':\n",
    "        # Reset search field, default to last 9 experiments\n",
    "        new_options = [widgets.Checkbox(description='Proceed with optimization', value=True)]\n",
    "        new_options_mass = [widgets.Checkbox(description='Proceed with optimization', value=True)]\n",
    "    else:\n",
    "        # Filter by search\n",
    "        close_matches = [x[0] for x in Allfileslist if x[1] in(listofcheckboxes[search_widget.value])][0:5]\n",
    "        for name in close_matches:\n",
    "            if name not in experiments:\n",
    "                experiments[name] = widgets.Checkbox(description=name, value=False,style={'description_width': 'initial'})\n",
    "                experiments_mass[name] = widgets.IntSlider(description='Mass (grams)', min=0,max=500,step=50,value=0)\n",
    "        ### magic code that generates only the match boxes ###\n",
    "        new_options = [experiments[eachfilename] for eachfilename in close_matches]\n",
    "        new_options_mass = [experiments_mass[eachfilename] for eachfilename in close_matches]\n",
    "    options_widget.children = new_options\n",
    "    mass_widget.children = new_options_mass"
   ]
  },
  {
   "cell_type": "code",
   "execution_count": 127,
   "metadata": {},
   "outputs": [
    {
     "data": {
      "application/vnd.jupyter.widget-view+json": {
       "model_id": "035d6710477f458d8f514e0e5f69b050",
       "version_major": 2,
       "version_minor": 0
      },
      "text/plain": [
       "HBox(children=(Dropdown(layout=Layout(width='initial'), options=('no preferences', 'fruits', 'vegetables', 'le…"
      ]
     },
     "metadata": {},
     "output_type": "display_data"
    }
   ],
   "source": [
    "# HIDDEN\n",
    "#Generate the vbox, search\n",
    "multi_select = widgets.HBox([search_widget, options_widget,mass_widget,button_wid])\n",
    "search_widget.observe(whentextischanged, names='value')\n",
    "#serve it up\n",
    "multi_select"
   ]
  },
  {
   "cell_type": "code",
   "execution_count": 49,
   "metadata": {},
   "outputs": [
    {
     "data": {
      "application/vnd.jupyter.widget-view+json": {
       "model_id": "5f8da77ecb054ab999d0bd0b6748e3bd",
       "version_major": 2,
       "version_minor": 0
      },
      "text/plain": [
       "Button(description='Foods I have to have', style=ButtonStyle())"
      ]
     },
     "metadata": {},
     "output_type": "display_data"
    },
    {
     "data": {
      "application/vnd.jupyter.widget-view+json": {
       "model_id": "f024c7bd739143b5adc82ed99f3ba1d8",
       "version_major": 2,
       "version_minor": 0
      },
      "text/plain": [
       "Output()"
      ]
     },
     "metadata": {},
     "output_type": "display_data"
    }
   ],
   "source": [
    "# HIDDEN\n",
    "runcodeA = widgets.Button(description='Foods I have to have')\n",
    "outputA = widgets.Output()\n",
    "def includefoods(b):\n",
    "    global df_foods\n",
    "    with outputA:\n",
    "        ipython.magic('run Foods_to_Include.ipynb')\n",
    "        df_foods = editdf(dftest2,imp.value,diettype.value,sup.value)\n",
    "        return df_foods\n",
    "display(runcodeA,outputA)\n",
    "runcodeA.on_click(includefoods)"
   ]
  },
  {
   "cell_type": "code",
   "execution_count": 123,
   "metadata": {},
   "outputs": [
    {
     "data": {
      "application/vnd.jupyter.widget-view+json": {
       "model_id": "c62d05b14a5147cdbb96207d46e76ca7",
       "version_major": 2,
       "version_minor": 0
      },
      "text/plain": [
       "Button(description='Run Tool', style=ButtonStyle())"
      ]
     },
     "metadata": {},
     "output_type": "display_data"
    },
    {
     "data": {
      "application/vnd.jupyter.widget-view+json": {
       "model_id": "4313d9750abd4a6c92005009695fdad0",
       "version_major": 2,
       "version_minor": 0
      },
      "text/plain": [
       "Output()"
      ]
     },
     "metadata": {},
     "output_type": "display_data"
    }
   ],
   "source": [
    "runcode5 = widgets.Button(description='Run Tool')\n",
    "output5 = widgets.Output()\n",
    "def run_tool(b):\n",
    "    global df_opt\n",
    "    with output5:\n",
    "        \n",
    "        \n",
    "        \n",
    "        ipython.magic('run Optimization_Tool_Online.ipynb')\n",
    "        print ('This can take some time.')\n",
    "        df_opt = runopt(df_foods,imp.value,diettype.value,sup.value,gen.value,personweight.value,\\\n",
    "                          height.value,age.value,act.value,days.value,2,selectedfoods)\n",
    "        return \n",
    "display(runcode5,output5)\n",
    "runcode5.on_click(run_tool)"
   ]
  },
  {
   "cell_type": "code",
   "execution_count": 124,
   "metadata": {},
   "outputs": [
    {
     "data": {
      "text/html": [
       "<div>\n",
       "<style scoped>\n",
       "    .dataframe tbody tr th:only-of-type {\n",
       "        vertical-align: middle;\n",
       "    }\n",
       "\n",
       "    .dataframe tbody tr th {\n",
       "        vertical-align: top;\n",
       "    }\n",
       "\n",
       "    .dataframe thead th {\n",
       "        text-align: right;\n",
       "    }\n",
       "</style>\n",
       "<table border=\"1\" class=\"dataframe\">\n",
       "  <thead>\n",
       "    <tr style=\"text-align: right;\">\n",
       "      <th></th>\n",
       "      <th>Food Name</th>\n",
       "      <th>Grams</th>\n",
       "      <th>optimization_country_GHG_1_trade</th>\n",
       "      <th>optimization_value_GHG_1_trade</th>\n",
       "      <th>bio_GHGopt_value1</th>\n",
       "      <th>optimization_value_BIO_1_trade</th>\n",
       "      <th>optimization_country_BIO_1_trade</th>\n",
       "      <th>GHG_bioopt_value1</th>\n",
       "      <th>bio_GHGopt_value1</th>\n",
       "    </tr>\n",
       "  </thead>\n",
       "  <tbody>\n",
       "    <tr>\n",
       "      <th>0</th>\n",
       "      <td>almonds,_flaked_and_ground_GAT</td>\n",
       "      <td>500.000000</td>\n",
       "      <td>US</td>\n",
       "      <td>0.003466</td>\n",
       "      <td>2.132229e-17</td>\n",
       "      <td>1.124133e-17</td>\n",
       "      <td>AU</td>\n",
       "      <td>0.006993</td>\n",
       "      <td>2.132229e-17</td>\n",
       "    </tr>\n",
       "    <tr>\n",
       "      <th>2</th>\n",
       "      <td>apples,_eating,_raw,_flesh_and_skin,_weighed_w...</td>\n",
       "      <td>500.000000</td>\n",
       "      <td>IT</td>\n",
       "      <td>0.000205</td>\n",
       "      <td>1.005305e-18</td>\n",
       "      <td>1.274994e-19</td>\n",
       "      <td>CH</td>\n",
       "      <td>0.000349</td>\n",
       "      <td>1.005305e-18</td>\n",
       "    </tr>\n",
       "    <tr>\n",
       "      <th>13</th>\n",
       "      <td>avocado,_flesh_only,_average,_weighed_with_ski...</td>\n",
       "      <td>500.000000</td>\n",
       "      <td>IL</td>\n",
       "      <td>0.001170</td>\n",
       "      <td>2.091114e-18</td>\n",
       "      <td>2.026653e-18</td>\n",
       "      <td>ZA</td>\n",
       "      <td>0.001512</td>\n",
       "      <td>2.091114e-18</td>\n",
       "    </tr>\n",
       "    <tr>\n",
       "      <th>25</th>\n",
       "      <td>sunflower_seeds,_toasted_GAT</td>\n",
       "      <td>500.000000</td>\n",
       "      <td>CH</td>\n",
       "      <td>0.000639</td>\n",
       "      <td>2.871373e-18</td>\n",
       "      <td>2.603193e-18</td>\n",
       "      <td>DE</td>\n",
       "      <td>0.000925</td>\n",
       "      <td>2.871373e-18</td>\n",
       "    </tr>\n",
       "    <tr>\n",
       "      <th>26</th>\n",
       "      <td>bananas,_raw,_flesh_only,_weighed_with_skin_FAT</td>\n",
       "      <td>500.000000</td>\n",
       "      <td>CO</td>\n",
       "      <td>0.000637</td>\n",
       "      <td>7.015127e-18</td>\n",
       "      <td>4.155707e-18</td>\n",
       "      <td>PA</td>\n",
       "      <td>0.000732</td>\n",
       "      <td>7.015127e-18</td>\n",
       "    </tr>\n",
       "    <tr>\n",
       "      <th>47</th>\n",
       "      <td>beans,_broad,_dried,_raw,_canned_DBR</td>\n",
       "      <td>420.000000</td>\n",
       "      <td>CH</td>\n",
       "      <td>0.000332</td>\n",
       "      <td>3.850140e-17</td>\n",
       "      <td>5.920336e-19</td>\n",
       "      <td>GB</td>\n",
       "      <td>0.000580</td>\n",
       "      <td>3.850140e-17</td>\n",
       "    </tr>\n",
       "    <tr>\n",
       "      <th>86</th>\n",
       "      <td>bread,_wholemeal,_average_AF_wg</td>\n",
       "      <td>420.000000</td>\n",
       "      <td>CH</td>\n",
       "      <td>0.000477</td>\n",
       "      <td>1.321229e-18</td>\n",
       "      <td>1.439377e-19</td>\n",
       "      <td>FI</td>\n",
       "      <td>0.001030</td>\n",
       "      <td>1.321229e-18</td>\n",
       "    </tr>\n",
       "    <tr>\n",
       "      <th>98</th>\n",
       "      <td>cereal,_malted_flake,_fortified_AI</td>\n",
       "      <td>420.000000</td>\n",
       "      <td>CH</td>\n",
       "      <td>0.000750</td>\n",
       "      <td>1.771647e-18</td>\n",
       "      <td>4.775524e-19</td>\n",
       "      <td>GB</td>\n",
       "      <td>0.001488</td>\n",
       "      <td>1.771647e-18</td>\n",
       "    </tr>\n",
       "    <tr>\n",
       "      <th>113</th>\n",
       "      <td>pasta,_wholewheat,_spaghetti,_dried,_raw_AD_wg</td>\n",
       "      <td>357.097470</td>\n",
       "      <td>CH</td>\n",
       "      <td>0.000587</td>\n",
       "      <td>1.516410e-18</td>\n",
       "      <td>8.235970e-19</td>\n",
       "      <td>DE</td>\n",
       "      <td>0.000814</td>\n",
       "      <td>1.516410e-18</td>\n",
       "    </tr>\n",
       "    <tr>\n",
       "      <th>148</th>\n",
       "      <td>sauerkraut_DGR</td>\n",
       "      <td>539.360230</td>\n",
       "      <td>CH</td>\n",
       "      <td>0.000364</td>\n",
       "      <td>5.100528e-19</td>\n",
       "      <td>2.174748e-19</td>\n",
       "      <td>NL</td>\n",
       "      <td>0.000481</td>\n",
       "      <td>5.100528e-19</td>\n",
       "    </tr>\n",
       "    <tr>\n",
       "      <th>168</th>\n",
       "      <td>chard,_swiss,_raw_DGR</td>\n",
       "      <td>700.000000</td>\n",
       "      <td>IT</td>\n",
       "      <td>0.000216</td>\n",
       "      <td>3.305979e-18</td>\n",
       "      <td>3.305979e-18</td>\n",
       "      <td>IT</td>\n",
       "      <td>0.000216</td>\n",
       "      <td>3.305979e-18</td>\n",
       "    </tr>\n",
       "    <tr>\n",
       "      <th>196</th>\n",
       "      <td>pumpkin_seeds_GAT</td>\n",
       "      <td>140.000000</td>\n",
       "      <td>IT</td>\n",
       "      <td>0.000274</td>\n",
       "      <td>1.512744e-18</td>\n",
       "      <td>1.512744e-18</td>\n",
       "      <td>IT</td>\n",
       "      <td>0.000274</td>\n",
       "      <td>1.512744e-18</td>\n",
       "    </tr>\n",
       "    <tr>\n",
       "      <th>217</th>\n",
       "      <td>lettuce,_average,_raw_DGR</td>\n",
       "      <td>580.639770</td>\n",
       "      <td>CH</td>\n",
       "      <td>0.000183</td>\n",
       "      <td>3.929669e-19</td>\n",
       "      <td>3.472991e-19</td>\n",
       "      <td>FR</td>\n",
       "      <td>0.000254</td>\n",
       "      <td>3.929669e-19</td>\n",
       "    </tr>\n",
       "    <tr>\n",
       "      <th>219</th>\n",
       "      <td>rocket,_raw_DGR</td>\n",
       "      <td>700.000000</td>\n",
       "      <td>CH</td>\n",
       "      <td>0.000155</td>\n",
       "      <td>3.330228e-19</td>\n",
       "      <td>2.943212e-19</td>\n",
       "      <td>FR</td>\n",
       "      <td>0.000216</td>\n",
       "      <td>3.330228e-19</td>\n",
       "    </tr>\n",
       "    <tr>\n",
       "      <th>251</th>\n",
       "      <td>milk,_whole,_pasteurised,_average_BAK</td>\n",
       "      <td>3045.000000</td>\n",
       "      <td>DE</td>\n",
       "      <td>0.001928</td>\n",
       "      <td>3.479676e-18</td>\n",
       "      <td>2.551133e-18</td>\n",
       "      <td>CH</td>\n",
       "      <td>0.001950</td>\n",
       "      <td>3.479676e-18</td>\n",
       "    </tr>\n",
       "    <tr>\n",
       "      <th>261</th>\n",
       "      <td>muesli,_swiss_style,_unfortified_AI_wg</td>\n",
       "      <td>420.000000</td>\n",
       "      <td>FR</td>\n",
       "      <td>0.000319</td>\n",
       "      <td>4.535923e-19</td>\n",
       "      <td>4.535923e-19</td>\n",
       "      <td>FR</td>\n",
       "      <td>0.000319</td>\n",
       "      <td>4.535923e-19</td>\n",
       "    </tr>\n",
       "    <tr>\n",
       "      <th>281</th>\n",
       "      <td>pears,_average,_flesh_and_skin,_raw,_weighed_w...</td>\n",
       "      <td>1050.000000</td>\n",
       "      <td>BE</td>\n",
       "      <td>0.000092</td>\n",
       "      <td>2.607993e-19</td>\n",
       "      <td>6.091399e-20</td>\n",
       "      <td>CH</td>\n",
       "      <td>0.000521</td>\n",
       "      <td>2.607993e-19</td>\n",
       "    </tr>\n",
       "    <tr>\n",
       "      <th>392</th>\n",
       "      <td>herring,_flesh_only,_grilled_JCC</td>\n",
       "      <td>106.663840</td>\n",
       "      <td>CA</td>\n",
       "      <td>0.002676</td>\n",
       "      <td>1.551890e-16</td>\n",
       "      <td>1.173063e-16</td>\n",
       "      <td>JP</td>\n",
       "      <td>0.002792</td>\n",
       "      <td>1.551890e-16</td>\n",
       "    </tr>\n",
       "    <tr>\n",
       "      <th>412</th>\n",
       "      <td>supplement</td>\n",
       "      <td>2.648356</td>\n",
       "      <td>0</td>\n",
       "      <td>0.310000</td>\n",
       "      <td>5.500000e-16</td>\n",
       "      <td>5.500000e-16</td>\n",
       "      <td>0</td>\n",
       "      <td>0.310000</td>\n",
       "      <td>5.500000e-16</td>\n",
       "    </tr>\n",
       "  </tbody>\n",
       "</table>\n",
       "</div>"
      ],
      "text/plain": [
       "                                             Food Name        Grams  \\\n",
       "0                       almonds,_flaked_and_ground_GAT   500.000000   \n",
       "2    apples,_eating,_raw,_flesh_and_skin,_weighed_w...   500.000000   \n",
       "13   avocado,_flesh_only,_average,_weighed_with_ski...   500.000000   \n",
       "25                        sunflower_seeds,_toasted_GAT   500.000000   \n",
       "26     bananas,_raw,_flesh_only,_weighed_with_skin_FAT   500.000000   \n",
       "47                beans,_broad,_dried,_raw,_canned_DBR   420.000000   \n",
       "86                     bread,_wholemeal,_average_AF_wg   420.000000   \n",
       "98                  cereal,_malted_flake,_fortified_AI   420.000000   \n",
       "113     pasta,_wholewheat,_spaghetti,_dried,_raw_AD_wg   357.097470   \n",
       "148                                     sauerkraut_DGR   539.360230   \n",
       "168                              chard,_swiss,_raw_DGR   700.000000   \n",
       "196                                  pumpkin_seeds_GAT   140.000000   \n",
       "217                          lettuce,_average,_raw_DGR   580.639770   \n",
       "219                                    rocket,_raw_DGR   700.000000   \n",
       "251              milk,_whole,_pasteurised,_average_BAK  3045.000000   \n",
       "261             muesli,_swiss_style,_unfortified_AI_wg   420.000000   \n",
       "281  pears,_average,_flesh_and_skin,_raw,_weighed_w...  1050.000000   \n",
       "392                   herring,_flesh_only,_grilled_JCC   106.663840   \n",
       "412                                         supplement     2.648356   \n",
       "\n",
       "    optimization_country_GHG_1_trade  optimization_value_GHG_1_trade  \\\n",
       "0                                 US                        0.003466   \n",
       "2                                 IT                        0.000205   \n",
       "13                                IL                        0.001170   \n",
       "25                                CH                        0.000639   \n",
       "26                                CO                        0.000637   \n",
       "47                                CH                        0.000332   \n",
       "86                                CH                        0.000477   \n",
       "98                                CH                        0.000750   \n",
       "113                               CH                        0.000587   \n",
       "148                               CH                        0.000364   \n",
       "168                               IT                        0.000216   \n",
       "196                               IT                        0.000274   \n",
       "217                               CH                        0.000183   \n",
       "219                               CH                        0.000155   \n",
       "251                               DE                        0.001928   \n",
       "261                               FR                        0.000319   \n",
       "281                               BE                        0.000092   \n",
       "392                               CA                        0.002676   \n",
       "412                                0                        0.310000   \n",
       "\n",
       "     bio_GHGopt_value1  optimization_value_BIO_1_trade  \\\n",
       "0         2.132229e-17                    1.124133e-17   \n",
       "2         1.005305e-18                    1.274994e-19   \n",
       "13        2.091114e-18                    2.026653e-18   \n",
       "25        2.871373e-18                    2.603193e-18   \n",
       "26        7.015127e-18                    4.155707e-18   \n",
       "47        3.850140e-17                    5.920336e-19   \n",
       "86        1.321229e-18                    1.439377e-19   \n",
       "98        1.771647e-18                    4.775524e-19   \n",
       "113       1.516410e-18                    8.235970e-19   \n",
       "148       5.100528e-19                    2.174748e-19   \n",
       "168       3.305979e-18                    3.305979e-18   \n",
       "196       1.512744e-18                    1.512744e-18   \n",
       "217       3.929669e-19                    3.472991e-19   \n",
       "219       3.330228e-19                    2.943212e-19   \n",
       "251       3.479676e-18                    2.551133e-18   \n",
       "261       4.535923e-19                    4.535923e-19   \n",
       "281       2.607993e-19                    6.091399e-20   \n",
       "392       1.551890e-16                    1.173063e-16   \n",
       "412       5.500000e-16                    5.500000e-16   \n",
       "\n",
       "    optimization_country_BIO_1_trade  GHG_bioopt_value1  bio_GHGopt_value1  \n",
       "0                                 AU           0.006993       2.132229e-17  \n",
       "2                                 CH           0.000349       1.005305e-18  \n",
       "13                                ZA           0.001512       2.091114e-18  \n",
       "25                                DE           0.000925       2.871373e-18  \n",
       "26                                PA           0.000732       7.015127e-18  \n",
       "47                                GB           0.000580       3.850140e-17  \n",
       "86                                FI           0.001030       1.321229e-18  \n",
       "98                                GB           0.001488       1.771647e-18  \n",
       "113                               DE           0.000814       1.516410e-18  \n",
       "148                               NL           0.000481       5.100528e-19  \n",
       "168                               IT           0.000216       3.305979e-18  \n",
       "196                               IT           0.000274       1.512744e-18  \n",
       "217                               FR           0.000254       3.929669e-19  \n",
       "219                               FR           0.000216       3.330228e-19  \n",
       "251                               CH           0.001950       3.479676e-18  \n",
       "261                               FR           0.000319       4.535923e-19  \n",
       "281                               CH           0.000521       2.607993e-19  \n",
       "392                               JP           0.002792       1.551890e-16  \n",
       "412                                0           0.310000       5.500000e-16  "
      ]
     },
     "execution_count": 124,
     "metadata": {},
     "output_type": "execute_result"
    }
   ],
   "source": [
    "# HIDDEN\n",
    "df_opt[(df_opt['Grams']!=0)&(df_opt['Grams'].notnull())]"
   ]
  },
  {
   "cell_type": "code",
   "execution_count": 129,
   "metadata": {},
   "outputs": [],
   "source": [
    "import matplotlib"
   ]
  },
  {
   "cell_type": "code",
   "execution_count": null,
   "metadata": {},
   "outputs": [],
   "source": []
  },
  {
   "cell_type": "code",
   "execution_count": null,
   "metadata": {},
   "outputs": [],
   "source": [
    "def choices(foodgroup):\n",
    "    selectedfoods = {}\n",
    "    try:\n",
    "        variable = foodgroup\n",
    "    except NameError:\n",
    "        pass    \n",
    "    else:    \n",
    "        for j in variable:\n",
    "            selectedfoods[j[0].split(',')[0]] = {}#'names'\n",
    "            selectedfoods[j[0].split(',')[0]]['names']=j[0]\n",
    "            selectedfoods[j[0].split(',')[0]]['mass']=j[1]\n",
    "\n",
    "    return selectedfoods"
   ]
  }
 ],
 "metadata": {
  "kernelspec": {
   "display_name": "Python [conda env:new_environment]",
   "language": "python",
   "name": "conda-env-new_environment-py"
  },
  "language_info": {
   "codemirror_mode": {
    "name": "ipython",
    "version": 3
   },
   "file_extension": ".py",
   "mimetype": "text/x-python",
   "name": "python",
   "nbconvert_exporter": "python",
   "pygments_lexer": "ipython3",
   "version": "3.6.4"
  }
 },
 "nbformat": 4,
 "nbformat_minor": 2
}
