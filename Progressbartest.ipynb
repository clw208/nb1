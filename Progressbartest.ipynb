{
 "cells": [
  {
   "cell_type": "code",
   "execution_count": 1,
   "metadata": {},
   "outputs": [],
   "source": [
    "# HIDDEN\n",
    "from ipywidgets import widgets, interact, Dropdown,SelectMultiple, Checkbox,VBox,FloatSlider,Button,FloatProgress\n",
    "from IPython.display import display\n",
    "#https://stackoverflow.com/questions/18398929/passing-multiple-variables-from-dropdowns-using-django-python\n",
    "#https://towardsdatascience.com/bring-your-jupyter-notebook-to-life-with-interactive-widgets-bc12e03f0916\n",
    "#https://medium.com/@jdchipox/how-to-interact-with-jupyter-33a98686f24e\n",
    "#https://stackoverflow.com/questions/26352555/how-does-one-get-widget-values-with-a-button-in-ipython\n",
    "#https://elc.github.io/posts/embed-interactive-notebooks/"
   ]
  },
  {
   "cell_type": "code",
   "execution_count": 2,
   "metadata": {},
   "outputs": [],
   "source": [
    "# HIDDEN \n",
    "import numpy as np\n",
    "import pandas as pd\n",
    "import re\n",
    "import os\n",
    "import threading\n",
    "import time\n",
    "from IPython import get_ipython\n",
    "from IPython.display import HTML, display\n",
    "ipython = get_ipython()\n",
    "# input files from other python scripts"
   ]
  },
  {
   "cell_type": "code",
   "execution_count": 3,
   "metadata": {},
   "outputs": [],
   "source": [
    "# HIDDEN\n",
    "style = {'description_width': 'initial'}\n",
    "mnths = {'jan':1,'feb':2,'mar':3,'apr':4,'may':5,'jun':6,'jul':7,'aug':8,'sep':9,'oct':10,'nov':11,'dec':12}"
   ]
  },
  {
   "cell_type": "code",
   "execution_count": 4,
   "metadata": {},
   "outputs": [],
   "source": [
    "cntry = np.load('trandict.npy',allow_pickle='TRUE').item()\n",
    "cntry = {v:k for k,v in cntry.items()}"
   ]
  },
  {
   "cell_type": "code",
   "execution_count": 5,
   "metadata": {},
   "outputs": [
    {
     "data": {
      "application/vnd.jupyter.widget-view+json": {
       "model_id": "18b0bf8c1f134633a4f1952a0d394e77",
       "version_major": 2,
       "version_minor": 0
      },
      "text/plain": [
       "Dropdown(index=26, options=('Aruba', 'Angola', 'Anguilla', 'Albania', 'Andorra', 'Argentina', 'American Samoa'…"
      ]
     },
     "metadata": {},
     "output_type": "display_data"
    },
    {
     "data": {
      "application/vnd.jupyter.widget-view+json": {
       "model_id": "f2530b332ffa49d5a7c2785611fc64a7",
       "version_major": 2,
       "version_minor": 0
      },
      "text/plain": [
       "Dropdown(index=7, options=('jan', 'feb', 'mar', 'apr', 'may', 'jun', 'jul', 'aug', 'sep', 'oct', 'nov', 'dec')…"
      ]
     },
     "metadata": {},
     "output_type": "display_data"
    }
   ],
   "source": [
    "# HIDDEN\n",
    "var1 = widgets.Dropdown(options = cntry.keys(),value = 'Switzerland')\n",
    "display(var1)\n",
    "var2 = widgets.Dropdown(options = mnths.keys(),value='aug')\n",
    "display(var2)"
   ]
  },
  {
   "cell_type": "code",
   "execution_count": 6,
   "metadata": {},
   "outputs": [
    {
     "data": {
      "application/vnd.jupyter.widget-view+json": {
       "model_id": "9d890f4d036a4b28a221220bd96a777d",
       "version_major": 2,
       "version_minor": 0
      },
      "text/plain": [
       "Button(description='Build the database', style=ButtonStyle())"
      ]
     },
     "metadata": {},
     "output_type": "display_data"
    },
    {
     "data": {
      "application/vnd.jupyter.widget-view+json": {
       "model_id": "87fd43ffee044094a44208b368ff1cf7",
       "version_major": 2,
       "version_minor": 0
      },
      "text/plain": [
       "Output()"
      ]
     },
     "metadata": {},
     "output_type": "display_data"
    }
   ],
   "source": [
    "progress = widgets.FloatProgress(value=0.0, min=0.0, max=1.0)\n",
    "finished = False\n",
    "def work(progress):#method local to this method\n",
    "    total = 200\n",
    "    for i in range(total):\n",
    "        if finished != True:\n",
    "            time.sleep(1)\n",
    "            progress.value = float(i+1)/total\n",
    "        else:\n",
    "            progress.value = 200\n",
    "            break\n",
    "thread = threading.Thread(target=work, args=(progress,))\n",
    "#display(progress)\n",
    "#start the progress bar thread\n",
    "thread.start()\n",
    "#Whatever code you want to run async\n",
    "runcode2 = widgets.Button(description='Build the database')\n",
    "output2 = widgets.Output()\n",
    "def test(b):\n",
    "    global df_foods\n",
    "    with output2:\n",
    "        print ('I want a diet for:',var1.value, '\\nfor the month of:',var2.value)\n",
    "        print ('This can take awhile.')\n",
    "        ipython.magic('run Build_Optimization_Database.ipynb')\n",
    "        display(progress)\n",
    "        dftest2 = calc_impacts(cntry[var1.value],var2.value)\n",
    "        print (dftest2.head(1))\n",
    "        return dftest2\n",
    "display(runcode2,output2)\n",
    "runcode2.on_click(test)\n",
    "\n",
    "finished = True #To set the process bar to 100% and exit the thread\n"
   ]
  },
  {
   "cell_type": "raw",
   "metadata": {},
   "source": [
    "runcode2 = widgets.Button(description='Build the database')\n",
    "output2 = widgets.Output()\n",
    "def test100(b):   \n",
    "    progress = widgets.FloatProgress(value=0.0, min=0.0, max=1.0)\n",
    "    finished = False\n",
    "    def work(progress):#method local to this method\n",
    "        total = 200\n",
    "        for i in range(total):\n",
    "            if finished != True:\n",
    "                time.sleep(0.01)\n",
    "                progress.value = float(i+1)/total\n",
    "            else:\n",
    "                progress.value = 200\n",
    "                break\n",
    "    thread = threading.Thread(target=work, args=(progress,))\n",
    "    display(progress)\n",
    "    #start the progress bar thread\n",
    "    thread.start()\n",
    "    #Whatever code you want to run async\n",
    "    with output2:\n",
    "        global dftest2\n",
    "        print ('I want a diet for:',var1.value, '\\nfor the month of:',var2.value)\n",
    "        print ('This can take awhile.')      \n",
    "        ipython.magic('run Build_Optimization_Database.ipynb')\n",
    "        display(progress)\n",
    "        dftest2 = calc_impacts(cntry[var1.value],var2.value)\n",
    "        print (dftest2.head(1))\n",
    "        \n",
    "    finished = True #To set the process bar to 100% and exit the thread\n",
    "\n",
    "display(runcode2,output2)\n",
    "runcode2.on_click(test100)"
   ]
  },
  {
   "cell_type": "code",
   "execution_count": null,
   "metadata": {},
   "outputs": [],
   "source": []
  }
 ],
 "metadata": {
  "kernelspec": {
   "display_name": "Python [conda env:new_environment]",
   "language": "python",
   "name": "conda-env-new_environment-py"
  },
  "language_info": {
   "codemirror_mode": {
    "name": "ipython",
    "version": 3
   },
   "file_extension": ".py",
   "mimetype": "text/x-python",
   "name": "python",
   "nbconvert_exporter": "python",
   "pygments_lexer": "ipython3",
   "version": "3.6.4"
  }
 },
 "nbformat": 4,
 "nbformat_minor": 2
}
