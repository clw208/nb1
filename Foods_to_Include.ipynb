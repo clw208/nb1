{
 "cells": [
  {
   "cell_type": "code",
   "execution_count": 3,
   "metadata": {},
   "outputs": [],
   "source": [
    "def editdf(df,impact,preference,supplement):\n",
    "    impactperpill = 0.31 # kgCO2eq per pill\n",
    "    df.at[(df['Food Name'].str.contains('pumpkin'))&(df['Food Name'].str.contains('boiled')),'Food Name'] = 'squash, pumpkin, boiled'\n",
    "    df.at[(df['Food Name'].str.contains('pumpkin'))&(df['Food Name'].str.contains('raw')),'Food Name'] = 'squash, pumpkin, raw'\n",
    "    remove = ['AN','OE','AM','BP','AO','SEC','DAP','SN','WCGY','WCG','WCN','Q','SEA','SEC',\\\n",
    "              'SN','WCG','WCN','AA','AA_wg','PAC','SC' ]\n",
    "    df = df[~df['Group'].isin(remove)]\n",
    "    df = df[~df['Food Name'].str.contains('ice cream')]\n",
    "    df = df[~df['Food Name'].str.contains('cocoa')]\n",
    "    df = df[~df['Food Name'].str.contains('raisins')]\n",
    "    # remove lemons limes\n",
    "    sub = df[((df['Food Name'].str.contains('lemon|lime'))&(df['Group']=='FAT'))].index.tolist()\n",
    "    df.drop(sub,axis=0,inplace=True)\n",
    "    \n",
    "    sub1 = df.loc[(df['Food Name'].str.contains('peas|beans|lentils'))&(df['Food Name'].str.contains('raw')\\\n",
    "        &(df['Food Name'].str.contains('dried'))&(~df['Food Name'].str.contains(\\\n",
    "                                'frozen|sugar|runner|cluster|sprouts|canned')))].index.tolist()\n",
    "    df.drop(sub1,axis=0,inplace=True)\n",
    "    sub2 = df.loc[(df['Food Name'].str.contains('tomato puree'))].index.tolist()\n",
    "    df.drop(sub2,axis=0,inplace=True)\n",
    "    \n",
    "    df = df.fillna(0)\n",
    "    df['Food Name']= df[['Food Name','Group']].apply(lambda x: '_'.join(x),axis=1)\n",
    "    df = df[~((df['Group'].str.startswith('M'))&((df['Group'].str.endswith('R'))))]    \n",
    "    \n",
    "    # remove raw meat () and raw fish\n",
    "    # remove cooked vegetables (DGC)\n",
    "    #df = df[~(df['Group']=='DGC')]\n",
    "\n",
    "    df = df[~((df['Group'].str.startswith('J'))&(df['Group'].str.endswith('R')))]\n",
    "    \n",
    "    if preference == 'vegan':\n",
    "        #fish,meat,dairy\n",
    "        df = df[~(df['Group'].str.startswith('J')|df['Group'].str.startswith('M'))]\n",
    "        df = df[~(df['Group'].isin(['BLS','BLH','BLF','BN','BAH','BAK','BAE']))]\n",
    "        df = df[~(df['Group']=='CA')]#butter\n",
    "        df = df[~(df['Group']=='OA')]#eggs\n",
    "        df = df[~df['Food Name'].str.contains('egg,')]\n",
    "        df = df[~df['Food Code'].isin(['11-795','11-793','11-719'])] # get rid of oats with milk and egg noodles\n",
    "    elif preference == 'vegetarian':\n",
    "        df = df[~(df['Group'].str.startswith('J')|df['Group'].str.startswith('M'))]\n",
    "    elif preference == 'pescatarian':\n",
    "        df = df[~df['Group'].str.startswith('M')]\n",
    "    else:pass\n",
    "    \n",
    "    if supplement == 'yes_sup':\n",
    "        sup_dict = {'Calcium (mg)':1200,'Vitamin B12 (µg)':3,'Iron (mg)':18,\\\n",
    "        'Zinc (mg)':10,'Selenium (µg)':55,'Retinol Equivalent (µg)':900,'Vitamin D (µg)':20,\\\n",
    "        'Iodine (µg)':150, 'Vitamin K1 (µg)':120,'Food Name':'supplement','Group':'SUP',\\\n",
    "        'optimization_value_GHG_1_trade':impactperpill,'GHG_bioopt_value1':impactperpill,\n",
    "         'optimization_value_BIO_1_trade':5.5e-16,'bio_GHGopt_value1':5.5e-16,\n",
    "            'conversion factor':1,'Edible proportion':1,\\\n",
    "                    }     \n",
    "        df = df.append(sup_dict,ignore_index=True)\n",
    "        df = df.fillna(0)\n",
    "        #np.mean(df1['global_landbio_gram'])*10 for value for biodiversity loss from a supplement\n",
    "    \n",
    "    else:pass\n",
    "    # these need to be updated in next version to account for no trade and no home production\n",
    "    df = df[(df['trade_impacts_GHG'].str.len()!=0)|(df['trade_impacts_BIO'].str.len()!=0)]\n",
    "    df = df[df['optimization_value_GHG_1_trade']!=0]\n",
    "    df = df[df['optimization_value_BIO_1_trade']!=0]\n",
    "    df = df[(df['bio_GHGopt_value1']!=0)|(df['GHG_bioopt_value1']!=0)]\n",
    "\n",
    "    # additional impact due to not all parts being consumed:\n",
    "    # take non-edible proportion, multiply by impact per gram of total product, add this to edible proportion impact\n",
    "    # because even though this isn't consumed as part of the grams recommended, it is still produced. Need to \n",
    "    # say non-edible proportion is 1 (not 0) if whole thing is consumed to avoid getting zero impact\n",
    "    m1 = (df['Edible proportion']!=1)\n",
    "    df_valid = df[m1]\n",
    "    df.loc[m1,'Non_edible'] = 1 - df_valid['Edible proportion']\n",
    "    \n",
    "    for i in ['optimization_value_GHG_1_trade','bio_GHGopt_value1','optimization_value_BIO_1_trade',\\\n",
    "              'GHG_bioopt_value1']:\n",
    "        df[i] = df[i]*df['conversion factor']\n",
    "        df.loc[m1,i] = df.loc[m1,i]+(df.loc[m1,i]*df.loc[m1,'Non_edible'])\n",
    "    df.reset_index(inplace=True,drop=True)\n",
    "    return df"
   ]
  },
  {
   "cell_type": "code",
   "execution_count": 5,
   "metadata": {},
   "outputs": [],
   "source": [
    "#import numpy as np\n",
    "#import pandas as pd"
   ]
  },
  {
   "cell_type": "code",
   "execution_count": 7,
   "metadata": {},
   "outputs": [],
   "source": [
    "#df = pd.read_pickle('CH_aug.p')"
   ]
  },
  {
   "cell_type": "code",
   "execution_count": null,
   "metadata": {},
   "outputs": [],
   "source": []
  },
  {
   "cell_type": "code",
   "execution_count": null,
   "metadata": {},
   "outputs": [],
   "source": []
  }
 ],
 "metadata": {
  "kernelspec": {
   "display_name": "Python [conda env:new_environment]",
   "language": "python",
   "name": "conda-env-new_environment-py"
  },
  "language_info": {
   "codemirror_mode": {
    "name": "ipython",
    "version": 3
   },
   "file_extension": ".py",
   "mimetype": "text/x-python",
   "name": "python",
   "nbconvert_exporter": "python",
   "pygments_lexer": "ipython3",
   "version": "3.6.4"
  }
 },
 "nbformat": 4,
 "nbformat_minor": 2
}
