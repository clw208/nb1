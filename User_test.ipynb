{
 "cells": [
  {
   "cell_type": "code",
   "execution_count": 1,
   "metadata": {},
   "outputs": [],
   "source": [
    "# HIDDEN\n",
    "from ipywidgets import widgets, interact, Dropdown,SelectMultiple, Checkbox,VBox,FloatSlider,Button\n",
    "from IPython.display import display\n",
    "#https://stackoverflow.com/questions/18398929/passing-multiple-variables-from-dropdowns-using-django-python\n",
    "#https://towardsdatascience.com/bring-your-jupyter-notebook-to-life-with-interactive-widgets-bc12e03f0916\n",
    "#https://medium.com/@jdchipox/how-to-interact-with-jupyter-33a98686f24e\n",
    "#https://stackoverflow.com/questions/26352555/how-does-one-get-widget-values-with-a-button-in-ipython\n",
    "#https://elc.github.io/posts/embed-interactive-notebooks/"
   ]
  },
  {
   "cell_type": "code",
   "execution_count": 2,
   "metadata": {},
   "outputs": [],
   "source": [
    "# HIDDEN \n",
    "import numpy as np\n",
    "import pandas as pd\n",
    "import re\n",
    "import os\n",
    "from IPython import get_ipython\n",
    "ipython = get_ipython()"
   ]
  },
  {
   "cell_type": "code",
   "execution_count": 3,
   "metadata": {},
   "outputs": [],
   "source": [
    "# HIDDEN\n",
    "style = {'description_width': 'initial'}\n",
    "mnths = {'jan':1,'feb':2,'mar':3,'apr':4,'may':5,'jun':6,'jul':7,'aug':8,'sep':9,'oct':10,'nov':11,'dec':12}\n",
    "cntry = np.load('trandict.npy',allow_pickle='TRUE').item()\n",
    "cntry = {v:k for k,v in cntry.items()}"
   ]
  },
  {
   "cell_type": "markdown",
   "metadata": {},
   "source": [
    "# Choose your country and the month for which you'd like a diet"
   ]
  },
  {
   "cell_type": "code",
   "execution_count": 4,
   "metadata": {},
   "outputs": [
    {
     "data": {
      "application/vnd.jupyter.widget-view+json": {
       "model_id": "2e0956b135fd49ca99311cb81cb00584",
       "version_major": 2,
       "version_minor": 0
      },
      "text/plain": [
       "Dropdown(index=26, options=('Aruba', 'Angola', 'Anguilla', 'Albania', 'Andorra', 'Argentina', 'American Samoa'…"
      ]
     },
     "metadata": {},
     "output_type": "display_data"
    },
    {
     "data": {
      "application/vnd.jupyter.widget-view+json": {
       "model_id": "e021bbb98edc4b0d8b62f22648766ddd",
       "version_major": 2,
       "version_minor": 0
      },
      "text/plain": [
       "Dropdown(index=7, options=('jan', 'feb', 'mar', 'apr', 'may', 'jun', 'jul', 'aug', 'sep', 'oct', 'nov', 'dec')…"
      ]
     },
     "metadata": {},
     "output_type": "display_data"
    }
   ],
   "source": [
    "# HIDDEN\n",
    "var1 = widgets.Dropdown(options = cntry.keys(),value = 'Switzerland')\n",
    "display(var1)\n",
    "var2 = widgets.Dropdown(options = mnths.keys(),value='aug')\n",
    "display(var2)"
   ]
  },
  {
   "cell_type": "code",
   "execution_count": 5,
   "metadata": {},
   "outputs": [],
   "source": [
    "runcode2 = widgets.Button(description='Build the database')\n",
    "output2 = widgets.Output()\n",
    "def test(b):\n",
    "    global dftest2\n",
    "    with output2:\n",
    "        print ('I want a diet for:',var1.value, '\\nfor the month of:',var2.value)\n",
    "        ipython.magic('run Build_Optimization_Database.ipynb')\n",
    "        dftest2 = calc_impacts(cntry[var1.value],var2.value)\n",
    "        return dftest2"
   ]
  },
  {
   "cell_type": "code",
   "execution_count": 6,
   "metadata": {},
   "outputs": [
    {
     "data": {
      "application/vnd.jupyter.widget-view+json": {
       "model_id": "6f807091ab824994a45a692e0644b652",
       "version_major": 2,
       "version_minor": 0
      },
      "text/plain": [
       "Button(description='Build the database', style=ButtonStyle())"
      ]
     },
     "metadata": {},
     "output_type": "display_data"
    },
    {
     "data": {
      "application/vnd.jupyter.widget-view+json": {
       "model_id": "af40b27ff9b342f29c44c368c350dcb5",
       "version_major": 2,
       "version_minor": 0
      },
      "text/plain": [
       "Output()"
      ]
     },
     "metadata": {},
     "output_type": "display_data"
    }
   ],
   "source": [
    "display(runcode2,output2)\n",
    "runcode2.on_click(test)"
   ]
  },
  {
   "cell_type": "code",
   "execution_count": 7,
   "metadata": {},
   "outputs": [],
   "source": [
    "runcode10 = widgets.Button(description='Show the database')\n",
    "output10 = widgets.Output()\n",
    "def show(b):\n",
    "    global dftest2\n",
    "    with output10:\n",
    "        print (dftest2.head(1))"
   ]
  },
  {
   "cell_type": "code",
   "execution_count": 8,
   "metadata": {},
   "outputs": [
    {
     "data": {
      "application/vnd.jupyter.widget-view+json": {
       "model_id": "acf60ddc3caa47b8ba410bdfa81a5860",
       "version_major": 2,
       "version_minor": 0
      },
      "text/plain": [
       "Button(description='Show the database', style=ButtonStyle())"
      ]
     },
     "metadata": {},
     "output_type": "display_data"
    },
    {
     "data": {
      "application/vnd.jupyter.widget-view+json": {
       "model_id": "21901046fa8243dc8feda38971d40618",
       "version_major": 2,
       "version_minor": 0
      },
      "text/plain": [
       "Output()"
      ]
     },
     "metadata": {},
     "output_type": "display_data"
    }
   ],
   "source": [
    "display(runcode10,output10)\n",
    "runcode10.on_click(show)"
   ]
  },
  {
   "cell_type": "code",
   "execution_count": 9,
   "metadata": {},
   "outputs": [],
   "source": [
    "# HIDDEN\n",
    "gender={'female':1,'male':0}\n",
    "preferences = {'vegetarian':0,'vegan':1,'none':2}\n",
    "indicator = {'climate change':'GHG','biodiversity loss':'BIO','both':'any'}\n",
    "activity = {'sedentary':0,'moderate':1,'vigorous':2}\n",
    "supp = {'yes':'yes_sup','no':'no_sup'}\n",
    "weighting = {'climate change':0,'biodiversity loss':0,'both':0.5}\n",
    "def weighting(impact):\n",
    "    if impact == 'GHG' or 'BIO': w = 0\n",
    "    elif impact == 'both':w = 0.5\n",
    "    else: w = 0\n",
    "    return w"
   ]
  },
  {
   "cell_type": "markdown",
   "metadata": {},
   "source": [
    "# Please answer the following questions to personalize the diet to your needs"
   ]
  },
  {
   "cell_type": "code",
   "execution_count": 26,
   "metadata": {},
   "outputs": [
    {
     "data": {
      "application/vnd.jupyter.widget-view+json": {
       "model_id": "ac0f8d23bf434763851300e6b5c93b60",
       "version_major": 2,
       "version_minor": 0
      },
      "text/plain": [
       "IntText(value=60, description='Weight (kg):')"
      ]
     },
     "metadata": {},
     "output_type": "display_data"
    },
    {
     "data": {
      "application/vnd.jupyter.widget-view+json": {
       "model_id": "471b73ee025e4adf96a517fb701f9e62",
       "version_major": 2,
       "version_minor": 0
      },
      "text/plain": [
       "Dropdown(description='Impact', options=('GHG', 'BIO', 'any'), value='GHG')"
      ]
     },
     "metadata": {},
     "output_type": "display_data"
    },
    {
     "data": {
      "application/vnd.jupyter.widget-view+json": {
       "model_id": "63c85415331748639f839cd41f928503",
       "version_major": 2,
       "version_minor": 0
      },
      "text/plain": [
       "Dropdown(description='Gender:', options=(1, 0), value=1)"
      ]
     },
     "metadata": {},
     "output_type": "display_data"
    },
    {
     "data": {
      "application/vnd.jupyter.widget-view+json": {
       "model_id": "34003dafed3c4c28ab0cdb95916e0f70",
       "version_major": 2,
       "version_minor": 0
      },
      "text/plain": [
       "IntText(value=165, description='Height (cm):')"
      ]
     },
     "metadata": {},
     "output_type": "display_data"
    },
    {
     "data": {
      "application/vnd.jupyter.widget-view+json": {
       "model_id": "575a31caa4724d4b852e73e92f869a83",
       "version_major": 2,
       "version_minor": 0
      },
      "text/plain": [
       "IntText(value=40, description='Age (yrs):')"
      ]
     },
     "metadata": {},
     "output_type": "display_data"
    },
    {
     "data": {
      "application/vnd.jupyter.widget-view+json": {
       "model_id": "f69467ebbdfd4378b2fefab80d78340c",
       "version_major": 2,
       "version_minor": 0
      },
      "text/plain": [
       "Dropdown(description='Activity Level:', index=1, options=('sedentary', 'moderate', 'vigorous'), value='moderat…"
      ]
     },
     "metadata": {},
     "output_type": "display_data"
    },
    {
     "data": {
      "application/vnd.jupyter.widget-view+json": {
       "model_id": "27f91069d2f2422d91f8f4cf9eb2986f",
       "version_major": 2,
       "version_minor": 0
      },
      "text/plain": [
       "Dropdown(description='Supplements?', options=('yes_sup', 'no_sup'), style=DescriptionStyle(description_width='…"
      ]
     },
     "metadata": {},
     "output_type": "display_data"
    },
    {
     "data": {
      "application/vnd.jupyter.widget-view+json": {
       "model_id": "360dfb0bf3b648b886061efce74446fd",
       "version_major": 2,
       "version_minor": 0
      },
      "text/plain": [
       "BoundedIntText(value=7, description='Number of Days:', style=DescriptionStyle(description_width='initial'))"
      ]
     },
     "metadata": {},
     "output_type": "display_data"
    },
    {
     "data": {
      "application/vnd.jupyter.widget-view+json": {
       "model_id": "7a42596cabab4c97b8836f82065fbb22",
       "version_major": 2,
       "version_minor": 0
      },
      "text/plain": [
       "Dropdown(description='Dietary Preferences:', index=2, options=('vegetarian', 'vegan', 'none'), style=Descripti…"
      ]
     },
     "metadata": {},
     "output_type": "display_data"
    }
   ],
   "source": [
    "#HIDDEN\n",
    "personweight = widgets.IntText(description='Weight (kg):',value=60)\n",
    "display(personweight)\n",
    "\n",
    "imp = widgets.Dropdown(options=indicator.values(),description='Impact')\n",
    "display(imp)\n",
    "gen = widgets.Dropdown(options=gender.values(),description='Gender:')\n",
    "display(gen)\n",
    "height = widgets.IntText(description='Height (cm):',value=165)\n",
    "display(height)\n",
    "age = widgets.IntText(description='Age (yrs):',value=40)\n",
    "display(age)\n",
    "act = widgets.Dropdown(options=activity.keys(),description='Activity Level:',value='moderate')\n",
    "display(act)\n",
    "sup = widgets.Dropdown(options=supp.values(),description='Supplements?',style=style)\n",
    "display(sup)\n",
    "days = widgets.BoundedIntText(description='Number of Days:',style=style,value=7)\n",
    "display(days)\n",
    "diettype = widgets.Dropdown(options=preferences.keys(),description='Dietary Preferences:',style=style,value='none')\n",
    "display(diettype)\n"
   ]
  },
  {
   "cell_type": "code",
   "execution_count": 13,
   "metadata": {},
   "outputs": [
    {
     "data": {
      "text/plain": [
       "'GHG'"
      ]
     },
     "execution_count": 13,
     "metadata": {},
     "output_type": "execute_result"
    }
   ],
   "source": [
    "imp.value"
   ]
  },
  {
   "cell_type": "code",
   "execution_count": 14,
   "metadata": {},
   "outputs": [
    {
     "data": {
      "text/plain": [
       "'none'"
      ]
     },
     "execution_count": 14,
     "metadata": {},
     "output_type": "execute_result"
    }
   ],
   "source": [
    "diettype.value"
   ]
  },
  {
   "cell_type": "code",
   "execution_count": 15,
   "metadata": {},
   "outputs": [
    {
     "data": {
      "text/plain": [
       "'yes_sup'"
      ]
     },
     "execution_count": 15,
     "metadata": {},
     "output_type": "execute_result"
    }
   ],
   "source": [
    "sup.value"
   ]
  },
  {
   "cell_type": "code",
   "execution_count": 16,
   "metadata": {},
   "outputs": [
    {
     "data": {
      "text/plain": [
       "1"
      ]
     },
     "execution_count": 16,
     "metadata": {},
     "output_type": "execute_result"
    }
   ],
   "source": [
    "gen.value"
   ]
  },
  {
   "cell_type": "code",
   "execution_count": 17,
   "metadata": {},
   "outputs": [
    {
     "data": {
      "text/plain": [
       "60"
      ]
     },
     "execution_count": 17,
     "metadata": {},
     "output_type": "execute_result"
    }
   ],
   "source": [
    "personweight.value"
   ]
  },
  {
   "cell_type": "code",
   "execution_count": 18,
   "metadata": {},
   "outputs": [
    {
     "data": {
      "text/plain": [
       "165"
      ]
     },
     "execution_count": 18,
     "metadata": {},
     "output_type": "execute_result"
    }
   ],
   "source": [
    "height.value"
   ]
  },
  {
   "cell_type": "code",
   "execution_count": 19,
   "metadata": {},
   "outputs": [],
   "source": [
    "runcode5 = widgets.Button(description='Run Tool')\n",
    "output5 = widgets.Output()"
   ]
  },
  {
   "cell_type": "code",
   "execution_count": 27,
   "metadata": {},
   "outputs": [],
   "source": [
    "def run_tool(b):\n",
    "    #global df\n",
    "    with output5:\n",
    "        ipython.magic('run Optimization_Tool_Online.ipynb')\n",
    "        df_foods = runopt(dftest2,imp.value,diettype.value,sup.value,gen.value,personweight.value,\\\n",
    "                          height.value,age.value,act.value,days.value,2)\n",
    "        return df_foods"
   ]
  },
  {
   "cell_type": "code",
   "execution_count": 28,
   "metadata": {},
   "outputs": [
    {
     "data": {
      "application/vnd.jupyter.widget-view+json": {
       "model_id": "3091d427572249d5ac67ecb1f6055934",
       "version_major": 2,
       "version_minor": 0
      },
      "text/plain": [
       "Button(description='Run Tool', style=ButtonStyle())"
      ]
     },
     "metadata": {},
     "output_type": "display_data"
    },
    {
     "data": {
      "application/vnd.jupyter.widget-view+json": {
       "model_id": "344e8ee67aea4c8ba440376b6e7abd39",
       "version_major": 2,
       "version_minor": 0
      },
      "text/plain": [
       "Output()"
      ]
     },
     "metadata": {},
     "output_type": "display_data"
    }
   ],
   "source": [
    "display(runcode5,output5)\n",
    "runcode5.on_click(run_tool)"
   ]
  },
  {
   "cell_type": "code",
   "execution_count": 30,
   "metadata": {},
   "outputs": [],
   "source": [
    "df"
   ]
  },
  {
   "cell_type": "code",
   "execution_count": 23,
   "metadata": {},
   "outputs": [],
   "source": [
    "# HIDDEN\n",
    "def multi_checkbox_widget(descriptions):\n",
    "    \"\"\" Widget with a search field and lots of checkboxes \"\"\"\n",
    "    #search_widget = widgets.Text()\n",
    "    options_dict = {description: widgets.Checkbox(description=description, value=False) for \n",
    "                    description in descriptions}\n",
    "    options = [options_dict[description] for description in descriptions]\n",
    "    options_widget = widgets.VBox(options, layout={'overflow': 'scroll'})\n",
    "    #options_widget = widgets.HBox(options, layout={'width': 'max-content'})\n",
    "    #multi_select = widgets.VBox([search_widget, options_widget])\n",
    "    mass_dict = {description: widgets.IntSlider(description='Mass (grams)', min=0,\n",
    "                max = 1000,step=50,value=0,disabled=False) for description in descriptions}\n",
    "    mass = [mass_dict[description] for description in descriptions]\n",
    "    mass_widget = widgets.VBox(mass, layout={'overflow': 'scroll'})\n",
    "    multi_select = widgets.HBox(children = [options_widget,mass_widget], layout={'overflow': 'scroll'})\n",
    "    #multi_select = widgets.VBox([options_widget])\n",
    "\n",
    "    # Wire the search field to the checkboxes\n",
    "    def on_text_change(change):\n",
    "        search_input = change['new']\n",
    "        if search_input == '':\n",
    "            # Reset search field\n",
    "            new_options = [options_dict[description] for description in descriptions]\n",
    "        else:\n",
    "            # Filter by search field using difflib.\n",
    "            close_matches = difflib.get_close_matches(search_input, descriptions, cutoff=0.0)\n",
    "            new_options = [options_dict[description] for description in close_matches]\n",
    "        options_widget.children = new_options\n",
    "\n",
    "    #search_widget.observe(on_text_change, names='value')\n",
    "    return multi_select\n",
    "# words = list(set([i.split(',')[0] for i in df1[df1['Group']=='FAT']['Food Name'].tolist()]))\n",
    "# widget = multi_checkbox_widget(words)\n",
    "# [widget.description for widget in widget.children[1].children if widget.value]"
   ]
  },
  {
   "cell_type": "code",
   "execution_count": 24,
   "metadata": {},
   "outputs": [],
   "source": [
    "# HIDDEN\n",
    "def joinlists(widgetname):\n",
    "    rs1 = [widgetname.description for widgetname in widgetname.children[0].children if widgetname.value]\n",
    "    rs2 = [widgetname.value for widgetname in widgetname.children[1].children if widgetname.value]\n",
    "    food = list(zip(rs1,rs2))\n",
    "    return food"
   ]
  },
  {
   "cell_type": "code",
   "execution_count": 25,
   "metadata": {},
   "outputs": [
    {
     "ename": "NameError",
     "evalue": "name 'df1' is not defined",
     "output_type": "error",
     "traceback": [
      "\u001b[0;31m---------------------------------------------------------------------------\u001b[0m",
      "\u001b[0;31mNameError\u001b[0m                                 Traceback (most recent call last)",
      "\u001b[0;32m<ipython-input-25-7701800d526f>\u001b[0m in \u001b[0;36m<module>\u001b[0;34m\u001b[0m\n\u001b[0;32m----> 1\u001b[0;31m \u001b[0mwords\u001b[0m \u001b[0;34m=\u001b[0m \u001b[0;34m[\u001b[0m\u001b[0mi\u001b[0m \u001b[0;32mfor\u001b[0m \u001b[0mi\u001b[0m \u001b[0;32min\u001b[0m \u001b[0mdf1\u001b[0m\u001b[0;34m[\u001b[0m\u001b[0mdf1\u001b[0m\u001b[0;34m[\u001b[0m\u001b[0;34m'Group'\u001b[0m\u001b[0;34m]\u001b[0m\u001b[0;34m.\u001b[0m\u001b[0misin\u001b[0m\u001b[0;34m(\u001b[0m\u001b[0mlistofcheckboxes\u001b[0m\u001b[0;34m[\u001b[0m\u001b[0;34m'vegetarianproducts'\u001b[0m\u001b[0;34m]\u001b[0m\u001b[0;34m)\u001b[0m\u001b[0;34m]\u001b[0m\u001b[0;34m[\u001b[0m\u001b[0;34m'Food Name'\u001b[0m\u001b[0;34m]\u001b[0m\u001b[0;34m]\u001b[0m\u001b[0;34m\u001b[0m\u001b[0m\n\u001b[0m\u001b[1;32m      2\u001b[0m \u001b[0mwidget1\u001b[0m \u001b[0;34m=\u001b[0m \u001b[0mmulti_checkbox_widget\u001b[0m\u001b[0;34m(\u001b[0m\u001b[0mwords\u001b[0m\u001b[0;34m)\u001b[0m\u001b[0;34m\u001b[0m\u001b[0m\n\u001b[1;32m      3\u001b[0m \u001b[0mwidget1\u001b[0m\u001b[0;34m\u001b[0m\u001b[0m\n",
      "\u001b[0;31mNameError\u001b[0m: name 'df1' is not defined"
     ]
    }
   ],
   "source": [
    "words = [i for i in df1[df1['Group'].isin(listofcheckboxes['vegetarianproducts'])]['Food Name']]\n",
    "widget1 = multi_checkbox_widget(words)\n",
    "widget1"
   ]
  },
  {
   "cell_type": "raw",
   "metadata": {},
   "source": [
    "runcode5 = widgets.Button(description='Run Tool')\n",
    "output5 = widgets.Output()\n",
    "\n",
    "def run_tool(b):\n",
    "    #global df\n",
    "    with output5:\n",
    "        ipython.magic('run Optimization_Tool_Online.ipynb')\n",
    "\n",
    "display(runcode5,output5)\n",
    "runcode5.on_click(run_tool)"
   ]
  },
  {
   "cell_type": "raw",
   "metadata": {},
   "source": [
    "runcode3 = widgets.Button(description='Get DF')\n",
    "output3 = widgets.Output()"
   ]
  },
  {
   "cell_type": "raw",
   "metadata": {},
   "source": [
    "def get_df(b):\n",
    "    #global df\n",
    "    #%run Optimization_Tool_Online.ipynb\n",
    "    #print (var1.value,var2.value)\n",
    "    with output3:\n",
    "        df = pd.read_pickle('CH_aug.p')\n",
    "        print (df.head(1))\n",
    "        return df"
   ]
  },
  {
   "cell_type": "raw",
   "metadata": {},
   "source": [
    "display(runcode3,output3)\n",
    "runcode3.on_click(get_df)"
   ]
  },
  {
   "cell_type": "raw",
   "metadata": {},
   "source": [
    "%run Optimization_tool_published.ipynb\n",
    "r1,r2,r3,r4,r5 = testopt(df_for_opt,var8,'yes',var3,var4,var5,var6,var7,var1.value,var2.value,var9,var10,2,var11,var12,0,0)"
   ]
  },
  {
   "cell_type": "code",
   "execution_count": null,
   "metadata": {},
   "outputs": [],
   "source": [
    "listofcheckboxes = {'fruits':['FAT'],'vegetables':['DGR','DGC'],\n",
    "     'legumes':['DBR','DBC','DFR','DFC'],'grains':['AC','AC_wg','DAR','DAC',\n",
    "     'AI','AI_wg','AA','AA_wg','AF','AF_wg','AD','AD_wg','AC','AC_wg'],'nuts_seeds':\n",
    "     ['GAT'],'milk':['BAE','BAH','BAK','BLS','BLM','BLH','BLF','BN'],\n",
    "     'vegetarianproducts':['BAV','BNV','VEG'],\n",
    "     'fish':['JAC', 'JAR', 'JCC', 'JCR', 'JKC', 'JKR', 'JMC', 'JMR', 'JRC'],\n",
    "    'meat':['MBGR','MBGC','MACR','MACC','MAER','MECC','MECR','MEER','MEEC','MAIC','MAIR','MAE',\\\n",
    "    'MAIR','MAIC','MCOR','MCOC','MCAR','MCAC','MAGR','MAGC','MAHR','MAHC',\n",
    "    'MI','MAAC','MAAR'],'eggs_oil':['CA','OA', 'OC', 'OE','BTM','BJC']}"
   ]
  },
  {
   "cell_type": "raw",
   "metadata": {},
   "source": [
    "def multi_checkbox_widget(descriptions):\n",
    "    \"\"\" Widget with a search field and lots of checkboxes \"\"\"\n",
    "    foodgroups = widgets.Dropdown(options = listofcheckboxes.keys())\n",
    "    options_dict = {description: widgets.Checkbox(description=description, value=False) for \n",
    "                    description in descriptions}\n",
    "    options = [options_dict[description] for description in descriptions]\n",
    "    options_widget = widgets.VBox(options, layout={'overflow': 'scroll'})\n",
    "    #options_widget = widgets.HBox(options, layout={'width': 'max-content'})\n",
    "    #multi_select = widgets.VBox([search_widget, options_widget])\n",
    "    mass_dict = {description: widgets.IntSlider(description='Mass (grams)', min=0,\n",
    "                max = 1000,step=50,value=0,disabled=False) for description in descriptions}\n",
    "    mass = [mass_dict[description] for description in descriptions]\n",
    "    mass_widget = widgets.VBox(mass, layout={'overflow': 'scroll'})\n",
    "    multi_select = widgets.HBox(children = [foodgroups,options_widget,mass_widget], layout={'overflow': 'scroll'})\n",
    "    #multi_select = widgets.VBox([options_widget])\n",
    "\n",
    "    # Wire the search field to the checkboxes\n",
    "    def on_text_change(change):\n",
    "        search_input = change['new']\n",
    "        if search_input == '':\n",
    "            # Reset search field\n",
    "            pass\n",
    "        elif search_inputs =='fruits':\n",
    "            # Filter by search field using difflib.\n",
    "            #close_matches = difflib.get_close_matches(search_input, descriptions, cutoff=0.0)\n",
    "            new_options = [options_dict[description] for description in descriptions]\n",
    "        options_widget.children = new_options\n",
    "\n",
    "    foodgroups.observe(on_text_change, names='value')\n",
    "    return multi_select"
   ]
  },
  {
   "cell_type": "raw",
   "metadata": {},
   "source": [
    "foodgroups = widgets.Dropdown(options = listofcheckboxes.keys())\n",
    "display(foodgroups)\n",
    "\n",
    "descriptions = [i for i in df1[df1['Group'].isin(listofcheckboxes['fruits'])]['Food Name']]\n",
    "\n",
    "options_dict = {description: widgets.Checkbox(description=description, value=False) for \n",
    "                    description in descriptions}\n",
    "\n",
    "options = [options_dict[description] for description in descriptions]\n",
    "\n",
    "options_widget = widgets.VBox(options, layout={'overflow': 'scroll'})\n",
    "\n",
    "mass_dict = {description: widgets.IntSlider(description='Mass (grams)', min=0,\n",
    "                max = 1000,step=50,value=0,disabled=False) for description in descriptions}\n",
    "mass = [mass_dict[description] for description in descriptions]\n",
    "mass_widget = widgets.VBox(mass, layout={'overflow': 'scroll'})\n",
    "multi_select = widgets.HBox(children = [foodgroups,options_widget,mass_widget], layout={'overflow': 'scroll'})\n",
    "\n",
    "def on_text_change(change):\n",
    "    search_input = change['new']\n",
    "    if search_input == '':\n",
    "        pass\n",
    "        #new_options = [options_dict[description] for description in descriptions]\n",
    "    elif search_input =='fruits':\n",
    "        new_options =  new_options = [options_dict[description] for description in descriptions]\n",
    "    options_widget.children = new_options    "
   ]
  },
  {
   "cell_type": "code",
   "execution_count": null,
   "metadata": {},
   "outputs": [],
   "source": [
    "vegetarianproducts = joinlists(widget1)"
   ]
  },
  {
   "cell_type": "code",
   "execution_count": null,
   "metadata": {},
   "outputs": [],
   "source": [
    "#vegetarianproducts = [widget.description for widget in widget.children[0].children if widget.value]"
   ]
  },
  {
   "cell_type": "code",
   "execution_count": null,
   "metadata": {},
   "outputs": [],
   "source": [
    "words = [i for i in df1[df1['Group'].isin(listofcheckboxes['eggs_oil'])]['Food Name']]\n",
    "widget2 = multi_checkbox_widget(words)\n",
    "widget2"
   ]
  },
  {
   "cell_type": "code",
   "execution_count": null,
   "metadata": {},
   "outputs": [],
   "source": [
    "eggs_oil = joinlists(widget2)"
   ]
  },
  {
   "cell_type": "code",
   "execution_count": null,
   "metadata": {},
   "outputs": [],
   "source": [
    "words = [i for i in df1[df1['Group'].isin(listofcheckboxes['fish'])]['Food Name']]\n",
    "widget3 = multi_checkbox_widget(words)\n",
    "widget3"
   ]
  },
  {
   "cell_type": "code",
   "execution_count": null,
   "metadata": {},
   "outputs": [],
   "source": [
    "fish = joinlists(widget3)"
   ]
  },
  {
   "cell_type": "code",
   "execution_count": null,
   "metadata": {},
   "outputs": [],
   "source": [
    "words = [i for i in df1[df1['Group'].isin(listofcheckboxes['meat'])]['Food Name']]\n",
    "widget4 = multi_checkbox_widget(words)\n",
    "widget4"
   ]
  },
  {
   "cell_type": "code",
   "execution_count": null,
   "metadata": {
    "scrolled": true
   },
   "outputs": [],
   "source": [
    "meat = joinlists(widget4)"
   ]
  },
  {
   "cell_type": "code",
   "execution_count": null,
   "metadata": {},
   "outputs": [],
   "source": [
    "words = [i for i in df1[df1['Group'].isin(listofcheckboxes['fruits'])]['Food Name']]\n",
    "widget5 = multi_checkbox_widget(words)\n",
    "widget5"
   ]
  },
  {
   "cell_type": "code",
   "execution_count": null,
   "metadata": {},
   "outputs": [],
   "source": [
    "fruit = joinlists(widget5)"
   ]
  },
  {
   "cell_type": "code",
   "execution_count": null,
   "metadata": {},
   "outputs": [],
   "source": [
    "fruit"
   ]
  },
  {
   "cell_type": "code",
   "execution_count": null,
   "metadata": {},
   "outputs": [],
   "source": [
    "words = [i for i in df1[df1['Group'].isin(listofcheckboxes['vegetables'])]['Food Name']]\n",
    "widget6 = multi_checkbox_widget(words)\n",
    "widget6"
   ]
  },
  {
   "cell_type": "code",
   "execution_count": null,
   "metadata": {},
   "outputs": [],
   "source": [
    "vegetables = joinlists(widget6)"
   ]
  },
  {
   "cell_type": "code",
   "execution_count": null,
   "metadata": {},
   "outputs": [],
   "source": [
    "words = [i for i in df1[df1['Group'].isin(listofcheckboxes['legumes'])]['Food Name']]\n",
    "widget7 = multi_checkbox_widget(words)\n",
    "widget7"
   ]
  },
  {
   "cell_type": "code",
   "execution_count": null,
   "metadata": {},
   "outputs": [],
   "source": [
    "legumes = joinlists(widget7)"
   ]
  },
  {
   "cell_type": "code",
   "execution_count": null,
   "metadata": {},
   "outputs": [],
   "source": [
    "words = [i for i in df1[df1['Group'].isin(listofcheckboxes['grains'])]['Food Name']]\n",
    "widget8 = multi_checkbox_widget(words)\n",
    "widget8"
   ]
  },
  {
   "cell_type": "code",
   "execution_count": null,
   "metadata": {},
   "outputs": [],
   "source": [
    "grains = joinlists(widget8)"
   ]
  },
  {
   "cell_type": "code",
   "execution_count": null,
   "metadata": {},
   "outputs": [],
   "source": [
    "words = [i for i in df1[df1['Group'].isin(listofcheckboxes['milk'])]['Food Name']]\n",
    "widget9 = multi_checkbox_widget(words)\n",
    "widget9"
   ]
  },
  {
   "cell_type": "code",
   "execution_count": null,
   "metadata": {},
   "outputs": [],
   "source": [
    "milk = joinlists(widget9)"
   ]
  },
  {
   "cell_type": "code",
   "execution_count": null,
   "metadata": {},
   "outputs": [],
   "source": [
    "selectedfoods = {}\n",
    "for i in [vegetarianproducts,eggs_oil,fish,meat,fruit,vegetables,legumes,grains,milk]:\n",
    "    for j in i:\n",
    "        selectedfoods[j[0].split(',')[0]] = {}#'names'\n",
    "        selectedfoods[j[0].split(',')[0]]['names']=j[0]\n",
    "        selectedfoods[j[0].split(',')[0]]['mass']=j[1]"
   ]
  },
  {
   "cell_type": "code",
   "execution_count": null,
   "metadata": {},
   "outputs": [],
   "source": [
    "selectedfoods"
   ]
  },
  {
   "cell_type": "code",
   "execution_count": null,
   "metadata": {},
   "outputs": [],
   "source": []
  }
 ],
 "metadata": {
  "kernelspec": {
   "display_name": "Python [conda env:new_environment]",
   "language": "python",
   "name": "conda-env-new_environment-py"
  },
  "language_info": {
   "codemirror_mode": {
    "name": "ipython",
    "version": 3
   },
   "file_extension": ".py",
   "mimetype": "text/x-python",
   "name": "python",
   "nbconvert_exporter": "python",
   "pygments_lexer": "ipython3",
   "version": "3.6.4"
  }
 },
 "nbformat": 4,
 "nbformat_minor": 2
}
