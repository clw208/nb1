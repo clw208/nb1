{
 "cells": [
  {
   "cell_type": "code",
   "execution_count": 22,
   "metadata": {},
   "outputs": [],
   "source": [
    "# HIDDEN\n",
    "from ipywidgets import widgets, interact, Dropdown,SelectMultiple, Checkbox,VBox,FloatSlider,Button,IntProgress\n",
    "from IPython.display import display\n",
    "#https://stackoverflow.com/questions/18398929/passing-multiple-variables-from-dropdowns-using-django-python\n",
    "#https://towardsdatascience.com/bring-your-jupyter-notebook-to-life-with-interactive-widgets-bc12e03f0916\n",
    "#https://medium.com/@jdchipox/how-to-interact-with-jupyter-33a98686f24e\n",
    "#https://stackoverflow.com/questions/26352555/how-does-one-get-widget-values-with-a-button-in-ipython\n",
    "#https://elc.github.io/posts/embed-interactive-notebooks/"
   ]
  },
  {
   "cell_type": "code",
   "execution_count": 23,
   "metadata": {},
   "outputs": [],
   "source": [
    "# HIDDEN \n",
    "import numpy as np\n",
    "import pandas as pd\n",
    "import re\n",
    "import os\n",
    "import threading\n",
    "import time\n",
    "from IPython import get_ipython\n",
    "from IPython.display import HTML, display, Image\n",
    "ipython = get_ipython()\n",
    "data_dir = os.path.join('..','nb1','Input')\n",
    "# input files from other python scripts"
   ]
  },
  {
   "cell_type": "markdown",
   "metadata": {},
   "source": [
    "<font color='green'>this text</font>"
   ]
  },
  {
   "cell_type": "markdown",
   "metadata": {},
   "source": [
    "Text <span style=\"font-family: Arial; font-size:1.4em;color:gold;\"> Golden </p> Text"
   ]
  },
  {
   "cell_type": "markdown",
   "metadata": {},
   "source": [
    "<span style=\"font-family: Arial; font-size:1.4em;color:gold;\"> Golden Text"
   ]
  },
  {
   "cell_type": "markdown",
   "metadata": {},
   "source": [
    "![title](Test1.png)"
   ]
  },
  {
   "cell_type": "code",
   "execution_count": 24,
   "metadata": {},
   "outputs": [],
   "source": [
    "# HIDDEN\n",
    "style = {'description_width': 'initial'}\n",
    "mnths = {'jan':1,'feb':2,'mar':3,'apr':4,'may':5,'jun':6,'jul':7,'aug':8,'sep':9,'oct':10,'nov':11,'dec':12}"
   ]
  },
  {
   "cell_type": "code",
   "execution_count": 25,
   "metadata": {},
   "outputs": [],
   "source": [
    "#nbi:right\n",
    "cntry_rev = np.load(os.path.join(data_dir,'trandict.npy'),allow_pickle='TRUE').item()"
   ]
  },
  {
   "cell_type": "code",
   "execution_count": 26,
   "metadata": {},
   "outputs": [],
   "source": [
    "#nbi:left\n",
    "cntry = {v:k for k,v in cntry_rev.items()}"
   ]
  },
  {
   "cell_type": "code",
   "execution_count": 27,
   "metadata": {},
   "outputs": [],
   "source": [
    "# HIDDEN\n",
    "listofcheckboxes = {'no food preferences':[0],'fruits':['FAT'],'vegetables':['DGR','DGC'],\n",
    "     'legumes or beans':['DBR','DBC','DFR','DFC'],'grains and starches':['AC','AC_wg','DAR','DAC',\n",
    "     'AI','AI_wg','AA','AA_wg','AF','AF_wg','AD','AD_wg'],'nuts and seeds':\n",
    "     ['GAT'],'dairy products':['BAE','BAH','BAK','BLS','BLM','BLH','BLF','BN','BJC'],\n",
    "     'vegetarian/vegan food items':['BAV','BNV','VEG'],\n",
    "     'fish':['JAC', 'JAR', 'JCC', 'JCR', 'JKC', 'JKR', 'JMC', 'JMR', 'JRC'],\n",
    "    'meat':['MBGR','MBGC','MACR','MACC','MAER','MECC','MECR','MEER','MEEC','MAIC','MAIR','MAE',\\\n",
    "    'MAIR','MAIC','MCOR','MCOC','MCAR','MCAC','MAGR','MAGC','MAHR','MAHC',\n",
    "    'MI','MAAC','MAAR'],'eggs, oils, and others':['CA','OA', 'OC', 'OE','BTM','BH','BP','BPV','PAC','SC','SEA','WCN']}"
   ]
  },
  {
   "cell_type": "code",
   "execution_count": 28,
   "metadata": {},
   "outputs": [],
   "source": [
    "# HIDDEN\n",
    "def joinlists_new(widgetname):\n",
    "    global selectedfoods\n",
    "    mydict = dict(zip(df_foods['Food Item'],df_foods['Food Name']))\n",
    "    #rs1 = [widgetname.description for widgetname in widgetname.children[1].children if widgetname.value]\n",
    "    rs1 = [mydict[multi_select.description] for multi_select in multi_select.children[1].children if multi_select.value]\n",
    "    rs2 = [widgetname.value for widgetname in widgetname.children[2].children if widgetname.value]\n",
    "    food = list(zip(rs1,rs2))  \n",
    "    try:\n",
    "        food\n",
    "        for j in food:\n",
    "            te = [j[0].replace('_',' ')]\n",
    "            tee = [i[:-4] for i in te]\n",
    "            selectedfoods[tee[0]] = {}\n",
    "            selectedfoods[tee[0]]['names']=j[0]\n",
    "            selectedfoods[tee[0]]['mass']=j[1]              \n",
    "            #selectedfoods[j[0].split(',')[0]] = {}#'names'\n",
    "            #selectedfoods[j[0].split(',')[0]]['names']=j[0]\n",
    "            #selectedfoods[j[0].split(',')[0]]['mass']=j[1]\n",
    "    except NameError:\n",
    "        pass   \n",
    "    return #selectedfoods"
   ]
  },
  {
   "cell_type": "raw",
   "metadata": {},
   "source": [
    "try:\n",
    "    food\n",
    "    for j in food:\n",
    "        print (j[0].split(',')[0])\n",
    "        te = [j[0].replace('_',' ')]\n",
    "        tee = [i[:-4] for i in te]\n",
    "        print (j[1])\n",
    "        selectedfoods[tee[0]] = {}\n",
    "        selectedfoods[tee[0]]['names']=j[0]\n",
    "        selectedfoods[tee[0]]['mass']=j[1]\n",
    "        print (j[0])\n",
    "        # OLD\n",
    "        #selectedfoods[j[0].split(',')[0]] = {}#'names'\n",
    "        #selectedfoods[j[0].split(',')[0]]['names']=j[0]\n",
    "        #selectedfoods[j[0].split(',')[0]]['mass']=j[1]\n",
    "except NameError:\n",
    "    pass  "
   ]
  },
  {
   "cell_type": "code",
   "execution_count": 29,
   "metadata": {},
   "outputs": [],
   "source": [
    "# HIDDEN\n",
    "gender={'female':1,'male':0}\n",
    "preferences = {'vegetarian':0,'vegan':1,'none':2,'pescatarian':3}\n",
    "indicator = {'climate change':'GHG','biodiversity loss':'BIO','both':'both'}\n",
    "activity = {'sedentary':0,'moderate':1,'vigorous':2}\n",
    "supp = {'yes':'yes_sup','no':'no_sup'}\n",
    "vitd = {'yes':1,'no':0}\n",
    "weighting = {'climate change':0,'biodiversity loss':0,'both':0.5}"
   ]
  },
  {
   "cell_type": "code",
   "execution_count": 30,
   "metadata": {},
   "outputs": [],
   "source": [
    "# HIDDEN\n",
    "def display_table(data):\n",
    "    html = \"<table>\"\n",
    "    for row in data:\n",
    "        html += \"<tr>\"\n",
    "        for field in row:\n",
    "            html += \"<td><h4>%s</h4><td>\"%(field)\n",
    "        html += \"</tr>\"\n",
    "    html += \"</table>\"\n",
    "    display(HTML(html))"
   ]
  },
  {
   "cell_type": "markdown",
   "metadata": {},
   "source": [
    "## People may have difficulty coming up with a diet that:\n",
    "## 1) meets their nutrient needs, \n",
    "## 2) follows the Global Burden of Disease food recommendations \n",
    "## 3) incorporates the environmental impacts of producing their food"
   ]
  },
  {
   "cell_type": "markdown",
   "metadata": {},
   "source": [
    "### This tool was developed to help an individual build their own healthful, low environmental impact diet, and takes into account where, when, and how their food is produced."
   ]
  },
  {
   "cell_type": "markdown",
   "metadata": {},
   "source": [
    "## In order to personalize a low impact diet for your specific conditions, please answer the following questions:"
   ]
  },
  {
   "cell_type": "markdown",
   "metadata": {},
   "source": [
    "### Choose your country and the month for which you'd like a diet"
   ]
  },
  {
   "cell_type": "code",
   "execution_count": 31,
   "metadata": {},
   "outputs": [
    {
     "data": {
      "application/vnd.jupyter.widget-view+json": {
       "model_id": "6e3f8c237e4841da8d35c40f05bc4f8d",
       "version_major": 2,
       "version_minor": 0
      },
      "text/plain": [
       "Dropdown(index=22, options=('Aruba', 'Albania', 'Argentina', 'Antigua and Barbuda', 'Australia', 'Austria', 'B…"
      ]
     },
     "metadata": {},
     "output_type": "display_data"
    },
    {
     "data": {
      "application/vnd.jupyter.widget-view+json": {
       "model_id": "b521d8228c504fe396831dcf7efa09aa",
       "version_major": 2,
       "version_minor": 0
      },
      "text/plain": [
       "Dropdown(index=7, options=('jan', 'feb', 'mar', 'apr', 'may', 'jun', 'jul', 'aug', 'sep', 'oct', 'nov', 'dec')…"
      ]
     },
     "metadata": {},
     "output_type": "display_data"
    }
   ],
   "source": [
    "# HIDDEN\n",
    "var1 = widgets.Dropdown(options = cntry.keys(),value = 'Switzerland')\n",
    "display(var1)\n",
    "var2 = widgets.Dropdown(options = mnths.keys(),value='aug')\n",
    "display(var2)"
   ]
  },
  {
   "cell_type": "markdown",
   "metadata": {},
   "source": [
    "### Please answer the following questions to personalize the diet to your needs"
   ]
  },
  {
   "cell_type": "code",
   "execution_count": 32,
   "metadata": {},
   "outputs": [
    {
     "data": {
      "application/vnd.jupyter.widget-view+json": {
       "model_id": "c4f4ae9da4c8465193c1cc0cf1e75ec0",
       "version_major": 2,
       "version_minor": 0
      },
      "text/plain": [
       "IntText(value=60, description='Weight (kg):')"
      ]
     },
     "metadata": {},
     "output_type": "display_data"
    },
    {
     "data": {
      "application/vnd.jupyter.widget-view+json": {
       "model_id": "720c0945fad44f6aa4fdfc8325b8be90",
       "version_major": 2,
       "version_minor": 0
      },
      "text/plain": [
       "Dropdown(description='Gender:', options=('female', 'male'), value='female')"
      ]
     },
     "metadata": {},
     "output_type": "display_data"
    },
    {
     "data": {
      "application/vnd.jupyter.widget-view+json": {
       "model_id": "5c151e07e73c4fb180b5c6322ec6fb4c",
       "version_major": 2,
       "version_minor": 0
      },
      "text/plain": [
       "IntText(value=165, description='Height (cm):')"
      ]
     },
     "metadata": {},
     "output_type": "display_data"
    },
    {
     "data": {
      "application/vnd.jupyter.widget-view+json": {
       "model_id": "ad5efb599b894604bbed8234f1584ae0",
       "version_major": 2,
       "version_minor": 0
      },
      "text/plain": [
       "IntText(value=40, description='Age (yrs):')"
      ]
     },
     "metadata": {},
     "output_type": "display_data"
    },
    {
     "data": {
      "application/vnd.jupyter.widget-view+json": {
       "model_id": "170d681f898b4bedb81c75fac723f9f5",
       "version_major": 2,
       "version_minor": 0
      },
      "text/plain": [
       "Dropdown(description='Activity Level:', index=1, options=('sedentary', 'moderate', 'vigorous'), value='moderat…"
      ]
     },
     "metadata": {},
     "output_type": "display_data"
    },
    {
     "data": {
      "application/vnd.jupyter.widget-view+json": {
       "model_id": "d271b11cf7914a91961c105effd9afbf",
       "version_major": 2,
       "version_minor": 0
      },
      "text/plain": [
       "Dropdown(description='Include a multi-vitamin supplement?', options=('yes', 'no'), style=DescriptionStyle(desc…"
      ]
     },
     "metadata": {},
     "output_type": "display_data"
    }
   ],
   "source": [
    "#HIDDEN\n",
    "personweight = widgets.IntText(description='Weight (kg):',value=60)\n",
    "display(personweight)\n",
    "gen = widgets.Dropdown(options=gender.keys(),description='Gender:')\n",
    "display(gen)\n",
    "height = widgets.IntText(description='Height (cm):',value=165)\n",
    "display(height)\n",
    "age = widgets.IntText(description='Age (yrs):',value=40)\n",
    "display(age)\n",
    "act = widgets.Dropdown(options=activity.keys(),description='Activity Level:',value='moderate')\n",
    "display(act)\n",
    "sup = widgets.Dropdown(options=supp.keys(),description='Include a multi-vitamin supplement?',style=style)\n",
    "display(sup)"
   ]
  },
  {
   "cell_type": "markdown",
   "metadata": {},
   "source": [
    "### Vitamin D can be difficult to get through the diet because of its lack of availability in foods. Therefore, we suggest taking a supplement rather than consuming it through food. If you want it through food, however, we will include it in the optimization."
   ]
  },
  {
   "cell_type": "code",
   "execution_count": 33,
   "metadata": {},
   "outputs": [
    {
     "data": {
      "application/vnd.jupyter.widget-view+json": {
       "model_id": "d68bc51734ea47f6a68109411fefb627",
       "version_major": 2,
       "version_minor": 0
      },
      "text/plain": [
       "Dropdown(description='Include Vitamin D through food?', index=1, options=('yes', 'no'), style=DescriptionStyle…"
      ]
     },
     "metadata": {},
     "output_type": "display_data"
    }
   ],
   "source": [
    "vitamind = widgets.Dropdown(options=vitd.keys(),description='Include Vitamin D through food?',style=style,value='no')\n",
    "display(vitamind)"
   ]
  },
  {
   "cell_type": "markdown",
   "metadata": {},
   "source": [
    "### What environmental impacts would you like to priorititze?\n",
    "##### Currently, climate change (GHG) and biodiversity loss (BIO) are available"
   ]
  },
  {
   "cell_type": "code",
   "execution_count": 34,
   "metadata": {},
   "outputs": [
    {
     "data": {
      "application/vnd.jupyter.widget-view+json": {
       "model_id": "10f1b8825bd740cf9bd25961ae3e4147",
       "version_major": 2,
       "version_minor": 0
      },
      "text/plain": [
       "Dropdown(description='Impact', options=('GHG', 'BIO', 'both'), value='GHG')"
      ]
     },
     "metadata": {},
     "output_type": "display_data"
    }
   ],
   "source": [
    "#HIDDEN\n",
    "imp = widgets.Dropdown(options=indicator.values(),description='Impact')\n",
    "display(imp)"
   ]
  },
  {
   "cell_type": "markdown",
   "metadata": {},
   "source": [
    "### For how many days would you like the diet?\n",
    "##### Seven or more is recommended"
   ]
  },
  {
   "cell_type": "code",
   "execution_count": 35,
   "metadata": {},
   "outputs": [
    {
     "data": {
      "application/vnd.jupyter.widget-view+json": {
       "model_id": "5f1e90f2923e416a8aec0ceceb4e9636",
       "version_major": 2,
       "version_minor": 0
      },
      "text/plain": [
       "BoundedIntText(value=7, description='Number of Days for the Diet:', style=DescriptionStyle(description_width='…"
      ]
     },
     "metadata": {},
     "output_type": "display_data"
    }
   ],
   "source": [
    "days = widgets.BoundedIntText(description='Number of Days for the Diet:',style=style,value=7)\n",
    "display(days)"
   ]
  },
  {
   "cell_type": "markdown",
   "metadata": {},
   "source": [
    "### Do you have dietary preferences (i.e. vegetarian or vegan)? "
   ]
  },
  {
   "cell_type": "code",
   "execution_count": 36,
   "metadata": {},
   "outputs": [
    {
     "data": {
      "application/vnd.jupyter.widget-view+json": {
       "model_id": "4a44a63a67f34945a8dc082f188c0a19",
       "version_major": 2,
       "version_minor": 0
      },
      "text/plain": [
       "Dropdown(description='Dietary Preferences:', index=2, options=('vegetarian', 'vegan', 'none', 'pescatarian'), …"
      ]
     },
     "metadata": {},
     "output_type": "display_data"
    }
   ],
   "source": [
    "diettype = widgets.Dropdown(options=preferences.keys(),description='Dietary Preferences:',style=style,value='none')\n",
    "display(diettype)"
   ]
  },
  {
   "cell_type": "raw",
   "metadata": {},
   "source": [
    "#HIDDEN\n",
    "runcode2 = widgets.Button(description='Build the database')\n",
    "output2 = widgets.Output()\n",
    "def test100(b):   \n",
    "    progress = widgets.FloatProgress(value=0.0, min=0.0, max=1.0)\n",
    "    finished = False\n",
    "    def work(progress):#method local to this method\n",
    "        total = 200\n",
    "        for i in range(total):\n",
    "            if finished != True:\n",
    "                time.sleep(0.2)\n",
    "                progress.value = float(i+1)/total\n",
    "            else:\n",
    "                progress.value = 200\n",
    "                break\n",
    "\n",
    "    thread = threading.Thread(target=work, args=(progress,))\n",
    "    display(progress)\n",
    "    #start the progress bar thread\n",
    "    thread.start()\n",
    "\n",
    "    #Whatever code you want to run async\n",
    "    with output2:\n",
    "        print ('I want a diet for:',var1.value, '\\nfor the month of:',var2.value)\n",
    "        print ('This can take awhile.')\n",
    "        ipython.magic('run Build_Optimization_Database.ipynb')\n",
    "        dftest2 = calc_impacts(cntry[var1.value],var2.value)\n",
    "        return dftest2\n",
    "    finished = True #To set the process bar to 100% and exit the thread\n",
    "display(runcode2,output2)\n",
    "runcode2.on_click(test100)"
   ]
  },
  {
   "cell_type": "code",
   "execution_count": 37,
   "metadata": {},
   "outputs": [
    {
     "data": {
      "application/vnd.jupyter.widget-view+json": {
       "model_id": "5e0d17f0dba943af84b41f7c5c4641ef",
       "version_major": 2,
       "version_minor": 0
      },
      "text/plain": [
       "Button(description='Build the database', style=ButtonStyle())"
      ]
     },
     "metadata": {},
     "output_type": "display_data"
    },
    {
     "data": {
      "application/vnd.jupyter.widget-view+json": {
       "model_id": "0aef9b51757a4e678e62442b926c6493",
       "version_major": 2,
       "version_minor": 0
      },
      "text/plain": [
       "Output()"
      ]
     },
     "metadata": {},
     "output_type": "display_data"
    }
   ],
   "source": [
    "# HIDDEN\n",
    "## ADD A PROGRESS BAR\n",
    "runcode2 = widgets.Button(description='Build the database')\n",
    "output2 = widgets.Output()\n",
    "def test(b):\n",
    "    global df_foods\n",
    "    with output2:\n",
    "        print ('I want a diet for:',var1.value, '\\nfor the month of:',var2.value)\n",
    "        print ('This can take a couple minutes.')\n",
    "        ipython.magic('run Build_Optimization_Database.ipynb')\n",
    "        dftest2 = calc_impacts(cntry[var1.value],var2.value)\n",
    "        ipython.magic('run Foods_to_Include.ipynb')\n",
    "        df_foods = editdf(dftest2,imp.value,diettype.value,supp[sup.value])\n",
    "        #print (df_foods.head(1))\n",
    "        return df_foods\n",
    "display(runcode2,output2)\n",
    "runcode2.on_click(test)"
   ]
  },
  {
   "cell_type": "markdown",
   "metadata": {},
   "source": [
    "### Are there certain foods you must have?"
   ]
  },
  {
   "cell_type": "code",
   "execution_count": 18,
   "metadata": {},
   "outputs": [
    {
     "data": {
      "application/vnd.jupyter.widget-view+json": {
       "model_id": "72837c25cb2c4129aa5b6db0f83de193",
       "version_major": 2,
       "version_minor": 0
      },
      "text/plain": [
       "HBox(children=(Dropdown(layout=Layout(width='initial'), options=('no food preferences', 'fruits', 'vegetables'…"
      ]
     },
     "metadata": {},
     "output_type": "display_data"
    }
   ],
   "source": [
    "# HIDDEN\n",
    "selectedfoods = {}\n",
    "#Generate a dummy list\n",
    "#Allfileslist = list(zip(df_foods['Food Name'],df_foods['Group']))\n",
    "#Search box + generate ALL the checkboxes, this seems to be the bottleneck\n",
    "search_widget = widgets.Dropdown(options = listofcheckboxes.keys(),layout={'width': 'initial'})\n",
    "experiments = {}\n",
    "experiments_mass = {}\n",
    "options_widget = widgets.VBox(layout={'overflow': 'auto'})\n",
    "mass_widget = widgets.VBox(layout={'overflow': 'auto'})\n",
    "button_wid = widgets.Button(description='Save Choices')\n",
    "but_out = widgets.Output()\n",
    "def save(b):\n",
    "    with but_out:\n",
    "        joinlists_new(multi_select)\n",
    "button_wid.on_click(save) \n",
    "\n",
    "def whentextischanged (change):\n",
    "    \"\"\"Dynamically update the widget experiments\"\"\"\n",
    "    search_input = change['new']\n",
    "    if search_input == 'no preferences':\n",
    "        # Reset search field, default to last 9 experiments\n",
    "        new_options = [widgets.Checkbox(description='Proceed with optimization', value=True)]\n",
    "        new_options_mass = [widgets.Checkbox(description='Proceed with optimization', value=True)]\n",
    "    else:\n",
    "        # Filter by search\n",
    "        Allfileslist = list(zip(df_foods['Food Name'],df_foods['Group'],df_foods['Food Item']))\n",
    "        close_matches = [x[0] for x in Allfileslist if x[1] in(listofcheckboxes[search_widget.value])]\n",
    "        display = [x[2] for x in Allfileslist if x[1] in(listofcheckboxes[search_widget.value])]\n",
    "        for name,dis in zip(close_matches,display):\n",
    "            if name not in experiments:\n",
    "                experiments[name] = widgets.Checkbox(description=dis,value=False,style={'description_width': 'initial'})\n",
    "                experiments_mass[name] = widgets.IntSlider(description='Mass (grams)', min=0,max=500,step=50,value=0)\n",
    "        ### magic code that generates only the match boxes ###\n",
    "        new_options = [experiments[eachfilename] for eachfilename in close_matches]\n",
    "        new_options_mass = [experiments_mass[eachfilename] for eachfilename in close_matches]\n",
    "    options_widget.children = new_options\n",
    "    mass_widget.children = new_options_mass\n",
    "# HIDDEN\n",
    "multi_select = widgets.HBox([search_widget, options_widget,mass_widget,button_wid])\n",
    "search_widget.observe(whentextischanged, names='value')\n",
    "display(multi_select)"
   ]
  },
  {
   "cell_type": "code",
   "execution_count": 115,
   "metadata": {},
   "outputs": [],
   "source": [
    "# HIDDEN\n",
    "selectedfoods = {}\n",
    "#Generate a dummy list\n",
    "#Allfileslist = list(zip(df_foods['Food Name'],df_foods['Group']))\n",
    "#Search box + generate ALL the checkboxes, this seems to be the bottleneck\n",
    "search_widget = widgets.Dropdown(options = listofcheckboxes.keys(),layout={'width': 'initial'})\n",
    "experiments = {}\n",
    "experiments_mass = {}\n",
    "options_widget = widgets.VBox(layout={'overflow': 'auto'})\n",
    "mass_widget = widgets.VBox(layout={'overflow': 'auto'})\n",
    "button_wid = widgets.Button(description='Save Choices')\n",
    "but_out = widgets.Output()\n",
    "def save(b):\n",
    "    with but_out:\n",
    "        joinlists_new(multi_select)\n",
    "button_wid.on_click(save)\n",
    "test=[]\n",
    "def whentextischanged (change):\n",
    "    \"\"\"Dynamically update the widget experiments\"\"\"\n",
    "    #search_input = change['new']\n",
    "    #print (change)\n",
    "    #if search_widget.value == 'no preferences':\n",
    "    #    pass\n",
    "        # Reset search field, default to last 9 experiments\n",
    "    #    new_options = [widgets.Checkbox(description='Proceed with optimization', value=True)]\n",
    "    #    new_options_mass = [widgets.Checkbox(description='Proceed with optimization', value=True)]\n",
    "    #else:\n",
    "           # Filter by search          \n",
    "    Allfileslist = list(zip(df_foods['Food Name'],df_foods['Group'],df_foods['Food Item']))\n",
    "    close_matches = [x[0] for x in Allfileslist if x[1] in(listofcheckboxes[search_widget.value])]\n",
    "    display = [x[2] for x in Allfileslist if x[1] in(listofcheckboxes[search_widget.value])]\n",
    "    \n",
    "    \n",
    "    for name,dis in zip(close_matches,display):\n",
    "        if name not in experiments:              \n",
    "                \n",
    "            experiments[name] = widgets.Checkbox(description=dis,value=False,style={'description_width': 'initial'})\n",
    "                #print (change2)\n",
    "            \n",
    "            #experiments_mass[name] = widgets.IntSlider(description='Mass (grams)', min=0,max=500,step=50,value=0)\n",
    "                #else:\n",
    "            #experiments_mass[name] = widgets.IntSlider(description='Mass (grams)', min=200,max=500,step=50,value=0)\n",
    "                    #experiments_mass[name].layout.visibility = 'visible'\n",
    "        ### magic code that generates only the match boxes ###\n",
    "    #for i in experiments:\n",
    "    #if change['name']=='children':\n",
    "    #    print ('i am here')\n",
    "     #   for (k,v),j in zip(experiments.items(),change['old']):\n",
    "     #       print ('this is j',j)\n",
    "     #       if j.value==True:\n",
    "     #           print ('now i am here')\n",
    "     #           experiments_mass[k].layout.visibility = 'visible'\n",
    "      #      else:\n",
    "      #          print ('and finally here')\n",
    "     #           experiments_mass[k].layout.visibility = 'hidden'\n",
    "                \n",
    "   # if change['name']=='children':\n",
    "   #     for i,j in zip(change['new'],experiments):\n",
    "    #        if i.value==True:\n",
    "                \n",
    "                \n",
    "                \n",
    "                \n",
    "   #     print ([i.value for i in change['new']])\n",
    "    \n",
    "        \n",
    "    new_options = [experiments[eachfilename] for eachfilename in close_matches]\n",
    "    #new_options_mass = [experiments_mass[eachfilename] for eachfilename in close_matches]\n",
    "    \n",
    "    options_widget.children = new_options   \n",
    "    #mass_widget.children = new_options_mass\n",
    "    #print ('printing change',change['new'])\n"
   ]
  },
  {
   "cell_type": "code",
   "execution_count": 117,
   "metadata": {},
   "outputs": [
    {
     "data": {
      "application/vnd.jupyter.widget-view+json": {
       "model_id": "867c46f1acc74754af21c61afad41148",
       "version_major": 2,
       "version_minor": 0
      },
      "text/plain": [
       "HBox(children=(Dropdown(index=1, layout=Layout(width='initial'), options=('no food preferences', 'fruits', 've…"
      ]
     },
     "metadata": {},
     "output_type": "display_data"
    }
   ],
   "source": [
    "# HIDDEN\n",
    "multi_select = widgets.HBox([search_widget, options_widget,button_wid])\n",
    "search_widget.observe(whentextischanged, names='value')\n",
    "options_widget.observe(whentextischanged,names='value')\n",
    "display(multi_select)"
   ]
  },
  {
   "cell_type": "code",
   "execution_count": null,
   "metadata": {},
   "outputs": [],
   "source": [
    "[(i,i.value) for i in test[0]['new']]"
   ]
  },
  {
   "cell_type": "code",
   "execution_count": null,
   "metadata": {},
   "outputs": [],
   "source": [
    "selectedfoods"
   ]
  },
  {
   "cell_type": "code",
   "execution_count": null,
   "metadata": {},
   "outputs": [],
   "source": [
    "#print(widgets.Widget.observe.__doc__)"
   ]
  },
  {
   "cell_type": "code",
   "execution_count": null,
   "metadata": {},
   "outputs": [],
   "source": [
    "experiments_mass = {}\n",
    "mass_widget = widgets.VBox(layout={'overflow': 'auto'})\n",
    "def test(change):\n",
    "    if change['new']==True:\n",
    "        mass_wid = widgets.IntSlider(description='Mass (grams)', min=0,max=500,step=50,value=0)\n",
    "        display(mass_widget)         \n",
    "    "
   ]
  },
  {
   "cell_type": "code",
   "execution_count": null,
   "metadata": {},
   "outputs": [],
   "source": []
  },
  {
   "cell_type": "code",
   "execution_count": null,
   "metadata": {},
   "outputs": [],
   "source": [
    "{'name': '_property_lock', 'old': traitlets.Undefined, 'new': {'index': 1},\\\n",
    " 'owner': Dropdown(description='Task:', options=('Addition', 'Multiplication', 'Subtraction'), \\\n",
    "                   value='Addition'), 'type': 'change'}"
   ]
  },
  {
   "cell_type": "code",
   "execution_count": 119,
   "metadata": {},
   "outputs": [
    {
     "data": {
      "application/vnd.jupyter.widget-view+json": {
       "model_id": "aa07c939b9a347fb83655e67be56ce87",
       "version_major": 2,
       "version_minor": 0
      },
      "text/plain": [
       "Checkbox(value=False, description='Mass (grams)')"
      ]
     },
     "metadata": {},
     "output_type": "display_data"
    },
    {
     "name": "stdout",
     "output_type": "stream",
     "text": [
      "{'name': '_property_lock', 'old': traitlets.Undefined, 'new': {'value': True}, 'owner': Checkbox(value=False, description='Mass (grams)'), 'type': 'change'}\n",
      "{'name': 'value', 'old': False, 'new': True, 'owner': Checkbox(value=True, description='Mass (grams)'), 'type': 'change'}\n",
      "True\n",
      "{'name': '_property_lock', 'old': {'value': True}, 'new': {}, 'owner': Checkbox(value=True, description='Mass (grams)'), 'type': 'change'}\n"
     ]
    }
   ],
   "source": [
    "w = widgets.Checkbox(description='Mass (grams)')\n",
    "\n",
    "def on_change(change):\n",
    "    print (change)\n",
    "    if change['new']==True:\n",
    "        print (change['new'])\n",
    "\n",
    "w.observe(on_change)\n",
    "\n",
    "display(w)"
   ]
  },
  {
   "cell_type": "code",
   "execution_count": null,
   "metadata": {},
   "outputs": [],
   "source": [
    "w = widgets.IntSlider(description='Mass (grams)', min=0,max=500,step=50,value=0)\n",
    "\n",
    "def on_change(change):\n",
    "    print (change)\n",
    "\n",
    "w.observe(on_change)\n",
    "\n",
    "display(w)"
   ]
  },
  {
   "cell_type": "code",
   "execution_count": null,
   "metadata": {},
   "outputs": [],
   "source": [
    "change"
   ]
  },
  {
   "cell_type": "code",
   "execution_count": null,
   "metadata": {},
   "outputs": [],
   "source": [
    "import ipywidgets as widgets\n",
    "import pandas as pd\n",
    "from datetime import datetime\n",
    "\n",
    "start_date = datetime(2018, 4, 24)\n",
    "end_date = datetime(2018, 5, 24)\n",
    "\n",
    "dates = pd.date_range(start_date, end_date, freq='D')\n",
    "\n",
    "options = [(date.strftime(' %d %b %Y '), date) for date in dates]\n",
    "index = (0, len(options)-1)\n",
    "\n",
    "selection_range_slider = widgets.SelectionRangeSlider(\n",
    "    options=options,\n",
    "    index=index,\n",
    "    description='Dates',\n",
    "    orientation='horizontal',\n",
    "    layout={'width': '500px'}\n",
    ")\n",
    "\n",
    "selection_range_slider"
   ]
  },
  {
   "cell_type": "code",
   "execution_count": null,
   "metadata": {},
   "outputs": [],
   "source": [
    "def print_date_range(date_range):\n",
    "    print(date_range)\n",
    "\n",
    "widgets.interact(\n",
    "    print_date_range,\n",
    "    date_range=selection_range_slider\n",
    ");"
   ]
  },
  {
   "cell_type": "code",
   "execution_count": null,
   "metadata": {},
   "outputs": [],
   "source": [
    "selectedfoods"
   ]
  },
  {
   "cell_type": "code",
   "execution_count": null,
   "metadata": {},
   "outputs": [],
   "source": [
    "from ipywidgets import interact, Dropdown\n",
    "\n",
    "geo = {'USA':['CHI','NYC'],'Russia':['MOW','LED']}\n",
    "geo2={'CHI':['1','2'],'NYC':['3','4'],'MOW':['5','6'],'LED':['7','8']}\n",
    "\n",
    "countryW = Dropdown(options = geo.keys())\n",
    "cityW = Dropdown()\n",
    "districtW = Dropdown()\n",
    "\n",
    "def update_cityW_options(*args): # *args represent zero (case here) or more arguments.\n",
    "    cityW.options = geo[countryW.value]\n",
    "cityW.observe(update_cityW_options) # Here is the trick, i.e. update cityW.options based on countryW.value.\n",
    "\n",
    "def update_districtW_options(*args):\n",
    "    districtW.options = geo2[cityW.value]\n",
    "districtW.observe(update_districtW_options)\n",
    "\n",
    "@interact(country = countryW, city = cityW, district = districtW)\n",
    "def print_city(country, city, district):\n",
    "    print(country, city, district)"
   ]
  },
  {
   "cell_type": "code",
   "execution_count": null,
   "metadata": {},
   "outputs": [],
   "source": [
    "# HIDDEN\n",
    "runcodeprint = widgets.Button(description='Show Must Haves')\n",
    "outputprint = widgets.Output()\n",
    "def printfoods(b):\n",
    "    global selectedfoods\n",
    "    with outputprint:\n",
    "        foodsitems = [k for k,v in selectedfoods.items()]\n",
    "        foodmass = [v['mass'] for k,v in selectedfoods.items()]\n",
    "        #print (selectedfoods)\n",
    "        for i,j in zip(foodsitems,foodmass):\n",
    "            print (i,':',j,'grams')\n",
    "display(runcodeprint,outputprint)\n",
    "runcodeprint.on_click(printfoods)"
   ]
  },
  {
   "cell_type": "code",
   "execution_count": null,
   "metadata": {},
   "outputs": [],
   "source": [
    "# HIDDEN\n",
    "runcode5 = widgets.Button(description='Click Here to Build your Low Impact and Healthful Diet')\n",
    "output5 = widgets.Output()"
   ]
  },
  {
   "cell_type": "code",
   "execution_count": null,
   "metadata": {},
   "outputs": [],
   "source": [
    "selectedfoods"
   ]
  },
  {
   "cell_type": "code",
   "execution_count": null,
   "metadata": {},
   "outputs": [],
   "source": [
    "def run_tool(b):\n",
    "    global df_opt\n",
    "    global status\n",
    "    with output5:       \n",
    "        ipython.magic('run Optimization_Tool_Online.ipynb')\n",
    "        print ('This can take some time.')\n",
    "        relaxfactor = 2\n",
    "        count = 0        \n",
    "        df_opt=runopt(df_foods,imp.value,diettype.value,supp[sup.value],gender[gen.value],personweight.value,\\\n",
    "                          height.value,age.value,act.value,days.value,2,selectedfoods,vitd[vitamind.value])    \n",
    "        while ((count<=3)&(status!=1)):\n",
    "            if status==1:\n",
    "                break\n",
    "            else:\n",
    "                relaxfactor +=1\n",
    "                count +=1\n",
    "                df_opt=runopt(df_foods,imp.value,diettype.value,supp[sup.value],gender[gen.value],personweight.value,\\\n",
    "                          height.value,age.value,act.value,days.value,2,selectedfoods,vitd[vitamind.value])\n",
    "                print ('didnt optimize')\n",
    "        \n",
    "        df_opt['optimization_country_GHG_1_trade'] = df_opt['optimization_country_GHG_1_trade'].map(cntry_rev)\n",
    "        df_opt['optimization_country_BIO_1_trade'] = df_opt['optimization_country_BIO_1_trade'].map(cntry_rev)        \n",
    "        df_opt = df_opt[(df_opt['Grams']!=0)&(df_opt['Grams'].notnull())]\n",
    "        df_opt = df_opt.sort_values(['Grams'],ascending=False)\n",
    "        name = ['Food Item']+df_opt['Food Item'].tolist()#+[i.split(',')[0] for i in df_opt['Food Name']]\n",
    "        mass = ['Grams']+[int(i) for i in round(df_opt['Grams']).tolist()]\n",
    "            \n",
    "        if imp.value == 'GHG':\n",
    "            print ('My total Climate Change impact is: %s kgCO2 eq'%\\\n",
    "                   round(np.sum(df_opt['optimization_value_GHG_1_trade']*df_opt['Grams']),2))\n",
    "            print ('and the corresponding Biodiversity Loss impact is: %s PDF*yr'%\\\n",
    "                   np.sum(df_opt['bio_GHGopt_value1']*df_opt['Grams']))\n",
    "            cou = ['Source Country']+[i for i in df_opt['optimization_country_GHG_1_trade']] \n",
    "        elif imp.value == 'BIO':  \n",
    "            print ('My total Biodiversity Loss impact is: %s PDF*yr eq'%\\\n",
    "                   np.sum(df_opt['optimization_value_BIO_1_trade']*df_opt['Grams']))\n",
    "            print ('and the corresponding climate change impact is: %s kgCO2eq'%\\\n",
    "                   round(np.sum(df_opt['GHG_bioopt_value1']*df_opt['Grams']),2))\n",
    "            cou = ['Source Country']+[i for i in df_opt['optimization_country_BIO_1_trade']]            \n",
    "        else:\n",
    "            print ('My total Biodiversity Loss impact is: %s PDF*yr eq'%\\\n",
    "                   np.sum(df_opt['bio_GHGopt_value1']*df_opt['Grams']))\n",
    "            print ('and climate change impact is: %s kgCO2eq'%\\\n",
    "                   round(np.sum(df_opt['optimization_value_GHG_1_trade']*df_opt['Grams']),2))\n",
    "            cou = ['Source Country']+[i for i in df_opt['optimization_country_GHG_1_trade']] \n",
    "        data = [name,cou,mass]\n",
    "        display_table(data)\n",
    "\n",
    "    return df_opt"
   ]
  },
  {
   "cell_type": "code",
   "execution_count": null,
   "metadata": {},
   "outputs": [],
   "source": [
    "display(runcode5,output5)\n",
    "runcode5.on_click(run_tool)"
   ]
  },
  {
   "cell_type": "raw",
   "metadata": {},
   "source": [
    "#  OLD AND RUNS\n",
    "# HIDDEN\n",
    "runcode5 = widgets.Button(description='Click Here to Build your Low Impact and Healthful Diet')\n",
    "output5 = widgets.Output()\n",
    "def run_tool(b):\n",
    "    global df_opt\n",
    "    with output5:       \n",
    "        ipython.magic('run Optimization_Tool_Online.ipynb')\n",
    "        print ('This can take some time.')\n",
    "        \n",
    "        df_opt = runopt(df_foods,imp.value,diettype.value,supp[sup.value],gender[gen.value],personweight.value,\\\n",
    "                          height.value,age.value,act.value,days.value,2,selectedfoods,vitd[vitamind.value])\n",
    "        if status==1:\n",
    "            df_opt = df_opt[(df_opt['Grams']!=0)&(df_opt['Grams'].notnull())]\n",
    "            df_opt = df_opt.sort_values(['Grams'],ascending=False)\n",
    "            name = ['Food Item']+[i.split(',')[0] for i in df_opt['Food Name']]\n",
    "            mass = ['Grams']+[int(i) for i in round(df_opt['Grams']).tolist()]\n",
    "            \n",
    "            if imp.value == 'GHG':\n",
    "                print ('My total Climate Change impact is: %s kgCO2 eq'%\\\n",
    "                   round(np.sum(df_opt['optimization_value_GHG_1_trade']*df_opt['Grams']),2))\n",
    "                print ('and the corresponding Biodiversity Loss impact is: %s PDF*yr'%\\\n",
    "                   np.sum(df_opt['bio_GHGopt_value1']*df_opt['Grams']))\n",
    "                cou = ['Source Country']+[i for i in df_opt['optimization_country_GHG_1_trade']] \n",
    "            elif imp.value == 'BIO':  \n",
    "                print ('My total Biodiversity Loss impact is: %s PDF*yr eq'%\\\n",
    "                   np.sum(df_opt['optimization_value_BIO_1_trade']*df_opt['Grams']))\n",
    "                print ('and the corresponding climate change impact is: %s kgCO2eq'%\\\n",
    "                   round(np.sum(df_opt['GHG_bioopt_value1']*df_opt['Grams']),2))\n",
    "                cou = ['Source Country']+[i for i in df_opt['optimization_country_BIO_1_trade']]            \n",
    "            else:\n",
    "                print ('My total Biodiversity Loss impact is: %s PDF*yr eq'%\\\n",
    "                   np.sum(df_opt['bio_GHGopt_value1']*df_opt['Grams']))\n",
    "                print ('and climate change impact is: %s kgCO2eq'%\\\n",
    "                   round(np.sum(df_opt['optimization_value_GHG_1_trade']*df_opt['Grams']),2))\n",
    "                cou = ['Source Country']+[i for i in df_opt['optimization_country_GHG_1_trade']] \n",
    "            data = [name,cou,mass]\n",
    "            display_table(data)\n",
    "        else:\n",
    "            print ('The optimization did not work for an unknown reason, a general low impact diet would include:')\n",
    "            print (status)\n",
    "            df_opt = 0\n",
    "        return df_opt\n",
    "display(runcode5,output5)\n",
    "runcode5.on_click(run_tool)"
   ]
  },
  {
   "cell_type": "raw",
   "metadata": {},
   "source": [
    "import matplotlib.pyplot as plt\n",
    "\n",
    "# Data to plot\n",
    "labels = 'Python', 'C++', 'Ruby', 'Java'\n",
    "sizes = [215, 130, 245, 210]\n",
    "colors = ['gold', 'yellowgreen', 'lightcoral', 'lightskyblue']\n",
    "explode = (0.1, 0, 0, 0)  # explode 1st slice\n",
    "\n",
    "# Plot\n",
    "p,tx,autotexts = plt.pie(sizes, explode=explode, labels=labels, colors=colors,shadow=True, \\\n",
    "                         startangle=140,autopct='%1.1f%%')\n",
    "for i,a in enumerate(autotexts):\n",
    "    a.set_text('{}'.format(sizes[i]))\n",
    "plt.axis('equal')\n",
    "plt.show()"
   ]
  }
 ],
 "metadata": {
  "kernelspec": {
   "display_name": "Python [conda env:new_environment]",
   "language": "python",
   "name": "conda-env-new_environment-py"
  },
  "language_info": {
   "codemirror_mode": {
    "name": "ipython",
    "version": 3
   },
   "file_extension": ".py",
   "mimetype": "text/x-python",
   "name": "python",
   "nbconvert_exporter": "python",
   "pygments_lexer": "ipython3",
   "version": "3.6.4"
  }
 },
 "nbformat": 4,
 "nbformat_minor": 2
}
