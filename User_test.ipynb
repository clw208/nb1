{
 "cells": [
  {
   "cell_type": "code",
   "execution_count": 28,
   "metadata": {},
   "outputs": [],
   "source": [
    "# HIDDEN\n",
    "from ipywidgets import widgets, interact, Dropdown,SelectMultiple, Checkbox,VBox,FloatSlider,Button\n",
    "from IPython.display import display\n",
    "#https://stackoverflow.com/questions/18398929/passing-multiple-variables-from-dropdowns-using-django-python\n",
    "#https://towardsdatascience.com/bring-your-jupyter-notebook-to-life-with-interactive-widgets-bc12e03f0916\n",
    "#https://medium.com/@jdchipox/how-to-interact-with-jupyter-33a98686f24e"
   ]
  },
  {
   "cell_type": "code",
   "execution_count": 2,
   "metadata": {},
   "outputs": [],
   "source": [
    "#https://stackoverflow.com/questions/26352555/how-does-one-get-widget-values-with-a-button-in-ipython"
   ]
  },
  {
   "cell_type": "code",
   "execution_count": 3,
   "metadata": {},
   "outputs": [],
   "source": [
    "#https://elc.github.io/posts/embed-interactive-notebooks/"
   ]
  },
  {
   "cell_type": "code",
   "execution_count": 29,
   "metadata": {},
   "outputs": [],
   "source": [
    "\n",
    "# HIDDEN \n",
    "import numpy as np\n",
    "import pandas as pd\n",
    "import re\n",
    "import os"
   ]
  },
  {
   "cell_type": "code",
   "execution_count": 30,
   "metadata": {},
   "outputs": [],
   "source": [
    "style = {'description_width': 'initial'}"
   ]
  },
  {
   "cell_type": "code",
   "execution_count": 31,
   "metadata": {},
   "outputs": [],
   "source": [
    "mnths = {'jan':1,'feb':2,'mar':3,'apr':4,'may':5,'jun':6,'jul':7,'aug':8,'sep':9,'oct':10,'nov':11,'dec':12}"
   ]
  },
  {
   "cell_type": "code",
   "execution_count": 32,
   "metadata": {},
   "outputs": [],
   "source": [
    "cntry = np.load('trandict.npy',allow_pickle='TRUE').item()"
   ]
  },
  {
   "cell_type": "code",
   "execution_count": 33,
   "metadata": {},
   "outputs": [
    {
     "data": {
      "application/vnd.jupyter.widget-view+json": {
       "model_id": "b19d62588083488383e5d109223acad5",
       "version_major": 2,
       "version_minor": 0
      },
      "text/plain": [
       "Dropdown(index=26, options=('AW', 'AO', 'AI', 'AL', 'AD', 'AR', 'AS', 'AG', 'AU', 'AT', 'BI', 'BE', 'BJ', 'BF'…"
      ]
     },
     "metadata": {},
     "output_type": "display_data"
    }
   ],
   "source": [
    "var1 = widgets.Dropdown(options = cntry.keys(),value='CH')\n",
    "display(var1)"
   ]
  },
  {
   "cell_type": "code",
   "execution_count": 34,
   "metadata": {},
   "outputs": [
    {
     "data": {
      "application/vnd.jupyter.widget-view+json": {
       "model_id": "b3e6571966fc4f49b678e5cda4871705",
       "version_major": 2,
       "version_minor": 0
      },
      "text/plain": [
       "Dropdown(index=7, options=('jan', 'feb', 'mar', 'apr', 'may', 'jun', 'jul', 'aug', 'sep', 'oct', 'nov', 'dec')…"
      ]
     },
     "metadata": {},
     "output_type": "display_data"
    }
   ],
   "source": [
    "var2 = widgets.Dropdown(options = mnths.keys(),value='aug')\n",
    "display(var2)"
   ]
  },
  {
   "cell_type": "code",
   "execution_count": 35,
   "metadata": {},
   "outputs": [],
   "source": [
    "# HIDDEN\n",
    "runcode2 = widgets.Button(description='Test variables')\n",
    "output2 = widgets.Output()"
   ]
  },
  {
   "cell_type": "code",
   "execution_count": 36,
   "metadata": {},
   "outputs": [],
   "source": [
    "# HIDDEN\n",
    "def test(b):\n",
    "    #global dataframe\n",
    "    #%run Optimization_Tool_Online.ipynb\n",
    "    #print (var1.value,var2.value)\n",
    "    with output2:\n",
    "        print ('These are my variables:',var1.value,var2.value)\n",
    "    return"
   ]
  },
  {
   "cell_type": "code",
   "execution_count": 37,
   "metadata": {},
   "outputs": [
    {
     "data": {
      "application/vnd.jupyter.widget-view+json": {
       "model_id": "2164d82c3b0e4e6c924e920311bdf9b8",
       "version_major": 2,
       "version_minor": 0
      },
      "text/plain": [
       "Button(description='Test variables', style=ButtonStyle())"
      ]
     },
     "metadata": {},
     "output_type": "display_data"
    },
    {
     "data": {
      "application/vnd.jupyter.widget-view+json": {
       "model_id": "1e95384355f04b8294c133139f3e98c9",
       "version_major": 2,
       "version_minor": 0
      },
      "text/plain": [
       "Output()"
      ]
     },
     "metadata": {},
     "output_type": "display_data"
    }
   ],
   "source": [
    "display(runcode2,output2)\n",
    "runcode2.on_click(test)"
   ]
  },
  {
   "cell_type": "code",
   "execution_count": 38,
   "metadata": {},
   "outputs": [],
   "source": [
    "# HIDDEN\n",
    "gender={'female':1,'male':0}\n",
    "preferences = {'vegetarian':0,'vegan':1,'none':2}\n",
    "indicator = {'climate change':'GHG','biodiversity loss':'BIO','both':'any'}\n",
    "activity = {'sedentary':0,'moderate':1,'vigorous':2}\n",
    "supp = {'yes':'yes_sup','no':'no_sup'}\n",
    "weighting = {'climate change':0,'biodiversity loss':0,'both':0.5}"
   ]
  },
  {
   "cell_type": "code",
   "execution_count": 39,
   "metadata": {},
   "outputs": [],
   "source": [
    "#HIDDEN\n",
    "def weighting(impact):\n",
    "    if impact == 'GHG' or 'BIO': w = 0\n",
    "    elif impact == 'both':w = 0.5\n",
    "    else: w = 0\n",
    "    return w"
   ]
  },
  {
   "cell_type": "code",
   "execution_count": 40,
   "metadata": {},
   "outputs": [
    {
     "data": {
      "application/vnd.jupyter.widget-view+json": {
       "model_id": "0c3fa0276e4749389b79bfc185b5c35b",
       "version_major": 2,
       "version_minor": 0
      },
      "text/plain": [
       "Dropdown(description='Impact', options=('GHG', 'BIO', 'any'), value='GHG')"
      ]
     },
     "metadata": {},
     "output_type": "display_data"
    },
    {
     "data": {
      "application/vnd.jupyter.widget-view+json": {
       "model_id": "9b88d4d26e874b3caf21ab22fa57935d",
       "version_major": 2,
       "version_minor": 0
      },
      "text/plain": [
       "Dropdown(description='Gender:', options=(1, 0), value=1)"
      ]
     },
     "metadata": {},
     "output_type": "display_data"
    },
    {
     "data": {
      "application/vnd.jupyter.widget-view+json": {
       "model_id": "e342fdbbec3943a28b5e63a43b10442f",
       "version_major": 2,
       "version_minor": 0
      },
      "text/plain": [
       "IntText(value=60, description='Weight (kg):')"
      ]
     },
     "metadata": {},
     "output_type": "display_data"
    },
    {
     "data": {
      "application/vnd.jupyter.widget-view+json": {
       "model_id": "bd69e984a8e743a980eb3d6f3f80674c",
       "version_major": 2,
       "version_minor": 0
      },
      "text/plain": [
       "IntText(value=165, description='Height (cm):')"
      ]
     },
     "metadata": {},
     "output_type": "display_data"
    },
    {
     "data": {
      "application/vnd.jupyter.widget-view+json": {
       "model_id": "ab8b52baf4084a4e851c68785a27e78b",
       "version_major": 2,
       "version_minor": 0
      },
      "text/plain": [
       "IntText(value=40, description='Age (yrs):')"
      ]
     },
     "metadata": {},
     "output_type": "display_data"
    },
    {
     "data": {
      "application/vnd.jupyter.widget-view+json": {
       "model_id": "3bdb35768a1541289a426b6242d9fd37",
       "version_major": 2,
       "version_minor": 0
      },
      "text/plain": [
       "Dropdown(description='Activity Level:', index=1, options=('sedentary', 'moderate', 'vigorous'), value='moderat…"
      ]
     },
     "metadata": {},
     "output_type": "display_data"
    },
    {
     "data": {
      "application/vnd.jupyter.widget-view+json": {
       "model_id": "295dac4763c345b2b82f27b300051e7d",
       "version_major": 2,
       "version_minor": 0
      },
      "text/plain": [
       "Dropdown(description='Supplements?', options=('yes_sup', 'no_sup'), style=DescriptionStyle(description_width='…"
      ]
     },
     "metadata": {},
     "output_type": "display_data"
    },
    {
     "data": {
      "application/vnd.jupyter.widget-view+json": {
       "model_id": "3bbad1f11bd14604994339305ae6d781",
       "version_major": 2,
       "version_minor": 0
      },
      "text/plain": [
       "BoundedIntText(value=7, description='Number of Days:', style=DescriptionStyle(description_width='initial'))"
      ]
     },
     "metadata": {},
     "output_type": "display_data"
    },
    {
     "data": {
      "application/vnd.jupyter.widget-view+json": {
       "model_id": "df391452f02147ecaa6b7817b0e51896",
       "version_major": 2,
       "version_minor": 0
      },
      "text/plain": [
       "Dropdown(description='Dietary Preferences:', index=2, options=('vegetarian', 'vegan', 'none'), style=Descripti…"
      ]
     },
     "metadata": {},
     "output_type": "display_data"
    }
   ],
   "source": [
    "#HIDDEN\n",
    "imp = widgets.Dropdown(options=indicator.values(),description='Impact')\n",
    "display(imp)\n",
    "gen = widgets.Dropdown(options=gender.values(),description='Gender:')\n",
    "display(gen)\n",
    "weight = widgets.IntText(description='Weight (kg):',value=60)\n",
    "display(weight)\n",
    "height = widgets.IntText(description='Height (cm):',value=165)\n",
    "display(height)\n",
    "age = widgets.IntText(description='Age (yrs):',value=40)\n",
    "display(age)\n",
    "act = widgets.Dropdown(options=activity.keys(),description='Activity Level:',value='moderate')\n",
    "display(act)\n",
    "sup = widgets.Dropdown(options=supp.values(),description='Supplements?',style=style)\n",
    "display(sup)\n",
    "days = widgets.BoundedIntText(description='Number of Days:',style=style,value=7)\n",
    "display(days)\n",
    "diettype = widgets.Dropdown(options=preferences.keys(),description='Dietary Preferences:',style=style,value='none')\n",
    "display(diettype)\n"
   ]
  },
  {
   "cell_type": "code",
   "execution_count": 41,
   "metadata": {},
   "outputs": [],
   "source": [
    "# HIDDEN\n",
    "var10 = diettype.value\n",
    "var9 = days.value\n",
    "var4 = weight.value\n",
    "var5 = height.value\n",
    "var6 = age.value\n",
    "var7 = act.value\n",
    "var8 = imp.value\n",
    "var11 = sup.value\n",
    "var12 = weighting(imp.value)\n",
    "var3 = gen.value"
   ]
  },
  {
   "cell_type": "code",
   "execution_count": 42,
   "metadata": {},
   "outputs": [],
   "source": [
    "runcode3 = widgets.Button(description='Get DF')\n",
    "output3 = widgets.Output()"
   ]
  },
  {
   "cell_type": "code",
   "execution_count": 43,
   "metadata": {},
   "outputs": [
    {
     "data": {
      "application/vnd.jupyter.widget-view+json": {
       "model_id": "de021b0727324a0ea5e69d92fec0151f",
       "version_major": 2,
       "version_minor": 0
      },
      "text/plain": [
       "Output()"
      ]
     },
     "metadata": {},
     "output_type": "display_data"
    }
   ],
   "source": [
    "output3"
   ]
  },
  {
   "cell_type": "code",
   "execution_count": 44,
   "metadata": {},
   "outputs": [],
   "source": [
    "def get_df(b):\n",
    "    #global df\n",
    "    #%run Optimization_Tool_Online.ipynb\n",
    "    #print (var1.value,var2.value)\n",
    "    df = pd.read_pickle('CH_aug.p')\n",
    "    print ('GET DF')\n",
    "    print (df.head())\n",
    "    return df"
   ]
  },
  {
   "cell_type": "code",
   "execution_count": 45,
   "metadata": {},
   "outputs": [
    {
     "data": {
      "application/vnd.jupyter.widget-view+json": {
       "model_id": "6000eef8cccc4daf9b4887a5b6050a37",
       "version_major": 2,
       "version_minor": 0
      },
      "text/plain": [
       "Button(description='Get DF', style=ButtonStyle())"
      ]
     },
     "metadata": {},
     "output_type": "display_data"
    },
    {
     "data": {
      "application/vnd.jupyter.widget-view+json": {
       "model_id": "de021b0727324a0ea5e69d92fec0151f",
       "version_major": 2,
       "version_minor": 0
      },
      "text/plain": [
       "Output()"
      ]
     },
     "metadata": {},
     "output_type": "display_data"
    },
    {
     "name": "stdout",
     "output_type": "stream",
     "text": [
      "GET DF\n"
     ]
    }
   ],
   "source": [
    "display(runcode3,output3)\n",
    "runcode3.on_click(get_df)"
   ]
  },
  {
   "cell_type": "code",
   "execution_count": 46,
   "metadata": {},
   "outputs": [],
   "source": [
    "runcode4 = widgets.Button(description='Read other')\n",
    "output4 = widgets.Output()"
   ]
  },
  {
   "cell_type": "code",
   "execution_count": 47,
   "metadata": {},
   "outputs": [],
   "source": [
    "def readothernb(b):\n",
    "    #global df\n",
    "    %run readother.ipynb"
   ]
  },
  {
   "cell_type": "code",
   "execution_count": 48,
   "metadata": {},
   "outputs": [
    {
     "data": {
      "application/vnd.jupyter.widget-view+json": {
       "model_id": "c29327c4d1ec456a894373e2b369b788",
       "version_major": 2,
       "version_minor": 0
      },
      "text/plain": [
       "Button(description='Read other', style=ButtonStyle())"
      ]
     },
     "metadata": {},
     "output_type": "display_data"
    },
    {
     "data": {
      "application/vnd.jupyter.widget-view+json": {
       "model_id": "fe9d503c16744b18b4058765a09f34be",
       "version_major": 2,
       "version_minor": 0
      },
      "text/plain": [
       "Output()"
      ]
     },
     "metadata": {},
     "output_type": "display_data"
    },
    {
     "name": "stdout",
     "output_type": "stream",
     "text": [
      "i am at the end\n"
     ]
    }
   ],
   "source": [
    "display(runcode4,output4)\n",
    "runcode4.on_click(readothernb)"
   ]
  },
  {
   "cell_type": "code",
   "execution_count": 21,
   "metadata": {},
   "outputs": [],
   "source": [
    "#df = pd.read_pickle('CH_aug.p')"
   ]
  },
  {
   "cell_type": "code",
   "execution_count": null,
   "metadata": {},
   "outputs": [],
   "source": [
    "#df1=pd.read_pickle('CH_aug.p')"
   ]
  },
  {
   "cell_type": "code",
   "execution_count": null,
   "metadata": {},
   "outputs": [],
   "source": [
    "#df1['Food Name'] = df1['Food Name']+'_'+df1['Group']"
   ]
  },
  {
   "cell_type": "raw",
   "metadata": {},
   "source": [
    "%run Optimization_tool_published.ipynb\n",
    "r1,r2,r3,r4,r5 = testopt(df_for_opt,var8,'yes',var3,var4,var5,var6,var7,var1.value,var2.value,var9,var10,2,var11,var12,0,0)"
   ]
  },
  {
   "cell_type": "code",
   "execution_count": 51,
   "metadata": {},
   "outputs": [],
   "source": [
    "listofcheckboxes = {'fruits':['FAT'],'vegetables':['DGR','DGC'],\n",
    "     'legumes':['DBR','DBC','DFR','DFC'],'grains':['AC','AC_wg','DAR','DAC',\n",
    "     'AI','AI_wg','AA','AA_wg','AF','AF_wg','AD','AD_wg','AC','AC_wg'],'nuts_seeds':\n",
    "     ['GAT'],'milk':['BAE','BAH','BAK','BLS','BLM','BLH','BLF','BN'],\n",
    "     'vegetarianproducts':['BAV','BNV','VEG'],\n",
    "     'fish':['JAC', 'JAR', 'JCC', 'JCR', 'JKC', 'JKR', 'JMC', 'JMR', 'JRC'],\n",
    "    'meat':['MBGR','MBGC','MACR','MACC','MAER','MECC','MECR','MEER','MEEC','MAIC','MAIR','MAE',\\\n",
    "    'MAIR','MAIC','MCOR','MCOC','MCAR','MCAC','MAGR','MAGC','MAHR','MAHC',\n",
    "    'MI','MAAC','MAAR'],'eggs_oil':['CA','OA', 'OC', 'OE','BTM','BJC']}"
   ]
  },
  {
   "cell_type": "code",
   "execution_count": 55,
   "metadata": {},
   "outputs": [],
   "source": [
    "df1 = pd.read_pickle('CH_aug.p')"
   ]
  },
  {
   "cell_type": "code",
   "execution_count": null,
   "metadata": {},
   "outputs": [],
   "source": [
    "def multi_checkbox_widget(descriptions):\n",
    "    \"\"\" Widget with a search field and lots of checkboxes \"\"\"\n",
    "    #search_widget = widgets.Text()\n",
    "    options_dict = {description: widgets.Checkbox(description=description, value=False) for \n",
    "                    description in descriptions}\n",
    "    options = [options_dict[description] for description in descriptions]\n",
    "    options_widget = widgets.VBox(options, layout={'overflow': 'scroll'})\n",
    "    #options_widget = widgets.HBox(options, layout={'width': 'max-content'})\n",
    "    #multi_select = widgets.VBox([search_widget, options_widget])\n",
    "    mass_dict = {description: widgets.IntSlider(description='Mass (grams)', min=0,\n",
    "                max = 1000,step=50,value=0,disabled=False) for description in descriptions}\n",
    "    mass = [mass_dict[description] for description in descriptions]\n",
    "    mass_widget = widgets.VBox(mass, layout={'overflow': 'scroll'})\n",
    "    multi_select = widgets.HBox(children = [options_widget,mass_widget], layout={'overflow': 'scroll'})\n",
    "    #multi_select = widgets.VBox([options_widget])\n",
    "\n",
    "    # Wire the search field to the checkboxes\n",
    "    def on_text_change(change):\n",
    "        search_input = change['new']\n",
    "        if search_input == '':\n",
    "            # Reset search field\n",
    "            new_options = [options_dict[description] for description in descriptions]\n",
    "        else:\n",
    "            # Filter by search field using difflib.\n",
    "            close_matches = difflib.get_close_matches(search_input, descriptions, cutoff=0.0)\n",
    "            new_options = [options_dict[description] for description in close_matches]\n",
    "        options_widget.children = new_options\n",
    "\n",
    "    #search_widget.observe(on_text_change, names='value')\n",
    "    return multi_select\n",
    "# words = list(set([i.split(',')[0] for i in df1[df1['Group']=='FAT']['Food Name'].tolist()]))\n",
    "# widget = multi_checkbox_widget(words)\n",
    "# [widget.description for widget in widget.children[1].children if widget.value]"
   ]
  },
  {
   "cell_type": "raw",
   "metadata": {},
   "source": [
    "def multi_checkbox_widget(descriptions):\n",
    "    \"\"\" Widget with a search field and lots of checkboxes \"\"\"\n",
    "    foodgroups = widgets.Dropdown(options = listofcheckboxes.keys())\n",
    "    options_dict = {description: widgets.Checkbox(description=description, value=False) for \n",
    "                    description in descriptions}\n",
    "    options = [options_dict[description] for description in descriptions]\n",
    "    options_widget = widgets.VBox(options, layout={'overflow': 'scroll'})\n",
    "    #options_widget = widgets.HBox(options, layout={'width': 'max-content'})\n",
    "    #multi_select = widgets.VBox([search_widget, options_widget])\n",
    "    mass_dict = {description: widgets.IntSlider(description='Mass (grams)', min=0,\n",
    "                max = 1000,step=50,value=0,disabled=False) for description in descriptions}\n",
    "    mass = [mass_dict[description] for description in descriptions]\n",
    "    mass_widget = widgets.VBox(mass, layout={'overflow': 'scroll'})\n",
    "    multi_select = widgets.HBox(children = [foodgroups,options_widget,mass_widget], layout={'overflow': 'scroll'})\n",
    "    #multi_select = widgets.VBox([options_widget])\n",
    "\n",
    "    # Wire the search field to the checkboxes\n",
    "    def on_text_change(change):\n",
    "        search_input = change['new']\n",
    "        if search_input == '':\n",
    "            # Reset search field\n",
    "            pass\n",
    "        elif search_inputs =='fruits':\n",
    "            # Filter by search field using difflib.\n",
    "            #close_matches = difflib.get_close_matches(search_input, descriptions, cutoff=0.0)\n",
    "            new_options = [options_dict[description] for description in descriptions]\n",
    "        options_widget.children = new_options\n",
    "\n",
    "    foodgroups.observe(on_text_change, names='value')\n",
    "    return multi_select"
   ]
  },
  {
   "cell_type": "raw",
   "metadata": {},
   "source": [
    "foodgroups = widgets.Dropdown(options = listofcheckboxes.keys())\n",
    "display(foodgroups)\n",
    "\n",
    "descriptions = [i for i in df1[df1['Group'].isin(listofcheckboxes['fruits'])]['Food Name']]\n",
    "\n",
    "options_dict = {description: widgets.Checkbox(description=description, value=False) for \n",
    "                    description in descriptions}\n",
    "\n",
    "options = [options_dict[description] for description in descriptions]\n",
    "\n",
    "options_widget = widgets.VBox(options, layout={'overflow': 'scroll'})\n",
    "\n",
    "mass_dict = {description: widgets.IntSlider(description='Mass (grams)', min=0,\n",
    "                max = 1000,step=50,value=0,disabled=False) for description in descriptions}\n",
    "mass = [mass_dict[description] for description in descriptions]\n",
    "mass_widget = widgets.VBox(mass, layout={'overflow': 'scroll'})\n",
    "multi_select = widgets.HBox(children = [foodgroups,options_widget,mass_widget], layout={'overflow': 'scroll'})\n",
    "\n",
    "def on_text_change(change):\n",
    "    search_input = change['new']\n",
    "    if search_input == '':\n",
    "        pass\n",
    "        #new_options = [options_dict[description] for description in descriptions]\n",
    "    elif search_input =='fruits':\n",
    "        new_options =  new_options = [options_dict[description] for description in descriptions]\n",
    "    options_widget.children = new_options    "
   ]
  },
  {
   "cell_type": "code",
   "execution_count": 49,
   "metadata": {},
   "outputs": [],
   "source": [
    "def joinlists(widgetname):\n",
    "    rs1 = [widgetname.description for widgetname in widgetname.children[0].children if widgetname.value]\n",
    "    rs2 = [widgetname.value for widgetname in widgetname.children[1].children if widgetname.value]\n",
    "    food = list(zip(rs1,rs2))\n",
    "    return food"
   ]
  },
  {
   "cell_type": "code",
   "execution_count": null,
   "metadata": {},
   "outputs": [],
   "source": [
    "words = [i for i in df1[df1['Group'].isin(listofcheckboxes['vegetarianproducts'])]['Food Name']]\n",
    "widget1 = multi_checkbox_widget(words)\n",
    "widget1"
   ]
  },
  {
   "cell_type": "code",
   "execution_count": null,
   "metadata": {},
   "outputs": [],
   "source": [
    "vegetarianproducts = joinlists(widget1)"
   ]
  },
  {
   "cell_type": "code",
   "execution_count": null,
   "metadata": {},
   "outputs": [],
   "source": [
    "#vegetarianproducts = [widget.description for widget in widget.children[0].children if widget.value]"
   ]
  },
  {
   "cell_type": "code",
   "execution_count": null,
   "metadata": {},
   "outputs": [],
   "source": [
    "words = [i for i in df1[df1['Group'].isin(listofcheckboxes['eggs_oil'])]['Food Name']]\n",
    "widget2 = multi_checkbox_widget(words)\n",
    "widget2"
   ]
  },
  {
   "cell_type": "code",
   "execution_count": null,
   "metadata": {},
   "outputs": [],
   "source": [
    "eggs_oil = joinlists(widget2)"
   ]
  },
  {
   "cell_type": "code",
   "execution_count": null,
   "metadata": {},
   "outputs": [],
   "source": [
    "words = [i for i in df1[df1['Group'].isin(listofcheckboxes['fish'])]['Food Name']]\n",
    "widget3 = multi_checkbox_widget(words)\n",
    "widget3"
   ]
  },
  {
   "cell_type": "code",
   "execution_count": null,
   "metadata": {},
   "outputs": [],
   "source": [
    "fish = joinlists(widget3)"
   ]
  },
  {
   "cell_type": "code",
   "execution_count": null,
   "metadata": {},
   "outputs": [],
   "source": [
    "words = [i for i in df1[df1['Group'].isin(listofcheckboxes['meat'])]['Food Name']]\n",
    "widget4 = multi_checkbox_widget(words)\n",
    "widget4"
   ]
  },
  {
   "cell_type": "code",
   "execution_count": null,
   "metadata": {
    "scrolled": true
   },
   "outputs": [],
   "source": [
    "meat = joinlists(widget4)"
   ]
  },
  {
   "cell_type": "code",
   "execution_count": null,
   "metadata": {},
   "outputs": [],
   "source": [
    "words = [i for i in df1[df1['Group'].isin(listofcheckboxes['fruits'])]['Food Name']]\n",
    "widget5 = multi_checkbox_widget(words)\n",
    "widget5"
   ]
  },
  {
   "cell_type": "code",
   "execution_count": null,
   "metadata": {},
   "outputs": [],
   "source": [
    "fruit = joinlists(widget5)"
   ]
  },
  {
   "cell_type": "code",
   "execution_count": null,
   "metadata": {},
   "outputs": [],
   "source": [
    "fruit"
   ]
  },
  {
   "cell_type": "code",
   "execution_count": null,
   "metadata": {},
   "outputs": [],
   "source": [
    "words = [i for i in df1[df1['Group'].isin(listofcheckboxes['vegetables'])]['Food Name']]\n",
    "widget6 = multi_checkbox_widget(words)\n",
    "widget6"
   ]
  },
  {
   "cell_type": "code",
   "execution_count": null,
   "metadata": {},
   "outputs": [],
   "source": [
    "vegetables = joinlists(widget6)"
   ]
  },
  {
   "cell_type": "code",
   "execution_count": null,
   "metadata": {},
   "outputs": [],
   "source": [
    "words = [i for i in df1[df1['Group'].isin(listofcheckboxes['legumes'])]['Food Name']]\n",
    "widget7 = multi_checkbox_widget(words)\n",
    "widget7"
   ]
  },
  {
   "cell_type": "code",
   "execution_count": null,
   "metadata": {},
   "outputs": [],
   "source": [
    "legumes = joinlists(widget7)"
   ]
  },
  {
   "cell_type": "code",
   "execution_count": null,
   "metadata": {},
   "outputs": [],
   "source": [
    "words = [i for i in df1[df1['Group'].isin(listofcheckboxes['grains'])]['Food Name']]\n",
    "widget8 = multi_checkbox_widget(words)\n",
    "widget8"
   ]
  },
  {
   "cell_type": "code",
   "execution_count": null,
   "metadata": {},
   "outputs": [],
   "source": [
    "grains = joinlists(widget8)"
   ]
  },
  {
   "cell_type": "code",
   "execution_count": null,
   "metadata": {},
   "outputs": [],
   "source": [
    "words = [i for i in df1[df1['Group'].isin(listofcheckboxes['milk'])]['Food Name']]\n",
    "widget9 = multi_checkbox_widget(words)\n",
    "widget9"
   ]
  },
  {
   "cell_type": "code",
   "execution_count": null,
   "metadata": {},
   "outputs": [],
   "source": [
    "milk = joinlists(widget9)"
   ]
  },
  {
   "cell_type": "code",
   "execution_count": null,
   "metadata": {},
   "outputs": [],
   "source": [
    "selectedfoods = {}\n",
    "for i in [vegetarianproducts,eggs_oil,fish,meat,fruit,vegetables,legumes,grains,milk]:\n",
    "    for j in i:\n",
    "        selectedfoods[j[0].split(',')[0]] = {}#'names'\n",
    "        selectedfoods[j[0].split(',')[0]]['names']=j[0]\n",
    "        selectedfoods[j[0].split(',')[0]]['mass']=j[1]"
   ]
  },
  {
   "cell_type": "code",
   "execution_count": null,
   "metadata": {},
   "outputs": [],
   "source": [
    "selectedfoods"
   ]
  },
  {
   "cell_type": "code",
   "execution_count": null,
   "metadata": {},
   "outputs": [],
   "source": []
  }
 ],
 "metadata": {
  "kernelspec": {
   "display_name": "Python [conda env:new_environment]",
   "language": "python",
   "name": "conda-env-new_environment-py"
  },
  "language_info": {
   "codemirror_mode": {
    "name": "ipython",
    "version": 3
   },
   "file_extension": ".py",
   "mimetype": "text/x-python",
   "name": "python",
   "nbconvert_exporter": "python",
   "pygments_lexer": "ipython3",
   "version": "3.6.4"
  }
 },
 "nbformat": 4,
 "nbformat_minor": 2
}
