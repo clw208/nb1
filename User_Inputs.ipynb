{
 "cells": [
  {
   "cell_type": "code",
   "execution_count": 7,
   "metadata": {},
   "outputs": [],
   "source": [
    "# HIDDEN\n",
    "from ipywidgets import widgets, interact, Dropdown,SelectMultiple, Checkbox,VBox,FloatSlider,Button,IntProgress\n",
    "from IPython.display import HTML, display, Image\n",
    "import os\n",
    "ipython = get_ipython()\n",
    "data_dir = os.path.join('..','nb1','Input')"
   ]
  },
  {
   "cell_type": "code",
   "execution_count": null,
   "metadata": {},
   "outputs": [],
   "source": [
    "# HIDDEN \n",
    "import numpy as np\n",
    "import pandas as pd\n",
    "import re\n",
    "import os\n",
    "import threading\n",
    "import time\n",
    "from IPython import get_ipython\n",
    "from IPython.display import HTML, display, Image\n",
    "ipython = get_ipython()\n",
    "data_dir = os.path.join('..','nb1','Input')"
   ]
  },
  {
   "cell_type": "code",
   "execution_count": null,
   "metadata": {},
   "outputs": [],
   "source": [
    "# HIDDEN\n",
    "style = {'description_width': 'initial'}\n",
    "mnths = {'jan':1,'feb':2,'mar':3,'apr':4,'may':5,'jun':6,'jul':7,'aug':8,'sep':9,'oct':10,'nov':11,'dec':12}"
   ]
  },
  {
   "cell_type": "code",
   "execution_count": null,
   "metadata": {},
   "outputs": [],
   "source": [
    "cntry_rev = np.load(os.path.join(data_dir,'trandict.npy'),allow_pickle='TRUE').item()\n",
    "cntry = {v:k for k,v in cntry_rev.items()}"
   ]
  },
  {
   "cell_type": "code",
   "execution_count": null,
   "metadata": {},
   "outputs": [],
   "source": [
    "# HIDDEN\n",
    "listofcheckboxes = {'no food preferences':[0],'fruits':['FAT'],'vegetables':['DGR','DGC'],\n",
    "     'legumes or beans':['DBR','DBC','DFR','DFC'],'grains and starches':['AC','AC_wg','DAR','DAC',\n",
    "     'AI','AI_wg','AA','AA_wg','AF','AF_wg','AD','AD_wg'],'nuts and seeds':\n",
    "     ['GAT'],'dairy products':['BAE','BAH','BAK','BLS','BLM','BLH','BLF','BN','BJC'],\n",
    "     'vegetarian/vegan food items':['BAV','BNV','VEG'],\n",
    "     'fish':['JAC', 'JAR', 'JCC', 'JCR', 'JKC', 'JKR', 'JMC', 'JMR', 'JRC'],\n",
    "    'meat':['MBGR','MBGC','MACR','MACC','MAER','MECC','MECR','MEER','MEEC','MAIC','MAIR','MAE',\\\n",
    "    'MAIR','MAIC','MCOR','MCOC','MCAR','MCAC','MAGR','MAGC','MAHR','MAHC',\n",
    "    'MI','MAAC','MAAR'],'eggs, oils, and others':['CA','OA', 'OC', 'OE','BTM','BH','BP','BPV','PAC','SC','SEA','WCN']}"
   ]
  },
  {
   "cell_type": "code",
   "execution_count": null,
   "metadata": {},
   "outputs": [],
   "source": [
    "# HIDDEN\n",
    "def joinlists_new(widgetname):\n",
    "    global selectedfoods\n",
    "    mydict = dict(zip(df_foods['Food Item'],df_foods['Food Name']))\n",
    "    #rs1 = [widgetname.description for widgetname in widgetname.children[1].children if widgetname.value]\n",
    "    rs1 = [mydict[multi_select.description] for multi_select in multi_select.children[1].children if multi_select.value]\n",
    "    rs2 = [widgetname.value for widgetname in widgetname.children[2].children if widgetname.value]\n",
    "    food = list(zip(rs1,rs2))  \n",
    "    try:\n",
    "        food\n",
    "        for j in food:\n",
    "            te = [j[0].replace('_',' ')]\n",
    "            tee = [i[:-4] for i in te]\n",
    "            selectedfoods[tee[0]] = {}\n",
    "            selectedfoods[tee[0]]['names']=j[0]\n",
    "            selectedfoods[tee[0]]['mass']=j[1]              \n",
    "            #selectedfoods[j[0].split(',')[0]] = {}#'names'\n",
    "            #selectedfoods[j[0].split(',')[0]]['names']=j[0]\n",
    "            #selectedfoods[j[0].split(',')[0]]['mass']=j[1]\n",
    "    except NameError:\n",
    "        pass   \n",
    "    return #selectedfoods"
   ]
  },
  {
   "cell_type": "code",
   "execution_count": null,
   "metadata": {},
   "outputs": [],
   "source": [
    "# HIDDEN\n",
    "gender={'female':1,'male':0}\n",
    "preferences = {'vegetarian':0,'vegan':1,'none':2,'pescatarian':3}\n",
    "indicator = {'climate change':'GHG','biodiversity loss':'BIO','both':'both'}\n",
    "activity = {'sedentary':0,'moderate':1,'vigorous':2}\n",
    "supp = {'yes':'yes_sup','no':'no_sup'}\n",
    "vitd = {'yes':1,'no':0}\n",
    "weighting = {'climate change':0,'biodiversity loss':0,'both':0.5}"
   ]
  },
  {
   "cell_type": "code",
   "execution_count": null,
   "metadata": {},
   "outputs": [],
   "source": [
    "# HIDDEN\n",
    "def display_table(data):\n",
    "    html = \"<table>\"\n",
    "    for row in data:\n",
    "        html += \"<tr>\"\n",
    "        for field in row:\n",
    "            html += \"<td><h4>%s</h4><td>\"%(field)\n",
    "        html += \"</tr>\"\n",
    "    html += \"</table>\"\n",
    "    display(HTML(html))"
   ]
  },
  {
   "cell_type": "markdown",
   "metadata": {},
   "source": [
    "## People may have difficulty coming up with a diet that:\n",
    "## 1) meets their nutrient needs, \n",
    "## 2) follows the Global Burden of Disease food recommendations \n",
    "## 3) incorporates the environmental impacts of producing their food"
   ]
  },
  {
   "cell_type": "markdown",
   "metadata": {},
   "source": [
    "### This tool was developed to help an individual build their own healthful, low environmental impact diet, and takes into account where, when, and how their food is produced."
   ]
  },
  {
   "cell_type": "markdown",
   "metadata": {},
   "source": [
    "## In order to personalize a low impact diet for your specific conditions, please answer the following questions:"
   ]
  },
  {
   "cell_type": "markdown",
   "metadata": {},
   "source": [
    "### Choose your country and the month for which you'd like a diet"
   ]
  },
  {
   "cell_type": "code",
   "execution_count": 11,
   "metadata": {},
   "outputs": [
    {
     "ename": "NameError",
     "evalue": "name 'cntry' is not defined",
     "output_type": "error",
     "traceback": [
      "\u001b[0;31m---------------------------------------------------------------------------\u001b[0m",
      "\u001b[0;31mNameError\u001b[0m                                 Traceback (most recent call last)",
      "\u001b[0;32m<ipython-input-11-4e515c55770b>\u001b[0m in \u001b[0;36m<module>\u001b[0;34m\u001b[0m\n\u001b[1;32m      1\u001b[0m \u001b[0;31m# HIDDEN\u001b[0m\u001b[0;34m\u001b[0m\u001b[0;34m\u001b[0m\u001b[0m\n\u001b[0;32m----> 2\u001b[0;31m \u001b[0mvar1\u001b[0m \u001b[0;34m=\u001b[0m \u001b[0mwidgets\u001b[0m\u001b[0;34m.\u001b[0m\u001b[0mDropdown\u001b[0m\u001b[0;34m(\u001b[0m\u001b[0moptions\u001b[0m \u001b[0;34m=\u001b[0m \u001b[0mcntry\u001b[0m\u001b[0;34m.\u001b[0m\u001b[0mkeys\u001b[0m\u001b[0;34m(\u001b[0m\u001b[0;34m)\u001b[0m\u001b[0;34m,\u001b[0m\u001b[0mvalue\u001b[0m \u001b[0;34m=\u001b[0m \u001b[0;34m'Switzerland'\u001b[0m\u001b[0;34m)\u001b[0m\u001b[0;34m\u001b[0m\u001b[0m\n\u001b[0m\u001b[1;32m      3\u001b[0m \u001b[0mdisplay\u001b[0m\u001b[0;34m(\u001b[0m\u001b[0mvar1\u001b[0m\u001b[0;34m)\u001b[0m\u001b[0;34m\u001b[0m\u001b[0m\n\u001b[1;32m      4\u001b[0m \u001b[0mvar2\u001b[0m \u001b[0;34m=\u001b[0m \u001b[0mwidgets\u001b[0m\u001b[0;34m.\u001b[0m\u001b[0mDropdown\u001b[0m\u001b[0;34m(\u001b[0m\u001b[0moptions\u001b[0m \u001b[0;34m=\u001b[0m \u001b[0mmnths\u001b[0m\u001b[0;34m.\u001b[0m\u001b[0mkeys\u001b[0m\u001b[0;34m(\u001b[0m\u001b[0;34m)\u001b[0m\u001b[0;34m,\u001b[0m\u001b[0mvalue\u001b[0m\u001b[0;34m=\u001b[0m\u001b[0;34m'aug'\u001b[0m\u001b[0;34m)\u001b[0m\u001b[0;34m\u001b[0m\u001b[0m\n\u001b[1;32m      5\u001b[0m \u001b[0mdisplay\u001b[0m\u001b[0;34m(\u001b[0m\u001b[0mvar2\u001b[0m\u001b[0;34m)\u001b[0m\u001b[0;34m\u001b[0m\u001b[0m\n",
      "\u001b[0;31mNameError\u001b[0m: name 'cntry' is not defined"
     ]
    }
   ],
   "source": [
    "# HIDDEN\n",
    "var1 = widgets.Dropdown(options = cntry.keys(),value = 'Switzerland')\n",
    "display(var1)\n",
    "var2 = widgets.Dropdown(options = mnths.keys(),value='aug')\n",
    "display(var2)"
   ]
  },
  {
   "cell_type": "markdown",
   "metadata": {},
   "source": [
    "### Please answer the following questions to personalize the diet to your needs"
   ]
  },
  {
   "cell_type": "code",
   "execution_count": null,
   "metadata": {},
   "outputs": [],
   "source": [
    "#HIDDEN\n",
    "personweight = widgets.IntText(description='Weight (kg):',value=60)\n",
    "display(personweight)\n",
    "gen = widgets.Dropdown(options=gender.keys(),description='Gender:')\n",
    "display(gen)\n",
    "height = widgets.IntText(description='Height (cm):',value=165)\n",
    "display(height)\n",
    "age = widgets.IntText(description='Age (yrs):',value=40)\n",
    "display(age)\n",
    "act = widgets.Dropdown(options=activity.keys(),description='Activity Level:',value='moderate')\n",
    "display(act)\n",
    "sup = widgets.Dropdown(options=supp.keys(),description='Include a multi-vitamin supplement?',style=style)\n",
    "display(sup)"
   ]
  },
  {
   "cell_type": "markdown",
   "metadata": {},
   "source": [
    "### Vitamin D can be difficult to get through the diet because of its lack of availability in foods. Therefore, we suggest taking a supplement rather than consuming it through food. If you want it through food, however, we will include it in the optimization."
   ]
  },
  {
   "cell_type": "code",
   "execution_count": null,
   "metadata": {},
   "outputs": [],
   "source": [
    "vitamind = widgets.Dropdown(options=vitd.keys(),description='Include Vitamin D through food?',style=style,value='no')\n",
    "display(vitamind)"
   ]
  },
  {
   "cell_type": "markdown",
   "metadata": {},
   "source": [
    "### What environmental impacts would you like to priorititze?\n",
    "##### Currently, climate change (GHG) and biodiversity loss (BIO) are available"
   ]
  },
  {
   "cell_type": "code",
   "execution_count": null,
   "metadata": {},
   "outputs": [],
   "source": [
    "#HIDDEN\n",
    "imp = widgets.Dropdown(options=indicator.values(),description='Impact')\n",
    "display(imp)"
   ]
  },
  {
   "cell_type": "markdown",
   "metadata": {},
   "source": [
    "### For how many days would you like the diet?\n",
    "##### Seven or more is recommended"
   ]
  },
  {
   "cell_type": "code",
   "execution_count": null,
   "metadata": {},
   "outputs": [],
   "source": [
    "days = widgets.BoundedIntText(description='Number of Days for the Diet:',style=style,value=7)\n",
    "display(days)"
   ]
  },
  {
   "cell_type": "markdown",
   "metadata": {},
   "source": [
    "### Do you have dietary preferences (i.e. vegetarian or vegan)? "
   ]
  },
  {
   "cell_type": "code",
   "execution_count": null,
   "metadata": {},
   "outputs": [],
   "source": [
    "diettype = widgets.Dropdown(options=preferences.keys(),description='Dietary Preferences:',style=style,value='none')\n",
    "display(diettype)"
   ]
  },
  {
   "cell_type": "code",
   "execution_count": null,
   "metadata": {},
   "outputs": [],
   "source": [
    "# HIDDEN\n",
    "## ADD A PROGRESS BAR\n",
    "runcode2 = widgets.Button(description='Build the database')\n",
    "output2 = widgets.Output()\n",
    "def test(b):\n",
    "    global df_foods\n",
    "    with output2:\n",
    "        print ('I want a diet for:',var1.value, '\\nfor the month of:',var2.value)\n",
    "        print ('This can take a couple minutes.')\n",
    "        ipython.magic('run Build_Optimization_Database.ipynb')\n",
    "        dftest2 = calc_impacts(cntry[var1.value],var2.value)\n",
    "        ipython.magic('run Foods_to_Include.ipynb')\n",
    "        df_foods = editdf(dftest2,imp.value,diettype.value,supp[sup.value])\n",
    "        #print (df_foods.head(1))\n",
    "        return df_foods\n",
    "display(runcode2,output2)\n",
    "runcode2.on_click(test)"
   ]
  },
  {
   "cell_type": "markdown",
   "metadata": {},
   "source": [
    "### Are there certain foods you must have?"
   ]
  },
  {
   "cell_type": "code",
   "execution_count": null,
   "metadata": {},
   "outputs": [],
   "source": [
    "# HIDDEN\n",
    "selectedfoods = {}\n",
    "#Generate a dummy list\n",
    "#Allfileslist = list(zip(df_foods['Food Name'],df_foods['Group']))\n",
    "#Search box + generate ALL the checkboxes, this seems to be the bottleneck\n",
    "search_widget = widgets.Dropdown(options = listofcheckboxes.keys(),layout={'width': 'initial'})\n",
    "experiments = {}\n",
    "experiments_mass = {}\n",
    "options_widget = widgets.VBox(layout={'overflow': 'auto'})\n",
    "mass_widget = widgets.VBox(layout={'overflow': 'auto'})\n",
    "button_wid = widgets.Button(description='Save Choices')\n",
    "but_out = widgets.Output()\n",
    "def save(b):\n",
    "    with but_out:\n",
    "        joinlists_new(multi_select)\n",
    "button_wid.on_click(save)\n",
    "test=[]\n",
    "def whentextischanged (change):\n",
    "    \"\"\"Dynamically update the widget experiments\"\"\"       \n",
    "    Allfileslist = list(zip(df_foods['Food Name'],df_foods['Group'],df_foods['Food Item']))\n",
    "    close_matches = [x[0] for x in Allfileslist if x[1] in(listofcheckboxes[search_widget.value])]\n",
    "    display = [x[2] for x in Allfileslist if x[1] in(listofcheckboxes[search_widget.value])]\n",
    "    \n",
    "    \n",
    "    for name,dis in zip(close_matches,display):\n",
    "        if name not in experiments:              \n",
    "                \n",
    "            experiments[name] = widgets.Checkbox(description=dis,value=False,style={'description_width': 'initial'})\n",
    "                #print (change2)\n",
    "            \n",
    "            experiments_mass[name] = widgets.IntSlider(description='Mass (grams)', min=0,max=500,step=50,value=0)  \n",
    "        \n",
    "    new_options = [experiments[eachfilename] for eachfilename in close_matches]\n",
    "    new_options_mass = [experiments_mass[eachfilename] for eachfilename in close_matches]\n",
    "    \n",
    "    options_widget.children = new_options   \n",
    "    mass_widget.children = new_options_mass\n"
   ]
  },
  {
   "cell_type": "code",
   "execution_count": null,
   "metadata": {},
   "outputs": [],
   "source": [
    "# HIDDEN\n",
    "multi_select = widgets.HBox([search_widget, options_widget,mass_widget,button_wid])\n",
    "search_widget.observe(whentextischanged, names='value')\n",
    "options_widget.observe(whentextischanged,names='value')\n",
    "display(multi_select)"
   ]
  },
  {
   "cell_type": "code",
   "execution_count": 3,
   "metadata": {},
   "outputs": [
    {
     "data": {
      "application/vnd.jupyter.widget-view+json": {
       "model_id": "c6f156aad8c74299be53695050a6d9e5",
       "version_major": 2,
       "version_minor": 0
      },
      "text/plain": [
       "Button(description='Show Must Haves', style=ButtonStyle())"
      ]
     },
     "metadata": {},
     "output_type": "display_data"
    },
    {
     "data": {
      "application/vnd.jupyter.widget-view+json": {
       "model_id": "449c785e56af4138afe69dcca7df75ea",
       "version_major": 2,
       "version_minor": 0
      },
      "text/plain": [
       "Output()"
      ]
     },
     "metadata": {},
     "output_type": "display_data"
    }
   ],
   "source": [
    "# HIDDEN\n",
    "runcodeprint = widgets.Button(description='Show Must Haves')\n",
    "outputprint = widgets.Output()\n",
    "def printfoods(b):\n",
    "    global selectedfoods\n",
    "    with outputprint:\n",
    "        foodsitems = [k for k,v in selectedfoods.items()]\n",
    "        foodmass = [v['mass'] for k,v in selectedfoods.items()]\n",
    "        #print (selectedfoods)\n",
    "        for i,j in zip(foodsitems,foodmass):\n",
    "            print (i,':',j,'grams')\n",
    "display(runcodeprint,outputprint)\n",
    "runcodeprint.on_click(printfoods)"
   ]
  },
  {
   "cell_type": "code",
   "execution_count": 4,
   "metadata": {},
   "outputs": [],
   "source": [
    "# HIDDEN\n",
    "runcode5 = widgets.Button(description='Click Here to Build your Low Impact and Healthful Diet')\n",
    "output5 = widgets.Output()"
   ]
  },
  {
   "cell_type": "code",
   "execution_count": 5,
   "metadata": {},
   "outputs": [],
   "source": [
    "def run_tool(b):\n",
    "    global df_opt\n",
    "    global status\n",
    "    with output5:       \n",
    "        ipython.magic('run Diet_Optimization_Tool.ipynb')\n",
    "        print ('This can take some time.')\n",
    "        relaxfactor = 2\n",
    "        count = 0        \n",
    "        df_opt=runopt(df_foods,imp.value,diettype.value,supp[sup.value],gender[gen.value],personweight.value,\\\n",
    "                          height.value,age.value,act.value,days.value,2,selectedfoods,vitd[vitamind.value])    \n",
    "        while ((count<=3)&(status!=1)):\n",
    "            if status==1:\n",
    "                break\n",
    "            else:\n",
    "                relaxfactor +=1\n",
    "                count +=1\n",
    "                df_opt=runopt(df_foods,imp.value,diettype.value,supp[sup.value],gender[gen.value],personweight.value,\\\n",
    "                          height.value,age.value,act.value,days.value,2,selectedfoods,vitd[vitamind.value])\n",
    "                print ('didnt optimize')\n",
    "        \n",
    "        df_opt['optimization_country_GHG_1_trade'] = df_opt['optimization_country_GHG_1_trade'].map(cntry_rev)\n",
    "        df_opt['optimization_country_BIO_1_trade'] = df_opt['optimization_country_BIO_1_trade'].map(cntry_rev)        \n",
    "        df_opt = df_opt[(df_opt['Grams']!=0)&(df_opt['Grams'].notnull())]\n",
    "        df_opt = df_opt.sort_values(['Grams'],ascending=False)\n",
    "        name = ['Food Item']+df_opt['Food Item'].tolist()#+[i.split(',')[0] for i in df_opt['Food Name']]\n",
    "        mass = ['Grams']+[int(i) for i in round(df_opt['Grams']).tolist()]\n",
    "            \n",
    "        if imp.value == 'GHG':\n",
    "            print ('My total Climate Change impact is: %s kgCO2 eq'%\\\n",
    "                   round(np.sum(df_opt['optimization_value_GHG_1_trade']*df_opt['Grams']),2))\n",
    "            print ('and the corresponding Biodiversity Loss impact is: %s PDF*yr'%\\\n",
    "                   np.sum(df_opt['bio_GHGopt_value1']*df_opt['Grams']))\n",
    "            cou = ['Source Country']+[i for i in df_opt['optimization_country_GHG_1_trade']] \n",
    "        elif imp.value == 'BIO':  \n",
    "            print ('My total Biodiversity Loss impact is: %s PDF*yr eq'%\\\n",
    "                   np.sum(df_opt['optimization_value_BIO_1_trade']*df_opt['Grams']))\n",
    "            print ('and the corresponding climate change impact is: %s kgCO2eq'%\\\n",
    "                   round(np.sum(df_opt['GHG_bioopt_value1']*df_opt['Grams']),2))\n",
    "            cou = ['Source Country']+[i for i in df_opt['optimization_country_BIO_1_trade']]            \n",
    "        else:\n",
    "            print ('My total Biodiversity Loss impact is: %s PDF*yr eq'%\\\n",
    "                   np.sum(df_opt['bio_GHGopt_value1']*df_opt['Grams']))\n",
    "            print ('and climate change impact is: %s kgCO2eq'%\\\n",
    "                   round(np.sum(df_opt['optimization_value_GHG_1_trade']*df_opt['Grams']),2))\n",
    "            cou = ['Source Country']+[i for i in df_opt['optimization_country_GHG_1_trade']] \n",
    "        data = [name,cou,mass]\n",
    "        display_table(data)\n",
    "\n",
    "    return df_opt"
   ]
  },
  {
   "cell_type": "code",
   "execution_count": 6,
   "metadata": {},
   "outputs": [
    {
     "data": {
      "application/vnd.jupyter.widget-view+json": {
       "model_id": "8f3d336d64a0451d92d104071b0413fa",
       "version_major": 2,
       "version_minor": 0
      },
      "text/plain": [
       "Button(description='Click Here to Build your Low Impact and Healthful Diet', style=ButtonStyle())"
      ]
     },
     "metadata": {},
     "output_type": "display_data"
    },
    {
     "data": {
      "application/vnd.jupyter.widget-view+json": {
       "model_id": "b7db88b2330e4d1f9f301fab4215c57b",
       "version_major": 2,
       "version_minor": 0
      },
      "text/plain": [
       "Output()"
      ]
     },
     "metadata": {},
     "output_type": "display_data"
    }
   ],
   "source": [
    "display(runcode5,output5)\n",
    "runcode5.on_click(run_tool)"
   ]
  }
 ],
 "metadata": {
  "kernelspec": {
   "display_name": "Python [conda env:new_environment]",
   "language": "python",
   "name": "conda-env-new_environment-py"
  },
  "language_info": {
   "codemirror_mode": {
    "name": "ipython",
    "version": 3
   },
   "file_extension": ".py",
   "mimetype": "text/x-python",
   "name": "python",
   "nbconvert_exporter": "python",
   "pygments_lexer": "ipython3",
   "version": "3.6.4"
  }
 },
 "nbformat": 4,
 "nbformat_minor": 2
}
