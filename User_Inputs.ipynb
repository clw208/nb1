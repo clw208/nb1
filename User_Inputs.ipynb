{
 "cells": [
  {
   "cell_type": "markdown",
   "metadata": {},
   "source": [
    "<span style=\"font-family: Arial; font-size:2em;color:green;\"> Build a personalized, low impact and healthful diet "
   ]
  },
  {
   "cell_type": "markdown",
   "metadata": {},
   "source": [
    "*****************************************\n",
    "#### People may have difficulty coming up with a diet that:\n",
    "* meets their **nutrient** needs, \n",
    "* **minimizes disease** risk \n",
    "* reduces their diet related **environmental impacts**\n",
    "\n",
    "<span style=\"font-family: Arial; font-size:1em;color:black;\"> This tool was developed to help an individual build their own healthful, low environmental impact diet, and takes into account where, when, and how their food is produced, as well as their personal dietary needs.\n",
    "\n",
    "\n",
    "-------------------------------------------------------"
   ]
  },
  {
   "cell_type": "code",
   "execution_count": 8,
   "metadata": {},
   "outputs": [],
   "source": [
    "# HIDDEN\n",
    "from IPython.display import HTML\n",
    "import random\n",
    "from ipywidgets import widgets, interact, Dropdown,SelectMultiple, Checkbox,VBox,FloatSlider,Button,IntProgress, Layout\n",
    "from IPython.display import HTML, display, Image\n",
    "from IPython import get_ipython\n",
    "import os\n",
    "import numpy as np\n",
    "import pandas as pd\n",
    "import matplotlib\n",
    "from matplotlib import cm\n",
    "import matplotlib.pyplot as plt\n",
    "import matplotlib.patches as mpatches\n",
    "import mpld3\n",
    "ipython = get_ipython()\n",
    "data_dir = os.path.join('..','nb1','Input')"
   ]
  },
  {
   "cell_type": "code",
   "execution_count": 9,
   "metadata": {},
   "outputs": [],
   "source": [
    "# HIDDEN\n",
    "#def hide_toggle(for_next=False):\n",
    "def hide_toggle(text,for_next=False):    \n",
    "    this_cell = \"\"\"$('div.cell.code_cell.rendered.selected')\"\"\"\n",
    "    next_cell = this_cell + '.next()'\n",
    "\n",
    "    #toggle_text = 'Code'  # text shown on toggle link\n",
    "    toggle_text = text\n",
    "    target_cell = this_cell  # target cell to control with toggle\n",
    "    js_hide_current = ''  # bit of JS to permanently hide code in current cell (only when toggling next cell)\n",
    "\n",
    "    if for_next:\n",
    "        target_cell = next_cell\n",
    "        toggle_text += ' next cell'\n",
    "        js_hide_current = this_cell + '.find(\"div.input\").hide();'\n",
    "\n",
    "    js_f_name = 'code_toggle_{}'.format(str(random.randint(1,2**64)))\n",
    "\n",
    "    html = \"\"\"\n",
    "        <script>\n",
    "            function {f_name}() {{\n",
    "                {cell_selector}.find('div.input').toggle();\n",
    "            }}\n",
    "\n",
    "            {js_hide_current}\n",
    "        </script>\n",
    "\n",
    "        <a href=\"javascript:{f_name}()\">{toggle_text}</a>\n",
    "    \"\"\".format(\n",
    "        f_name=js_f_name,\n",
    "        cell_selector=target_cell,\n",
    "        js_hide_current=js_hide_current, \n",
    "        toggle_text=toggle_text\n",
    "    )\n",
    "\n",
    "    return HTML(html)"
   ]
  },
  {
   "cell_type": "code",
   "execution_count": 10,
   "metadata": {},
   "outputs": [],
   "source": [
    "# HIDDEN\n",
    "#########################################################\n",
    "## VARIABLES\n",
    "style = {'description_width': 'initial'}\n",
    "mnths = {'jan':1,'feb':2,'mar':3,'apr':4,'may':5,'jun':6,'jul':7,'aug':8,'sep':9,'oct':10,'nov':11,'dec':12}\n",
    "cntry_rev = np.load(os.path.join(data_dir,'trandict.npy'),allow_pickle='TRUE').item()\n",
    "cntry = {v:k for k,v in cntry_rev.items()}\n",
    "cntry['Not Applicable']='NA'\n",
    "listofcheckboxes = {'no food preferences':[0],'fruits':['FAT'],'vegetables':['DGR','DGC'],\n",
    "     'legumes or beans':['DBR','DBC','DFR','DFC'],'grains and starches':['AC','AC_wg','DAR','DAC',\n",
    "     'AI','AI_wg','AA','AA_wg','AF','AF_wg','AD','AD_wg'],'nuts and seeds':\n",
    "     ['GAT'],'dairy products':['BAE','BAH','BAK','BLS','BLM','BLH','BLF','BN','BJC'],\n",
    "     'vegetarian/vegan food items':['BAV','BNV','VEG'],\n",
    "     'fish':['JAC', 'JAR', 'JCC', 'JCR', 'JKC', 'JKR', 'JMC', 'JMR', 'JRC'],\n",
    "    'meat':['MBGR','MBGC','MACR','MACC','MAER','MECC','MECR','MEER','MEEC','MAIC','MAIR','MAE',\\\n",
    "    'MAIR','MAIC','MCOR','MCOC','MCAR','MCAC','MAGR','MAGC','MAHR','MAHC',\n",
    "    'MI','MAAC','MAAR'],'eggs, oils, and others':['CA','OA', 'OC', 'OE','BTM','BH','BP','BPV','PAC','SC','SEA','WCN']}\n",
    "\n",
    "gender={'female':1,'male':0}\n",
    "preferences = {'vegetarian':0,'vegan':1,'none':2,'pescatarian':3}\n",
    "indicator = {'climate change':'GHG','biodiversity loss':'BIO','both':'both'}\n",
    "activity = {'sedentary':0,'moderate':1,'vigorous':2}\n",
    "supp = {'yes':'yes_sup','no':'no_sup'}\n",
    "vitd = {'yes':1,'no':0}\n",
    "weighting = {'climate change':0,'biodiversity loss':0,'both':0.5}"
   ]
  },
  {
   "cell_type": "code",
   "execution_count": null,
   "metadata": {},
   "outputs": [],
   "source": [
    "# HIDDEN\n",
    "## WIDGETS   \n",
    "var1 = widgets.Dropdown(options = cntry.keys(),value = 'Switzerland',description = 'Country')\n",
    "var2 = widgets.Dropdown(options = mnths.keys(),value='aug', description = 'Month')\n",
    "personweight = widgets.IntText(description='Weight (kg):',value=60)\n",
    "gen = widgets.Dropdown(options=gender.keys(),description='Gender:')\n",
    "height = widgets.IntText(description='Height (cm):',value=165)\n",
    "age = widgets.IntText(description='Age (yrs):',value=40)\n",
    "act = widgets.Dropdown(options=activity.keys(),description='Activity Level:',value='moderate')\n",
    "sup = widgets.Dropdown(options=supp.keys(),description='Include a multi-vitamin supplement?',style=style)\n",
    "vitamind = widgets.Dropdown(options=vitd.keys(),description='Include Vitamin D through food?*',style=style,value='yes')\n",
    "imp = widgets.Dropdown(options=indicator.values(),description='Impact')\n",
    "days = widgets.BoundedIntText(description='Number of Days for the Diet:',style=style,value=7)\n",
    "diettype = widgets.Dropdown(options=preferences.keys(),description='Diet Type:',style=style,value='none')\n",
    "search_widget = widgets.Dropdown(options = listofcheckboxes.keys(),layout={'width': 'initial'})\n",
    "experiments = {}\n",
    "experiments_mass = {}\n",
    "options_widget = widgets.VBox(layout={'overflow': 'auto'})\n",
    "mass_widget = widgets.VBox(layout={'overflow': 'auto'})\n",
    "button_wid = widgets.Button(description='Save Choices')\n",
    "button_wid.style.button_color = 'lightgreen'\n",
    "but_out = widgets.Output()\n",
    "runcodeprint = widgets.Button(description='Show Must Haves')\n",
    "runcodeprint.style=button_wid.style\n",
    "outputprint = widgets.Output()\n",
    "multi_select = widgets.HBox([search_widget, options_widget,mass_widget,button_wid])\n",
    "#runcode2 = widgets.Button(description='Build the database')\n",
    "#runcode2.style=button_wid.style\n",
    "#output2 = widgets.Output()"
   ]
  },
  {
   "cell_type": "code",
   "execution_count": 11,
   "metadata": {},
   "outputs": [],
   "source": [
    "#########################################################\n",
    "\n",
    "def joinlists_new(widgetname):\n",
    "    global selectedfoods\n",
    "    mydict = dict(zip(df_foods['Food Item'],df_foods['Food Name']))\n",
    "    #rs1 = [widgetname.description for widgetname in widgetname.children[1].children if widgetname.value]\n",
    "    rs1 = [mydict[multi_select.description] for multi_select in multi_select.children[1].children if multi_select.value]\n",
    "    rs2 = [widgetname.value for widgetname in widgetname.children[2].children if widgetname.value]\n",
    "    food = list(zip(rs1,rs2))  \n",
    "    try:\n",
    "        food\n",
    "        for j in food:\n",
    "            te = [j[0].replace('_',' ')]\n",
    "            tee = [i[:-4] for i in te]\n",
    "            selectedfoods[tee[0]] = {}\n",
    "            selectedfoods[tee[0]]['names']=j[0]\n",
    "            selectedfoods[tee[0]]['mass']=j[1]              \n",
    "    except NameError:\n",
    "        pass   \n",
    "    return #selectedfoods\n",
    "def display_table(data):\n",
    "    html = \"<table>\"\n",
    "    for row in data:\n",
    "        html += \"<tr>\"\n",
    "        for field in row:\n",
    "            html += \"<td><h4>%s</h4><td>\"%(field)\n",
    "        html += \"</tr>\"\n",
    "    html += \"</table>\"\n",
    "    display(HTML(html))\n",
    "\n",
    "runcode2 = widgets.Button(description='Build the database',layout=Layout(width='50%', height='50px'))\n",
    "runcode2.style=button_wid.style\n",
    "output2 = widgets.Output()\n",
    "def test(b):\n",
    "    global df_foods\n",
    "    with output2:\n",
    "        print ('I want a diet for:',var1.value, '\\nfor the month of:',var2.value)\n",
    "        print ('This can take a couple minutes.')\n",
    "        ipython.magic('run Build_Optimization_Database.ipynb')\n",
    "        dftest2 = calc_impacts(cntry[var1.value],var2.value)\n",
    "        ipython.magic('run Foods_to_Include.ipynb')\n",
    "        df_foods = editdf(dftest2,imp.value,diettype.value,supp[sup.value])\n",
    "        #print (df_foods.head(1))\n",
    "        return df_foods\n",
    "\n",
    "# HIDDEN\n",
    "selectedfoods = {}\n",
    "#Generate a dummy list\n",
    "#Allfileslist = list(zip(df_foods['Food Name'],df_foods['Group']))\n",
    "#Search box + generate ALL the checkboxes, this seems to be the bottleneck\n",
    "\n",
    "def save(b):\n",
    "    with but_out:\n",
    "        joinlists_new(multi_select)\n",
    "button_wid.on_click(save)\n",
    "#test=[]\n",
    "def whentextischanged (change):\n",
    "    \"\"\"Dynamically update the widget experiments\"\"\"       \n",
    "    Allfileslist = list(zip(df_foods['Food Name'],df_foods['Group'],df_foods['Food Item']))\n",
    "    close_matches = [x[0] for x in Allfileslist if x[1] in(listofcheckboxes[search_widget.value])]\n",
    "    display = [x[2] for x in Allfileslist if x[1] in(listofcheckboxes[search_widget.value])]\n",
    "    \n",
    "    \n",
    "    for name,dis in zip(close_matches,display):\n",
    "        if name not in experiments:              \n",
    "                \n",
    "            experiments[name] = widgets.Checkbox(description=dis,value=False,style={'description_width': 'initial'})\n",
    "                #print (change2)\n",
    "            \n",
    "            experiments_mass[name] = widgets.IntSlider(description='Mass (grams)', min=0,max=500,step=50,value=0)  \n",
    "        \n",
    "    new_options = [experiments[eachfilename] for eachfilename in close_matches]\n",
    "    new_options_mass = [experiments_mass[eachfilename] for eachfilename in close_matches]\n",
    "    \n",
    "    options_widget.children = new_options   \n",
    "    mass_widget.children = new_options_mass    \n",
    "    \n",
    "\n",
    "def printfoods(b):\n",
    "    global selectedfoods\n",
    "    with outputprint:\n",
    "        foodsitems = [k for k,v in selectedfoods.items()]\n",
    "        foodmass = [v['mass'] for k,v in selectedfoods.items()]\n",
    "        #print (selectedfoods)\n",
    "        for i,j in zip(foodsitems,foodmass):\n",
    "            print (i,':',j,'grams') \n",
    "            \n",
    "def run_tool(b):\n",
    "    global df_opt\n",
    "    global status\n",
    "    with output5:       \n",
    "        ipython.magic('run Diet_Optimization_Tool.ipynb')\n",
    "        print ('This can take some time.')\n",
    "        relaxfactor = 2\n",
    "        count = 0        \n",
    "        df_opt=runopt(df_foods,imp.value,diettype.value,supp[sup.value],gender[gen.value],personweight.value,\\\n",
    "                          height.value,age.value,act.value,days.value,relaxfactor,selectedfoods,vitd[vitamind.value])    \n",
    "        while ((count<=3)&(status!=1)):\n",
    "            if status==1:\n",
    "                print ('Your optimized diet is shown below')\n",
    "                break\n",
    "            else:\n",
    "                relaxfactor +=1\n",
    "                count +=1\n",
    "                df_opt=runopt(df_foods,imp.value,diettype.value,supp[sup.value],gender[gen.value],personweight.value,\\\n",
    "                          height.value,age.value,act.value,days.value,relaxfactor,selectedfoods,vitd[vitamind.value])\n",
    "                print ('Try Number %s'%count,': No feasible solution - running again with relaxing constraints')\n",
    "        \n",
    "        if (count>3):\n",
    "            print ('Sorry, we had a hard time finding a optimized diet, \\\n",
    "            consuming the following foods will likely meet your nutrient and energy needs,\\\n",
    "            and will also have a relatively low environmental impact.')\n",
    "        df_opt['optimization_country_GHG_1_trade'] = df_opt['optimization_country_GHG_1_trade'].map(cntry_rev)\n",
    "        df_opt['optimization_country_BIO_1_trade'] = df_opt['optimization_country_BIO_1_trade'].map(cntry_rev)        \n",
    "        df_opt = df_opt[(df_opt['Grams']!=0)&(df_opt['Grams'].notnull())]\n",
    "        df_opt = df_opt.sort_values(['Grams'],ascending=False)\n",
    "        name = ['Food Item']+df_opt['Food Item'].tolist()#+[i.split(',')[0] for i in df_opt['Food Name']]\n",
    "        name = [i.replace('dried, ','') for i in name]\n",
    "        name = [i.replace(', raw','') for i in name]\n",
    "        name = [i.replace(', toasted','') for i in name]            \n",
    "        mass = ['Grams']+[int(i) for i in round(df_opt['Grams']).tolist()]\n",
    "            \n",
    "        if imp.value == 'GHG':\n",
    "            print ('My total Climate Change impact is: %s kgCO2 eq'%\\\n",
    "                   round(np.sum(df_opt['optimization_value_GHG_1_trade']*df_opt['Grams']),2))\n",
    "            print ('and the corresponding Biodiversity Loss impact is: %s PDF*yr'%\\\n",
    "                   np.sum(df_opt['bio_GHGopt_value1']*df_opt['Grams']))\n",
    "            cou = ['Source Country']+[i for i in df_opt['optimization_country_GHG_1_trade']] \n",
    "        elif imp.value == 'BIO':  \n",
    "            print ('My total Biodiversity Loss impact is: %s PDF*yr eq'%\\\n",
    "                   np.sum(df_opt['optimization_value_BIO_1_trade']*df_opt['Grams']))\n",
    "            print ('and the corresponding climate change impact is: %s kgCO2eq'%\\\n",
    "                   round(np.sum(df_opt['GHG_bioopt_value1']*df_opt['Grams']),2))\n",
    "            cou = ['Source Country']+[i for i in df_opt['optimization_country_BIO_1_trade']]            \n",
    "        else:\n",
    "            print ('My total Biodiversity Loss impact is: %s PDF*yr eq'%\\\n",
    "                   np.sum(df_opt['bio_GHGopt_value1']*df_opt['Grams']))\n",
    "            print ('and climate change impact is: %s kgCO2eq'%\\\n",
    "                   round(np.sum(df_opt['optimization_value_GHG_1_trade']*df_opt['Grams']),2))\n",
    "            cou = ['Source Country']+[i for i in df_opt['optimization_country_GHG_1_trade']] \n",
    "        data = [name,cou,mass]\n",
    "        display_table(data)\n",
    "\n",
    "    return df_opt "
   ]
  },
  {
   "cell_type": "markdown",
   "metadata": {},
   "source": [
    "<span style=\"font-family: Arial; font-size:1.5em;color:green;\"> Choose your country and month for which you'd like a low impact diet, the impacts* you would like to minimize, and a preferred diet type.\n",
    "<p> <span style=\"font-family: Arial; font-size:1em;color:black;\"> *Currently climate change (GHG), biodiversity loss (BIO), or both are available."
   ]
  },
  {
   "cell_type": "code",
   "execution_count": 2,
   "metadata": {},
   "outputs": [
    {
     "data": {
      "application/vnd.jupyter.widget-view+json": {
       "model_id": "31baa367464c46feab957d22fe3d306e",
       "version_major": 2,
       "version_minor": 0
      },
      "text/plain": [
       "Dropdown(description='Country', index=22, options=('Aruba', 'Albania', 'Argentina', 'Antigua and Barbuda', 'Au…"
      ]
     },
     "metadata": {},
     "output_type": "display_data"
    },
    {
     "data": {
      "application/vnd.jupyter.widget-view+json": {
       "model_id": "47a8c37335044ecb80767318d0542ace",
       "version_major": 2,
       "version_minor": 0
      },
      "text/plain": [
       "Dropdown(description='Month', index=7, options=('jan', 'feb', 'mar', 'apr', 'may', 'jun', 'jul', 'aug', 'sep',…"
      ]
     },
     "metadata": {},
     "output_type": "display_data"
    },
    {
     "data": {
      "application/vnd.jupyter.widget-view+json": {
       "model_id": "6c09c02546134ef9847b55fa9bbdc4fb",
       "version_major": 2,
       "version_minor": 0
      },
      "text/plain": [
       "Dropdown(description='Impact', options=('GHG', 'BIO', 'both'), value='GHG')"
      ]
     },
     "metadata": {},
     "output_type": "display_data"
    },
    {
     "data": {
      "application/vnd.jupyter.widget-view+json": {
       "model_id": "316487b8d98744759e80e1a2ff8e25ae",
       "version_major": 2,
       "version_minor": 0
      },
      "text/plain": [
       "Dropdown(description='Diet Type:', index=2, options=('vegetarian', 'vegan', 'none', 'pescatarian'), style=Desc…"
      ]
     },
     "metadata": {},
     "output_type": "display_data"
    },
    {
     "data": {
      "text/html": [
       "\n",
       "        <script>\n",
       "            function code_toggle_2720157133362155004() {\n",
       "                $('div.cell.code_cell.rendered.selected').find('div.input').toggle();\n",
       "            }\n",
       "\n",
       "            \n",
       "        </script>\n",
       "\n",
       "        <a href=\"javascript:code_toggle_2720157133362155004()\">code</a>\n",
       "    "
      ],
      "text/plain": [
       "<IPython.core.display.HTML object>"
      ]
     },
     "execution_count": 2,
     "metadata": {},
     "output_type": "execute_result"
    }
   ],
   "source": [
    "# HIDDEN\n",
    "display(var1)\n",
    "display(var2)\n",
    "display(imp)\n",
    "display(diettype)"
   ]
  },
  {
   "cell_type": "markdown",
   "metadata": {},
   "source": [
    "<span style=\"font-family: Arial; font-size:1.5em;color:green;\"> Determine your energy and nutrient needs\n",
    "<p> <span style=\"font-family: Arial; font-size:1em;color:black;\"> *Vitamin D can be difficult to get through foods, as such we recommend at a minimimum a Vitamin D supplement, especially during months with limited sun."
   ]
  },
  {
   "cell_type": "code",
   "execution_count": 3,
   "metadata": {},
   "outputs": [
    {
     "data": {
      "application/vnd.jupyter.widget-view+json": {
       "model_id": "ae734b93ca6641d48c654523013d81bb",
       "version_major": 2,
       "version_minor": 0
      },
      "text/plain": [
       "IntText(value=60, description='Weight (kg):')"
      ]
     },
     "metadata": {},
     "output_type": "display_data"
    },
    {
     "data": {
      "application/vnd.jupyter.widget-view+json": {
       "model_id": "139c330f01ba4f2ea32b290ba4a28482",
       "version_major": 2,
       "version_minor": 0
      },
      "text/plain": [
       "Dropdown(description='Gender:', options=('female', 'male'), value='female')"
      ]
     },
     "metadata": {},
     "output_type": "display_data"
    },
    {
     "data": {
      "application/vnd.jupyter.widget-view+json": {
       "model_id": "8c3c6a5dad284cc898f78da12379135b",
       "version_major": 2,
       "version_minor": 0
      },
      "text/plain": [
       "IntText(value=165, description='Height (cm):')"
      ]
     },
     "metadata": {},
     "output_type": "display_data"
    },
    {
     "data": {
      "application/vnd.jupyter.widget-view+json": {
       "model_id": "8c9f02e1912c4217abf1ca221a53c3bf",
       "version_major": 2,
       "version_minor": 0
      },
      "text/plain": [
       "IntText(value=40, description='Age (yrs):')"
      ]
     },
     "metadata": {},
     "output_type": "display_data"
    },
    {
     "data": {
      "application/vnd.jupyter.widget-view+json": {
       "model_id": "0f380ce0253747879bd26c36a6c357da",
       "version_major": 2,
       "version_minor": 0
      },
      "text/plain": [
       "Dropdown(description='Activity Level:', index=1, options=('sedentary', 'moderate', 'vigorous'), value='moderat…"
      ]
     },
     "metadata": {},
     "output_type": "display_data"
    },
    {
     "data": {
      "application/vnd.jupyter.widget-view+json": {
       "model_id": "4c55852802d8481e8d16a11fe42aafe7",
       "version_major": 2,
       "version_minor": 0
      },
      "text/plain": [
       "Dropdown(description='Include a multi-vitamin supplement?', options=('yes', 'no'), style=DescriptionStyle(desc…"
      ]
     },
     "metadata": {},
     "output_type": "display_data"
    },
    {
     "data": {
      "application/vnd.jupyter.widget-view+json": {
       "model_id": "0a1680ea4ce849979beb89230ae3fcd3",
       "version_major": 2,
       "version_minor": 0
      },
      "text/plain": [
       "Dropdown(description='Include Vitamin D through food?*', options=('yes', 'no'), style=DescriptionStyle(descrip…"
      ]
     },
     "metadata": {},
     "output_type": "display_data"
    },
    {
     "data": {
      "application/vnd.jupyter.widget-view+json": {
       "model_id": "a6cb43eb964d4cbe99be7f3a2ca8e5b4",
       "version_major": 2,
       "version_minor": 0
      },
      "text/plain": [
       "BoundedIntText(value=7, description='Number of Days for the Diet:', style=DescriptionStyle(description_width='…"
      ]
     },
     "metadata": {},
     "output_type": "display_data"
    },
    {
     "data": {
      "text/html": [
       "\n",
       "        <script>\n",
       "            function code_toggle_1771538681255063179() {\n",
       "                $('div.cell.code_cell.rendered.selected').find('div.input').toggle();\n",
       "            }\n",
       "\n",
       "            \n",
       "        </script>\n",
       "\n",
       "        <a href=\"javascript:code_toggle_1771538681255063179()\">code</a>\n",
       "    "
      ],
      "text/plain": [
       "<IPython.core.display.HTML object>"
      ]
     },
     "execution_count": 3,
     "metadata": {},
     "output_type": "execute_result"
    }
   ],
   "source": [
    "# HIDDEN\n",
    "display(personweight)\n",
    "display(gen)\n",
    "display(height)\n",
    "display(age)\n",
    "display(act)\n",
    "display(sup)\n",
    "display(vitamind)\n",
    "display(days)"
   ]
  },
  {
   "cell_type": "markdown",
   "metadata": {},
   "source": [
    "<span style=\"font-family: Arial; font-size:1em;color:green;\"> Click on the **'Build the database'** button to build the food and impact database specific to your location & preferences."
   ]
  },
  {
   "cell_type": "code",
   "execution_count": 4,
   "metadata": {},
   "outputs": [
    {
     "data": {
      "application/vnd.jupyter.widget-view+json": {
       "model_id": "faad3b57f3834d80adcddd3c97ba4aa3",
       "version_major": 2,
       "version_minor": 0
      },
      "text/plain": [
       "Button(description='Build the database', layout=Layout(height='50px', width='50%'), style=ButtonStyle(button_c…"
      ]
     },
     "metadata": {},
     "output_type": "display_data"
    },
    {
     "data": {
      "application/vnd.jupyter.widget-view+json": {
       "model_id": "f2d8f5964b354ef6bd5e5ae9a3664460",
       "version_major": 2,
       "version_minor": 0
      },
      "text/plain": [
       "Output()"
      ]
     },
     "metadata": {},
     "output_type": "display_data"
    },
    {
     "data": {
      "text/html": [
       "\n",
       "        <script>\n",
       "            function code_toggle_2571840707115767935() {\n",
       "                $('div.cell.code_cell.rendered.selected').find('div.input').toggle();\n",
       "            }\n",
       "\n",
       "            \n",
       "        </script>\n",
       "\n",
       "        <a href=\"javascript:code_toggle_2571840707115767935()\">code</a>\n",
       "    "
      ],
      "text/plain": [
       "<IPython.core.display.HTML object>"
      ]
     },
     "execution_count": 4,
     "metadata": {},
     "output_type": "execute_result"
    }
   ],
   "source": [
    "# HIDDEN\n",
    "display(runcode2,output2)\n",
    "runcode2.on_click(test)"
   ]
  },
  {
   "cell_type": "markdown",
   "metadata": {},
   "source": [
    "<span style=\"font-family: Arial; font-size:1.5em;color:green;\"> Are there certain foods you would like to include in your optimized diet?\n",
    "<p> <span style=\"font-family: Arial; font-size:1em;color:green;\"> Select the food category, food item, and mass you would like, click on save choices button after each food category, and these will be included in your diet regardless of their impact."
   ]
  },
  {
   "cell_type": "code",
   "execution_count": 5,
   "metadata": {
    "scrolled": false
   },
   "outputs": [
    {
     "data": {
      "application/vnd.jupyter.widget-view+json": {
       "model_id": "8c7dbe07f21b4e44ba12cb99b71c4d56",
       "version_major": 2,
       "version_minor": 0
      },
      "text/plain": [
       "HBox(children=(Dropdown(layout=Layout(width='initial'), options=('no food preferences', 'fruits', 'vegetables'…"
      ]
     },
     "metadata": {},
     "output_type": "display_data"
    },
    {
     "data": {
      "application/vnd.jupyter.widget-view+json": {
       "model_id": "685357ea5a9b460cbfd5e7247400d10f",
       "version_major": 2,
       "version_minor": 0
      },
      "text/plain": [
       "Button(description='Show Must Haves', style=ButtonStyle(button_color='lightgreen'))"
      ]
     },
     "metadata": {},
     "output_type": "display_data"
    },
    {
     "data": {
      "application/vnd.jupyter.widget-view+json": {
       "model_id": "5e14f980e9da444eb57a600fddfee918",
       "version_major": 2,
       "version_minor": 0
      },
      "text/plain": [
       "Output()"
      ]
     },
     "metadata": {},
     "output_type": "display_data"
    }
   ],
   "source": [
    "# HIDDEN\n",
    "search_widget.observe(whentextischanged, names='value')\n",
    "options_widget.observe(whentextischanged,names='value')\n",
    "display(multi_select)\n",
    "display(runcodeprint,outputprint)\n",
    "runcodeprint.on_click(printfoods)"
   ]
  },
  {
   "cell_type": "code",
   "execution_count": 6,
   "metadata": {},
   "outputs": [
    {
     "data": {
      "application/vnd.jupyter.widget-view+json": {
       "model_id": "85dd21b9d2734f70a51cba3d3f630f94",
       "version_major": 2,
       "version_minor": 0
      },
      "text/plain": [
       "Button(description='Click Here to Build your Low Impact and Healthful Diet', layout=Layout(height='50px', widt…"
      ]
     },
     "metadata": {},
     "output_type": "display_data"
    },
    {
     "data": {
      "application/vnd.jupyter.widget-view+json": {
       "model_id": "dc9790d549644347ab1864cd10f90091",
       "version_major": 2,
       "version_minor": 0
      },
      "text/plain": [
       "Output()"
      ]
     },
     "metadata": {},
     "output_type": "display_data"
    }
   ],
   "source": [
    "# HIDDEN\n",
    "runcode5 = widgets.Button(description='Click Here to Build your Low Impact and Healthful Diet',\\\n",
    "                         layout=Layout(width='50%', height='50px'))\n",
    "runcode5.style=button_wid.style\n",
    "output5 = widgets.Output()\n",
    "display(runcode5,output5)\n",
    "runcode5.on_click(run_tool)"
   ]
  },
  {
   "cell_type": "code",
   "execution_count": 7,
   "metadata": {},
   "outputs": [
    {
     "data": {
      "text/html": [
       "\n",
       "\n",
       "<style>\n",
       "\n",
       "</style>\n",
       "\n",
       "<div id=\"fig_el560031405440013959041667012104\"></div>\n",
       "<script>\n",
       "function mpld3_load_lib(url, callback){\n",
       "  var s = document.createElement('script');\n",
       "  s.src = url;\n",
       "  s.async = true;\n",
       "  s.onreadystatechange = s.onload = callback;\n",
       "  s.onerror = function(){console.warn(\"failed to load library \" + url);};\n",
       "  document.getElementsByTagName(\"head\")[0].appendChild(s);\n",
       "}\n",
       "\n",
       "if(typeof(mpld3) !== \"undefined\" && mpld3._mpld3IsLoaded){\n",
       "   // already loaded: just create the figure\n",
       "   !function(mpld3){\n",
       "       \n",
       "       mpld3.draw_figure(\"fig_el560031405440013959041667012104\", {\"width\": 720.0, \"height\": 576.0, \"axes\": [{\"bbox\": [0.125, 0.125, 0.775, 0.755], \"xlim\": [-0.27767149014441583, 6.2330018804285], \"ylim\": [-110.67651735000001, 3195.27031035], \"xdomain\": [-0.27767149014441583, 6.2330018804285], \"ydomain\": [-110.67651735000001, 3195.27031035], \"xscale\": \"linear\", \"yscale\": \"linear\", \"axes\": [{\"position\": \"bottom\", \"nticks\": 9, \"tickvalues\": null, \"tickformat_formatter\": \"\", \"tickformat\": null, \"scale\": \"linear\", \"fontsize\": 10.0, \"grid\": {\"gridOn\": true, \"color\": \"#FFFFFF\", \"dasharray\": \"0.8,1.32\", \"alpha\": 1.0}, \"visible\": true}, {\"position\": \"left\", \"nticks\": 9, \"tickvalues\": null, \"tickformat_formatter\": \"\", \"tickformat\": null, \"scale\": \"linear\", \"fontsize\": 10.0, \"grid\": {\"gridOn\": true, \"color\": \"#FFFFFF\", \"dasharray\": \"0.8,1.32\", \"alpha\": 1.0}, \"visible\": true}], \"axesbg\": \"#FFFFFF\", \"axesbgalpha\": null, \"zoomable\": true, \"id\": \"el56003140544001372848\", \"lines\": [], \"paths\": [{\"data\": \"data02\", \"xindex\": 0, \"yindex\": 1, \"coordinates\": \"axes\", \"pathcodes\": [\"M\", \"L\", \"L\", \"L\", \"Z\"], \"id\": \"el56003140544001760056\", \"dasharray\": \"none\", \"alpha\": 1, \"facecolor\": \"#FF0000\", \"edgecolor\": \"#FF0000\", \"edgewidth\": 1.0, \"zorder\": 1000001.0}, {\"data\": \"data02\", \"xindex\": 0, \"yindex\": 2, \"coordinates\": \"axes\", \"pathcodes\": [\"M\", \"L\", \"L\", \"L\", \"Z\"], \"id\": \"el56003140544001760840\", \"dasharray\": \"none\", \"alpha\": 1, \"facecolor\": \"#6922FE\", \"edgecolor\": \"#6922FE\", \"edgewidth\": 1.0, \"zorder\": 1000001.0}, {\"data\": \"data02\", \"xindex\": 0, \"yindex\": 3, \"coordinates\": \"axes\", \"pathcodes\": [\"M\", \"L\", \"L\", \"L\", \"Z\"], \"id\": \"el56003140544001760448\", \"dasharray\": \"none\", \"alpha\": 1, \"facecolor\": \"#3D64F9\", \"edgecolor\": \"#3D64F9\", \"edgewidth\": 1.0, \"zorder\": 1000001.0}, {\"data\": \"data02\", \"xindex\": 0, \"yindex\": 4, \"coordinates\": \"axes\", \"pathcodes\": [\"M\", \"L\", \"L\", \"L\", \"Z\"], \"id\": \"el56003140544001713152\", \"dasharray\": \"none\", \"alpha\": 1, \"facecolor\": \"#5EF9C5\", \"edgecolor\": \"#5EF9C5\", \"edgewidth\": 1.0, \"zorder\": 1000001.0}, {\"data\": \"data02\", \"xindex\": 0, \"yindex\": 5, \"coordinates\": \"axes\", \"pathcodes\": [\"M\", \"L\", \"L\", \"L\", \"Z\"], \"id\": \"el56003140544001712760\", \"dasharray\": \"none\", \"alpha\": 1, \"facecolor\": \"#FF4422\", \"edgecolor\": \"#FF4422\", \"edgewidth\": 1.0, \"zorder\": 1000001.0}, {\"data\": \"data02\", \"xindex\": 0, \"yindex\": 6, \"coordinates\": \"axes\", \"pathcodes\": [\"M\", \"L\", \"L\", \"L\", \"Z\"], \"id\": \"el56003140544001716176\", \"dasharray\": \"none\", \"alpha\": 1, \"facecolor\": \"#A0F9A1\", \"edgecolor\": \"#A0F9A1\", \"edgewidth\": 1.0, \"zorder\": 1000001.0}, {\"data\": \"data02\", \"xindex\": 0, \"yindex\": 7, \"coordinates\": \"axes\", \"pathcodes\": [\"M\", \"L\", \"L\", \"L\", \"Z\"], \"id\": \"el56003140544001714272\", \"dasharray\": \"none\", \"alpha\": 1, \"facecolor\": \"#E4CF74\", \"edgecolor\": \"#E4CF74\", \"edgewidth\": 1.0, \"zorder\": 1000001.0}, {\"data\": \"data03\", \"xindex\": 0, \"yindex\": 1, \"coordinates\": \"axes\", \"pathcodes\": [\"M\", \"L\", \"S\", \"L\", \"S\", \"L\", \"S\", \"L\", \"S\", \"Z\"], \"id\": \"el56003140544001703496\", \"dasharray\": \"none\", \"alpha\": 0.8, \"facecolor\": \"rgba(255, 255, 255, 0.8)\", \"edgecolor\": \"rgba(204, 204, 204, 0.8)\", \"edgewidth\": 1.0, \"zorder\": 1000000.0}], \"markers\": [], \"texts\": [{\"text\": \"Impacts per Food Item (kgCO2eq)\", \"position\": [0.5, -0.048289183222958054], \"coordinates\": \"axes\", \"h_anchor\": \"middle\", \"v_baseline\": \"hanging\", \"rotation\": -0.0, \"fontsize\": 12.0, \"color\": \"#000000\", \"alpha\": 1, \"zorder\": 3, \"id\": \"el56003140544001271680\"}, {\"text\": \"Grams to be Consumed\", \"position\": [-0.06541218637992831, 0.49999999999999994], \"coordinates\": \"axes\", \"h_anchor\": \"middle\", \"v_baseline\": \"auto\", \"rotation\": -90.0, \"fontsize\": 12.0, \"color\": \"#000000\", \"alpha\": 1, \"zorder\": 3, \"id\": \"el56003140544001785472\"}, {\"text\": \"Recommended Diet for 7 days\", \"position\": [0.5, 1.0137969094922736], \"coordinates\": \"axes\", \"h_anchor\": \"middle\", \"v_baseline\": \"auto\", \"rotation\": -0.0, \"fontsize\": 20.0, \"color\": \"#000000\", \"alpha\": 1, \"zorder\": 3, \"id\": \"el56003140544001752480\"}, {\"text\": \"Source Country \\n for Food Item\", \"position\": [0.6266129032258067, 0.434234731420162], \"coordinates\": \"axes\", \"h_anchor\": \"start\", \"v_baseline\": \"auto\", \"rotation\": -0.0, \"fontsize\": 10.0, \"color\": \"#000000\", \"alpha\": 1, \"zorder\": 1000003.0, \"id\": \"el56003140544001712704\"}, {\"text\": \"Switzerland\", \"position\": [0.6626792114695342, 0.3997424576894777], \"coordinates\": \"axes\", \"h_anchor\": \"start\", \"v_baseline\": \"auto\", \"rotation\": -0.0, \"fontsize\": 10.0, \"color\": \"#000000\", \"alpha\": 1, \"zorder\": 1000003.0, \"id\": \"el56003140544001760392\"}, {\"text\": \"Belgium\", \"position\": [0.6626792114695342, 0.3652501839587933], \"coordinates\": \"axes\", \"h_anchor\": \"start\", \"v_baseline\": \"auto\", \"rotation\": -0.0, \"fontsize\": 10.0, \"color\": \"#000000\", \"alpha\": 1, \"zorder\": 1000003.0, \"id\": \"el56003140544001759272\"}, {\"text\": \"Lebanon\", \"position\": [0.6626792114695342, 0.33075791022810896], \"coordinates\": \"axes\", \"h_anchor\": \"start\", \"v_baseline\": \"auto\", \"rotation\": -0.0, \"fontsize\": 10.0, \"color\": \"#000000\", \"alpha\": 1, \"zorder\": 1000003.0, \"id\": \"el56003140544001760000\"}, {\"text\": \"France\", \"position\": [0.6626792114695342, 0.29626563649742466], \"coordinates\": \"axes\", \"h_anchor\": \"start\", \"v_baseline\": \"auto\", \"rotation\": -0.0, \"fontsize\": 10.0, \"color\": \"#000000\", \"alpha\": 1, \"zorder\": 1000003.0, \"id\": \"el56003140544001758320\"}, {\"text\": \"Italy\", \"position\": [0.6626792114695342, 0.26177336276674035], \"coordinates\": \"axes\", \"h_anchor\": \"start\", \"v_baseline\": \"auto\", \"rotation\": -0.0, \"fontsize\": 10.0, \"color\": \"#000000\", \"alpha\": 1, \"zorder\": 1000003.0, \"id\": \"el56003140544001714776\"}, {\"text\": \"United States\", \"position\": [0.6626792114695342, 0.227281089036056], \"coordinates\": \"axes\", \"h_anchor\": \"start\", \"v_baseline\": \"auto\", \"rotation\": -0.0, \"fontsize\": 10.0, \"color\": \"#000000\", \"alpha\": 1, \"zorder\": 1000003.0, \"id\": \"el56003140544001712312\"}, {\"text\": \"Canada\", \"position\": [0.6626792114695342, 0.19278881530537165], \"coordinates\": \"axes\", \"h_anchor\": \"start\", \"v_baseline\": \"auto\", \"rotation\": -0.0, \"fontsize\": 10.0, \"color\": \"#000000\", \"alpha\": 1, \"zorder\": 1000003.0, \"id\": \"el56003140544001713432\"}], \"collections\": [{\"offsets\": \"data01\", \"xindex\": 0, \"yindex\": 1, \"paths\": [[[[0.0, -0.5], [0.13260155, -0.5], [0.25978993539242673, -0.44731684579412084], [0.3535533905932738, -0.3535533905932738], [0.44731684579412084, -0.25978993539242673], [0.5, -0.13260155], [0.5, 0.0], [0.5, 0.13260155], [0.44731684579412084, 0.25978993539242673], [0.3535533905932738, 0.3535533905932738], [0.25978993539242673, 0.44731684579412084], [0.13260155, 0.5], [0.0, 0.5], [-0.13260155, 0.5], [-0.25978993539242673, 0.44731684579412084], [-0.3535533905932738, 0.3535533905932738], [-0.44731684579412084, 0.25978993539242673], [-0.5, 0.13260155], [-0.5, 0.0], [-0.5, -0.13260155], [-0.44731684579412084, -0.25978993539242673], [-0.3535533905932738, -0.3535533905932738], [-0.25978993539242673, -0.44731684579412084], [-0.13260155, -0.5], [0.0, -0.5]], [\"M\", \"C\", \"C\", \"C\", \"C\", \"C\", \"C\", \"C\", \"C\", \"Z\"]]], \"pathtransforms\": [[7.0710678118654755, 0.0, 0.0, 7.0710678118654755, 0.0, 0.0]], \"alphas\": [0.8], \"edgecolors\": [\"rgba(255, 0, 0, 0.8)\", \"rgba(106, 34, 254, 0.8)\", \"rgba(255, 0, 0, 0.8)\", \"rgba(62, 101, 250, 0.8)\", \"rgba(94, 250, 198, 0.8)\", \"rgba(255, 0, 0, 0.8)\", \"rgba(255, 0, 0, 0.8)\", \"rgba(255, 68, 34, 0.8)\", \"rgba(160, 250, 161, 0.8)\", \"rgba(255, 0, 0, 0.8)\", \"rgba(94, 250, 198, 0.8)\", \"rgba(255, 0, 0, 0.8)\", \"rgba(255, 0, 0, 0.8)\", \"rgba(160, 250, 161, 0.8)\", \"rgba(255, 0, 0, 0.8)\", \"rgba(255, 0, 0, 0.8)\", \"rgba(228, 207, 116, 0.8)\", \"rgba(255, 0, 0, 0.8)\", \"rgba(255, 0, 0, 0.8)\", \"rgba(255, 68, 34, 0.8)\", \"rgba(255, 0, 0, 0.8)\", \"rgba(255, 68, 34, 0.8)\", \"rgba(255, 0, 0, 0.8)\", \"rgba(255, 0, 0, 0.8)\"], \"facecolors\": [\"rgba(255, 0, 0, 0.8)\", \"rgba(106, 34, 254, 0.8)\", \"rgba(255, 0, 0, 0.8)\", \"rgba(62, 101, 250, 0.8)\", \"rgba(94, 250, 198, 0.8)\", \"rgba(255, 0, 0, 0.8)\", \"rgba(255, 0, 0, 0.8)\", \"rgba(255, 68, 34, 0.8)\", \"rgba(160, 250, 161, 0.8)\", \"rgba(255, 0, 0, 0.8)\", \"rgba(94, 250, 198, 0.8)\", \"rgba(255, 0, 0, 0.8)\", \"rgba(255, 0, 0, 0.8)\", \"rgba(160, 250, 161, 0.8)\", \"rgba(255, 0, 0, 0.8)\", \"rgba(255, 0, 0, 0.8)\", \"rgba(228, 207, 116, 0.8)\", \"rgba(255, 0, 0, 0.8)\", \"rgba(255, 0, 0, 0.8)\", \"rgba(255, 68, 34, 0.8)\", \"rgba(255, 0, 0, 0.8)\", \"rgba(255, 68, 34, 0.8)\", \"rgba(255, 0, 0, 0.8)\", \"rgba(255, 0, 0, 0.8)\"], \"edgewidths\": [1.0], \"offsetcoordinates\": \"data\", \"pathcoordinates\": \"display\", \"zorder\": 1, \"id\": \"el56003140544000410232\"}], \"images\": [], \"sharex\": [], \"sharey\": []}], \"data\": {\"data01\": [[5.937062181766095, 3045.0], [0.09624902227549366, 1050.0], [0.10839867759595, 700.0], [0.3658109953301106, 700.0], [0.13319577646702613, 700.0], [0.1263426350429807, 700.0], [0.09530034612139462, 530.53073], [0.10960762709932302, 507.14832], [1.5595899474758095, 450.0], [0.13937077907698628, 420.0], [0.13392868347188147, 420.0], [0.2282496755182204, 355.68396], [1.5685032117764042, 250.0], [0.6931510877670265, 200.0], [1.2548025694211233, 200.0], [0.5082671164344124, 196.0], [0.13144123266466085, 194.37015], [0.9411019270658425, 150.0], [0.38615407460735174, 148.91028], [0.03842707083957523, 140.0], [0.055851662012432586, 117.02495], [0.01826820851798945, 82.320947], [0.31370064235528083, 50.0], [0.025308320856059878, 39.593793]], \"data02\": [[0.6125000000000002, 0.3997424576894777, 0.3652501839587933, 0.33075791022810896, 0.29626563649742466, 0.26177336276674035, 0.227281089036056, 0.19278881530537165], [0.6483422939068102, 0.3997424576894777, 0.3652501839587933, 0.33075791022810896, 0.29626563649742466, 0.26177336276674035, 0.227281089036056, 0.19278881530537165], [0.6483422939068102, 0.4158388520971304, 0.381346578366446, 0.34685430463576167, 0.31236203090507736, 0.27786975717439305, 0.2433774834437087, 0.20888520971302432], [0.6125000000000002, 0.4158388520971304, 0.381346578366446, 0.34685430463576167, 0.31236203090507736, 0.27786975717439305, 0.2433774834437087, 0.20888520971302432]], \"data03\": [[0.6089157706093192, 0.17899190581309796], [0.7874551971326167, 0.17899190581309796], [0.7910394265232977, 0.17899190581309796], [0.7910394265232977, 0.18359087564385587], [0.7910394265232977, 0.48390360559234746], [0.7910394265232977, 0.4885025754231054], [0.7874551971326167, 0.4885025754231054], [0.6089157706093192, 0.4885025754231054], [0.6053315412186382, 0.4885025754231054], [0.6053315412186382, 0.48390360559234746], [0.6053315412186382, 0.18359087564385587], [0.6053315412186382, 0.17899190581309796], [0.6089157706093192, 0.17899190581309796]]}, \"id\": \"el56003140544001395904\", \"plugins\": [{\"type\": \"reset\"}, {\"type\": \"zoom\", \"button\": true, \"enabled\": false}, {\"type\": \"boxzoom\", \"button\": true, \"enabled\": false}, {\"type\": \"tooltip\", \"id\": \"el56003140544000410232\", \"labels\": [\"whole milk pasteurised, average\", \"pears\", \"rocket\", \"mackerel, flesh only, smoked\", \"melon\", \"carrots\", \"spring greens\", \"chard\", \"almonds\", \"broad beans, canned\", \"muesli, swiss style, unfortified\", \"cereal, bran type cereal, fortified\", \"caerphilly cheese \", \"almonds, flaked and ground\", \"cottage cheese plain\", \"dairy cream extra thick (24% fat)\", \"herring, flesh only, grilled\", \"feta cheese \", \"full fat creme fraiche \", \"pumpkin seeds\", \"bread, wholemeal, average\", \"curly kale\", \"mascarpone cheese \", \"sunflower seeds\"], \"hoffset\": 0, \"voffset\": 10, \"location\": \"mouse\"}]});\n",
       "   }(mpld3);\n",
       "}else if(typeof define === \"function\" && define.amd){\n",
       "   // require.js is available: use it to load d3/mpld3\n",
       "   require.config({paths: {d3: \"https://d3js.org/d3.v5\"}});\n",
       "   require([\"d3\"], function(d3){\n",
       "      window.d3 = d3;\n",
       "      mpld3_load_lib(\"https://mpld3.github.io/js/mpld3.v0.5.2.js\", function(){\n",
       "         \n",
       "         mpld3.draw_figure(\"fig_el560031405440013959041667012104\", {\"width\": 720.0, \"height\": 576.0, \"axes\": [{\"bbox\": [0.125, 0.125, 0.775, 0.755], \"xlim\": [-0.27767149014441583, 6.2330018804285], \"ylim\": [-110.67651735000001, 3195.27031035], \"xdomain\": [-0.27767149014441583, 6.2330018804285], \"ydomain\": [-110.67651735000001, 3195.27031035], \"xscale\": \"linear\", \"yscale\": \"linear\", \"axes\": [{\"position\": \"bottom\", \"nticks\": 9, \"tickvalues\": null, \"tickformat_formatter\": \"\", \"tickformat\": null, \"scale\": \"linear\", \"fontsize\": 10.0, \"grid\": {\"gridOn\": true, \"color\": \"#FFFFFF\", \"dasharray\": \"0.8,1.32\", \"alpha\": 1.0}, \"visible\": true}, {\"position\": \"left\", \"nticks\": 9, \"tickvalues\": null, \"tickformat_formatter\": \"\", \"tickformat\": null, \"scale\": \"linear\", \"fontsize\": 10.0, \"grid\": {\"gridOn\": true, \"color\": \"#FFFFFF\", \"dasharray\": \"0.8,1.32\", \"alpha\": 1.0}, \"visible\": true}], \"axesbg\": \"#FFFFFF\", \"axesbgalpha\": null, \"zoomable\": true, \"id\": \"el56003140544001372848\", \"lines\": [], \"paths\": [{\"data\": \"data02\", \"xindex\": 0, \"yindex\": 1, \"coordinates\": \"axes\", \"pathcodes\": [\"M\", \"L\", \"L\", \"L\", \"Z\"], \"id\": \"el56003140544001760056\", \"dasharray\": \"none\", \"alpha\": 1, \"facecolor\": \"#FF0000\", \"edgecolor\": \"#FF0000\", \"edgewidth\": 1.0, \"zorder\": 1000001.0}, {\"data\": \"data02\", \"xindex\": 0, \"yindex\": 2, \"coordinates\": \"axes\", \"pathcodes\": [\"M\", \"L\", \"L\", \"L\", \"Z\"], \"id\": \"el56003140544001760840\", \"dasharray\": \"none\", \"alpha\": 1, \"facecolor\": \"#6922FE\", \"edgecolor\": \"#6922FE\", \"edgewidth\": 1.0, \"zorder\": 1000001.0}, {\"data\": \"data02\", \"xindex\": 0, \"yindex\": 3, \"coordinates\": \"axes\", \"pathcodes\": [\"M\", \"L\", \"L\", \"L\", \"Z\"], \"id\": \"el56003140544001760448\", \"dasharray\": \"none\", \"alpha\": 1, \"facecolor\": \"#3D64F9\", \"edgecolor\": \"#3D64F9\", \"edgewidth\": 1.0, \"zorder\": 1000001.0}, {\"data\": \"data02\", \"xindex\": 0, \"yindex\": 4, \"coordinates\": \"axes\", \"pathcodes\": [\"M\", \"L\", \"L\", \"L\", \"Z\"], \"id\": \"el56003140544001713152\", \"dasharray\": \"none\", \"alpha\": 1, \"facecolor\": \"#5EF9C5\", \"edgecolor\": \"#5EF9C5\", \"edgewidth\": 1.0, \"zorder\": 1000001.0}, {\"data\": \"data02\", \"xindex\": 0, \"yindex\": 5, \"coordinates\": \"axes\", \"pathcodes\": [\"M\", \"L\", \"L\", \"L\", \"Z\"], \"id\": \"el56003140544001712760\", \"dasharray\": \"none\", \"alpha\": 1, \"facecolor\": \"#FF4422\", \"edgecolor\": \"#FF4422\", \"edgewidth\": 1.0, \"zorder\": 1000001.0}, {\"data\": \"data02\", \"xindex\": 0, \"yindex\": 6, \"coordinates\": \"axes\", \"pathcodes\": [\"M\", \"L\", \"L\", \"L\", \"Z\"], \"id\": \"el56003140544001716176\", \"dasharray\": \"none\", \"alpha\": 1, \"facecolor\": \"#A0F9A1\", \"edgecolor\": \"#A0F9A1\", \"edgewidth\": 1.0, \"zorder\": 1000001.0}, {\"data\": \"data02\", \"xindex\": 0, \"yindex\": 7, \"coordinates\": \"axes\", \"pathcodes\": [\"M\", \"L\", \"L\", \"L\", \"Z\"], \"id\": \"el56003140544001714272\", \"dasharray\": \"none\", \"alpha\": 1, \"facecolor\": \"#E4CF74\", \"edgecolor\": \"#E4CF74\", \"edgewidth\": 1.0, \"zorder\": 1000001.0}, {\"data\": \"data03\", \"xindex\": 0, \"yindex\": 1, \"coordinates\": \"axes\", \"pathcodes\": [\"M\", \"L\", \"S\", \"L\", \"S\", \"L\", \"S\", \"L\", \"S\", \"Z\"], \"id\": \"el56003140544001703496\", \"dasharray\": \"none\", \"alpha\": 0.8, \"facecolor\": \"rgba(255, 255, 255, 0.8)\", \"edgecolor\": \"rgba(204, 204, 204, 0.8)\", \"edgewidth\": 1.0, \"zorder\": 1000000.0}], \"markers\": [], \"texts\": [{\"text\": \"Impacts per Food Item (kgCO2eq)\", \"position\": [0.5, -0.048289183222958054], \"coordinates\": \"axes\", \"h_anchor\": \"middle\", \"v_baseline\": \"hanging\", \"rotation\": -0.0, \"fontsize\": 12.0, \"color\": \"#000000\", \"alpha\": 1, \"zorder\": 3, \"id\": \"el56003140544001271680\"}, {\"text\": \"Grams to be Consumed\", \"position\": [-0.06541218637992831, 0.49999999999999994], \"coordinates\": \"axes\", \"h_anchor\": \"middle\", \"v_baseline\": \"auto\", \"rotation\": -90.0, \"fontsize\": 12.0, \"color\": \"#000000\", \"alpha\": 1, \"zorder\": 3, \"id\": \"el56003140544001785472\"}, {\"text\": \"Recommended Diet for 7 days\", \"position\": [0.5, 1.0137969094922736], \"coordinates\": \"axes\", \"h_anchor\": \"middle\", \"v_baseline\": \"auto\", \"rotation\": -0.0, \"fontsize\": 20.0, \"color\": \"#000000\", \"alpha\": 1, \"zorder\": 3, \"id\": \"el56003140544001752480\"}, {\"text\": \"Source Country \\n for Food Item\", \"position\": [0.6266129032258067, 0.434234731420162], \"coordinates\": \"axes\", \"h_anchor\": \"start\", \"v_baseline\": \"auto\", \"rotation\": -0.0, \"fontsize\": 10.0, \"color\": \"#000000\", \"alpha\": 1, \"zorder\": 1000003.0, \"id\": \"el56003140544001712704\"}, {\"text\": \"Switzerland\", \"position\": [0.6626792114695342, 0.3997424576894777], \"coordinates\": \"axes\", \"h_anchor\": \"start\", \"v_baseline\": \"auto\", \"rotation\": -0.0, \"fontsize\": 10.0, \"color\": \"#000000\", \"alpha\": 1, \"zorder\": 1000003.0, \"id\": \"el56003140544001760392\"}, {\"text\": \"Belgium\", \"position\": [0.6626792114695342, 0.3652501839587933], \"coordinates\": \"axes\", \"h_anchor\": \"start\", \"v_baseline\": \"auto\", \"rotation\": -0.0, \"fontsize\": 10.0, \"color\": \"#000000\", \"alpha\": 1, \"zorder\": 1000003.0, \"id\": \"el56003140544001759272\"}, {\"text\": \"Lebanon\", \"position\": [0.6626792114695342, 0.33075791022810896], \"coordinates\": \"axes\", \"h_anchor\": \"start\", \"v_baseline\": \"auto\", \"rotation\": -0.0, \"fontsize\": 10.0, \"color\": \"#000000\", \"alpha\": 1, \"zorder\": 1000003.0, \"id\": \"el56003140544001760000\"}, {\"text\": \"France\", \"position\": [0.6626792114695342, 0.29626563649742466], \"coordinates\": \"axes\", \"h_anchor\": \"start\", \"v_baseline\": \"auto\", \"rotation\": -0.0, \"fontsize\": 10.0, \"color\": \"#000000\", \"alpha\": 1, \"zorder\": 1000003.0, \"id\": \"el56003140544001758320\"}, {\"text\": \"Italy\", \"position\": [0.6626792114695342, 0.26177336276674035], \"coordinates\": \"axes\", \"h_anchor\": \"start\", \"v_baseline\": \"auto\", \"rotation\": -0.0, \"fontsize\": 10.0, \"color\": \"#000000\", \"alpha\": 1, \"zorder\": 1000003.0, \"id\": \"el56003140544001714776\"}, {\"text\": \"United States\", \"position\": [0.6626792114695342, 0.227281089036056], \"coordinates\": \"axes\", \"h_anchor\": \"start\", \"v_baseline\": \"auto\", \"rotation\": -0.0, \"fontsize\": 10.0, \"color\": \"#000000\", \"alpha\": 1, \"zorder\": 1000003.0, \"id\": \"el56003140544001712312\"}, {\"text\": \"Canada\", \"position\": [0.6626792114695342, 0.19278881530537165], \"coordinates\": \"axes\", \"h_anchor\": \"start\", \"v_baseline\": \"auto\", \"rotation\": -0.0, \"fontsize\": 10.0, \"color\": \"#000000\", \"alpha\": 1, \"zorder\": 1000003.0, \"id\": \"el56003140544001713432\"}], \"collections\": [{\"offsets\": \"data01\", \"xindex\": 0, \"yindex\": 1, \"paths\": [[[[0.0, -0.5], [0.13260155, -0.5], [0.25978993539242673, -0.44731684579412084], [0.3535533905932738, -0.3535533905932738], [0.44731684579412084, -0.25978993539242673], [0.5, -0.13260155], [0.5, 0.0], [0.5, 0.13260155], [0.44731684579412084, 0.25978993539242673], [0.3535533905932738, 0.3535533905932738], [0.25978993539242673, 0.44731684579412084], [0.13260155, 0.5], [0.0, 0.5], [-0.13260155, 0.5], [-0.25978993539242673, 0.44731684579412084], [-0.3535533905932738, 0.3535533905932738], [-0.44731684579412084, 0.25978993539242673], [-0.5, 0.13260155], [-0.5, 0.0], [-0.5, -0.13260155], [-0.44731684579412084, -0.25978993539242673], [-0.3535533905932738, -0.3535533905932738], [-0.25978993539242673, -0.44731684579412084], [-0.13260155, -0.5], [0.0, -0.5]], [\"M\", \"C\", \"C\", \"C\", \"C\", \"C\", \"C\", \"C\", \"C\", \"Z\"]]], \"pathtransforms\": [[7.0710678118654755, 0.0, 0.0, 7.0710678118654755, 0.0, 0.0]], \"alphas\": [0.8], \"edgecolors\": [\"rgba(255, 0, 0, 0.8)\", \"rgba(106, 34, 254, 0.8)\", \"rgba(255, 0, 0, 0.8)\", \"rgba(62, 101, 250, 0.8)\", \"rgba(94, 250, 198, 0.8)\", \"rgba(255, 0, 0, 0.8)\", \"rgba(255, 0, 0, 0.8)\", \"rgba(255, 68, 34, 0.8)\", \"rgba(160, 250, 161, 0.8)\", \"rgba(255, 0, 0, 0.8)\", \"rgba(94, 250, 198, 0.8)\", \"rgba(255, 0, 0, 0.8)\", \"rgba(255, 0, 0, 0.8)\", \"rgba(160, 250, 161, 0.8)\", \"rgba(255, 0, 0, 0.8)\", \"rgba(255, 0, 0, 0.8)\", \"rgba(228, 207, 116, 0.8)\", \"rgba(255, 0, 0, 0.8)\", \"rgba(255, 0, 0, 0.8)\", \"rgba(255, 68, 34, 0.8)\", \"rgba(255, 0, 0, 0.8)\", \"rgba(255, 68, 34, 0.8)\", \"rgba(255, 0, 0, 0.8)\", \"rgba(255, 0, 0, 0.8)\"], \"facecolors\": [\"rgba(255, 0, 0, 0.8)\", \"rgba(106, 34, 254, 0.8)\", \"rgba(255, 0, 0, 0.8)\", \"rgba(62, 101, 250, 0.8)\", \"rgba(94, 250, 198, 0.8)\", \"rgba(255, 0, 0, 0.8)\", \"rgba(255, 0, 0, 0.8)\", \"rgba(255, 68, 34, 0.8)\", \"rgba(160, 250, 161, 0.8)\", \"rgba(255, 0, 0, 0.8)\", \"rgba(94, 250, 198, 0.8)\", \"rgba(255, 0, 0, 0.8)\", \"rgba(255, 0, 0, 0.8)\", \"rgba(160, 250, 161, 0.8)\", \"rgba(255, 0, 0, 0.8)\", \"rgba(255, 0, 0, 0.8)\", \"rgba(228, 207, 116, 0.8)\", \"rgba(255, 0, 0, 0.8)\", \"rgba(255, 0, 0, 0.8)\", \"rgba(255, 68, 34, 0.8)\", \"rgba(255, 0, 0, 0.8)\", \"rgba(255, 68, 34, 0.8)\", \"rgba(255, 0, 0, 0.8)\", \"rgba(255, 0, 0, 0.8)\"], \"edgewidths\": [1.0], \"offsetcoordinates\": \"data\", \"pathcoordinates\": \"display\", \"zorder\": 1, \"id\": \"el56003140544000410232\"}], \"images\": [], \"sharex\": [], \"sharey\": []}], \"data\": {\"data01\": [[5.937062181766095, 3045.0], [0.09624902227549366, 1050.0], [0.10839867759595, 700.0], [0.3658109953301106, 700.0], [0.13319577646702613, 700.0], [0.1263426350429807, 700.0], [0.09530034612139462, 530.53073], [0.10960762709932302, 507.14832], [1.5595899474758095, 450.0], [0.13937077907698628, 420.0], [0.13392868347188147, 420.0], [0.2282496755182204, 355.68396], [1.5685032117764042, 250.0], [0.6931510877670265, 200.0], [1.2548025694211233, 200.0], [0.5082671164344124, 196.0], [0.13144123266466085, 194.37015], [0.9411019270658425, 150.0], [0.38615407460735174, 148.91028], [0.03842707083957523, 140.0], [0.055851662012432586, 117.02495], [0.01826820851798945, 82.320947], [0.31370064235528083, 50.0], [0.025308320856059878, 39.593793]], \"data02\": [[0.6125000000000002, 0.3997424576894777, 0.3652501839587933, 0.33075791022810896, 0.29626563649742466, 0.26177336276674035, 0.227281089036056, 0.19278881530537165], [0.6483422939068102, 0.3997424576894777, 0.3652501839587933, 0.33075791022810896, 0.29626563649742466, 0.26177336276674035, 0.227281089036056, 0.19278881530537165], [0.6483422939068102, 0.4158388520971304, 0.381346578366446, 0.34685430463576167, 0.31236203090507736, 0.27786975717439305, 0.2433774834437087, 0.20888520971302432], [0.6125000000000002, 0.4158388520971304, 0.381346578366446, 0.34685430463576167, 0.31236203090507736, 0.27786975717439305, 0.2433774834437087, 0.20888520971302432]], \"data03\": [[0.6089157706093192, 0.17899190581309796], [0.7874551971326167, 0.17899190581309796], [0.7910394265232977, 0.17899190581309796], [0.7910394265232977, 0.18359087564385587], [0.7910394265232977, 0.48390360559234746], [0.7910394265232977, 0.4885025754231054], [0.7874551971326167, 0.4885025754231054], [0.6089157706093192, 0.4885025754231054], [0.6053315412186382, 0.4885025754231054], [0.6053315412186382, 0.48390360559234746], [0.6053315412186382, 0.18359087564385587], [0.6053315412186382, 0.17899190581309796], [0.6089157706093192, 0.17899190581309796]]}, \"id\": \"el56003140544001395904\", \"plugins\": [{\"type\": \"reset\"}, {\"type\": \"zoom\", \"button\": true, \"enabled\": false}, {\"type\": \"boxzoom\", \"button\": true, \"enabled\": false}, {\"type\": \"tooltip\", \"id\": \"el56003140544000410232\", \"labels\": [\"whole milk pasteurised, average\", \"pears\", \"rocket\", \"mackerel, flesh only, smoked\", \"melon\", \"carrots\", \"spring greens\", \"chard\", \"almonds\", \"broad beans, canned\", \"muesli, swiss style, unfortified\", \"cereal, bran type cereal, fortified\", \"caerphilly cheese \", \"almonds, flaked and ground\", \"cottage cheese plain\", \"dairy cream extra thick (24% fat)\", \"herring, flesh only, grilled\", \"feta cheese \", \"full fat creme fraiche \", \"pumpkin seeds\", \"bread, wholemeal, average\", \"curly kale\", \"mascarpone cheese \", \"sunflower seeds\"], \"hoffset\": 0, \"voffset\": 10, \"location\": \"mouse\"}]});\n",
       "      });\n",
       "    });\n",
       "}else{\n",
       "    // require.js not available: dynamically load d3 & mpld3\n",
       "    mpld3_load_lib(\"https://d3js.org/d3.v5.js\", function(){\n",
       "         mpld3_load_lib(\"https://mpld3.github.io/js/mpld3.v0.5.2.js\", function(){\n",
       "                 \n",
       "                 mpld3.draw_figure(\"fig_el560031405440013959041667012104\", {\"width\": 720.0, \"height\": 576.0, \"axes\": [{\"bbox\": [0.125, 0.125, 0.775, 0.755], \"xlim\": [-0.27767149014441583, 6.2330018804285], \"ylim\": [-110.67651735000001, 3195.27031035], \"xdomain\": [-0.27767149014441583, 6.2330018804285], \"ydomain\": [-110.67651735000001, 3195.27031035], \"xscale\": \"linear\", \"yscale\": \"linear\", \"axes\": [{\"position\": \"bottom\", \"nticks\": 9, \"tickvalues\": null, \"tickformat_formatter\": \"\", \"tickformat\": null, \"scale\": \"linear\", \"fontsize\": 10.0, \"grid\": {\"gridOn\": true, \"color\": \"#FFFFFF\", \"dasharray\": \"0.8,1.32\", \"alpha\": 1.0}, \"visible\": true}, {\"position\": \"left\", \"nticks\": 9, \"tickvalues\": null, \"tickformat_formatter\": \"\", \"tickformat\": null, \"scale\": \"linear\", \"fontsize\": 10.0, \"grid\": {\"gridOn\": true, \"color\": \"#FFFFFF\", \"dasharray\": \"0.8,1.32\", \"alpha\": 1.0}, \"visible\": true}], \"axesbg\": \"#FFFFFF\", \"axesbgalpha\": null, \"zoomable\": true, \"id\": \"el56003140544001372848\", \"lines\": [], \"paths\": [{\"data\": \"data02\", \"xindex\": 0, \"yindex\": 1, \"coordinates\": \"axes\", \"pathcodes\": [\"M\", \"L\", \"L\", \"L\", \"Z\"], \"id\": \"el56003140544001760056\", \"dasharray\": \"none\", \"alpha\": 1, \"facecolor\": \"#FF0000\", \"edgecolor\": \"#FF0000\", \"edgewidth\": 1.0, \"zorder\": 1000001.0}, {\"data\": \"data02\", \"xindex\": 0, \"yindex\": 2, \"coordinates\": \"axes\", \"pathcodes\": [\"M\", \"L\", \"L\", \"L\", \"Z\"], \"id\": \"el56003140544001760840\", \"dasharray\": \"none\", \"alpha\": 1, \"facecolor\": \"#6922FE\", \"edgecolor\": \"#6922FE\", \"edgewidth\": 1.0, \"zorder\": 1000001.0}, {\"data\": \"data02\", \"xindex\": 0, \"yindex\": 3, \"coordinates\": \"axes\", \"pathcodes\": [\"M\", \"L\", \"L\", \"L\", \"Z\"], \"id\": \"el56003140544001760448\", \"dasharray\": \"none\", \"alpha\": 1, \"facecolor\": \"#3D64F9\", \"edgecolor\": \"#3D64F9\", \"edgewidth\": 1.0, \"zorder\": 1000001.0}, {\"data\": \"data02\", \"xindex\": 0, \"yindex\": 4, \"coordinates\": \"axes\", \"pathcodes\": [\"M\", \"L\", \"L\", \"L\", \"Z\"], \"id\": \"el56003140544001713152\", \"dasharray\": \"none\", \"alpha\": 1, \"facecolor\": \"#5EF9C5\", \"edgecolor\": \"#5EF9C5\", \"edgewidth\": 1.0, \"zorder\": 1000001.0}, {\"data\": \"data02\", \"xindex\": 0, \"yindex\": 5, \"coordinates\": \"axes\", \"pathcodes\": [\"M\", \"L\", \"L\", \"L\", \"Z\"], \"id\": \"el56003140544001712760\", \"dasharray\": \"none\", \"alpha\": 1, \"facecolor\": \"#FF4422\", \"edgecolor\": \"#FF4422\", \"edgewidth\": 1.0, \"zorder\": 1000001.0}, {\"data\": \"data02\", \"xindex\": 0, \"yindex\": 6, \"coordinates\": \"axes\", \"pathcodes\": [\"M\", \"L\", \"L\", \"L\", \"Z\"], \"id\": \"el56003140544001716176\", \"dasharray\": \"none\", \"alpha\": 1, \"facecolor\": \"#A0F9A1\", \"edgecolor\": \"#A0F9A1\", \"edgewidth\": 1.0, \"zorder\": 1000001.0}, {\"data\": \"data02\", \"xindex\": 0, \"yindex\": 7, \"coordinates\": \"axes\", \"pathcodes\": [\"M\", \"L\", \"L\", \"L\", \"Z\"], \"id\": \"el56003140544001714272\", \"dasharray\": \"none\", \"alpha\": 1, \"facecolor\": \"#E4CF74\", \"edgecolor\": \"#E4CF74\", \"edgewidth\": 1.0, \"zorder\": 1000001.0}, {\"data\": \"data03\", \"xindex\": 0, \"yindex\": 1, \"coordinates\": \"axes\", \"pathcodes\": [\"M\", \"L\", \"S\", \"L\", \"S\", \"L\", \"S\", \"L\", \"S\", \"Z\"], \"id\": \"el56003140544001703496\", \"dasharray\": \"none\", \"alpha\": 0.8, \"facecolor\": \"rgba(255, 255, 255, 0.8)\", \"edgecolor\": \"rgba(204, 204, 204, 0.8)\", \"edgewidth\": 1.0, \"zorder\": 1000000.0}], \"markers\": [], \"texts\": [{\"text\": \"Impacts per Food Item (kgCO2eq)\", \"position\": [0.5, -0.048289183222958054], \"coordinates\": \"axes\", \"h_anchor\": \"middle\", \"v_baseline\": \"hanging\", \"rotation\": -0.0, \"fontsize\": 12.0, \"color\": \"#000000\", \"alpha\": 1, \"zorder\": 3, \"id\": \"el56003140544001271680\"}, {\"text\": \"Grams to be Consumed\", \"position\": [-0.06541218637992831, 0.49999999999999994], \"coordinates\": \"axes\", \"h_anchor\": \"middle\", \"v_baseline\": \"auto\", \"rotation\": -90.0, \"fontsize\": 12.0, \"color\": \"#000000\", \"alpha\": 1, \"zorder\": 3, \"id\": \"el56003140544001785472\"}, {\"text\": \"Recommended Diet for 7 days\", \"position\": [0.5, 1.0137969094922736], \"coordinates\": \"axes\", \"h_anchor\": \"middle\", \"v_baseline\": \"auto\", \"rotation\": -0.0, \"fontsize\": 20.0, \"color\": \"#000000\", \"alpha\": 1, \"zorder\": 3, \"id\": \"el56003140544001752480\"}, {\"text\": \"Source Country \\n for Food Item\", \"position\": [0.6266129032258067, 0.434234731420162], \"coordinates\": \"axes\", \"h_anchor\": \"start\", \"v_baseline\": \"auto\", \"rotation\": -0.0, \"fontsize\": 10.0, \"color\": \"#000000\", \"alpha\": 1, \"zorder\": 1000003.0, \"id\": \"el56003140544001712704\"}, {\"text\": \"Switzerland\", \"position\": [0.6626792114695342, 0.3997424576894777], \"coordinates\": \"axes\", \"h_anchor\": \"start\", \"v_baseline\": \"auto\", \"rotation\": -0.0, \"fontsize\": 10.0, \"color\": \"#000000\", \"alpha\": 1, \"zorder\": 1000003.0, \"id\": \"el56003140544001760392\"}, {\"text\": \"Belgium\", \"position\": [0.6626792114695342, 0.3652501839587933], \"coordinates\": \"axes\", \"h_anchor\": \"start\", \"v_baseline\": \"auto\", \"rotation\": -0.0, \"fontsize\": 10.0, \"color\": \"#000000\", \"alpha\": 1, \"zorder\": 1000003.0, \"id\": \"el56003140544001759272\"}, {\"text\": \"Lebanon\", \"position\": [0.6626792114695342, 0.33075791022810896], \"coordinates\": \"axes\", \"h_anchor\": \"start\", \"v_baseline\": \"auto\", \"rotation\": -0.0, \"fontsize\": 10.0, \"color\": \"#000000\", \"alpha\": 1, \"zorder\": 1000003.0, \"id\": \"el56003140544001760000\"}, {\"text\": \"France\", \"position\": [0.6626792114695342, 0.29626563649742466], \"coordinates\": \"axes\", \"h_anchor\": \"start\", \"v_baseline\": \"auto\", \"rotation\": -0.0, \"fontsize\": 10.0, \"color\": \"#000000\", \"alpha\": 1, \"zorder\": 1000003.0, \"id\": \"el56003140544001758320\"}, {\"text\": \"Italy\", \"position\": [0.6626792114695342, 0.26177336276674035], \"coordinates\": \"axes\", \"h_anchor\": \"start\", \"v_baseline\": \"auto\", \"rotation\": -0.0, \"fontsize\": 10.0, \"color\": \"#000000\", \"alpha\": 1, \"zorder\": 1000003.0, \"id\": \"el56003140544001714776\"}, {\"text\": \"United States\", \"position\": [0.6626792114695342, 0.227281089036056], \"coordinates\": \"axes\", \"h_anchor\": \"start\", \"v_baseline\": \"auto\", \"rotation\": -0.0, \"fontsize\": 10.0, \"color\": \"#000000\", \"alpha\": 1, \"zorder\": 1000003.0, \"id\": \"el56003140544001712312\"}, {\"text\": \"Canada\", \"position\": [0.6626792114695342, 0.19278881530537165], \"coordinates\": \"axes\", \"h_anchor\": \"start\", \"v_baseline\": \"auto\", \"rotation\": -0.0, \"fontsize\": 10.0, \"color\": \"#000000\", \"alpha\": 1, \"zorder\": 1000003.0, \"id\": \"el56003140544001713432\"}], \"collections\": [{\"offsets\": \"data01\", \"xindex\": 0, \"yindex\": 1, \"paths\": [[[[0.0, -0.5], [0.13260155, -0.5], [0.25978993539242673, -0.44731684579412084], [0.3535533905932738, -0.3535533905932738], [0.44731684579412084, -0.25978993539242673], [0.5, -0.13260155], [0.5, 0.0], [0.5, 0.13260155], [0.44731684579412084, 0.25978993539242673], [0.3535533905932738, 0.3535533905932738], [0.25978993539242673, 0.44731684579412084], [0.13260155, 0.5], [0.0, 0.5], [-0.13260155, 0.5], [-0.25978993539242673, 0.44731684579412084], [-0.3535533905932738, 0.3535533905932738], [-0.44731684579412084, 0.25978993539242673], [-0.5, 0.13260155], [-0.5, 0.0], [-0.5, -0.13260155], [-0.44731684579412084, -0.25978993539242673], [-0.3535533905932738, -0.3535533905932738], [-0.25978993539242673, -0.44731684579412084], [-0.13260155, -0.5], [0.0, -0.5]], [\"M\", \"C\", \"C\", \"C\", \"C\", \"C\", \"C\", \"C\", \"C\", \"Z\"]]], \"pathtransforms\": [[7.0710678118654755, 0.0, 0.0, 7.0710678118654755, 0.0, 0.0]], \"alphas\": [0.8], \"edgecolors\": [\"rgba(255, 0, 0, 0.8)\", \"rgba(106, 34, 254, 0.8)\", \"rgba(255, 0, 0, 0.8)\", \"rgba(62, 101, 250, 0.8)\", \"rgba(94, 250, 198, 0.8)\", \"rgba(255, 0, 0, 0.8)\", \"rgba(255, 0, 0, 0.8)\", \"rgba(255, 68, 34, 0.8)\", \"rgba(160, 250, 161, 0.8)\", \"rgba(255, 0, 0, 0.8)\", \"rgba(94, 250, 198, 0.8)\", \"rgba(255, 0, 0, 0.8)\", \"rgba(255, 0, 0, 0.8)\", \"rgba(160, 250, 161, 0.8)\", \"rgba(255, 0, 0, 0.8)\", \"rgba(255, 0, 0, 0.8)\", \"rgba(228, 207, 116, 0.8)\", \"rgba(255, 0, 0, 0.8)\", \"rgba(255, 0, 0, 0.8)\", \"rgba(255, 68, 34, 0.8)\", \"rgba(255, 0, 0, 0.8)\", \"rgba(255, 68, 34, 0.8)\", \"rgba(255, 0, 0, 0.8)\", \"rgba(255, 0, 0, 0.8)\"], \"facecolors\": [\"rgba(255, 0, 0, 0.8)\", \"rgba(106, 34, 254, 0.8)\", \"rgba(255, 0, 0, 0.8)\", \"rgba(62, 101, 250, 0.8)\", \"rgba(94, 250, 198, 0.8)\", \"rgba(255, 0, 0, 0.8)\", \"rgba(255, 0, 0, 0.8)\", \"rgba(255, 68, 34, 0.8)\", \"rgba(160, 250, 161, 0.8)\", \"rgba(255, 0, 0, 0.8)\", \"rgba(94, 250, 198, 0.8)\", \"rgba(255, 0, 0, 0.8)\", \"rgba(255, 0, 0, 0.8)\", \"rgba(160, 250, 161, 0.8)\", \"rgba(255, 0, 0, 0.8)\", \"rgba(255, 0, 0, 0.8)\", \"rgba(228, 207, 116, 0.8)\", \"rgba(255, 0, 0, 0.8)\", \"rgba(255, 0, 0, 0.8)\", \"rgba(255, 68, 34, 0.8)\", \"rgba(255, 0, 0, 0.8)\", \"rgba(255, 68, 34, 0.8)\", \"rgba(255, 0, 0, 0.8)\", \"rgba(255, 0, 0, 0.8)\"], \"edgewidths\": [1.0], \"offsetcoordinates\": \"data\", \"pathcoordinates\": \"display\", \"zorder\": 1, \"id\": \"el56003140544000410232\"}], \"images\": [], \"sharex\": [], \"sharey\": []}], \"data\": {\"data01\": [[5.937062181766095, 3045.0], [0.09624902227549366, 1050.0], [0.10839867759595, 700.0], [0.3658109953301106, 700.0], [0.13319577646702613, 700.0], [0.1263426350429807, 700.0], [0.09530034612139462, 530.53073], [0.10960762709932302, 507.14832], [1.5595899474758095, 450.0], [0.13937077907698628, 420.0], [0.13392868347188147, 420.0], [0.2282496755182204, 355.68396], [1.5685032117764042, 250.0], [0.6931510877670265, 200.0], [1.2548025694211233, 200.0], [0.5082671164344124, 196.0], [0.13144123266466085, 194.37015], [0.9411019270658425, 150.0], [0.38615407460735174, 148.91028], [0.03842707083957523, 140.0], [0.055851662012432586, 117.02495], [0.01826820851798945, 82.320947], [0.31370064235528083, 50.0], [0.025308320856059878, 39.593793]], \"data02\": [[0.6125000000000002, 0.3997424576894777, 0.3652501839587933, 0.33075791022810896, 0.29626563649742466, 0.26177336276674035, 0.227281089036056, 0.19278881530537165], [0.6483422939068102, 0.3997424576894777, 0.3652501839587933, 0.33075791022810896, 0.29626563649742466, 0.26177336276674035, 0.227281089036056, 0.19278881530537165], [0.6483422939068102, 0.4158388520971304, 0.381346578366446, 0.34685430463576167, 0.31236203090507736, 0.27786975717439305, 0.2433774834437087, 0.20888520971302432], [0.6125000000000002, 0.4158388520971304, 0.381346578366446, 0.34685430463576167, 0.31236203090507736, 0.27786975717439305, 0.2433774834437087, 0.20888520971302432]], \"data03\": [[0.6089157706093192, 0.17899190581309796], [0.7874551971326167, 0.17899190581309796], [0.7910394265232977, 0.17899190581309796], [0.7910394265232977, 0.18359087564385587], [0.7910394265232977, 0.48390360559234746], [0.7910394265232977, 0.4885025754231054], [0.7874551971326167, 0.4885025754231054], [0.6089157706093192, 0.4885025754231054], [0.6053315412186382, 0.4885025754231054], [0.6053315412186382, 0.48390360559234746], [0.6053315412186382, 0.18359087564385587], [0.6053315412186382, 0.17899190581309796], [0.6089157706093192, 0.17899190581309796]]}, \"id\": \"el56003140544001395904\", \"plugins\": [{\"type\": \"reset\"}, {\"type\": \"zoom\", \"button\": true, \"enabled\": false}, {\"type\": \"boxzoom\", \"button\": true, \"enabled\": false}, {\"type\": \"tooltip\", \"id\": \"el56003140544000410232\", \"labels\": [\"whole milk pasteurised, average\", \"pears\", \"rocket\", \"mackerel, flesh only, smoked\", \"melon\", \"carrots\", \"spring greens\", \"chard\", \"almonds\", \"broad beans, canned\", \"muesli, swiss style, unfortified\", \"cereal, bran type cereal, fortified\", \"caerphilly cheese \", \"almonds, flaked and ground\", \"cottage cheese plain\", \"dairy cream extra thick (24% fat)\", \"herring, flesh only, grilled\", \"feta cheese \", \"full fat creme fraiche \", \"pumpkin seeds\", \"bread, wholemeal, average\", \"curly kale\", \"mascarpone cheese \", \"sunflower seeds\"], \"hoffset\": 0, \"voffset\": 10, \"location\": \"mouse\"}]});\n",
       "            })\n",
       "         });\n",
       "}\n",
       "</script>"
      ],
      "text/plain": [
       "<IPython.core.display.HTML object>"
      ]
     },
     "execution_count": 7,
     "metadata": {},
     "output_type": "execute_result"
    }
   ],
   "source": [
    "# HIDDEN\n",
    "x = df_opt['Grams']*df_opt['optimization_value_GHG_1_trade'].tolist()\n",
    "y = df_opt['Grams'].tolist()\n",
    "#labels2 = df_opt['optimization_country_GHG_1_trade'].tolist()\n",
    "colordict = dict(zip(df_opt['optimization_country_GHG_1_trade'].tolist(),\\\n",
    "                             cm.rainbow(np.linspace(0, 1, len(df_opt['optimization_country_GHG_1_trade'].tolist())))))\n",
    "newcol = []\n",
    "for k in df_opt['optimization_country_GHG_1_trade'].map(colordict).tolist():\n",
    "    newcol.append(matplotlib.colors.to_hex(k))  \n",
    "labels = df_opt['Food Item'].tolist()\n",
    "labels = [i.replace('dried, ','') for i in labels]\n",
    "labels = [i.replace(', raw','') for i in labels]\n",
    "labels = [i.replace(', toasted','') for i in labels]            \n",
    "fig, ax = plt.subplots(1,1,figsize = (10,8))\n",
    "scatter = ax.scatter(x,y,c=newcol, s=50,alpha=0.8)\n",
    "ax.grid(color='white', linestyle=':')\n",
    "ax.set_xlabel('Impacts per Food Item (kgCO2eq)',size = 12)\n",
    "ax.set_ylabel('Grams to be Consumed',size = 12)\n",
    "ax.set_title(\"Recommended Diet for %s days\"%days.value, size=20)\n",
    "\n",
    "\n",
    "\n",
    "handles = []\n",
    "for k,v in colordict.items():\n",
    "    hand = plt.Rectangle((0,0),1,1,label=k,alpha=1,color=v)\n",
    "    handles.append(hand)\n",
    "labels2 = [h.get_label() for h in handles]\n",
    "plt.legend(handles,labels2, title = 'Source Country \\n for Food Item',bbox_to_anchor=(0.8, 0.5),loc='best' )\n",
    "tooltip = mpld3.plugins.PointLabelTooltip(scatter, labels=labels)\n",
    "mpld3.plugins.connect(fig, tooltip)\n",
    "mpld3.display()"
   ]
  },
  {
   "cell_type": "raw",
   "metadata": {},
   "source": [
    "# HIDDEN\n",
    "### TO WEBPAGE \n",
    "nbinteract.com\n",
    "nbinteract User_Inputs.ipynb (makes html file for webpage)\n",
    "push all code to github account\n",
    "\n",
    "\n",
    "webpage address:\n",
    "    \n",
    "yours: https://{githubusername}.github.io/{repository_name}/{codefilename}.html \n",
    "mine: https://clw208.github.io/nb1/User_Inputs.html"
   ]
  }
 ],
 "metadata": {
  "kernelspec": {
   "display_name": "Python [conda env:new_environment]",
   "language": "python",
   "name": "conda-env-new_environment-py"
  },
  "language_info": {
   "codemirror_mode": {
    "name": "ipython",
    "version": 3
   },
   "file_extension": ".py",
   "mimetype": "text/x-python",
   "name": "python",
   "nbconvert_exporter": "python",
   "pygments_lexer": "ipython3",
   "version": "3.6.4"
  }
 },
 "nbformat": 4,
 "nbformat_minor": 2
}
