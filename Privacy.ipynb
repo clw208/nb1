{
 "cells": [
  {
   "cell_type": "code",
   "execution_count": 1,
   "metadata": {},
   "outputs": [],
   "source": [
    "import numpy as np\n",
    "import pandas as pd\n",
    "import os\n",
    "import math\n",
    "import numpy as np\n",
    "import warnings\n",
    "warnings.filterwarnings(\"ignore\", category=RuntimeWarning)"
   ]
  },
  {
   "cell_type": "code",
   "execution_count": 2,
   "metadata": {},
   "outputs": [],
   "source": [
    "import openpyxl"
   ]
  },
  {
   "cell_type": "code",
   "execution_count": 3,
   "metadata": {},
   "outputs": [],
   "source": [
    "# Fernet module is imported from the  \n",
    "# cryptography package \n",
    "from cryptography.fernet import Fernet "
   ]
  },
  {
   "cell_type": "code",
   "execution_count": 25,
   "metadata": {},
   "outputs": [],
   "source": [
    "def write_key():\n",
    "    \"\"\"\n",
    "    Generates a key and save it into a file\n",
    "    \"\"\"\n",
    "    key = Fernet.generate_key()\n",
    "    with open(\"key.key\", \"wb\") as key_file:\n",
    "        key_file.write(key)\n",
    "def load_key():\n",
    "    \"\"\"\n",
    "    Loads the key from the current directory named `key.key`\n",
    "    \"\"\"\n",
    "    return open(\"key.key\", \"rb\").read()\n",
    "\n",
    "def encrypt(filename, key):\n",
    "    \"\"\"\n",
    "    Given a filename (str) and key (bytes), it encrypts the file and write it\n",
    "    \"\"\"\n",
    "    f = Fernet(key)\n",
    "    with open(filename, \"rb\") as file:\n",
    "        # read all file data\n",
    "        file_data = file.read()\n",
    "    # encrypt data\n",
    "    encrypted_data = f.encrypt(file_data)\n",
    "    # write the encrypted file\n",
    "    with open(filename, \"wb\") as file:\n",
    "        file.write(encrypted_data)"
   ]
  },
  {
   "cell_type": "code",
   "execution_count": 27,
   "metadata": {},
   "outputs": [],
   "source": [
    "# uncomment this if it's the first time you run the code, to generate the key\n",
    "write_key()\n",
    "# load the key\n",
    "key = load_key()\n",
    "# file name\n",
    "file = \"otherimpacts.csv\"\n",
    "# encrypt it\n",
    "encrypt(file, key)"
   ]
  },
  {
   "cell_type": "code",
   "execution_count": null,
   "metadata": {},
   "outputs": [],
   "source": []
  },
  {
   "cell_type": "code",
   "execution_count": 7,
   "metadata": {},
   "outputs": [],
   "source": [
    "def decrypt(filename, key):\n",
    "    \"\"\"\n",
    "    Given a filename (str) and key (bytes), it decrypts the file and write it\n",
    "    \"\"\"\n",
    "    f = Fernet(key)\n",
    "    with open(filename, \"rb\") as file:\n",
    "        # read the encrypted data\n",
    "        encrypted_data = file.read()\n",
    "    # decrypt data\n",
    "    decrypted_data = f.decrypt(encrypted_data)\n",
    "    # write the original file\n",
    "    with open(filename, \"wb\") as file:\n",
    "        file.write(decrypted_data)"
   ]
  },
  {
   "cell_type": "code",
   "execution_count": 12,
   "metadata": {},
   "outputs": [],
   "source": [
    "# input files from other python scripts\n",
    "data_dir = os.path.join('..','nb1','Input')\n",
    "data_trade = os.path.join('..','nb1','Trade')"
   ]
  },
  {
   "cell_type": "code",
   "execution_count": 13,
   "metadata": {},
   "outputs": [
    {
     "data": {
      "text/plain": [
       "'other_impacts.xlsx'"
      ]
     },
     "execution_count": 13,
     "metadata": {},
     "output_type": "execute_result"
    }
   ],
   "source": [
    "file"
   ]
  },
  {
   "cell_type": "raw",
   "metadata": {},
   "source": [
    "other_impacts = pd.read_excel(os.path.join(data_dir,'otherimpacts.xlsx'))\n",
    "other_impacts.reset_index(inplace=True,drop=True)"
   ]
  }
 ],
 "metadata": {
  "kernelspec": {
   "display_name": "Python [conda env:new_environment]",
   "language": "python",
   "name": "conda-env-new_environment-py"
  },
  "language_info": {
   "codemirror_mode": {
    "name": "ipython",
    "version": 3
   },
   "file_extension": ".py",
   "mimetype": "text/x-python",
   "name": "python",
   "nbconvert_exporter": "python",
   "pygments_lexer": "ipython3",
   "version": "3.6.4"
  }
 },
 "nbformat": 4,
 "nbformat_minor": 2
}
