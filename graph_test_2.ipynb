{
 "cells": [
  {
   "cell_type": "code",
   "execution_count": null,
   "metadata": {},
   "outputs": [],
   "source": [
    "# HIDDEN\n",
    "from IPython.display import HTML\n",
    "import random\n",
    "from ipywidgets import widgets, interact, Dropdown,SelectMultiple, Checkbox,VBox,FloatSlider,Button,IntProgress, Layout\n",
    "from IPython.display import HTML, display, Image\n",
    "from IPython import get_ipython\n",
    "import os\n",
    "import numpy as np\n",
    "import pandas as pd\n",
    "import matplotlib\n",
    "from matplotlib import cm\n",
    "import matplotlib.pyplot as plt\n",
    "import matplotlib.patches as mpatches\n",
    "import mpld3\n",
    "ipython = get_ipython()\n",
    "#data_dir = os.path.join('..','nb1','Input')"
   ]
  },
  {
   "cell_type": "code",
   "execution_count": null,
   "metadata": {},
   "outputs": [],
   "source": [
    "def graph():\n",
    "    with output5:\n",
    "        x = [0,1,2]\n",
    "        y=[1,2,5]\n",
    "        print (x,y)\n",
    "        fig, ax = plt.subplots(1,1,figsize = (10,8))\n",
    "        scatter = ax.scatter(x,y,s=50,alpha=0.8)\n",
    "        labels = ['red','orange','blue']\n",
    "        ax.grid(color='white', linestyle=':')\n",
    "        ax.set_xlabel('Impacts per Food Item (kgCO2eq)',size = 12)\n",
    "        ax.set_ylabel('Grams to be Consumed',size = 12)\n",
    "       # plt.legend(handles,labels2, title = 'Recommended Source Country\\nfor Food Item',bbox_to_anchor=(0.8, 0.5),loc='best' )\n",
    "        tooltip = mpld3.plugins.PointLabelTooltip(scatter, labels=labels)\n",
    "        mpld3.plugins.connect(fig, tooltip)\n",
    "        mpld3.enable_notebook()\n",
    "        #### OLD\n",
    "        #mpld3.save_html(fig,'User_Inputs.html')\n",
    "        ##### NEW\n",
    "        #print (mpld3.fig_to_html(fig))\n",
    "        #############\n",
    "    return "
   ]
  },
  {
   "cell_type": "code",
   "execution_count": null,
   "metadata": {},
   "outputs": [],
   "source": [
    "# HIDDEN\n",
    "runcode5 = widgets.Button(description='Click Here to Build your Low Impact and Healthful Diet',\\\n",
    "                         layout=Layout(width='50%', height='50px'))\n",
    "output5 = widgets.Output()\n",
    "display(runcode5,output5)\n",
    "runcode5.on_click(graph())"
   ]
  },
  {
   "cell_type": "code",
   "execution_count": null,
   "metadata": {},
   "outputs": [],
   "source": []
  }
 ],
 "metadata": {
  "kernelspec": {
   "display_name": "Python [conda env:new_environment]",
   "language": "python",
   "name": "conda-env-new_environment-py"
  },
  "language_info": {
   "codemirror_mode": {
    "name": "ipython",
    "version": 3
   },
   "file_extension": ".py",
   "mimetype": "text/x-python",
   "name": "python",
   "nbconvert_exporter": "python",
   "pygments_lexer": "ipython3",
   "version": "3.6.4"
  }
 },
 "nbformat": 4,
 "nbformat_minor": 2
}
